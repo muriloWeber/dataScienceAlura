{
  "cells": [
    {
      "cell_type": "markdown",
      "metadata": {
        "id": "WvMflodMjQKe"
      },
      "source": [
        "# <font color=green size=10>CURSO DE ESTATÍSTICA - PARTE 3</font>\n",
        "\n",
        "***"
      ]
    },
    {
      "cell_type": "markdown",
      "metadata": {
        "id": "cVgsZ_E3jQKg"
      },
      "source": [
        "# <font color=green>1 CONHECENDO OS DADOS</font>\n",
        "***"
      ]
    },
    {
      "cell_type": "markdown",
      "metadata": {
        "id": "TDjqYYNojQKh"
      },
      "source": [
        "## <font color=green>1.1 Dataset do projeto</font>\n",
        "***"
      ]
    },
    {
      "cell_type": "markdown",
      "metadata": {
        "id": "iN1gIbaKjQKh"
      },
      "source": [
        "### Pesquisa Nacional por Amostra de Domicílios - 2015\n",
        "\n",
        "A <b>Pesquisa Nacional por Amostra de Domicílios - PNAD</b> investiga anualmente, de forma permanente, características gerais da população, de educação, trabalho, rendimento e habitação e outras, com periodicidade variável, de acordo com as necessidades de informação para o país, como as características sobre migração, fecundidade, nupcialidade, saúde, segurança alimentar, entre outros temas. O levantamento dessas estatísticas constitui, ao longo dos 49 anos de realização da pesquisa, um importante instrumento para formulação, validação e avaliação de políticas orientadas para o desenvolvimento socioeconômico e a melhoria das condições de vida no Brasil."
      ]
    },
    {
      "cell_type": "markdown",
      "metadata": {
        "id": "U6V7br1RjQKi"
      },
      "source": [
        "### Fonte dos Dados\n",
        "\n",
        "https://ww2.ibge.gov.br/home/estatistica/populacao/trabalhoerendimento/pnad2015/microdados.shtm"
      ]
    },
    {
      "cell_type": "markdown",
      "metadata": {
        "id": "r0Fe_qnzjQKj"
      },
      "source": [
        "### Variáveis utilizadas\n",
        "\n",
        "> ### Renda\n",
        "> ***\n",
        "\n",
        "Rendimento mensal do trabalho principal para pessoas de 10 anos ou mais de idade.\n",
        "\n",
        "> ### Idade\n",
        "> ***\n",
        "\n",
        "Idade do morador na data de referência em anos.\n",
        "\n",
        "> ### Altura (elaboração própria)\n",
        "> ***\n",
        "\n",
        "Altura do morador em metros.\n",
        "\n",
        "> ### UF\n",
        "> ***\n",
        "\n",
        "|Código|Descrição|\n",
        "|---|---|\n",
        "|11|Rondônia|\n",
        "|12|Acre|\n",
        "|13|Amazonas|\n",
        "|14|Roraima|\n",
        "|15|Pará|\n",
        "|16|Amapá|\n",
        "|17|Tocantins|\n",
        "|21|Maranhão|\n",
        "|22|Piauí|\n",
        "|23|Ceará|\n",
        "|24|Rio Grande do Norte|\n",
        "|25|Paraíba|\n",
        "|26|Pernambuco|\n",
        "|27|Alagoas|\n",
        "|28|Sergipe|\n",
        "|29|Bahia|\n",
        "|31|Minas Gerais|\n",
        "|32|Espírito Santo|\n",
        "|33|Rio de Janeiro|\n",
        "|35|São Paulo|\n",
        "|41|Paraná|\n",
        "|42|Santa Catarina|\n",
        "|43|Rio Grande do Sul|\n",
        "|50|Mato Grosso do Sul|\n",
        "|51|Mato Grosso|\n",
        "|52|Goiás|\n",
        "|53|Distrito Federal|\n",
        "\n",
        "> ### Sexo\t\n",
        "> ***\n",
        "\n",
        "|Código|Descrição|\n",
        "|---|---|\n",
        "|0|Masculino|\n",
        "|1|Feminino|\n",
        "\n",
        "> ### Anos de Estudo\n",
        "> ***\n",
        "\n",
        "|Código|Descrição|\n",
        "|---|---|\n",
        "|1|Sem instrução e menos de 1 ano|\n",
        "|2|1 ano|\n",
        "|3|2 anos|\n",
        "|4|3 anos|\n",
        "|5|4 anos|\n",
        "|6|5 anos|\n",
        "|7|6 anos|\n",
        "|8|7 anos|\n",
        "|9|8 anos|\n",
        "|10|9 anos|\n",
        "|11|10 anos|\n",
        "|12|11 anos|\n",
        "|13|12 anos|\n",
        "|14|13 anos|\n",
        "|15|14 anos|\n",
        "|16|15 anos ou mais|\n",
        "|17|Não determinados| \n",
        "||Não aplicável|\n",
        "\n",
        "> ### Cor\n",
        "> ***\n",
        "\n",
        "|Código|Descrição|\n",
        "|---|---|\n",
        "|0|Indígena|\n",
        "|2|Branca|\n",
        "|4|Preta|\n",
        "|6|Amarela|\n",
        "|8|Parda|\n",
        "|9|Sem declaração|"
      ]
    },
    {
      "cell_type": "markdown",
      "metadata": {
        "id": "OK1IQH5cX7Gb"
      },
      "source": [
        "#### <font color='red'>Observação</font>\n",
        "***\n",
        "> Os seguintes tratamentos foram realizados nos dados originais:\n",
        "> 1. Foram eliminados os registros onde a <b>Renda</b> era inválida (999 999 999 999);\n",
        "> 2. Foram eliminados os registros onde a <b>Renda</b> era missing;\n",
        "> 3. Foram considerados somente os registros das <b>Pessoas de Referência</b> de cada domicílio (responsável pelo domicílio)."
      ]
    },
    {
      "cell_type": "markdown",
      "metadata": {
        "id": "8Rw70V6ojQKk"
      },
      "source": [
        "### Importando pandas e lendo o dataset do projeto\n",
        "\n",
        "https://pandas.pydata.org/"
      ]
    },
    {
      "cell_type": "code",
      "execution_count": 287,
      "metadata": {
        "id": "8QgOpE-wjQKl"
      },
      "outputs": [],
      "source": [
        "import pandas as pd\n",
        "import numpy as np"
      ]
    },
    {
      "cell_type": "code",
      "execution_count": 288,
      "metadata": {
        "id": "ufRZ7TLwjQKo"
      },
      "outputs": [],
      "source": [
        "dados = pd.read_csv('dados.csv')"
      ]
    },
    {
      "cell_type": "code",
      "execution_count": 289,
      "metadata": {
        "colab": {
          "base_uri": "https://localhost:8080/",
          "height": 206
        },
        "id": "GsC_WhLFjQKq",
        "outputId": "8a8a1c63-7b33-4dd4-b2a9-47a99c431240",
        "scrolled": true
      },
      "outputs": [
        {
          "output_type": "execute_result",
          "data": {
            "text/plain": [
              "   UF  Sexo  Idade  Cor  Anos de Estudo  Renda    Altura\n",
              "0  11     0     23    8              12    800  1.603808\n",
              "1  11     1     23    2              12   1150  1.739790\n",
              "2  11     1     35    8              15    880  1.760444\n",
              "3  11     0     46    2               6   3500  1.783158\n",
              "4  11     1     47    8               9    150  1.690631"
            ],
            "text/html": [
              "\n",
              "  <div id=\"df-4c97d6b9-a881-4f68-9900-95020c9c00f2\">\n",
              "    <div class=\"colab-df-container\">\n",
              "      <div>\n",
              "<style scoped>\n",
              "    .dataframe tbody tr th:only-of-type {\n",
              "        vertical-align: middle;\n",
              "    }\n",
              "\n",
              "    .dataframe tbody tr th {\n",
              "        vertical-align: top;\n",
              "    }\n",
              "\n",
              "    .dataframe thead th {\n",
              "        text-align: right;\n",
              "    }\n",
              "</style>\n",
              "<table border=\"1\" class=\"dataframe\">\n",
              "  <thead>\n",
              "    <tr style=\"text-align: right;\">\n",
              "      <th></th>\n",
              "      <th>UF</th>\n",
              "      <th>Sexo</th>\n",
              "      <th>Idade</th>\n",
              "      <th>Cor</th>\n",
              "      <th>Anos de Estudo</th>\n",
              "      <th>Renda</th>\n",
              "      <th>Altura</th>\n",
              "    </tr>\n",
              "  </thead>\n",
              "  <tbody>\n",
              "    <tr>\n",
              "      <th>0</th>\n",
              "      <td>11</td>\n",
              "      <td>0</td>\n",
              "      <td>23</td>\n",
              "      <td>8</td>\n",
              "      <td>12</td>\n",
              "      <td>800</td>\n",
              "      <td>1.603808</td>\n",
              "    </tr>\n",
              "    <tr>\n",
              "      <th>1</th>\n",
              "      <td>11</td>\n",
              "      <td>1</td>\n",
              "      <td>23</td>\n",
              "      <td>2</td>\n",
              "      <td>12</td>\n",
              "      <td>1150</td>\n",
              "      <td>1.739790</td>\n",
              "    </tr>\n",
              "    <tr>\n",
              "      <th>2</th>\n",
              "      <td>11</td>\n",
              "      <td>1</td>\n",
              "      <td>35</td>\n",
              "      <td>8</td>\n",
              "      <td>15</td>\n",
              "      <td>880</td>\n",
              "      <td>1.760444</td>\n",
              "    </tr>\n",
              "    <tr>\n",
              "      <th>3</th>\n",
              "      <td>11</td>\n",
              "      <td>0</td>\n",
              "      <td>46</td>\n",
              "      <td>2</td>\n",
              "      <td>6</td>\n",
              "      <td>3500</td>\n",
              "      <td>1.783158</td>\n",
              "    </tr>\n",
              "    <tr>\n",
              "      <th>4</th>\n",
              "      <td>11</td>\n",
              "      <td>1</td>\n",
              "      <td>47</td>\n",
              "      <td>8</td>\n",
              "      <td>9</td>\n",
              "      <td>150</td>\n",
              "      <td>1.690631</td>\n",
              "    </tr>\n",
              "  </tbody>\n",
              "</table>\n",
              "</div>\n",
              "      <button class=\"colab-df-convert\" onclick=\"convertToInteractive('df-4c97d6b9-a881-4f68-9900-95020c9c00f2')\"\n",
              "              title=\"Convert this dataframe to an interactive table.\"\n",
              "              style=\"display:none;\">\n",
              "        \n",
              "  <svg xmlns=\"http://www.w3.org/2000/svg\" height=\"24px\"viewBox=\"0 0 24 24\"\n",
              "       width=\"24px\">\n",
              "    <path d=\"M0 0h24v24H0V0z\" fill=\"none\"/>\n",
              "    <path d=\"M18.56 5.44l.94 2.06.94-2.06 2.06-.94-2.06-.94-.94-2.06-.94 2.06-2.06.94zm-11 1L8.5 8.5l.94-2.06 2.06-.94-2.06-.94L8.5 2.5l-.94 2.06-2.06.94zm10 10l.94 2.06.94-2.06 2.06-.94-2.06-.94-.94-2.06-.94 2.06-2.06.94z\"/><path d=\"M17.41 7.96l-1.37-1.37c-.4-.4-.92-.59-1.43-.59-.52 0-1.04.2-1.43.59L10.3 9.45l-7.72 7.72c-.78.78-.78 2.05 0 2.83L4 21.41c.39.39.9.59 1.41.59.51 0 1.02-.2 1.41-.59l7.78-7.78 2.81-2.81c.8-.78.8-2.07 0-2.86zM5.41 20L4 18.59l7.72-7.72 1.47 1.35L5.41 20z\"/>\n",
              "  </svg>\n",
              "      </button>\n",
              "      \n",
              "  <style>\n",
              "    .colab-df-container {\n",
              "      display:flex;\n",
              "      flex-wrap:wrap;\n",
              "      gap: 12px;\n",
              "    }\n",
              "\n",
              "    .colab-df-convert {\n",
              "      background-color: #E8F0FE;\n",
              "      border: none;\n",
              "      border-radius: 50%;\n",
              "      cursor: pointer;\n",
              "      display: none;\n",
              "      fill: #1967D2;\n",
              "      height: 32px;\n",
              "      padding: 0 0 0 0;\n",
              "      width: 32px;\n",
              "    }\n",
              "\n",
              "    .colab-df-convert:hover {\n",
              "      background-color: #E2EBFA;\n",
              "      box-shadow: 0px 1px 2px rgba(60, 64, 67, 0.3), 0px 1px 3px 1px rgba(60, 64, 67, 0.15);\n",
              "      fill: #174EA6;\n",
              "    }\n",
              "\n",
              "    [theme=dark] .colab-df-convert {\n",
              "      background-color: #3B4455;\n",
              "      fill: #D2E3FC;\n",
              "    }\n",
              "\n",
              "    [theme=dark] .colab-df-convert:hover {\n",
              "      background-color: #434B5C;\n",
              "      box-shadow: 0px 1px 3px 1px rgba(0, 0, 0, 0.15);\n",
              "      filter: drop-shadow(0px 1px 2px rgba(0, 0, 0, 0.3));\n",
              "      fill: #FFFFFF;\n",
              "    }\n",
              "  </style>\n",
              "\n",
              "      <script>\n",
              "        const buttonEl =\n",
              "          document.querySelector('#df-4c97d6b9-a881-4f68-9900-95020c9c00f2 button.colab-df-convert');\n",
              "        buttonEl.style.display =\n",
              "          google.colab.kernel.accessAllowed ? 'block' : 'none';\n",
              "\n",
              "        async function convertToInteractive(key) {\n",
              "          const element = document.querySelector('#df-4c97d6b9-a881-4f68-9900-95020c9c00f2');\n",
              "          const dataTable =\n",
              "            await google.colab.kernel.invokeFunction('convertToInteractive',\n",
              "                                                     [key], {});\n",
              "          if (!dataTable) return;\n",
              "\n",
              "          const docLinkHtml = 'Like what you see? Visit the ' +\n",
              "            '<a target=\"_blank\" href=https://colab.research.google.com/notebooks/data_table.ipynb>data table notebook</a>'\n",
              "            + ' to learn more about interactive tables.';\n",
              "          element.innerHTML = '';\n",
              "          dataTable['output_type'] = 'display_data';\n",
              "          await google.colab.output.renderOutput(dataTable, element);\n",
              "          const docLink = document.createElement('div');\n",
              "          docLink.innerHTML = docLinkHtml;\n",
              "          element.appendChild(docLink);\n",
              "        }\n",
              "      </script>\n",
              "    </div>\n",
              "  </div>\n",
              "  "
            ]
          },
          "metadata": {},
          "execution_count": 289
        }
      ],
      "source": [
        "dados.head()"
      ]
    },
    {
      "cell_type": "markdown",
      "metadata": {
        "id": "nk65O0lepz57"
      },
      "source": [
        "# <font color=green>2 TESTES DE HIPÓTESES</font>\n",
        "***"
      ]
    },
    {
      "cell_type": "markdown",
      "metadata": {
        "id": "OjHpQHFHpsi3"
      },
      "source": [
        "Testes estatísticos são regras de decisão que permitem avaliar a razoabilidade das hipóteses feitas sobre os parâmetros populacionais e aceitá-las ou rejeitá-las como provavelmente verdadeiras ou falsas tendo como base uma amostra."
      ]
    },
    {
      "cell_type": "markdown",
      "metadata": {
        "id": "qjqWccNspsi4"
      },
      "source": [
        "## <font color=green>2.1 Teste de normalidade</font>\n",
        "***"
      ]
    },
    {
      "cell_type": "markdown",
      "metadata": {
        "id": "O79kHHwYpsi5"
      },
      "source": [
        "### Importando bibliotecas\n",
        "https://docs.scipy.org/doc/scipy/reference/generated/scipy.stats.normaltest.html"
      ]
    },
    {
      "cell_type": "code",
      "execution_count": 290,
      "metadata": {
        "id": "3LwfaqpFpsi5"
      },
      "outputs": [],
      "source": [
        "from scipy.stats import normaltest"
      ]
    },
    {
      "cell_type": "markdown",
      "metadata": {
        "id": "abDn-nKLpsi7"
      },
      "source": [
        "A função *normaltest* testa a hipótese nula $H_0$ de que a amostra é proveniente de uma distribuição normal."
      ]
    },
    {
      "cell_type": "markdown",
      "metadata": {
        "id": "gRDJ86zTpsi8"
      },
      "source": [
        "### Definindo a significância do teste ($\\alpha$)"
      ]
    },
    {
      "cell_type": "code",
      "execution_count": 291,
      "metadata": {
        "id": "3s6ZAdCOpsi9"
      },
      "outputs": [],
      "source": [
        "significancia = 0.05"
      ]
    },
    {
      "cell_type": "markdown",
      "metadata": {
        "id": "sppYIE51psi_"
      },
      "source": [
        "### Testando a variável Renda"
      ]
    },
    {
      "cell_type": "code",
      "execution_count": 292,
      "metadata": {
        "colab": {
          "base_uri": "https://localhost:8080/",
          "height": 283
        },
        "id": "IZpa91lHpsi_",
        "outputId": "86036276-b757-45be-d4b9-4674a20762db"
      },
      "outputs": [
        {
          "output_type": "execute_result",
          "data": {
            "text/plain": [
              "<matplotlib.axes._subplots.AxesSubplot at 0x7f2cb24d32b0>"
            ]
          },
          "metadata": {},
          "execution_count": 292
        },
        {
          "output_type": "display_data",
          "data": {
            "text/plain": [
              "<Figure size 432x288 with 1 Axes>"
            ],
            "image/png": "[encoded data removed]"
          },
          "metadata": {
            "needs_background": "light"
          }
        }
      ],
      "source": [
        "dados.Renda.hist(bins = 50)"
      ]
    },
    {
      "cell_type": "markdown",
      "metadata": {
        "id": "qKeNZ0PUpsjC"
      },
      "source": [
        "### <font color='red'>Critério do valor $p$</font>\n",
        "\n",
        "> ### Rejeitar $H_0$ se o valor $p\\leq 0,05$"
      ]
    },
    {
      "cell_type": "code",
      "execution_count": 293,
      "metadata": {
        "colab": {
          "base_uri": "https://localhost:8080/"
        },
        "id": "060ahVrrpsjD",
        "outputId": "8cfb260e-d1dc-4b10-e032-ea785cec89c1"
      },
      "outputs": [
        {
          "output_type": "stream",
          "name": "stdout",
          "text": [
            "152380.75803960307\n",
            "0.0\n"
          ]
        }
      ],
      "source": [
        "stat_test, p_valor = normaltest(dados.Renda)\n",
        "print(stat_test)\n",
        "print(p_valor)"
      ]
    },
    {
      "cell_type": "code",
      "execution_count": 294,
      "metadata": {
        "colab": {
          "base_uri": "https://localhost:8080/"
        },
        "id": "Q4eJFGsCpsjG",
        "outputId": "402e1019-7ef2-49d9-eff1-febf87b4761d"
      },
      "outputs": [
        {
          "output_type": "execute_result",
          "data": {
            "text/plain": [
              "True"
            ]
          },
          "metadata": {},
          "execution_count": 294
        }
      ],
      "source": [
        "p_valor <= significancia"
      ]
    },
    {
      "cell_type": "markdown",
      "source": [
        "Com base no p-valor obtido no teste de hipótese de normalidade, que é menor que 0.05, rejeitamos a hipótese nula de que a variável Renda segue uma distribuição normal."
      ],
      "metadata": {
        "id": "AxIvV8YXQHBF"
      }
    },
    {
      "cell_type": "markdown",
      "metadata": {
        "id": "JkAxa9PqpsjM"
      },
      "source": [
        "### Testando a variável Altura"
      ]
    },
    {
      "cell_type": "code",
      "execution_count": 295,
      "metadata": {
        "colab": {
          "base_uri": "https://localhost:8080/",
          "height": 283
        },
        "id": "n9r88dMKpsjN",
        "outputId": "ad6c6732-2276-4e2c-8dff-c50790a6b28b"
      },
      "outputs": [
        {
          "output_type": "execute_result",
          "data": {
            "text/plain": [
              "<matplotlib.axes._subplots.AxesSubplot at 0x7f2cb23d8c40>"
            ]
          },
          "metadata": {},
          "execution_count": 295
        },
        {
          "output_type": "display_data",
          "data": {
            "text/plain": [
              "<Figure size 432x288 with 1 Axes>"
            ],
            "image/png": "[encoded data removed]"
          },
          "metadata": {
            "needs_background": "light"
          }
        }
      ],
      "source": [
        "dados.Altura.hist(bins = 50)"
      ]
    },
    {
      "cell_type": "markdown",
      "metadata": {
        "id": "1ADrwGb5psjQ"
      },
      "source": [
        "### <font color='red'>Critério do valor $p$</font>\n",
        "\n",
        "> ### Rejeitar $H_0$ se o valor $p\\leq 0,05$"
      ]
    },
    {
      "cell_type": "code",
      "execution_count": 296,
      "metadata": {
        "colab": {
          "base_uri": "https://localhost:8080/"
        },
        "id": "aV9fx6w5psjb",
        "outputId": "543db1fb-ee15-48eb-f285-bc28bdf36685"
      },
      "outputs": [
        {
          "output_type": "stream",
          "name": "stdout",
          "text": [
            "0.19973093957002253\n",
            "0.9049591541967501\n"
          ]
        }
      ],
      "source": [
        "stat_test, p_valor = normaltest(dados.Altura)\n",
        "print(stat_test)\n",
        "print(p_valor)"
      ]
    },
    {
      "cell_type": "code",
      "execution_count": 297,
      "metadata": {
        "colab": {
          "base_uri": "https://localhost:8080/"
        },
        "id": "pP-NZCthpsje",
        "outputId": "57ae1088-a351-40be-b5e9-6c651033c786"
      },
      "outputs": [
        {
          "output_type": "execute_result",
          "data": {
            "text/plain": [
              "False"
            ]
          },
          "metadata": {},
          "execution_count": 297
        }
      ],
      "source": [
        "p_valor <= significancia"
      ]
    },
    {
      "cell_type": "markdown",
      "source": [
        "Com base no p-valor obtido no teste de hipótese de normalidade, que é maior que 0.05, não rejeitamos a hipótese nula de que a variável Altura segue uma distribuição normal."
      ],
      "metadata": {
        "id": "qY8iMqpFQ4Jy"
      }
    },
    {
      "cell_type": "markdown",
      "metadata": {
        "id": "rWh-HSd-psji"
      },
      "source": [
        "## <font color=green>2.2 Etapas Básicas de um Teste</font>\n",
        "***"
      ]
    },
    {
      "cell_type": "markdown",
      "metadata": {
        "id": "DQF30K2Cpsjj"
      },
      "source": [
        "### **Passo 1** - formulação das hipóteses $H_0$ e $H_1$;\n",
        "\n",
        "> ### <font color='red'>Pontos importantes</font>\n",
        "> - De maneira geral, o alvo do estudo deve ser formulado como a hipótese alternativa $H_1$.\n",
        "> - A hipótese nula sempre afirma uma igualdade ou propriedade populacional, e $H_1$ a desigualdade que nega $H_0$.\n",
        "> - No caso da hipótese nula $H_0$ a igualdade pode ser representada por uma igualdade simples \"$=$\" ou por \"$\\geq$\" e \"$\\leq$\". Sempre complementar ao estabelecido pela hipótese alternativa.\n",
        "> - A hipótese alternativa $H_1$ deve definir uma desigualdade que pode ser uma diferença simples \"$\\neq$\" ou dos tipos \"$>$\" e \"$<$\".\n",
        "\n",
        "\n",
        "### **Passo 2** - escolha da distribuição amostral adequada;\n",
        "\n",
        "> ### <font color='red'>Pontos importantes</font>\n",
        "> - Quando o tamanho da amostra tiver 30 elementos ou mais, deve-se utilizar a distribuição normal, como estabelecido pelo **teorema do limite central**.\n",
        "> - Para um tamanho de amostra menor que 30 elementos, e se pudermos afirmar que a população se distribui aproximadamente como uma normal e o desvio padrão populacional for conhecido, deve-se utilizar a distribuição normal.\n",
        "> - Para um tamanho de amostra menor que 30 elementos, e se pudermos afirmar que a população se distribui aproximadamente como uma normal e o desvio padrão populacional for desconhecido, deve-se utilizar a distribuição t de Student.\n",
        "\n",
        "<img src='https://caelum-online-public.s3.amazonaws.com/1229-estatistica-parte3/01/img003.png' width=70%>\n",
        "\n",
        "### **Passo 3** - fixação da significância do teste ($\\alpha$), que define as regiões de aceitação e rejeição das hipóteses (os valores mais freqüentes são 10%, 5% e 1%);\n",
        "\n",
        "> ### <font color='red'>Pontos importantes</font>\n",
        "> - O **nível de confiança** ($1 - \\alpha$) representa a probabilidade de acerto da estimativa. De forma complementar o **nível de significância** ($\\alpha$) expressa a probabilidade de erro da estimativa.\n",
        ">\n",
        "> ![Níveis de Confiança e significância](https://caelum-online-public.s3.amazonaws.com/1229-estatistica-parte3/01/img001.png)\n",
        ">\n",
        "> - O **nível de confiança** representa o grau de confiabilidade do resultado da estimativa estar dentro de determinado intervalo. Quando fixamos em uma pesquisa um **nível de confiança** de 95%, por exemplo, estamos assumindo que existe uma probabilidade de 95% dos resultados da pesquisa representarem bem a realidade, ou seja, estarem corretos.\n",
        ">\n",
        "> ![Áreas de Aceitação e Rejeição](https://caelum-online-public.s3.amazonaws.com/1229-estatistica-parte3/01/img002.png)\n",
        "\n",
        "### **Passo 4** - cálculo da estatística-teste e verificação desse valor com as áreas de aceitação e rejeição do teste;\n",
        "\n",
        "> ### <font color='red'>Pontos importantes</font>\n",
        "> - Nos testes paramétricos, distância relativa entre a estatística amostral e o valor alegado como provável.\n",
        "> - Neste passo são obtidas as estatísticas amostrais necessárias à execução do teste (média, desvio-padrão, graus de liberdade etc.)\n",
        "\n",
        "\n",
        "### **Passo 5** - Aceitação ou rejeição da hipótese nula.\n",
        "\n",
        "> ### <font color='red'>Pontos importantes</font>\n",
        "> - No caso de o intervalo de aceitação conter a estatística-teste, aceita-se $H_0$ como estatisticamente válido e rejeita-se $H_1$ como tal.\n",
        "> - No caso de o intervalo de aceitação não conter a estatística-teste, rejeita-se $H_0$ e aceita-se $H_1$ como provavelmente verdadeira. \n",
        "> - A aceitação também se verifica com a probabilidade de cauda (p-valor): se maior que $\\alpha$, aceita-se $H_0$."
      ]
    },
    {
      "cell_type": "markdown",
      "metadata": {
        "id": "TXdMM0dOpsjm"
      },
      "source": [
        "---"
      ]
    },
    {
      "cell_type": "markdown",
      "metadata": {
        "id": "miGOADKYpsjn"
      },
      "source": [
        "# <font color=green>3 TESTES PARAMÉTRICOS</font>\n",
        "***"
      ]
    },
    {
      "cell_type": "markdown",
      "metadata": {
        "id": "pIHY_4Sspsjn"
      },
      "source": [
        "Quando um teste assume determinadas premissas sobre como os parâmetros de uma população se distribuem, estamos trabalhando com **Testes Paramétricos**."
      ]
    },
    {
      "cell_type": "markdown",
      "metadata": {
        "id": "rUKgxZ7_psjp"
      },
      "source": [
        "## <font color=green>3.1 Teste Bicaudal</font>\n",
        "***"
      ]
    },
    {
      "cell_type": "markdown",
      "metadata": {
        "id": "i1PMIB5cpsjp"
      },
      "source": [
        "## <font color='red'>Problema</font>"
      ]
    },
    {
      "cell_type": "markdown",
      "metadata": {
        "id": "vellTWzJpsjq"
      },
      "source": [
        "A empresa **Suco Bom** produz **sucos de frutas em embalagens de 500 ml**. Seu processo de produção é quase todo automatizado e as embalagens de sucos são preenchidas por uma máquina que às vezes apresenta um certo desajuste, levando a erros no preenchimento das embalagens para mais ou menos conteúdo. Quando o volume médio cai abaixo de 500 ml, a empresa se preocupa em perder vendas e ter problemas com os orgãos fiscalizadores. Quando o volume passa de 500 ml, a empresa começa a se preocupar com prejuízos no processo de produção.\n",
        "\n",
        "O setor de controle de qualidade da empresa **Suco Bom** extrai, periodicamente, **amostras de 50 embalagens** para monitorar o processo de produção. Para cada amostra, é realizado um **teste de hipóteses** para avaliar se o maquinário se desajustou. A equipe de controle de qualidade assume um **nível de significância de 5%**.\n",
        "\n",
        "Suponha agora que uma **amostra de 50 embalagens** foi selecionada e que a **média amostral observada foi de 503,24 ml**. **Esse valor de média amostral é suficientemente maior que 500 ml para nos fazer rejeitar a hipótese de que a média do processo é de 500 ml ao nível de significância de 5%?**"
      ]
    },
    {
      "cell_type": "markdown",
      "metadata": {
        "id": "-J15nugOpsjq"
      },
      "source": [
        "---"
      ]
    },
    {
      "cell_type": "markdown",
      "metadata": {
        "id": "076qvKgapsjr"
      },
      "source": [
        "O **teste bicaudal** é muito utilizado em **testes de qualidade**, como o apresentado em nosso problema acima. Outro exemplo é a avaliação de peças que devem ter um encaixe perfeito (porcas e parafusos, chaves e fechaduras)."
      ]
    },
    {
      "cell_type": "markdown",
      "metadata": {
        "id": "MyGUYz88psjr"
      },
      "source": [
        "![Teste Bicaudal](https://caelum-online-public.s3.amazonaws.com/1229-estatistica-parte3/01/img005.png)"
      ]
    },
    {
      "cell_type": "markdown",
      "metadata": {
        "id": "EOiKt64mpsjs"
      },
      "source": [
        "---"
      ]
    },
    {
      "cell_type": "markdown",
      "metadata": {
        "id": "011wNGXtpsjs"
      },
      "source": [
        "### Dados do problema"
      ]
    },
    {
      "cell_type": "code",
      "execution_count": 298,
      "metadata": {
        "id": "lHLlGH7upsjt"
      },
      "outputs": [],
      "source": [
        "amostra = [509, 505, 495, 510, 496, 509, 497, 502, 503, 505, \n",
        "           501, 505, 510, 505, 504, 497, 506, 506, 508, 505, \n",
        "           497, 504, 500, 498, 506, 496, 508, 497, 503, 501, \n",
        "           503, 506, 499, 498, 509, 507, 503, 499, 509, 495, \n",
        "           502, 505, 504, 509, 508, 501, 505, 497, 508, 507]\n"
      ]
    },
    {
      "cell_type": "code",
      "execution_count": 299,
      "metadata": {
        "colab": {
          "base_uri": "https://localhost:8080/",
          "height": 206
        },
        "id": "AJNH5RQtpsju",
        "outputId": "da9d61e5-7748-452b-f478-c920f50aa574",
        "scrolled": false
      },
      "outputs": [
        {
          "output_type": "execute_result",
          "data": {
            "text/plain": [
              "   Amostra\n",
              "0      509\n",
              "1      505\n",
              "2      495\n",
              "3      510\n",
              "4      496"
            ],
            "text/html": [
              "\n",
              "  <div id=\"df-17a03552-6b77-4527-843b-2c19c741302c\">\n",
              "    <div class=\"colab-df-container\">\n",
              "      <div>\n",
              "<style scoped>\n",
              "    .dataframe tbody tr th:only-of-type {\n",
              "        vertical-align: middle;\n",
              "    }\n",
              "\n",
              "    .dataframe tbody tr th {\n",
              "        vertical-align: top;\n",
              "    }\n",
              "\n",
              "    .dataframe thead th {\n",
              "        text-align: right;\n",
              "    }\n",
              "</style>\n",
              "<table border=\"1\" class=\"dataframe\">\n",
              "  <thead>\n",
              "    <tr style=\"text-align: right;\">\n",
              "      <th></th>\n",
              "      <th>Amostra</th>\n",
              "    </tr>\n",
              "  </thead>\n",
              "  <tbody>\n",
              "    <tr>\n",
              "      <th>0</th>\n",
              "      <td>509</td>\n",
              "    </tr>\n",
              "    <tr>\n",
              "      <th>1</th>\n",
              "      <td>505</td>\n",
              "    </tr>\n",
              "    <tr>\n",
              "      <th>2</th>\n",
              "      <td>495</td>\n",
              "    </tr>\n",
              "    <tr>\n",
              "      <th>3</th>\n",
              "      <td>510</td>\n",
              "    </tr>\n",
              "    <tr>\n",
              "      <th>4</th>\n",
              "      <td>496</td>\n",
              "    </tr>\n",
              "  </tbody>\n",
              "</table>\n",
              "</div>\n",
              "      <button class=\"colab-df-convert\" onclick=\"convertToInteractive('df-17a03552-6b77-4527-843b-2c19c741302c')\"\n",
              "              title=\"Convert this dataframe to an interactive table.\"\n",
              "              style=\"display:none;\">\n",
              "        \n",
              "  <svg xmlns=\"http://www.w3.org/2000/svg\" height=\"24px\"viewBox=\"0 0 24 24\"\n",
              "       width=\"24px\">\n",
              "    <path d=\"M0 0h24v24H0V0z\" fill=\"none\"/>\n",
              "    <path d=\"M18.56 5.44l.94 2.06.94-2.06 2.06-.94-2.06-.94-.94-2.06-.94 2.06-2.06.94zm-11 1L8.5 8.5l.94-2.06 2.06-.94-2.06-.94L8.5 2.5l-.94 2.06-2.06.94zm10 10l.94 2.06.94-2.06 2.06-.94-2.06-.94-.94-2.06-.94 2.06-2.06.94z\"/><path d=\"M17.41 7.96l-1.37-1.37c-.4-.4-.92-.59-1.43-.59-.52 0-1.04.2-1.43.59L10.3 9.45l-7.72 7.72c-.78.78-.78 2.05 0 2.83L4 21.41c.39.39.9.59 1.41.59.51 0 1.02-.2 1.41-.59l7.78-7.78 2.81-2.81c.8-.78.8-2.07 0-2.86zM5.41 20L4 18.59l7.72-7.72 1.47 1.35L5.41 20z\"/>\n",
              "  </svg>\n",
              "      </button>\n",
              "      \n",
              "  <style>\n",
              "    .colab-df-container {\n",
              "      display:flex;\n",
              "      flex-wrap:wrap;\n",
              "      gap: 12px;\n",
              "    }\n",
              "\n",
              "    .colab-df-convert {\n",
              "      background-color: #E8F0FE;\n",
              "      border: none;\n",
              "      border-radius: 50%;\n",
              "      cursor: pointer;\n",
              "      display: none;\n",
              "      fill: #1967D2;\n",
              "      height: 32px;\n",
              "      padding: 0 0 0 0;\n",
              "      width: 32px;\n",
              "    }\n",
              "\n",
              "    .colab-df-convert:hover {\n",
              "      background-color: #E2EBFA;\n",
              "      box-shadow: 0px 1px 2px rgba(60, 64, 67, 0.3), 0px 1px 3px 1px rgba(60, 64, 67, 0.15);\n",
              "      fill: #174EA6;\n",
              "    }\n",
              "\n",
              "    [theme=dark] .colab-df-convert {\n",
              "      background-color: #3B4455;\n",
              "      fill: #D2E3FC;\n",
              "    }\n",
              "\n",
              "    [theme=dark] .colab-df-convert:hover {\n",
              "      background-color: #434B5C;\n",
              "      box-shadow: 0px 1px 3px 1px rgba(0, 0, 0, 0.15);\n",
              "      filter: drop-shadow(0px 1px 2px rgba(0, 0, 0, 0.3));\n",
              "      fill: #FFFFFF;\n",
              "    }\n",
              "  </style>\n",
              "\n",
              "      <script>\n",
              "        const buttonEl =\n",
              "          document.querySelector('#df-17a03552-6b77-4527-843b-2c19c741302c button.colab-df-convert');\n",
              "        buttonEl.style.display =\n",
              "          google.colab.kernel.accessAllowed ? 'block' : 'none';\n",
              "\n",
              "        async function convertToInteractive(key) {\n",
              "          const element = document.querySelector('#df-17a03552-6b77-4527-843b-2c19c741302c');\n",
              "          const dataTable =\n",
              "            await google.colab.kernel.invokeFunction('convertToInteractive',\n",
              "                                                     [key], {});\n",
              "          if (!dataTable) return;\n",
              "\n",
              "          const docLinkHtml = 'Like what you see? Visit the ' +\n",
              "            '<a target=\"_blank\" href=https://colab.research.google.com/notebooks/data_table.ipynb>data table notebook</a>'\n",
              "            + ' to learn more about interactive tables.';\n",
              "          element.innerHTML = '';\n",
              "          dataTable['output_type'] = 'display_data';\n",
              "          await google.colab.output.renderOutput(dataTable, element);\n",
              "          const docLink = document.createElement('div');\n",
              "          docLink.innerHTML = docLinkHtml;\n",
              "          element.appendChild(docLink);\n",
              "        }\n",
              "      </script>\n",
              "    </div>\n",
              "  </div>\n",
              "  "
            ]
          },
          "metadata": {},
          "execution_count": 299
        }
      ],
      "source": [
        "amostra = pd.DataFrame(amostra, columns=['Amostra'])\n",
        "amostra.head()\n"
      ]
    },
    {
      "cell_type": "code",
      "execution_count": 300,
      "metadata": {
        "colab": {
          "base_uri": "https://localhost:8080/"
        },
        "id": "tnjD0A_ppsjw",
        "outputId": "b0d270db-c7ae-4afb-e9b3-78c9b821305e"
      },
      "outputs": [
        {
          "output_type": "execute_result",
          "data": {
            "text/plain": [
              "503.24"
            ]
          },
          "metadata": {},
          "execution_count": 300
        }
      ],
      "source": [
        "media_amostra = amostra.mean()[0]\n",
        "media_amostra"
      ]
    },
    {
      "cell_type": "code",
      "execution_count": 301,
      "metadata": {
        "colab": {
          "base_uri": "https://localhost:8080/"
        },
        "id": "JXz2IFCUpsjy",
        "outputId": "02f79fa6-7923-4fb8-9b82-901d61259b40"
      },
      "outputs": [
        {
          "output_type": "execute_result",
          "data": {
            "text/plain": [
              "4.48380305052735"
            ]
          },
          "metadata": {},
          "execution_count": 301
        }
      ],
      "source": [
        "desvio_padrao_amostra = amostra.std()[0]\n",
        "desvio_padrao_amostra"
      ]
    },
    {
      "cell_type": "code",
      "execution_count": 302,
      "metadata": {
        "id": "PE99TXSfpsj0"
      },
      "outputs": [],
      "source": [
        "media = 500\n",
        "significancia = 0.05\n",
        "confianca = 1 - significancia\n",
        "n = 50"
      ]
    },
    {
      "cell_type": "markdown",
      "metadata": {
        "id": "nqmFpl7wpsj2"
      },
      "source": [
        "### **Passo 1** - formulação das hipóteses $H_0$ e $H_1$\n",
        "\n",
        "#### <font color='red'>Lembre-se, a hipótese nula sempre contém a alegação de igualdade</font>"
      ]
    },
    {
      "cell_type": "markdown",
      "metadata": {
        "id": "QVcqkHZhpsj3"
      },
      "source": [
        "### $H_0: \\mu = 500$\n",
        "\n",
        "### $H_1: \\mu \\neq 500$"
      ]
    },
    {
      "cell_type": "markdown",
      "metadata": {
        "id": "MShPuVL6psj3"
      },
      "source": [
        "---"
      ]
    },
    {
      "cell_type": "markdown",
      "metadata": {
        "id": "_rAz73fzpsj4"
      },
      "source": [
        "### **Passo 2** - escolha da distribuição amostral adequada\n",
        "<img src='https://caelum-online-public.s3.amazonaws.com/1229-estatistica-parte3/01/img003.png' width=70%>"
      ]
    },
    {
      "cell_type": "markdown",
      "metadata": {
        "id": "XC1JOtU9psj4"
      },
      "source": [
        "### O tamanho da amostra é maior que 30?\n",
        "#### Resp.: Sim\n",
        "\n",
        "### O desvio padrão populacional é conhecido?\n",
        "#### Resp.: Não"
      ]
    },
    {
      "cell_type": "markdown",
      "metadata": {
        "id": "Uq-Zq_Sxpsj5"
      },
      "source": [
        "---"
      ]
    },
    {
      "cell_type": "markdown",
      "metadata": {
        "id": "V3OT4caspsj5"
      },
      "source": [
        "### **Passo 3** - fixação da significância do teste ($\\alpha$)"
      ]
    },
    {
      "cell_type": "markdown",
      "metadata": {
        "id": "wI1Nhj_vpsj6"
      },
      "source": [
        "https://docs.scipy.org/doc/scipy/reference/generated/scipy.stats.norm.html"
      ]
    },
    {
      "cell_type": "code",
      "execution_count": 303,
      "metadata": {
        "id": "nUd-6AzZpsj6"
      },
      "outputs": [],
      "source": [
        "from scipy.stats import norm"
      ]
    },
    {
      "cell_type": "code",
      "execution_count": 304,
      "metadata": {
        "colab": {
          "base_uri": "https://localhost:8080/"
        },
        "id": "2JyYCHeQpsj8",
        "outputId": "dd86bc53-e6df-4682-f70f-fce7859cbe34"
      },
      "outputs": [
        {
          "output_type": "execute_result",
          "data": {
            "text/plain": [
              "0.975"
            ]
          },
          "metadata": {},
          "execution_count": 304
        }
      ],
      "source": [
        "probabilidade = (0.5 + (confianca / 2))\n",
        "probabilidade"
      ]
    },
    {
      "cell_type": "markdown",
      "metadata": {
        "id": "Fu4Wbd-ipsj-"
      },
      "source": [
        "### Obtendo $z_{\\alpha/2}$"
      ]
    },
    {
      "cell_type": "code",
      "execution_count": 305,
      "metadata": {
        "colab": {
          "base_uri": "https://localhost:8080/"
        },
        "id": "imc3GyDLpsj_",
        "outputId": "5af0cb4a-0953-4723-e6bc-1256ca35c83b"
      },
      "outputs": [
        {
          "output_type": "execute_result",
          "data": {
            "text/plain": [
              "1.959963984540054"
            ]
          },
          "metadata": {},
          "execution_count": 305
        }
      ],
      "source": [
        "z_alpha_2 = norm.ppf(probabilidade)\n",
        "z_alpha_2"
      ]
    },
    {
      "cell_type": "markdown",
      "metadata": {
        "id": "d98Z21yOpskB"
      },
      "source": [
        "![Região de Aceitação](https://caelum-online-public.s3.amazonaws.com/1229-estatistica-parte3/01/img006.png)"
      ]
    },
    {
      "cell_type": "markdown",
      "metadata": {
        "id": "eyfX7pYMpskC"
      },
      "source": [
        "---"
      ]
    },
    {
      "cell_type": "markdown",
      "metadata": {
        "id": "aaLCZs0ApskC"
      },
      "source": [
        "### **Passo 4** - cálculo da estatística-teste e verificação desse valor com as áreas de aceitação e rejeição do teste\n",
        "\n",
        "# $$z = \\frac{\\bar{x} - \\mu_0}{\\frac{s}{\\sqrt{n}}}$$"
      ]
    },
    {
      "cell_type": "code",
      "execution_count": 306,
      "metadata": {
        "colab": {
          "base_uri": "https://localhost:8080/"
        },
        "id": "a6zMj0YzpskC",
        "outputId": "13bf9ec6-b543-45cc-c64b-f3927591da79"
      },
      "outputs": [
        {
          "output_type": "execute_result",
          "data": {
            "text/plain": [
              "5.109559775991873"
            ]
          },
          "metadata": {},
          "execution_count": 306
        }
      ],
      "source": [
        "z = (media_amostra - media) / (desvio_padrao_amostra / np.sqrt(n))\n",
        "z"
      ]
    },
    {
      "cell_type": "markdown",
      "metadata": {
        "id": "UMHqgrlupskE"
      },
      "source": [
        "![Estatística-Teste](https://caelum-online-public.s3.amazonaws.com/1229-estatistica-parte3/01/img007.png)"
      ]
    },
    {
      "cell_type": "markdown",
      "metadata": {
        "id": "tFfJX8G9pskF"
      },
      "source": [
        "---"
      ]
    },
    {
      "cell_type": "markdown",
      "metadata": {
        "id": "aqTnTTePpskF"
      },
      "source": [
        "### **Passo 5** - Aceitação ou rejeição da hipótese nula"
      ]
    },
    {
      "cell_type": "markdown",
      "metadata": {
        "id": "pD1cc4DHpskG"
      },
      "source": [
        "<img src='https://caelum-online-public.s3.amazonaws.com/1229-estatistica-parte3/01/img013.png' width=90%>"
      ]
    },
    {
      "cell_type": "markdown",
      "metadata": {
        "id": "qbnH6V15pskG"
      },
      "source": [
        "### <font color='red'>Critério do valor crítico</font>\n",
        "\n",
        "> ### Teste Bicaudal\n",
        "> ### Rejeitar $H_0$ se $z \\leq -z_{\\alpha / 2}$ ou se $z \\geq z_{\\alpha / 2}$"
      ]
    },
    {
      "cell_type": "code",
      "execution_count": 307,
      "metadata": {
        "colab": {
          "base_uri": "https://localhost:8080/"
        },
        "id": "-MkJyqSupskG",
        "outputId": "8bd51b43-f022-4933-a97c-a9902cb488c9"
      },
      "outputs": [
        {
          "output_type": "execute_result",
          "data": {
            "text/plain": [
              "False"
            ]
          },
          "metadata": {},
          "execution_count": 307
        }
      ],
      "source": [
        "z <= -z_alpha_2"
      ]
    },
    {
      "cell_type": "code",
      "execution_count": 308,
      "metadata": {
        "colab": {
          "base_uri": "https://localhost:8080/"
        },
        "id": "FVTIIXA3pskI",
        "outputId": "b9ec7a7d-8b71-401d-8dd5-c9ae1ee577ea"
      },
      "outputs": [
        {
          "output_type": "execute_result",
          "data": {
            "text/plain": [
              "True"
            ]
          },
          "metadata": {},
          "execution_count": 308
        }
      ],
      "source": [
        "z >= z_alpha_2"
      ]
    },
    {
      "cell_type": "markdown",
      "metadata": {
        "id": "YX-xSnZFpskM"
      },
      "source": [
        "### <font color='green'>Conclusão: Como a média amostral $\\bar{x}$ é significativamente maior que 500 ml, rejeitamos $H_0$. Neste caso, devem ser tomadas providências para ajustar o maquinário que preenche as embalagens.</font>"
      ]
    },
    {
      "cell_type": "markdown",
      "source": [
        "Exercício\n",
        "\n",
        "Um fabricante de farinha afirma que a quantidade média de farinha nas embalagens de seu principal produto é de 500 g. Um teste de pesagem em 30 embalagens amostradas ao acaso mostrou um peso médio igual à 485 g. Estudos anteriores afirmam que a distribuição dos pesos segue uma normal e que o desvio padrão populacional é igual a 20 g. Considerando um nível de significância igual a 5%, responda as seguintes questões:\n",
        "\n",
        "1) Qual a hipótese nula a ser testada?\n",
        "\n",
        "2) Qual o valor da estatística de teste?\n",
        "\n",
        "3) Qual a conclusão do teste?"
      ],
      "metadata": {
        "id": "q4mg1bKwsrLS"
      }
    },
    {
      "cell_type": "code",
      "source": [
        "# exercício\n",
        "\n",
        "# H0: µ = 500\n",
        "\n",
        "media_exer = 500\n",
        "significancia_exer = 0.05\n",
        "confianca_exer = 1 - significancia\n",
        "n_exer = 30\n",
        "media_amostra_exer = 485\n",
        "sigma_exer = 20\n",
        "probabilidade_exer = (0.5 + (confianca / 2))\n",
        "z_alpha_2_exer = norm.ppf(probabilidade)\n",
        "z_alpha_2_exer"
      ],
      "metadata": {
        "colab": {
          "base_uri": "https://localhost:8080/"
        },
        "id": "L_Gj9cGErfOJ",
        "outputId": "dc01b9c5-7f86-4d91-fd61-9da75bf584fc"
      },
      "execution_count": 309,
      "outputs": [
        {
          "output_type": "execute_result",
          "data": {
            "text/plain": [
              "1.959963984540054"
            ]
          },
          "metadata": {},
          "execution_count": 309
        }
      ]
    },
    {
      "cell_type": "code",
      "source": [
        "z_exer = (media_amostra_exer - media_exer) / (sigma_exer / np.sqrt(n_exer))\n",
        "z_exer"
      ],
      "metadata": {
        "colab": {
          "base_uri": "https://localhost:8080/"
        },
        "id": "9wFWbZy3sKfg",
        "outputId": "d2a9ea2a-f4f5-4748-900a-3999ac7d8b9a"
      },
      "execution_count": 310,
      "outputs": [
        {
          "output_type": "execute_result",
          "data": {
            "text/plain": [
              "-4.107919181288746"
            ]
          },
          "metadata": {},
          "execution_count": 310
        }
      ]
    },
    {
      "cell_type": "code",
      "source": [
        "print('z =', round(z, 4))\n",
        "if(z <= -z_alpha_2_exer or z >= z_alpha_2_exer):\n",
        "    print('Rejeitar H0')\n",
        "else:\n",
        "    print('Aceitar H0')"
      ],
      "metadata": {
        "colab": {
          "base_uri": "https://localhost:8080/"
        },
        "id": "NuBmWI2isdbw",
        "outputId": "7c67b86e-fb72-4c06-e253-4f2648b3dce7"
      },
      "execution_count": 311,
      "outputs": [
        {
          "output_type": "stream",
          "name": "stdout",
          "text": [
            "z = 5.1096\n",
            "Rejeitar H0\n"
          ]
        }
      ]
    },
    {
      "cell_type": "markdown",
      "metadata": {
        "id": "Aqv_KZoYpskN"
      },
      "source": [
        "### <font color='red'>Critério do $p-valor$</font>\n",
        "\n",
        "> ### Teste Bicaudal\n",
        "> ### Rejeitar $H_0$ se o valor $p\\leq\\alpha$"
      ]
    },
    {
      "cell_type": "code",
      "execution_count": 312,
      "metadata": {
        "id": "ucIaKkuopskN",
        "colab": {
          "base_uri": "https://localhost:8080/"
        },
        "outputId": "daec034f-157f-4ef7-a447-20f5d762f90a"
      },
      "outputs": [
        {
          "output_type": "execute_result",
          "data": {
            "text/plain": [
              "3.2291031715203644e-07"
            ]
          },
          "metadata": {},
          "execution_count": 312
        }
      ],
      "source": [
        "# multiplicamos por 2 somente em testes bicaudais\n",
        "p_valor = 2 * (1 - norm.cdf(z))\n",
        "p_valor"
      ]
    },
    {
      "cell_type": "code",
      "execution_count": 313,
      "metadata": {
        "id": "wGgZS83apskO",
        "colab": {
          "base_uri": "https://localhost:8080/"
        },
        "outputId": "ba77aed5-82f0-406d-e610-43aa3450beea"
      },
      "outputs": [
        {
          "output_type": "execute_result",
          "data": {
            "text/plain": [
              "3.229103172445771e-07"
            ]
          },
          "metadata": {},
          "execution_count": 313
        }
      ],
      "source": [
        "p_valor = 2 * (norm.sf(z))\n",
        "p_valor"
      ]
    },
    {
      "cell_type": "code",
      "execution_count": 314,
      "metadata": {
        "id": "vUHgYIHqpskR",
        "scrolled": true,
        "colab": {
          "base_uri": "https://localhost:8080/"
        },
        "outputId": "8baf2c25-3c91-4a49-e70b-d4c9c16a7160"
      },
      "outputs": [
        {
          "output_type": "execute_result",
          "data": {
            "text/plain": [
              "True"
            ]
          },
          "metadata": {},
          "execution_count": 314
        }
      ],
      "source": [
        "p_valor <= significancia"
      ]
    },
    {
      "cell_type": "markdown",
      "metadata": {
        "id": "YRw1O5X8pskT"
      },
      "source": [
        "https://www.statsmodels.org/stable/generated/statsmodels.stats.weightstats.ztest.html"
      ]
    },
    {
      "cell_type": "code",
      "execution_count": 315,
      "metadata": {
        "id": "rg3hUlqfpskU"
      },
      "outputs": [],
      "source": [
        "# maneira de calcular mais direta\n",
        "\n",
        "from statsmodels.stats.weightstats import ztest"
      ]
    },
    {
      "cell_type": "code",
      "execution_count": 316,
      "metadata": {
        "id": "0pC3HAjzpskV",
        "colab": {
          "base_uri": "https://localhost:8080/"
        },
        "outputId": "20b485c9-1e02-4564-bf01-6839b8e6bbed"
      },
      "outputs": [
        {
          "output_type": "execute_result",
          "data": {
            "text/plain": [
              "(array([5.10955978]), array([3.22910317e-07]))"
            ]
          },
          "metadata": {},
          "execution_count": 316
        }
      ],
      "source": [
        "ztest(x1 = amostra, value = media)"
      ]
    },
    {
      "cell_type": "markdown",
      "metadata": {
        "id": "X5MVCXS6pskX"
      },
      "source": [
        "https://www.statsmodels.org/dev/generated/statsmodels.stats.weightstats.DescrStatsW.html"
      ]
    },
    {
      "cell_type": "code",
      "execution_count": 317,
      "metadata": {
        "id": "ke2O2P00pskX"
      },
      "outputs": [],
      "source": [
        "from statsmodels.stats.weightstats import DescrStatsW"
      ]
    },
    {
      "cell_type": "code",
      "execution_count": 318,
      "metadata": {
        "id": "Dz_iOYR4pskZ"
      },
      "outputs": [],
      "source": [
        "test = DescrStatsW(amostra)"
      ]
    },
    {
      "cell_type": "code",
      "execution_count": 319,
      "metadata": {
        "id": "LJBxBo5dpskb",
        "colab": {
          "base_uri": "https://localhost:8080/"
        },
        "outputId": "6c7b8f26-557c-4b5c-aec4-235d3bf0f146"
      },
      "outputs": [
        {
          "output_type": "stream",
          "name": "stdout",
          "text": [
            "5.109559775991874\n",
            "3.2291031724457596e-07\n"
          ]
        }
      ],
      "source": [
        "z, p_valor = test.ztest_mean(value = media)\n",
        "print(z[0])\n",
        "print(p_valor[0])"
      ]
    },
    {
      "cell_type": "markdown",
      "metadata": {
        "id": "YQQdl-Nepskv"
      },
      "source": [
        "---"
      ]
    },
    {
      "cell_type": "code",
      "source": [
        "# exercício\n",
        "\n",
        "# H0: µ = 500\n",
        "\n",
        "media_exer = 500\n",
        "significancia_exer = 0.05\n",
        "confianca_exer = 1 - significancia\n",
        "n_exer = 30\n",
        "media_amostra_exer = 485\n",
        "sigma_exer = 20\n",
        "probabilidade_exer = (0.5 + (confianca / 2))\n",
        "z_alpha_2_exer = norm.ppf(probabilidade)\n",
        "z_alpha_2_exer"
      ],
      "metadata": {
        "colab": {
          "base_uri": "https://localhost:8080/"
        },
        "id": "1YdFi9IYnRHJ",
        "outputId": "25dfd091-1f95-4b51-b667-af522418efe2"
      },
      "execution_count": 320,
      "outputs": [
        {
          "output_type": "execute_result",
          "data": {
            "text/plain": [
              "1.959963984540054"
            ]
          },
          "metadata": {},
          "execution_count": 320
        }
      ]
    },
    {
      "cell_type": "code",
      "source": [
        "z_exer = (media_amostra_exer - media_exer) / (sigma_exer / np.sqrt(n_exer))\n",
        "z_exer"
      ],
      "metadata": {
        "colab": {
          "base_uri": "https://localhost:8080/"
        },
        "id": "A6prFFcFoFJk",
        "outputId": "43889724-cd52-4a3b-8835-941a46c56c06"
      },
      "execution_count": 321,
      "outputs": [
        {
          "output_type": "execute_result",
          "data": {
            "text/plain": [
              "-4.107919181288746"
            ]
          },
          "metadata": {},
          "execution_count": 321
        }
      ]
    },
    {
      "cell_type": "code",
      "source": [
        "p_value = 2 * norm.sf(abs(z_exer))\n",
        "print(\"{:.5F}\".format(p_value))"
      ],
      "metadata": {
        "colab": {
          "base_uri": "https://localhost:8080/"
        },
        "id": "9fd1uGlepk-M",
        "outputId": "7cf3d4e7-18ce-422e-adea-2018d1333744"
      },
      "execution_count": 322,
      "outputs": [
        {
          "output_type": "stream",
          "name": "stdout",
          "text": [
            "0.00004\n"
          ]
        }
      ]
    },
    {
      "cell_type": "markdown",
      "metadata": {
        "id": "U8OWXeVtpskv"
      },
      "source": [
        "## <font color=green>3.2 Teste Unicaudal</font>\n",
        "***"
      ]
    },
    {
      "cell_type": "markdown",
      "metadata": {
        "id": "CPHPL4nWpskw"
      },
      "source": [
        "## <font color='red'>Problema</font>"
      ]
    },
    {
      "cell_type": "markdown",
      "metadata": {
        "id": "vDyxOXLvpskw"
      },
      "source": [
        "Um famoso fabricante de refrigerantes alega que uma lata de 350 ml de seu principal produto contém, **no máximo**, **37 gramas de açúcar**. Esta alegação nos leva a entender que a quantidade média de açúcar em uma lata de refrigerante deve ser **igual ou menor que 37 g**.\n",
        "\n",
        "Um consumidor desconfiado e com conhecimentos em inferência estatística resolve testar a alegação do fabricante e seleciona, aleatóriamente, em um conjunto de estabelecimentos distintos, **uma amostra de 25 latas** do refrigerante em questão. Utilizando o equipamento correto o consumidor obteve as quantidades de açúcar em todas as 25 latas de sua amostra. \n",
        "\n",
        "**Assumindo que essa população se distribua aproximadamente como uma normal e considerando um nível de significância de 5%, é possível aceitar como válida a alegação do fabricante?**"
      ]
    },
    {
      "cell_type": "markdown",
      "metadata": {
        "id": "5P5nWN0epsky"
      },
      "source": [
        "### Construindo tabela $t$ de Student\n",
        "https://docs.scipy.org/doc/scipy/reference/generated/scipy.stats.t.html"
      ]
    },
    {
      "cell_type": "code",
      "execution_count": 323,
      "metadata": {
        "id": "lKuhGKPEpsky",
        "scrolled": false,
        "colab": {
          "base_uri": "https://localhost:8080/",
          "height": 1000
        },
        "outputId": "8731c978-35f0-4cda-f144-48e13c4af826"
      },
      "outputs": [
        {
          "output_type": "execute_result",
          "data": {
            "text/plain": [
              "Bicaudal                          0.100     0.090     0.080     0.070  \\\n",
              "Unicaudal                         0.050     0.045     0.040     0.035   \n",
              "Graus de Liberdade (n - 1) 1   6.313752  7.026366  7.915815  9.057887   \n",
              "                           2   2.919986  3.103977  3.319764  3.578247   \n",
              "                           3   2.353363  2.470807  2.605427  2.762599   \n",
              "                           4   2.131847    2.2261  2.332873  2.455892   \n",
              "                           5   2.015048  2.097837  2.190958  2.297392   \n",
              "                           6    1.94318  2.019201  2.104306  2.201059   \n",
              "                           7   1.894579  1.966153  2.046011  2.136453   \n",
              "                           8   1.859548  1.927986  2.004152  2.090166   \n",
              "                           9   1.833113  1.899222  1.972653  2.055395   \n",
              "                           10  1.812461  1.876774  1.948099  2.028327   \n",
              "                           11  1.795885  1.858772  1.928427  2.006663   \n",
              "                           12  1.782288  1.844015  1.912313  1.988934   \n",
              "                           13  1.770933    1.8317  1.898874  1.974158   \n",
              "                           14   1.76131  1.821267  1.887496  1.961656   \n",
              "                           15   1.75305  1.812316  1.877739   1.95094   \n",
              "                           16  1.745884  1.804553  1.869279  1.941654   \n",
              "                           17  1.739607  1.797755  1.861875   1.93353   \n",
              "                           18  1.734064  1.791754   1.85534  1.926362   \n",
              "                           19  1.729133  1.786417   1.84953  1.919992   \n",
              "                           20  1.724718   1.78164  1.844331  1.914292   \n",
              "                           21  1.720743  1.777339  1.839651  1.909164   \n",
              "                           22  1.717144  1.773447  1.835417  1.904524   \n",
              "                           23  1.713872  1.769907  1.831567  1.900307   \n",
              "                           24  1.710882  1.766675  1.828051  1.896457   \n",
              "                           25  1.708141  1.763711  1.824828  1.892928   \n",
              "                           26  1.705618  1.760983  1.821863  1.889682   \n",
              "                           27  1.703288  1.758466  1.819126  1.886686   \n",
              "                           28  1.701131  1.756134  1.816592  1.883912   \n",
              "                           29  1.699127  1.753968  1.814238  1.881336   \n",
              "                           30  1.697261  1.751952  1.812047  1.878938   \n",
              "\n",
              "Bicaudal                           0.060      0.050      0.040      0.030  \\\n",
              "Unicaudal                          0.030      0.025      0.020      0.015   \n",
              "Graus de Liberdade (n - 1) 1   10.578895  12.706205  15.894545  21.204949   \n",
              "                           2    3.896425   4.302653   4.848732   5.642778   \n",
              "                           3     2.95051   3.182446   3.481909   3.896046   \n",
              "                           4    2.600762   2.776445   2.998528    3.29763   \n",
              "                           5    2.421585   2.570582   2.756509   3.002875   \n",
              "                           6    2.313263   2.446912   2.612242   2.828928   \n",
              "                           7    2.240879   2.364624   2.516752   2.714573   \n",
              "                           8    2.189155   2.306004   2.448985   2.633814   \n",
              "                           9    2.150375   2.262157   2.398441   2.573804   \n",
              "                           10   2.120234   2.228139   2.359315   2.527484   \n",
              "                           11   2.096139   2.200985    2.32814   2.490664   \n",
              "                           12   2.076441   2.178813   2.302722     2.4607   \n",
              "                           13   2.060038   2.160369   2.281604   2.435845   \n",
              "                           14   2.046169   2.144787   2.263781   2.414898   \n",
              "                           15   2.034289    2.13145    2.24854   2.397005   \n",
              "                           16      2.024   2.119905   2.235358   2.381545   \n",
              "                           17   2.015002   2.109816   2.223845   2.368055   \n",
              "                           18   2.007067   2.100922   2.213703    2.35618   \n",
              "                           19   2.000017   2.093024   2.204701   2.345648   \n",
              "                           20   1.993713   2.085963   2.196658   2.336242   \n",
              "                           21   1.988041   2.079614   2.189427   2.327792   \n",
              "                           22   1.982911   2.073873   2.182893    2.32016   \n",
              "                           23   1.978249   2.068658   2.176958   2.313231   \n",
              "                           24   1.973994   2.063899   2.171545   2.306913   \n",
              "                           25   1.970095   2.059539   2.166587    2.30113   \n",
              "                           26   1.966509   2.055529   2.162029   2.295815   \n",
              "                           27     1.9632   2.051831   2.157825   2.290914   \n",
              "                           28   1.960136   2.048407   2.153935    2.28638   \n",
              "                           29   1.957293    2.04523   2.150325   2.282175   \n",
              "                           30   1.954645   2.042272   2.146966   2.278262   \n",
              "\n",
              "Bicaudal                           0.020      0.010  \n",
              "Unicaudal                          0.010      0.005  \n",
              "Graus de Liberdade (n - 1) 1   31.820516  63.656741  \n",
              "                           2    6.964557   9.924843  \n",
              "                           3    4.540703   5.840909  \n",
              "                           4    3.746947   4.604095  \n",
              "                           5     3.36493   4.032143  \n",
              "                           6    3.142668   3.707428  \n",
              "                           7    2.997952   3.499483  \n",
              "                           8    2.896459   3.355387  \n",
              "                           9    2.821438   3.249836  \n",
              "                           10   2.763769   3.169273  \n",
              "                           11   2.718079   3.105807  \n",
              "                           12   2.680998    3.05454  \n",
              "                           13   2.650309   3.012276  \n",
              "                           14   2.624494   2.976843  \n",
              "                           15    2.60248   2.946713  \n",
              "                           16   2.583487   2.920782  \n",
              "                           17   2.566934   2.898231  \n",
              "                           18    2.55238    2.87844  \n",
              "                           19   2.539483   2.860935  \n",
              "                           20   2.527977    2.84534  \n",
              "                           21   2.517648    2.83136  \n",
              "                           22   2.508325   2.818756  \n",
              "                           23   2.499867   2.807336  \n",
              "                           24   2.492159    2.79694  \n",
              "                           25   2.485107   2.787436  \n",
              "                           26    2.47863   2.778715  \n",
              "                           27    2.47266   2.770683  \n",
              "                           28    2.46714   2.763262  \n",
              "                           29   2.462021   2.756386  \n",
              "                           30   2.457262   2.749996  "
            ],
            "text/html": [
              "\n",
              "  <div id=\"df-555975fc-1ea7-4494-b6a0-7af10d39336e\">\n",
              "    <div class=\"colab-df-container\">\n",
              "      <div>\n",
              "<style scoped>\n",
              "    .dataframe tbody tr th:only-of-type {\n",
              "        vertical-align: middle;\n",
              "    }\n",
              "\n",
              "    .dataframe tbody tr th {\n",
              "        vertical-align: top;\n",
              "    }\n",
              "\n",
              "    .dataframe thead tr th {\n",
              "        text-align: left;\n",
              "    }\n",
              "</style>\n",
              "<table border=\"1\" class=\"dataframe\">\n",
              "  <thead>\n",
              "    <tr>\n",
              "      <th></th>\n",
              "      <th>Bicaudal</th>\n",
              "      <th>0.100</th>\n",
              "      <th>0.090</th>\n",
              "      <th>0.080</th>\n",
              "      <th>0.070</th>\n",
              "      <th>0.060</th>\n",
              "      <th>0.050</th>\n",
              "      <th>0.040</th>\n",
              "      <th>0.030</th>\n",
              "      <th>0.020</th>\n",
              "      <th>0.010</th>\n",
              "    </tr>\n",
              "    <tr>\n",
              "      <th></th>\n",
              "      <th>Unicaudal</th>\n",
              "      <th>0.050</th>\n",
              "      <th>0.045</th>\n",
              "      <th>0.040</th>\n",
              "      <th>0.035</th>\n",
              "      <th>0.030</th>\n",
              "      <th>0.025</th>\n",
              "      <th>0.020</th>\n",
              "      <th>0.015</th>\n",
              "      <th>0.010</th>\n",
              "      <th>0.005</th>\n",
              "    </tr>\n",
              "  </thead>\n",
              "  <tbody>\n",
              "    <tr>\n",
              "      <th rowspan=\"30\" valign=\"top\">Graus de Liberdade (n - 1)</th>\n",
              "      <th>1</th>\n",
              "      <td>6.313752</td>\n",
              "      <td>7.026366</td>\n",
              "      <td>7.915815</td>\n",
              "      <td>9.057887</td>\n",
              "      <td>10.578895</td>\n",
              "      <td>12.706205</td>\n",
              "      <td>15.894545</td>\n",
              "      <td>21.204949</td>\n",
              "      <td>31.820516</td>\n",
              "      <td>63.656741</td>\n",
              "    </tr>\n",
              "    <tr>\n",
              "      <th>2</th>\n",
              "      <td>2.919986</td>\n",
              "      <td>3.103977</td>\n",
              "      <td>3.319764</td>\n",
              "      <td>3.578247</td>\n",
              "      <td>3.896425</td>\n",
              "      <td>4.302653</td>\n",
              "      <td>4.848732</td>\n",
              "      <td>5.642778</td>\n",
              "      <td>6.964557</td>\n",
              "      <td>9.924843</td>\n",
              "    </tr>\n",
              "    <tr>\n",
              "      <th>3</th>\n",
              "      <td>2.353363</td>\n",
              "      <td>2.470807</td>\n",
              "      <td>2.605427</td>\n",
              "      <td>2.762599</td>\n",
              "      <td>2.95051</td>\n",
              "      <td>3.182446</td>\n",
              "      <td>3.481909</td>\n",
              "      <td>3.896046</td>\n",
              "      <td>4.540703</td>\n",
              "      <td>5.840909</td>\n",
              "    </tr>\n",
              "    <tr>\n",
              "      <th>4</th>\n",
              "      <td>2.131847</td>\n",
              "      <td>2.2261</td>\n",
              "      <td>2.332873</td>\n",
              "      <td>2.455892</td>\n",
              "      <td>2.600762</td>\n",
              "      <td>2.776445</td>\n",
              "      <td>2.998528</td>\n",
              "      <td>3.29763</td>\n",
              "      <td>3.746947</td>\n",
              "      <td>4.604095</td>\n",
              "    </tr>\n",
              "    <tr>\n",
              "      <th>5</th>\n",
              "      <td>2.015048</td>\n",
              "      <td>2.097837</td>\n",
              "      <td>2.190958</td>\n",
              "      <td>2.297392</td>\n",
              "      <td>2.421585</td>\n",
              "      <td>2.570582</td>\n",
              "      <td>2.756509</td>\n",
              "      <td>3.002875</td>\n",
              "      <td>3.36493</td>\n",
              "      <td>4.032143</td>\n",
              "    </tr>\n",
              "    <tr>\n",
              "      <th>6</th>\n",
              "      <td>1.94318</td>\n",
              "      <td>2.019201</td>\n",
              "      <td>2.104306</td>\n",
              "      <td>2.201059</td>\n",
              "      <td>2.313263</td>\n",
              "      <td>2.446912</td>\n",
              "      <td>2.612242</td>\n",
              "      <td>2.828928</td>\n",
              "      <td>3.142668</td>\n",
              "      <td>3.707428</td>\n",
              "    </tr>\n",
              "    <tr>\n",
              "      <th>7</th>\n",
              "      <td>1.894579</td>\n",
              "      <td>1.966153</td>\n",
              "      <td>2.046011</td>\n",
              "      <td>2.136453</td>\n",
              "      <td>2.240879</td>\n",
              "      <td>2.364624</td>\n",
              "      <td>2.516752</td>\n",
              "      <td>2.714573</td>\n",
              "      <td>2.997952</td>\n",
              "      <td>3.499483</td>\n",
              "    </tr>\n",
              "    <tr>\n",
              "      <th>8</th>\n",
              "      <td>1.859548</td>\n",
              "      <td>1.927986</td>\n",
              "      <td>2.004152</td>\n",
              "      <td>2.090166</td>\n",
              "      <td>2.189155</td>\n",
              "      <td>2.306004</td>\n",
              "      <td>2.448985</td>\n",
              "      <td>2.633814</td>\n",
              "      <td>2.896459</td>\n",
              "      <td>3.355387</td>\n",
              "    </tr>\n",
              "    <tr>\n",
              "      <th>9</th>\n",
              "      <td>1.833113</td>\n",
              "      <td>1.899222</td>\n",
              "      <td>1.972653</td>\n",
              "      <td>2.055395</td>\n",
              "      <td>2.150375</td>\n",
              "      <td>2.262157</td>\n",
              "      <td>2.398441</td>\n",
              "      <td>2.573804</td>\n",
              "      <td>2.821438</td>\n",
              "      <td>3.249836</td>\n",
              "    </tr>\n",
              "    <tr>\n",
              "      <th>10</th>\n",
              "      <td>1.812461</td>\n",
              "      <td>1.876774</td>\n",
              "      <td>1.948099</td>\n",
              "      <td>2.028327</td>\n",
              "      <td>2.120234</td>\n",
              "      <td>2.228139</td>\n",
              "      <td>2.359315</td>\n",
              "      <td>2.527484</td>\n",
              "      <td>2.763769</td>\n",
              "      <td>3.169273</td>\n",
              "    </tr>\n",
              "    <tr>\n",
              "      <th>11</th>\n",
              "      <td>1.795885</td>\n",
              "      <td>1.858772</td>\n",
              "      <td>1.928427</td>\n",
              "      <td>2.006663</td>\n",
              "      <td>2.096139</td>\n",
              "      <td>2.200985</td>\n",
              "      <td>2.32814</td>\n",
              "      <td>2.490664</td>\n",
              "      <td>2.718079</td>\n",
              "      <td>3.105807</td>\n",
              "    </tr>\n",
              "    <tr>\n",
              "      <th>12</th>\n",
              "      <td>1.782288</td>\n",
              "      <td>1.844015</td>\n",
              "      <td>1.912313</td>\n",
              "      <td>1.988934</td>\n",
              "      <td>2.076441</td>\n",
              "      <td>2.178813</td>\n",
              "      <td>2.302722</td>\n",
              "      <td>2.4607</td>\n",
              "      <td>2.680998</td>\n",
              "      <td>3.05454</td>\n",
              "    </tr>\n",
              "    <tr>\n",
              "      <th>13</th>\n",
              "      <td>1.770933</td>\n",
              "      <td>1.8317</td>\n",
              "      <td>1.898874</td>\n",
              "      <td>1.974158</td>\n",
              "      <td>2.060038</td>\n",
              "      <td>2.160369</td>\n",
              "      <td>2.281604</td>\n",
              "      <td>2.435845</td>\n",
              "      <td>2.650309</td>\n",
              "      <td>3.012276</td>\n",
              "    </tr>\n",
              "    <tr>\n",
              "      <th>14</th>\n",
              "      <td>1.76131</td>\n",
              "      <td>1.821267</td>\n",
              "      <td>1.887496</td>\n",
              "      <td>1.961656</td>\n",
              "      <td>2.046169</td>\n",
              "      <td>2.144787</td>\n",
              "      <td>2.263781</td>\n",
              "      <td>2.414898</td>\n",
              "      <td>2.624494</td>\n",
              "      <td>2.976843</td>\n",
              "    </tr>\n",
              "    <tr>\n",
              "      <th>15</th>\n",
              "      <td>1.75305</td>\n",
              "      <td>1.812316</td>\n",
              "      <td>1.877739</td>\n",
              "      <td>1.95094</td>\n",
              "      <td>2.034289</td>\n",
              "      <td>2.13145</td>\n",
              "      <td>2.24854</td>\n",
              "      <td>2.397005</td>\n",
              "      <td>2.60248</td>\n",
              "      <td>2.946713</td>\n",
              "    </tr>\n",
              "    <tr>\n",
              "      <th>16</th>\n",
              "      <td>1.745884</td>\n",
              "      <td>1.804553</td>\n",
              "      <td>1.869279</td>\n",
              "      <td>1.941654</td>\n",
              "      <td>2.024</td>\n",
              "      <td>2.119905</td>\n",
              "      <td>2.235358</td>\n",
              "      <td>2.381545</td>\n",
              "      <td>2.583487</td>\n",
              "      <td>2.920782</td>\n",
              "    </tr>\n",
              "    <tr>\n",
              "      <th>17</th>\n",
              "      <td>1.739607</td>\n",
              "      <td>1.797755</td>\n",
              "      <td>1.861875</td>\n",
              "      <td>1.93353</td>\n",
              "      <td>2.015002</td>\n",
              "      <td>2.109816</td>\n",
              "      <td>2.223845</td>\n",
              "      <td>2.368055</td>\n",
              "      <td>2.566934</td>\n",
              "      <td>2.898231</td>\n",
              "    </tr>\n",
              "    <tr>\n",
              "      <th>18</th>\n",
              "      <td>1.734064</td>\n",
              "      <td>1.791754</td>\n",
              "      <td>1.85534</td>\n",
              "      <td>1.926362</td>\n",
              "      <td>2.007067</td>\n",
              "      <td>2.100922</td>\n",
              "      <td>2.213703</td>\n",
              "      <td>2.35618</td>\n",
              "      <td>2.55238</td>\n",
              "      <td>2.87844</td>\n",
              "    </tr>\n",
              "    <tr>\n",
              "      <th>19</th>\n",
              "      <td>1.729133</td>\n",
              "      <td>1.786417</td>\n",
              "      <td>1.84953</td>\n",
              "      <td>1.919992</td>\n",
              "      <td>2.000017</td>\n",
              "      <td>2.093024</td>\n",
              "      <td>2.204701</td>\n",
              "      <td>2.345648</td>\n",
              "      <td>2.539483</td>\n",
              "      <td>2.860935</td>\n",
              "    </tr>\n",
              "    <tr>\n",
              "      <th>20</th>\n",
              "      <td>1.724718</td>\n",
              "      <td>1.78164</td>\n",
              "      <td>1.844331</td>\n",
              "      <td>1.914292</td>\n",
              "      <td>1.993713</td>\n",
              "      <td>2.085963</td>\n",
              "      <td>2.196658</td>\n",
              "      <td>2.336242</td>\n",
              "      <td>2.527977</td>\n",
              "      <td>2.84534</td>\n",
              "    </tr>\n",
              "    <tr>\n",
              "      <th>21</th>\n",
              "      <td>1.720743</td>\n",
              "      <td>1.777339</td>\n",
              "      <td>1.839651</td>\n",
              "      <td>1.909164</td>\n",
              "      <td>1.988041</td>\n",
              "      <td>2.079614</td>\n",
              "      <td>2.189427</td>\n",
              "      <td>2.327792</td>\n",
              "      <td>2.517648</td>\n",
              "      <td>2.83136</td>\n",
              "    </tr>\n",
              "    <tr>\n",
              "      <th>22</th>\n",
              "      <td>1.717144</td>\n",
              "      <td>1.773447</td>\n",
              "      <td>1.835417</td>\n",
              "      <td>1.904524</td>\n",
              "      <td>1.982911</td>\n",
              "      <td>2.073873</td>\n",
              "      <td>2.182893</td>\n",
              "      <td>2.32016</td>\n",
              "      <td>2.508325</td>\n",
              "      <td>2.818756</td>\n",
              "    </tr>\n",
              "    <tr>\n",
              "      <th>23</th>\n",
              "      <td>1.713872</td>\n",
              "      <td>1.769907</td>\n",
              "      <td>1.831567</td>\n",
              "      <td>1.900307</td>\n",
              "      <td>1.978249</td>\n",
              "      <td>2.068658</td>\n",
              "      <td>2.176958</td>\n",
              "      <td>2.313231</td>\n",
              "      <td>2.499867</td>\n",
              "      <td>2.807336</td>\n",
              "    </tr>\n",
              "    <tr>\n",
              "      <th>24</th>\n",
              "      <td>1.710882</td>\n",
              "      <td>1.766675</td>\n",
              "      <td>1.828051</td>\n",
              "      <td>1.896457</td>\n",
              "      <td>1.973994</td>\n",
              "      <td>2.063899</td>\n",
              "      <td>2.171545</td>\n",
              "      <td>2.306913</td>\n",
              "      <td>2.492159</td>\n",
              "      <td>2.79694</td>\n",
              "    </tr>\n",
              "    <tr>\n",
              "      <th>25</th>\n",
              "      <td>1.708141</td>\n",
              "      <td>1.763711</td>\n",
              "      <td>1.824828</td>\n",
              "      <td>1.892928</td>\n",
              "      <td>1.970095</td>\n",
              "      <td>2.059539</td>\n",
              "      <td>2.166587</td>\n",
              "      <td>2.30113</td>\n",
              "      <td>2.485107</td>\n",
              "      <td>2.787436</td>\n",
              "    </tr>\n",
              "    <tr>\n",
              "      <th>26</th>\n",
              "      <td>1.705618</td>\n",
              "      <td>1.760983</td>\n",
              "      <td>1.821863</td>\n",
              "      <td>1.889682</td>\n",
              "      <td>1.966509</td>\n",
              "      <td>2.055529</td>\n",
              "      <td>2.162029</td>\n",
              "      <td>2.295815</td>\n",
              "      <td>2.47863</td>\n",
              "      <td>2.778715</td>\n",
              "    </tr>\n",
              "    <tr>\n",
              "      <th>27</th>\n",
              "      <td>1.703288</td>\n",
              "      <td>1.758466</td>\n",
              "      <td>1.819126</td>\n",
              "      <td>1.886686</td>\n",
              "      <td>1.9632</td>\n",
              "      <td>2.051831</td>\n",
              "      <td>2.157825</td>\n",
              "      <td>2.290914</td>\n",
              "      <td>2.47266</td>\n",
              "      <td>2.770683</td>\n",
              "    </tr>\n",
              "    <tr>\n",
              "      <th>28</th>\n",
              "      <td>1.701131</td>\n",
              "      <td>1.756134</td>\n",
              "      <td>1.816592</td>\n",
              "      <td>1.883912</td>\n",
              "      <td>1.960136</td>\n",
              "      <td>2.048407</td>\n",
              "      <td>2.153935</td>\n",
              "      <td>2.28638</td>\n",
              "      <td>2.46714</td>\n",
              "      <td>2.763262</td>\n",
              "    </tr>\n",
              "    <tr>\n",
              "      <th>29</th>\n",
              "      <td>1.699127</td>\n",
              "      <td>1.753968</td>\n",
              "      <td>1.814238</td>\n",
              "      <td>1.881336</td>\n",
              "      <td>1.957293</td>\n",
              "      <td>2.04523</td>\n",
              "      <td>2.150325</td>\n",
              "      <td>2.282175</td>\n",
              "      <td>2.462021</td>\n",
              "      <td>2.756386</td>\n",
              "    </tr>\n",
              "    <tr>\n",
              "      <th>30</th>\n",
              "      <td>1.697261</td>\n",
              "      <td>1.751952</td>\n",
              "      <td>1.812047</td>\n",
              "      <td>1.878938</td>\n",
              "      <td>1.954645</td>\n",
              "      <td>2.042272</td>\n",
              "      <td>2.146966</td>\n",
              "      <td>2.278262</td>\n",
              "      <td>2.457262</td>\n",
              "      <td>2.749996</td>\n",
              "    </tr>\n",
              "  </tbody>\n",
              "</table>\n",
              "</div>\n",
              "      <button class=\"colab-df-convert\" onclick=\"convertToInteractive('df-555975fc-1ea7-4494-b6a0-7af10d39336e')\"\n",
              "              title=\"Convert this dataframe to an interactive table.\"\n",
              "              style=\"display:none;\">\n",
              "        \n",
              "  <svg xmlns=\"http://www.w3.org/2000/svg\" height=\"24px\"viewBox=\"0 0 24 24\"\n",
              "       width=\"24px\">\n",
              "    <path d=\"M0 0h24v24H0V0z\" fill=\"none\"/>\n",
              "    <path d=\"M18.56 5.44l.94 2.06.94-2.06 2.06-.94-2.06-.94-.94-2.06-.94 2.06-2.06.94zm-11 1L8.5 8.5l.94-2.06 2.06-.94-2.06-.94L8.5 2.5l-.94 2.06-2.06.94zm10 10l.94 2.06.94-2.06 2.06-.94-2.06-.94-.94-2.06-.94 2.06-2.06.94z\"/><path d=\"M17.41 7.96l-1.37-1.37c-.4-.4-.92-.59-1.43-.59-.52 0-1.04.2-1.43.59L10.3 9.45l-7.72 7.72c-.78.78-.78 2.05 0 2.83L4 21.41c.39.39.9.59 1.41.59.51 0 1.02-.2 1.41-.59l7.78-7.78 2.81-2.81c.8-.78.8-2.07 0-2.86zM5.41 20L4 18.59l7.72-7.72 1.47 1.35L5.41 20z\"/>\n",
              "  </svg>\n",
              "      </button>\n",
              "      \n",
              "  <style>\n",
              "    .colab-df-container {\n",
              "      display:flex;\n",
              "      flex-wrap:wrap;\n",
              "      gap: 12px;\n",
              "    }\n",
              "\n",
              "    .colab-df-convert {\n",
              "      background-color: #E8F0FE;\n",
              "      border: none;\n",
              "      border-radius: 50%;\n",
              "      cursor: pointer;\n",
              "      display: none;\n",
              "      fill: #1967D2;\n",
              "      height: 32px;\n",
              "      padding: 0 0 0 0;\n",
              "      width: 32px;\n",
              "    }\n",
              "\n",
              "    .colab-df-convert:hover {\n",
              "      background-color: #E2EBFA;\n",
              "      box-shadow: 0px 1px 2px rgba(60, 64, 67, 0.3), 0px 1px 3px 1px rgba(60, 64, 67, 0.15);\n",
              "      fill: #174EA6;\n",
              "    }\n",
              "\n",
              "    [theme=dark] .colab-df-convert {\n",
              "      background-color: #3B4455;\n",
              "      fill: #D2E3FC;\n",
              "    }\n",
              "\n",
              "    [theme=dark] .colab-df-convert:hover {\n",
              "      background-color: #434B5C;\n",
              "      box-shadow: 0px 1px 3px 1px rgba(0, 0, 0, 0.15);\n",
              "      filter: drop-shadow(0px 1px 2px rgba(0, 0, 0, 0.3));\n",
              "      fill: #FFFFFF;\n",
              "    }\n",
              "  </style>\n",
              "\n",
              "      <script>\n",
              "        const buttonEl =\n",
              "          document.querySelector('#df-555975fc-1ea7-4494-b6a0-7af10d39336e button.colab-df-convert');\n",
              "        buttonEl.style.display =\n",
              "          google.colab.kernel.accessAllowed ? 'block' : 'none';\n",
              "\n",
              "        async function convertToInteractive(key) {\n",
              "          const element = document.querySelector('#df-555975fc-1ea7-4494-b6a0-7af10d39336e');\n",
              "          const dataTable =\n",
              "            await google.colab.kernel.invokeFunction('convertToInteractive',\n",
              "                                                     [key], {});\n",
              "          if (!dataTable) return;\n",
              "\n",
              "          const docLinkHtml = 'Like what you see? Visit the ' +\n",
              "            '<a target=\"_blank\" href=https://colab.research.google.com/notebooks/data_table.ipynb>data table notebook</a>'\n",
              "            + ' to learn more about interactive tables.';\n",
              "          element.innerHTML = '';\n",
              "          dataTable['output_type'] = 'display_data';\n",
              "          await google.colab.output.renderOutput(dataTable, element);\n",
              "          const docLink = document.createElement('div');\n",
              "          docLink.innerHTML = docLinkHtml;\n",
              "          element.appendChild(docLink);\n",
              "        }\n",
              "      </script>\n",
              "    </div>\n",
              "  </div>\n",
              "  "
            ]
          },
          "metadata": {},
          "execution_count": 323
        }
      ],
      "source": [
        "import pandas as pd\n",
        "from scipy.stats import t as t_student\n",
        "\n",
        "tabela_t_student = pd.DataFrame(\n",
        "    [],\n",
        "    index = [i for i in range(1,31)],\n",
        "    columns = [i / 100 for i in range(10, 0, -1)]\n",
        ")\n",
        "\n",
        "for index in tabela_t_student.index:\n",
        "    for colum in tabela_t_student.columns:\n",
        "        tabela_t_student.loc[index, colum] = t_student.ppf(1 -float(colum) / 2, index)\n",
        "\n",
        "index = [('Graus de Liberdade (n - 1)', i) for i in range(1, 31)]\n",
        "tabela_t_student.index = pd.MultiIndex.from_tuples(index)\n",
        "\n",
        "columns = [(\"{0:0.3f}\".format(i/ 100), \"{0:0.3f}\".format(i/ 100 / 2)) for i in range(10, 0, -1)]\n",
        "tabela_t_student.columns = pd.MultiIndex.from_tuples(columns)\n",
        "\n",
        "tabela_t_student.rename_axis(['Bicaudal', 'Unicaudal'], axis=1, inplace = True)\n",
        "\n",
        "tabela_t_student\n"
      ]
    },
    {
      "cell_type": "markdown",
      "metadata": {
        "id": "MbVu6FdNpsk0"
      },
      "source": [
        "<img src='https://caelum-online-public.s3.amazonaws.com/1229-estatistica-parte3/01/img004.png' width='250px'>\n",
        "\n",
        "As células da tabela acima são valores de $t$ para uma área ou probabilidade na cauda superior da distribuição $t$."
      ]
    },
    {
      "cell_type": "markdown",
      "metadata": {
        "id": "UXM3qdYUpsk0"
      },
      "source": [
        "---"
      ]
    },
    {
      "cell_type": "markdown",
      "metadata": {
        "id": "dDbUKs7-psk0"
      },
      "source": [
        "Os **testes unicaudais** verificam as variáveis em relação a um piso ou a um teto e avaliam os valores máximos ou mínimos esperados para os parâmetros em estudo e a chance de as estatísticas amostrais serem inferiores ou superiores a dado limite."
      ]
    },
    {
      "cell_type": "markdown",
      "metadata": {
        "id": "AvnFJnUrpsk1"
      },
      "source": [
        "<img src='https://caelum-online-public.s3.amazonaws.com/1229-estatistica-parte3/01/img008.png' width='700px'>"
      ]
    },
    {
      "cell_type": "markdown",
      "metadata": {
        "id": "IgDg23Xppsk1"
      },
      "source": [
        "### Dados do problema"
      ]
    },
    {
      "cell_type": "code",
      "execution_count": 324,
      "metadata": {
        "id": "IKvYICfEpsk2"
      },
      "outputs": [],
      "source": [
        "amostra = [37.27, 36.42, 34.84, 34.60, 37.49, \n",
        "           36.53, 35.49, 36.90, 34.52, 37.30, \n",
        "           34.99, 36.55, 36.29, 36.06, 37.42, \n",
        "           34.47, 36.70, 35.86, 36.80, 36.92, \n",
        "           37.04, 36.39, 37.32, 36.64, 35.45]\n"
      ]
    },
    {
      "cell_type": "code",
      "execution_count": 325,
      "metadata": {
        "id": "CBuciT30psk3",
        "scrolled": false,
        "colab": {
          "base_uri": "https://localhost:8080/",
          "height": 833
        },
        "outputId": "8da715e2-5a68-4fe1-d5f5-3acc065aa8fd"
      },
      "outputs": [
        {
          "output_type": "execute_result",
          "data": {
            "text/plain": [
              "    Amostra\n",
              "0     37.27\n",
              "1     36.42\n",
              "2     34.84\n",
              "3     34.60\n",
              "4     37.49\n",
              "5     36.53\n",
              "6     35.49\n",
              "7     36.90\n",
              "8     34.52\n",
              "9     37.30\n",
              "10    34.99\n",
              "11    36.55\n",
              "12    36.29\n",
              "13    36.06\n",
              "14    37.42\n",
              "15    34.47\n",
              "16    36.70\n",
              "17    35.86\n",
              "18    36.80\n",
              "19    36.92\n",
              "20    37.04\n",
              "21    36.39\n",
              "22    37.32\n",
              "23    36.64\n",
              "24    35.45"
            ],
            "text/html": [
              "\n",
              "  <div id=\"df-af665769-ace0-4297-826b-72802aafba9d\">\n",
              "    <div class=\"colab-df-container\">\n",
              "      <div>\n",
              "<style scoped>\n",
              "    .dataframe tbody tr th:only-of-type {\n",
              "        vertical-align: middle;\n",
              "    }\n",
              "\n",
              "    .dataframe tbody tr th {\n",
              "        vertical-align: top;\n",
              "    }\n",
              "\n",
              "    .dataframe thead th {\n",
              "        text-align: right;\n",
              "    }\n",
              "</style>\n",
              "<table border=\"1\" class=\"dataframe\">\n",
              "  <thead>\n",
              "    <tr style=\"text-align: right;\">\n",
              "      <th></th>\n",
              "      <th>Amostra</th>\n",
              "    </tr>\n",
              "  </thead>\n",
              "  <tbody>\n",
              "    <tr>\n",
              "      <th>0</th>\n",
              "      <td>37.27</td>\n",
              "    </tr>\n",
              "    <tr>\n",
              "      <th>1</th>\n",
              "      <td>36.42</td>\n",
              "    </tr>\n",
              "    <tr>\n",
              "      <th>2</th>\n",
              "      <td>34.84</td>\n",
              "    </tr>\n",
              "    <tr>\n",
              "      <th>3</th>\n",
              "      <td>34.60</td>\n",
              "    </tr>\n",
              "    <tr>\n",
              "      <th>4</th>\n",
              "      <td>37.49</td>\n",
              "    </tr>\n",
              "    <tr>\n",
              "      <th>5</th>\n",
              "      <td>36.53</td>\n",
              "    </tr>\n",
              "    <tr>\n",
              "      <th>6</th>\n",
              "      <td>35.49</td>\n",
              "    </tr>\n",
              "    <tr>\n",
              "      <th>7</th>\n",
              "      <td>36.90</td>\n",
              "    </tr>\n",
              "    <tr>\n",
              "      <th>8</th>\n",
              "      <td>34.52</td>\n",
              "    </tr>\n",
              "    <tr>\n",
              "      <th>9</th>\n",
              "      <td>37.30</td>\n",
              "    </tr>\n",
              "    <tr>\n",
              "      <th>10</th>\n",
              "      <td>34.99</td>\n",
              "    </tr>\n",
              "    <tr>\n",
              "      <th>11</th>\n",
              "      <td>36.55</td>\n",
              "    </tr>\n",
              "    <tr>\n",
              "      <th>12</th>\n",
              "      <td>36.29</td>\n",
              "    </tr>\n",
              "    <tr>\n",
              "      <th>13</th>\n",
              "      <td>36.06</td>\n",
              "    </tr>\n",
              "    <tr>\n",
              "      <th>14</th>\n",
              "      <td>37.42</td>\n",
              "    </tr>\n",
              "    <tr>\n",
              "      <th>15</th>\n",
              "      <td>34.47</td>\n",
              "    </tr>\n",
              "    <tr>\n",
              "      <th>16</th>\n",
              "      <td>36.70</td>\n",
              "    </tr>\n",
              "    <tr>\n",
              "      <th>17</th>\n",
              "      <td>35.86</td>\n",
              "    </tr>\n",
              "    <tr>\n",
              "      <th>18</th>\n",
              "      <td>36.80</td>\n",
              "    </tr>\n",
              "    <tr>\n",
              "      <th>19</th>\n",
              "      <td>36.92</td>\n",
              "    </tr>\n",
              "    <tr>\n",
              "      <th>20</th>\n",
              "      <td>37.04</td>\n",
              "    </tr>\n",
              "    <tr>\n",
              "      <th>21</th>\n",
              "      <td>36.39</td>\n",
              "    </tr>\n",
              "    <tr>\n",
              "      <th>22</th>\n",
              "      <td>37.32</td>\n",
              "    </tr>\n",
              "    <tr>\n",
              "      <th>23</th>\n",
              "      <td>36.64</td>\n",
              "    </tr>\n",
              "    <tr>\n",
              "      <th>24</th>\n",
              "      <td>35.45</td>\n",
              "    </tr>\n",
              "  </tbody>\n",
              "</table>\n",
              "</div>\n",
              "      <button class=\"colab-df-convert\" onclick=\"convertToInteractive('df-af665769-ace0-4297-826b-72802aafba9d')\"\n",
              "              title=\"Convert this dataframe to an interactive table.\"\n",
              "              style=\"display:none;\">\n",
              "        \n",
              "  <svg xmlns=\"http://www.w3.org/2000/svg\" height=\"24px\"viewBox=\"0 0 24 24\"\n",
              "       width=\"24px\">\n",
              "    <path d=\"M0 0h24v24H0V0z\" fill=\"none\"/>\n",
              "    <path d=\"M18.56 5.44l.94 2.06.94-2.06 2.06-.94-2.06-.94-.94-2.06-.94 2.06-2.06.94zm-11 1L8.5 8.5l.94-2.06 2.06-.94-2.06-.94L8.5 2.5l-.94 2.06-2.06.94zm10 10l.94 2.06.94-2.06 2.06-.94-2.06-.94-.94-2.06-.94 2.06-2.06.94z\"/><path d=\"M17.41 7.96l-1.37-1.37c-.4-.4-.92-.59-1.43-.59-.52 0-1.04.2-1.43.59L10.3 9.45l-7.72 7.72c-.78.78-.78 2.05 0 2.83L4 21.41c.39.39.9.59 1.41.59.51 0 1.02-.2 1.41-.59l7.78-7.78 2.81-2.81c.8-.78.8-2.07 0-2.86zM5.41 20L4 18.59l7.72-7.72 1.47 1.35L5.41 20z\"/>\n",
              "  </svg>\n",
              "      </button>\n",
              "      \n",
              "  <style>\n",
              "    .colab-df-container {\n",
              "      display:flex;\n",
              "      flex-wrap:wrap;\n",
              "      gap: 12px;\n",
              "    }\n",
              "\n",
              "    .colab-df-convert {\n",
              "      background-color: #E8F0FE;\n",
              "      border: none;\n",
              "      border-radius: 50%;\n",
              "      cursor: pointer;\n",
              "      display: none;\n",
              "      fill: #1967D2;\n",
              "      height: 32px;\n",
              "      padding: 0 0 0 0;\n",
              "      width: 32px;\n",
              "    }\n",
              "\n",
              "    .colab-df-convert:hover {\n",
              "      background-color: #E2EBFA;\n",
              "      box-shadow: 0px 1px 2px rgba(60, 64, 67, 0.3), 0px 1px 3px 1px rgba(60, 64, 67, 0.15);\n",
              "      fill: #174EA6;\n",
              "    }\n",
              "\n",
              "    [theme=dark] .colab-df-convert {\n",
              "      background-color: #3B4455;\n",
              "      fill: #D2E3FC;\n",
              "    }\n",
              "\n",
              "    [theme=dark] .colab-df-convert:hover {\n",
              "      background-color: #434B5C;\n",
              "      box-shadow: 0px 1px 3px 1px rgba(0, 0, 0, 0.15);\n",
              "      filter: drop-shadow(0px 1px 2px rgba(0, 0, 0, 0.3));\n",
              "      fill: #FFFFFF;\n",
              "    }\n",
              "  </style>\n",
              "\n",
              "      <script>\n",
              "        const buttonEl =\n",
              "          document.querySelector('#df-af665769-ace0-4297-826b-72802aafba9d button.colab-df-convert');\n",
              "        buttonEl.style.display =\n",
              "          google.colab.kernel.accessAllowed ? 'block' : 'none';\n",
              "\n",
              "        async function convertToInteractive(key) {\n",
              "          const element = document.querySelector('#df-af665769-ace0-4297-826b-72802aafba9d');\n",
              "          const dataTable =\n",
              "            await google.colab.kernel.invokeFunction('convertToInteractive',\n",
              "                                                     [key], {});\n",
              "          if (!dataTable) return;\n",
              "\n",
              "          const docLinkHtml = 'Like what you see? Visit the ' +\n",
              "            '<a target=\"_blank\" href=https://colab.research.google.com/notebooks/data_table.ipynb>data table notebook</a>'\n",
              "            + ' to learn more about interactive tables.';\n",
              "          element.innerHTML = '';\n",
              "          dataTable['output_type'] = 'display_data';\n",
              "          await google.colab.output.renderOutput(dataTable, element);\n",
              "          const docLink = document.createElement('div');\n",
              "          docLink.innerHTML = docLinkHtml;\n",
              "          element.appendChild(docLink);\n",
              "        }\n",
              "      </script>\n",
              "    </div>\n",
              "  </div>\n",
              "  "
            ]
          },
          "metadata": {},
          "execution_count": 325
        }
      ],
      "source": [
        "amostra = pd.DataFrame(amostra, columns=['Amostra'])\n",
        "amostra"
      ]
    },
    {
      "cell_type": "code",
      "execution_count": 326,
      "metadata": {
        "id": "79TBzFsdpsk4",
        "colab": {
          "base_uri": "https://localhost:8080/"
        },
        "outputId": "7ca0b0d2-f8d9-404a-b35a-f1b8bf3121ea"
      },
      "outputs": [
        {
          "output_type": "execute_result",
          "data": {
            "text/plain": [
              "36.2504"
            ]
          },
          "metadata": {},
          "execution_count": 326
        }
      ],
      "source": [
        "media_amostra = amostra.mean()[0]\n",
        "media_amostra"
      ]
    },
    {
      "cell_type": "code",
      "execution_count": 327,
      "metadata": {
        "id": "S82xbyghpsk6",
        "scrolled": true,
        "colab": {
          "base_uri": "https://localhost:8080/"
        },
        "outputId": "8f03abf4-4a94-4740-ae75-a9ecc2e1827e"
      },
      "outputs": [
        {
          "output_type": "execute_result",
          "data": {
            "text/plain": [
              "0.9667535018469455"
            ]
          },
          "metadata": {},
          "execution_count": 327
        }
      ],
      "source": [
        "desvio_padrao_amostra = amostra.std()[0]\n",
        "desvio_padrao_amostra"
      ]
    },
    {
      "cell_type": "code",
      "execution_count": 328,
      "metadata": {
        "id": "mvtiwLUWpsk8"
      },
      "outputs": [],
      "source": [
        "media = 37\n",
        "significancia = 0.05 \n",
        "confianca = 1 - significancia \n",
        "n = 25\n",
        "graus_de_liberdade = n - 1"
      ]
    },
    {
      "cell_type": "markdown",
      "metadata": {
        "id": "rpLOiPU2psk9"
      },
      "source": [
        "### **Passo 1** - formulação das hipóteses $H_0$ e $H_1$"
      ]
    },
    {
      "cell_type": "markdown",
      "metadata": {
        "id": "iMBi2jUfsc4s"
      },
      "source": [
        "\n",
        "#### <font color='red'>Lembre-se, a hipótese nula sempre contém a alegação de igualdade</font>"
      ]
    },
    {
      "cell_type": "markdown",
      "metadata": {
        "id": "8roeH10fpsk-"
      },
      "source": [
        "### $H_0: \\mu \\leq 37$\n",
        "\n",
        "### $H_1: \\mu > 37$"
      ]
    },
    {
      "cell_type": "markdown",
      "metadata": {
        "id": "uqE6JXGspsk-"
      },
      "source": [
        "---"
      ]
    },
    {
      "cell_type": "markdown",
      "metadata": {
        "id": "XsOkFtncpsk_"
      },
      "source": [
        "### **Passo 2** - escolha da distribuição amostral adequada\n",
        "<img src='https://caelum-online-public.s3.amazonaws.com/1229-estatistica-parte3/01/img003.png' width=70%>"
      ]
    },
    {
      "cell_type": "markdown",
      "metadata": {
        "id": "jpXjRqO2psk_"
      },
      "source": [
        "### O tamanho da amostra é maior que 30?\n",
        "#### Resp.: Não\n",
        "\n",
        "### Podemos afirmar que a população se distribui aproximadamente como uma normal?\n",
        "#### Resp.: Sim\n",
        "\n",
        "### O desvio padrão populacional é conhecido?\n",
        "#### Resp.: Não"
      ]
    },
    {
      "cell_type": "markdown",
      "metadata": {
        "id": "J14v2aXOpslA"
      },
      "source": [
        "---"
      ]
    },
    {
      "cell_type": "markdown",
      "metadata": {
        "id": "DQvwhQWnpslA"
      },
      "source": [
        "### **Passo 3** - fixação da significância do teste ($\\alpha$)"
      ]
    },
    {
      "cell_type": "markdown",
      "metadata": {
        "id": "Qaxh6lsapslB"
      },
      "source": [
        "https://docs.scipy.org/doc/scipy/reference/generated/scipy.stats.t.html"
      ]
    },
    {
      "cell_type": "code",
      "execution_count": 329,
      "metadata": {
        "id": "-WhDZiRopslC"
      },
      "outputs": [],
      "source": [
        "from scipy.stats import t as t_student"
      ]
    },
    {
      "cell_type": "code",
      "execution_count": 330,
      "metadata": {
        "id": "12t8QJMzpslD",
        "scrolled": true,
        "colab": {
          "base_uri": "https://localhost:8080/",
          "height": 174
        },
        "outputId": "861ad2c4-bd8b-448b-ef51-60f74ff6bfa2"
      },
      "outputs": [
        {
          "output_type": "execute_result",
          "data": {
            "text/plain": [
              "Bicaudal                          0.100     0.090     0.080     0.070  \\\n",
              "Unicaudal                         0.050     0.045     0.040     0.035   \n",
              "Graus de Liberdade (n - 1) 23  1.713872  1.769907  1.831567  1.900307   \n",
              "                           24  1.710882  1.766675  1.828051  1.896457   \n",
              "                           25  1.708141  1.763711  1.824828  1.892928   \n",
              "\n",
              "Bicaudal                          0.060     0.050     0.040     0.030  \\\n",
              "Unicaudal                         0.030     0.025     0.020     0.015   \n",
              "Graus de Liberdade (n - 1) 23  1.978249  2.068658  2.176958  2.313231   \n",
              "                           24  1.973994  2.063899  2.171545  2.306913   \n",
              "                           25  1.970095  2.059539  2.166587   2.30113   \n",
              "\n",
              "Bicaudal                          0.020     0.010  \n",
              "Unicaudal                         0.010     0.005  \n",
              "Graus de Liberdade (n - 1) 23  2.499867  2.807336  \n",
              "                           24  2.492159   2.79694  \n",
              "                           25  2.485107  2.787436  "
            ],
            "text/html": [
              "\n",
              "  <div id=\"df-3274fbbe-e889-4b06-835a-40a7fe647779\">\n",
              "    <div class=\"colab-df-container\">\n",
              "      <div>\n",
              "<style scoped>\n",
              "    .dataframe tbody tr th:only-of-type {\n",
              "        vertical-align: middle;\n",
              "    }\n",
              "\n",
              "    .dataframe tbody tr th {\n",
              "        vertical-align: top;\n",
              "    }\n",
              "\n",
              "    .dataframe thead tr th {\n",
              "        text-align: left;\n",
              "    }\n",
              "</style>\n",
              "<table border=\"1\" class=\"dataframe\">\n",
              "  <thead>\n",
              "    <tr>\n",
              "      <th></th>\n",
              "      <th>Bicaudal</th>\n",
              "      <th>0.100</th>\n",
              "      <th>0.090</th>\n",
              "      <th>0.080</th>\n",
              "      <th>0.070</th>\n",
              "      <th>0.060</th>\n",
              "      <th>0.050</th>\n",
              "      <th>0.040</th>\n",
              "      <th>0.030</th>\n",
              "      <th>0.020</th>\n",
              "      <th>0.010</th>\n",
              "    </tr>\n",
              "    <tr>\n",
              "      <th></th>\n",
              "      <th>Unicaudal</th>\n",
              "      <th>0.050</th>\n",
              "      <th>0.045</th>\n",
              "      <th>0.040</th>\n",
              "      <th>0.035</th>\n",
              "      <th>0.030</th>\n",
              "      <th>0.025</th>\n",
              "      <th>0.020</th>\n",
              "      <th>0.015</th>\n",
              "      <th>0.010</th>\n",
              "      <th>0.005</th>\n",
              "    </tr>\n",
              "  </thead>\n",
              "  <tbody>\n",
              "    <tr>\n",
              "      <th rowspan=\"3\" valign=\"top\">Graus de Liberdade (n - 1)</th>\n",
              "      <th>23</th>\n",
              "      <td>1.713872</td>\n",
              "      <td>1.769907</td>\n",
              "      <td>1.831567</td>\n",
              "      <td>1.900307</td>\n",
              "      <td>1.978249</td>\n",
              "      <td>2.068658</td>\n",
              "      <td>2.176958</td>\n",
              "      <td>2.313231</td>\n",
              "      <td>2.499867</td>\n",
              "      <td>2.807336</td>\n",
              "    </tr>\n",
              "    <tr>\n",
              "      <th>24</th>\n",
              "      <td>1.710882</td>\n",
              "      <td>1.766675</td>\n",
              "      <td>1.828051</td>\n",
              "      <td>1.896457</td>\n",
              "      <td>1.973994</td>\n",
              "      <td>2.063899</td>\n",
              "      <td>2.171545</td>\n",
              "      <td>2.306913</td>\n",
              "      <td>2.492159</td>\n",
              "      <td>2.79694</td>\n",
              "    </tr>\n",
              "    <tr>\n",
              "      <th>25</th>\n",
              "      <td>1.708141</td>\n",
              "      <td>1.763711</td>\n",
              "      <td>1.824828</td>\n",
              "      <td>1.892928</td>\n",
              "      <td>1.970095</td>\n",
              "      <td>2.059539</td>\n",
              "      <td>2.166587</td>\n",
              "      <td>2.30113</td>\n",
              "      <td>2.485107</td>\n",
              "      <td>2.787436</td>\n",
              "    </tr>\n",
              "  </tbody>\n",
              "</table>\n",
              "</div>\n",
              "      <button class=\"colab-df-convert\" onclick=\"convertToInteractive('df-3274fbbe-e889-4b06-835a-40a7fe647779')\"\n",
              "              title=\"Convert this dataframe to an interactive table.\"\n",
              "              style=\"display:none;\">\n",
              "        \n",
              "  <svg xmlns=\"http://www.w3.org/2000/svg\" height=\"24px\"viewBox=\"0 0 24 24\"\n",
              "       width=\"24px\">\n",
              "    <path d=\"M0 0h24v24H0V0z\" fill=\"none\"/>\n",
              "    <path d=\"M18.56 5.44l.94 2.06.94-2.06 2.06-.94-2.06-.94-.94-2.06-.94 2.06-2.06.94zm-11 1L8.5 8.5l.94-2.06 2.06-.94-2.06-.94L8.5 2.5l-.94 2.06-2.06.94zm10 10l.94 2.06.94-2.06 2.06-.94-2.06-.94-.94-2.06-.94 2.06-2.06.94z\"/><path d=\"M17.41 7.96l-1.37-1.37c-.4-.4-.92-.59-1.43-.59-.52 0-1.04.2-1.43.59L10.3 9.45l-7.72 7.72c-.78.78-.78 2.05 0 2.83L4 21.41c.39.39.9.59 1.41.59.51 0 1.02-.2 1.41-.59l7.78-7.78 2.81-2.81c.8-.78.8-2.07 0-2.86zM5.41 20L4 18.59l7.72-7.72 1.47 1.35L5.41 20z\"/>\n",
              "  </svg>\n",
              "      </button>\n",
              "      \n",
              "  <style>\n",
              "    .colab-df-container {\n",
              "      display:flex;\n",
              "      flex-wrap:wrap;\n",
              "      gap: 12px;\n",
              "    }\n",
              "\n",
              "    .colab-df-convert {\n",
              "      background-color: #E8F0FE;\n",
              "      border: none;\n",
              "      border-radius: 50%;\n",
              "      cursor: pointer;\n",
              "      display: none;\n",
              "      fill: #1967D2;\n",
              "      height: 32px;\n",
              "      padding: 0 0 0 0;\n",
              "      width: 32px;\n",
              "    }\n",
              "\n",
              "    .colab-df-convert:hover {\n",
              "      background-color: #E2EBFA;\n",
              "      box-shadow: 0px 1px 2px rgba(60, 64, 67, 0.3), 0px 1px 3px 1px rgba(60, 64, 67, 0.15);\n",
              "      fill: #174EA6;\n",
              "    }\n",
              "\n",
              "    [theme=dark] .colab-df-convert {\n",
              "      background-color: #3B4455;\n",
              "      fill: #D2E3FC;\n",
              "    }\n",
              "\n",
              "    [theme=dark] .colab-df-convert:hover {\n",
              "      background-color: #434B5C;\n",
              "      box-shadow: 0px 1px 3px 1px rgba(0, 0, 0, 0.15);\n",
              "      filter: drop-shadow(0px 1px 2px rgba(0, 0, 0, 0.3));\n",
              "      fill: #FFFFFF;\n",
              "    }\n",
              "  </style>\n",
              "\n",
              "      <script>\n",
              "        const buttonEl =\n",
              "          document.querySelector('#df-3274fbbe-e889-4b06-835a-40a7fe647779 button.colab-df-convert');\n",
              "        buttonEl.style.display =\n",
              "          google.colab.kernel.accessAllowed ? 'block' : 'none';\n",
              "\n",
              "        async function convertToInteractive(key) {\n",
              "          const element = document.querySelector('#df-3274fbbe-e889-4b06-835a-40a7fe647779');\n",
              "          const dataTable =\n",
              "            await google.colab.kernel.invokeFunction('convertToInteractive',\n",
              "                                                     [key], {});\n",
              "          if (!dataTable) return;\n",
              "\n",
              "          const docLinkHtml = 'Like what you see? Visit the ' +\n",
              "            '<a target=\"_blank\" href=https://colab.research.google.com/notebooks/data_table.ipynb>data table notebook</a>'\n",
              "            + ' to learn more about interactive tables.';\n",
              "          element.innerHTML = '';\n",
              "          dataTable['output_type'] = 'display_data';\n",
              "          await google.colab.output.renderOutput(dataTable, element);\n",
              "          const docLink = document.createElement('div');\n",
              "          docLink.innerHTML = docLinkHtml;\n",
              "          element.appendChild(docLink);\n",
              "        }\n",
              "      </script>\n",
              "    </div>\n",
              "  </div>\n",
              "  "
            ]
          },
          "metadata": {},
          "execution_count": 330
        }
      ],
      "source": [
        "tabela_t_student[22:25]"
      ]
    },
    {
      "cell_type": "markdown",
      "metadata": {
        "id": "Brk3cI1npslE"
      },
      "source": [
        "### Obtendo $t_{\\alpha}$"
      ]
    },
    {
      "cell_type": "code",
      "execution_count": 331,
      "metadata": {
        "id": "xXi0eYGYpslF",
        "colab": {
          "base_uri": "https://localhost:8080/"
        },
        "outputId": "44a7cd67-8cbd-4ee9-9d6e-ac2bd8c010eb"
      },
      "outputs": [
        {
          "output_type": "execute_result",
          "data": {
            "text/plain": [
              "1.7108820799094275"
            ]
          },
          "metadata": {},
          "execution_count": 331
        }
      ],
      "source": [
        "t_alpha = t_student.ppf(confianca, graus_de_liberdade)\n",
        "t_alpha"
      ]
    },
    {
      "cell_type": "markdown",
      "metadata": {
        "id": "xMnBzjxLpslH"
      },
      "source": [
        "![Região de Aceitação](https://caelum-online-public.s3.amazonaws.com/1229-estatistica-parte3/01/img009.png)"
      ]
    },
    {
      "cell_type": "markdown",
      "metadata": {
        "id": "Azy_uNSGpslI"
      },
      "source": [
        "---"
      ]
    },
    {
      "cell_type": "markdown",
      "metadata": {
        "id": "YN4weG-1pslI"
      },
      "source": [
        "### **Passo 4** - cálculo da estatística-teste e verificação desse valor com as áreas de aceitação e rejeição do teste\n",
        "\n",
        "# $$t = \\frac{\\bar{x} - \\mu_0}{\\frac{s}{\\sqrt{n}}}$$"
      ]
    },
    {
      "cell_type": "code",
      "execution_count": 332,
      "metadata": {
        "id": "qY0DfIffpslI",
        "colab": {
          "base_uri": "https://localhost:8080/"
        },
        "outputId": "13db653c-b351-4bcd-acb2-9abb1c973ea9"
      },
      "outputs": [
        {
          "output_type": "execute_result",
          "data": {
            "text/plain": [
              "-3.876893119952081"
            ]
          },
          "metadata": {},
          "execution_count": 332
        }
      ],
      "source": [
        "t = (media_amostra - media) / (desvio_padrao_amostra / np.sqrt(n))\n",
        "t"
      ]
    },
    {
      "cell_type": "markdown",
      "metadata": {
        "id": "SCIchVxNpslK"
      },
      "source": [
        "![Estatística-Teste](https://caelum-online-public.s3.amazonaws.com/1229-estatistica-parte3/01/img010.png)"
      ]
    },
    {
      "cell_type": "markdown",
      "metadata": {
        "id": "NiheMfTopslK"
      },
      "source": [
        "---"
      ]
    },
    {
      "cell_type": "markdown",
      "metadata": {
        "id": "YCsJySBGpslK"
      },
      "source": [
        "### **Passo 5** - Aceitação ou rejeição da hipótese nula"
      ]
    },
    {
      "cell_type": "markdown",
      "metadata": {
        "id": "ioLyTpbWpslL"
      },
      "source": [
        "<img src='https://caelum-online-public.s3.amazonaws.com/1229-estatistica-parte3/01/img013.png' width=90%>"
      ]
    },
    {
      "cell_type": "markdown",
      "metadata": {
        "id": "TQcuPzbPpslL"
      },
      "source": [
        "### <font color='red'>Critério do valor crítico</font>\n",
        "\n",
        "> ### Teste Unicaudal Superior\n",
        "> ### Rejeitar $H_0$ se $t \\geq t_{\\alpha}$"
      ]
    },
    {
      "cell_type": "code",
      "execution_count": 333,
      "metadata": {
        "id": "pkoDYMLIpslM",
        "colab": {
          "base_uri": "https://localhost:8080/"
        },
        "outputId": "625dbf7c-baaf-483d-a6a7-655773c7f4e9"
      },
      "outputs": [
        {
          "output_type": "execute_result",
          "data": {
            "text/plain": [
              "False"
            ]
          },
          "metadata": {},
          "execution_count": 333
        }
      ],
      "source": [
        "t >= t_alpha"
      ]
    },
    {
      "cell_type": "markdown",
      "metadata": {
        "id": "F-_AVTMJpslN"
      },
      "source": [
        "### <font color='green'>Conclusão: Com um nível de confiança de 95% não podemos rejeitar $H_0$, ou seja, a alegação do fabricante é verdadeira.</font>"
      ]
    },
    {
      "cell_type": "markdown",
      "source": [
        "Exercício\n",
        "\n",
        "A empresa Limpa Esgoto garante ser capaz de realizar o tratamento de esgoto e obter, no máximo, 150 g de impurezas para cada mil litros de esgoto tratado. Vinte amostras de mil litros de esgoto apresentaram, em média, 230 g de impurezas e desvio padrão amostral igual a 90 g.\n",
        "\n",
        "Assumindo alfa igual a 5% e população normalmente distribuída, seria possível discordar da empresa Limpa Esgoto? Assinale a alternativa que apresenta a estatística de teste e a decisão correta do teste."
      ],
      "metadata": {
        "id": "mO9uEM2Ol4PG"
      }
    },
    {
      "cell_type": "code",
      "source": [
        "media_exer = 150\n",
        "n_exer = 20\n",
        "media_amostra_exer = 230\n",
        "desvio_padrao_amostra_exer = 90\n",
        "significancia_exer = 0.05\n",
        "confianca_exer = 1 - significancia_exer\n",
        "graus_liberdade_exer = n_exer - 1\n",
        "t_alpha_exer = t_student.ppf(confianca_exer, graus_liberdade_exer)\n",
        "t_exer = (media_amostra_exer - media_exer) / (desvio_padrao_amostra_exer / np.sqrt(n_exer))\n",
        "print(f't_alpha = {round(t, 4)}')\n",
        "if t_exer >= t_alpha_exer:\n",
        "  print('Rejeitar H0')\n",
        "else:\n",
        "  print('Aceitar H0')"
      ],
      "metadata": {
        "colab": {
          "base_uri": "https://localhost:8080/"
        },
        "id": "zJtD1iLwl85F",
        "outputId": "194b004b-c48a-46b3-eebc-d4f859acda29"
      },
      "execution_count": 334,
      "outputs": [
        {
          "output_type": "stream",
          "name": "stdout",
          "text": [
            "t_alpha = -3.8769\n",
            "Rejeitar H0\n"
          ]
        }
      ]
    },
    {
      "cell_type": "markdown",
      "metadata": {
        "id": "7ye3tS25pslO"
      },
      "source": [
        "### <font color='red'>Critério do valor $p$</font>\n",
        "\n",
        "> ### Teste Unicaudal Superior\n",
        "> ### Rejeitar $H_0$ se o valor $p\\leq\\alpha$"
      ]
    },
    {
      "cell_type": "code",
      "execution_count": 335,
      "metadata": {
        "id": "AtPMeAz4pslQ",
        "colab": {
          "base_uri": "https://localhost:8080/"
        },
        "outputId": "0bd9277a-a2cd-4274-eaba-6c8b3af21eb8"
      },
      "outputs": [
        {
          "output_type": "execute_result",
          "data": {
            "text/plain": [
              "-3.876893119952081"
            ]
          },
          "metadata": {},
          "execution_count": 335
        }
      ],
      "source": [
        "t"
      ]
    },
    {
      "cell_type": "code",
      "execution_count": 336,
      "metadata": {
        "id": "gevdMX3apslS",
        "colab": {
          "base_uri": "https://localhost:8080/"
        },
        "outputId": "e321de43-98c4-47cd-e2bc-e397e2369a9c"
      },
      "outputs": [
        {
          "output_type": "execute_result",
          "data": {
            "text/plain": [
              "0.9996406170303819"
            ]
          },
          "metadata": {},
          "execution_count": 336
        }
      ],
      "source": [
        "p_valor = t_student.sf(t, df = graus_de_liberdade)\n",
        "p_valor"
      ]
    },
    {
      "cell_type": "code",
      "execution_count": 337,
      "metadata": {
        "id": "_hfVEPQQpslU",
        "colab": {
          "base_uri": "https://localhost:8080/"
        },
        "outputId": "84bb6997-6ad6-44e6-dc8f-431080f86e01"
      },
      "outputs": [
        {
          "output_type": "execute_result",
          "data": {
            "text/plain": [
              "False"
            ]
          },
          "metadata": {},
          "execution_count": 337
        }
      ],
      "source": [
        "p_valor <= significancia"
      ]
    },
    {
      "cell_type": "markdown",
      "metadata": {
        "id": "4JxGeADypslW"
      },
      "source": [
        "https://www.statsmodels.org/dev/generated/statsmodels.stats.weightstats.DescrStatsW.html"
      ]
    },
    {
      "cell_type": "code",
      "execution_count": 338,
      "metadata": {
        "id": "Y1gP6yjvpslW"
      },
      "outputs": [],
      "source": [
        "from statsmodels.stats.weightstats import DescrStatsW"
      ]
    },
    {
      "cell_type": "code",
      "execution_count": 339,
      "metadata": {
        "id": "7V555DeTpslX"
      },
      "outputs": [],
      "source": [
        "test = DescrStatsW(amostra)"
      ]
    },
    {
      "cell_type": "code",
      "execution_count": 340,
      "metadata": {
        "id": "y36SnhnWpslY",
        "colab": {
          "base_uri": "https://localhost:8080/"
        },
        "outputId": "bb0ce42d-27e9-4267-f967-aafaa9feb887"
      },
      "outputs": [
        {
          "output_type": "stream",
          "name": "stdout",
          "text": [
            "-3.8768931199520447\n",
            "0.9996406170303819\n",
            "24.0\n"
          ]
        }
      ],
      "source": [
        "# por se tratar de um t test unicaudal superior devemos passar\n",
        "# o alternative como 'larger' (superior) para os outros verificar na documentação\n",
        "t, p_valor, df = test.ttest_mean(value = media, alternative = 'larger')\n",
        "print(t[0])\n",
        "print(p_valor[0])\n",
        "print(df)"
      ]
    },
    {
      "cell_type": "code",
      "execution_count": 341,
      "metadata": {
        "id": "CMZcYUyiz0mr",
        "colab": {
          "base_uri": "https://localhost:8080/"
        },
        "outputId": "c6e7ecb3-5c1f-4e87-d7f0-31a3a95dd0de"
      },
      "outputs": [
        {
          "output_type": "execute_result",
          "data": {
            "text/plain": [
              "False"
            ]
          },
          "metadata": {},
          "execution_count": 341
        }
      ],
      "source": [
        "p_valor[0] <= significancia"
      ]
    },
    {
      "cell_type": "markdown",
      "metadata": {
        "id": "wlUdcJnDpsla"
      },
      "source": [
        "---"
      ]
    },
    {
      "cell_type": "markdown",
      "source": [
        "Exercício\n",
        "\n",
        "A pizzaria Muito Queijo alega que a quantidade de queijo em suas pizzas tamanho família é de, no mínimo, 350 g. Uma amostra de 35 pizzas tamanho família revelou uma média de 330 g de queijo por pizza. O desvio padrão amostral foi de 80 g.\n",
        "\n",
        "Assumindo alfa igual a 5% e população normalmente distribuída, seria possível discordar da alegação da pizzaria? Assinale a alternativa que apresenta a estatística de teste e a decisão correta do teste."
      ],
      "metadata": {
        "id": "wpTqJyJBq5PE"
      }
    },
    {
      "cell_type": "code",
      "source": [
        "media_exer = 350\n",
        "n_exer = 35\n",
        "graus_liberdade_exer = n_exer - 1\n",
        "media_amostra_exer = 330\n",
        "desvio_padrao_amostra_exer = 80\n",
        "significancia_exer = 0.05\n",
        "confianca_exer = 1 - significancia\n",
        "t_alpha_exer = t_student.ppf(confianca_exer, graus_liberdade_exer)\n",
        "t_exer = (media_amostra_exer - media_exer) / (desvio_padrao_amostra_exer / np.sqrt(n_exer))\n",
        "print(f't_alpha = {round(t_exer, 4)}')\n",
        "if t_exer <= - t_alpha_exer:\n",
        "  print('Rejeitar H0')\n",
        "else:\n",
        "  print('Aceitar H0')"
      ],
      "metadata": {
        "colab": {
          "base_uri": "https://localhost:8080/"
        },
        "id": "Pl_0Dfsjq-hI",
        "outputId": "0de181d8-d7ca-4848-a501-a241af644990"
      },
      "execution_count": 342,
      "outputs": [
        {
          "output_type": "stream",
          "name": "stdout",
          "text": [
            "t_alpha = -1.479\n",
            "Aceitar H0\n"
          ]
        }
      ]
    },
    {
      "cell_type": "markdown",
      "metadata": {
        "id": "L7_ZbBBtpslb"
      },
      "source": [
        "## <font color=green>3.4 Testes para Duas Amostras</font>\n",
        "***"
      ]
    },
    {
      "cell_type": "markdown",
      "metadata": {
        "id": "lmAJLIu8pslb"
      },
      "source": [
        "## <font color='red'>Problema</font>"
      ]
    },
    {
      "cell_type": "markdown",
      "metadata": {
        "id": "0zUUY8klpslc"
      },
      "source": [
        "Em nosso dataset temos os rendimento dos chefes de domicílio obtidos da Pesquisa Nacional por Amostra de Domicílios - PNAD no ano de 2015. Um problema bastante conhecido em nosso país diz respeito a desigualdade de renda, principalmente entre homens e mulheres.\n",
        "\n",
        "Duas amostras aleatórias, uma de **500 homens** e outra com **500 mulheres**, foram selecionadas em nosso dataset. Com o objetivo de comprovar tal desigualdade, **teste a igualdade das médias** entre estas duas amostras com um nível de **significância de 1%**."
      ]
    },
    {
      "cell_type": "markdown",
      "metadata": {
        "id": "WUknTBZgpslc"
      },
      "source": [
        "---"
      ]
    },
    {
      "cell_type": "markdown",
      "metadata": {
        "id": "gFIUL8Hgpslc"
      },
      "source": [
        "É possível também utilizar testes de hipóteses para comparar duas diferentes amostras. Neste tipo de teste se deseja decidir se uma amostra é diferente da outra."
      ]
    },
    {
      "cell_type": "markdown",
      "metadata": {
        "id": "xzGuwM4xpslc"
      },
      "source": [
        "### Seleção das amostras"
      ]
    },
    {
      "cell_type": "code",
      "execution_count": 343,
      "metadata": {
        "id": "nuNSrzfYpsld",
        "scrolled": true
      },
      "outputs": [],
      "source": [
        "homens = dados.query(\"Sexo == 0\").sample(n=500, random_state=101).Renda"
      ]
    },
    {
      "cell_type": "code",
      "execution_count": 344,
      "metadata": {
        "id": "W-W9IOs1psle",
        "scrolled": true
      },
      "outputs": [],
      "source": [
        "mulheres = dados.query(\"Sexo == 1\").sample(n=500, random_state=101).Renda"
      ]
    },
    {
      "cell_type": "markdown",
      "metadata": {
        "id": "FOFa-cHwpslg"
      },
      "source": [
        "### Dados do problema"
      ]
    },
    {
      "cell_type": "code",
      "execution_count": 345,
      "metadata": {
        "id": "BGyXCbompslh",
        "colab": {
          "base_uri": "https://localhost:8080/"
        },
        "outputId": "37f7e7bc-0405-4897-9f9a-8f845822e083"
      },
      "outputs": [
        {
          "output_type": "execute_result",
          "data": {
            "text/plain": [
              "1357.528"
            ]
          },
          "metadata": {},
          "execution_count": 345
        }
      ],
      "source": [
        "media_amostra_M = mulheres.mean()\n",
        "media_amostra_M"
      ]
    },
    {
      "cell_type": "code",
      "execution_count": 346,
      "metadata": {
        "id": "RoxFOCA3pslk",
        "colab": {
          "base_uri": "https://localhost:8080/"
        },
        "outputId": "131bcd69-4bab-47e4-ba49-eddef9267766"
      },
      "outputs": [
        {
          "output_type": "execute_result",
          "data": {
            "text/plain": [
              "1569.901190748458"
            ]
          },
          "metadata": {},
          "execution_count": 346
        }
      ],
      "source": [
        "desvio_padrao_amostra_M = mulheres.std()\n",
        "desvio_padrao_amostra_M"
      ]
    },
    {
      "cell_type": "code",
      "execution_count": 347,
      "metadata": {
        "id": "Of8L6Hygpsll",
        "colab": {
          "base_uri": "https://localhost:8080/"
        },
        "outputId": "798b3e09-ea89-4d3c-8b7c-d160008235b0"
      },
      "outputs": [
        {
          "output_type": "execute_result",
          "data": {
            "text/plain": [
              "2142.608"
            ]
          },
          "metadata": {},
          "execution_count": 347
        }
      ],
      "source": [
        "media_amostra_H = homens.mean()\n",
        "media_amostra_H"
      ]
    },
    {
      "cell_type": "code",
      "execution_count": 348,
      "metadata": {
        "id": "-cSpXXTepsln",
        "colab": {
          "base_uri": "https://localhost:8080/"
        },
        "outputId": "1503c470-fa80-431b-d5fb-62e6d76253df"
      },
      "outputs": [
        {
          "output_type": "execute_result",
          "data": {
            "text/plain": [
              "2548.0508024998717"
            ]
          },
          "metadata": {},
          "execution_count": 348
        }
      ],
      "source": [
        "desvio_padrao_amostra_H = homens.std()\n",
        "desvio_padrao_amostra_H"
      ]
    },
    {
      "cell_type": "code",
      "execution_count": 349,
      "metadata": {
        "id": "Cl7kdxkUpslo"
      },
      "outputs": [],
      "source": [
        "significancia = 0.01\n",
        "confianca = 1 - significancia\n",
        "n_M = 500\n",
        "n_H = 500\n",
        "D_0 = 0"
      ]
    },
    {
      "cell_type": "markdown",
      "source": [
        "Esse é um meio de analisar os testes. Você pode perceber que estou querendo dizer que Mi1 menos Mi2 é menor ou igual a zero.\n",
        "\n",
        "H0: Mi1 menor igual a Mi2 H1: Mi1 maior que Mi2\n",
        "\n",
        "H0: Mi1 menos Mi2 é menor ou igual a 0 H1: Mi1 menos Mi2 é maior que 0\n",
        "\n",
        "[4:08] Por isso, o D_0 é igual a zero. A diferença entre as médias que eu estou testando é que elas não tenham diferença, é zero. Perfeito? Isso aqui pode ser um outro valor, dez, 20, 100 e por aí vai.\n",
        "\n",
        "[4:19] Depende do teste que você está realizando. Depois, a mesma coisa, só passamos esse Mi2 passa o lado direito da desigualdade. Ele vem com o sinal negativo.\n",
        "\n",
        "[4:29] Mi1 menos Mi2 é maior que zero, essa é a minha hipótese."
      ],
      "metadata": {
        "id": "7BAui6SefXh-"
      }
    },
    {
      "cell_type": "markdown",
      "metadata": {
        "id": "PGoWwWwjpslp"
      },
      "source": [
        "---"
      ]
    },
    {
      "cell_type": "markdown",
      "metadata": {
        "id": "tO597Oxgpslp"
      },
      "source": [
        "### **Passo 1** - formulação das hipóteses $H_0$ e $H_1$\n",
        "\n",
        "#### <font color='red'>Lembre-se, a hipótese nula sempre contém a alegação de igualdade</font>"
      ]
    },
    {
      "cell_type": "markdown",
      "metadata": {
        "id": "LysVU-7fpslr"
      },
      "source": [
        "### $\\mu_1 \\Rightarrow$ Média das rendas dos chefes de domicílios do sexo masculino\n",
        "### $\\mu_2 \\Rightarrow$ Média das rendas dos chefes de domicílios do sexo feminino\n",
        "\n",
        "### $\n",
        "\\begin{cases}\n",
        "H_0: \\mu_1 \\leq \\mu_2\\\\\n",
        "H_1: \\mu_1 > \\mu_2\n",
        "\\end{cases}\n",
        "$\n",
        "\n",
        "### ou\n",
        "\n",
        "### $\n",
        "\\begin{cases}\n",
        "H_0: \\mu_1 -\\mu_2 \\leq 0\\\\\n",
        "H_1: \\mu_1 -\\mu_2 > 0\n",
        "\\end{cases}\n",
        "$"
      ]
    },
    {
      "cell_type": "markdown",
      "metadata": {
        "id": "ENKqbCgQpslr"
      },
      "source": [
        "---"
      ]
    },
    {
      "cell_type": "markdown",
      "metadata": {
        "id": "dBA05Y3Zpslr"
      },
      "source": [
        "### **Passo 2** - escolha da distribuição amostral adequada\n",
        "<img src='https://caelum-online-public.s3.amazonaws.com/1229-estatistica-parte3/01/img003.png' width=70%>\n",
        "\n",
        "### <font color='red'>Observação importante</font>\n",
        "> Em testes que envolvam duas amostras com o emprego da tabela $t$ de Student, o número de graus de liberdade será sempre igual a $n_1 + n_2 - 2$"
      ]
    },
    {
      "cell_type": "markdown",
      "metadata": {
        "id": "6_Q_Wtjlpsls"
      },
      "source": [
        "### O tamanho da amostra é maior que 30?\n",
        "#### Resp.: Sim\n",
        "\n",
        "### O desvio padrão populacional é conhecido?\n",
        "#### Resp.: Não"
      ]
    },
    {
      "cell_type": "markdown",
      "metadata": {
        "id": "T6sVzVjVpsls"
      },
      "source": [
        "---"
      ]
    },
    {
      "cell_type": "markdown",
      "metadata": {
        "id": "SUN4yJqzpsls"
      },
      "source": [
        "### **Passo 3** - fixação da significância do teste ($\\alpha$)"
      ]
    },
    {
      "cell_type": "code",
      "execution_count": 350,
      "metadata": {
        "id": "b3Y_CZmzpsls",
        "colab": {
          "base_uri": "https://localhost:8080/"
        },
        "outputId": "2ec64d6c-342f-44dd-ff7b-80224aafed29"
      },
      "outputs": [
        {
          "output_type": "execute_result",
          "data": {
            "text/plain": [
              "0.99"
            ]
          },
          "metadata": {},
          "execution_count": 350
        }
      ],
      "source": [
        "probabilidade = confianca\n",
        "probabilidade"
      ]
    },
    {
      "cell_type": "code",
      "execution_count": 351,
      "metadata": {
        "id": "qNse2bFRpslu",
        "colab": {
          "base_uri": "https://localhost:8080/"
        },
        "outputId": "8fe1922c-173c-4129-8405-2e22756be316"
      },
      "outputs": [
        {
          "output_type": "execute_result",
          "data": {
            "text/plain": [
              "2.33"
            ]
          },
          "metadata": {},
          "execution_count": 351
        }
      ],
      "source": [
        "z_alpha = norm.ppf(probabilidade)\n",
        "z_alpha.round(2)"
      ]
    },
    {
      "cell_type": "markdown",
      "metadata": {
        "id": "y9u_zd8Opslv"
      },
      "source": [
        "![Região de Aceitação](https://caelum-online-public.s3.amazonaws.com/1229-estatistica-parte3/01/img011.png)"
      ]
    },
    {
      "cell_type": "markdown",
      "metadata": {
        "id": "xUhiEXRMpslv"
      },
      "source": [
        "---"
      ]
    },
    {
      "cell_type": "markdown",
      "metadata": {
        "id": "iooB1aPHpslv"
      },
      "source": [
        "### **Passo 4** - cálculo da estatística-teste e verificação desse valor com as áreas de aceitação e rejeição do teste\n",
        "\n",
        "# $$z = \\frac{(\\bar{x_1} - \\bar{x_2})-D_0}{\\sqrt{\\frac{s_1^2}{n_1} + \\frac{s_2^2}{n_2}}}$$"
      ]
    },
    {
      "cell_type": "code",
      "execution_count": 352,
      "metadata": {
        "id": "AL2i9JOTpslw",
        "colab": {
          "base_uri": "https://localhost:8080/"
        },
        "outputId": "d4155d9b-b7d1-4f0b-e87f-b24f3d0692c9"
      },
      "outputs": [
        {
          "output_type": "execute_result",
          "data": {
            "text/plain": [
              "5.8656200577647555"
            ]
          },
          "metadata": {},
          "execution_count": 352
        }
      ],
      "source": [
        "numerador = (media_amostra_H - media_amostra_M) - D_0\n",
        "\n",
        "denominador = np.sqrt((desvio_padrao_amostra_H ** 2 / n_H) + (desvio_padrao_amostra_M ** 2 / n_M))\n",
        "\n",
        "z = numerador / denominador\n",
        "\n",
        "z"
      ]
    },
    {
      "cell_type": "markdown",
      "metadata": {
        "id": "jXrfHvH5pslx"
      },
      "source": [
        "![Estatística-Teste](https://caelum-online-public.s3.amazonaws.com/1229-estatistica-parte3/01/img012.png)"
      ]
    },
    {
      "cell_type": "markdown",
      "metadata": {
        "id": "4dn58Fc2pslx"
      },
      "source": [
        "---"
      ]
    },
    {
      "cell_type": "markdown",
      "metadata": {
        "id": "P-7NL33-pslx"
      },
      "source": [
        "### **Passo 5** - Aceitação ou rejeição da hipótese nula"
      ]
    },
    {
      "cell_type": "markdown",
      "metadata": {
        "id": "n_djxfYtpslx"
      },
      "source": [
        "<img src='https://caelum-online-public.s3.amazonaws.com/1229-estatistica-parte3/01/img014.png' width=90%>"
      ]
    },
    {
      "cell_type": "markdown",
      "metadata": {
        "id": "QrObW-BXpsly"
      },
      "source": [
        "### <font color='red'>Critério do valor crítico</font>\n",
        "\n",
        "> ### Teste Unicaudal\n",
        "> ### Rejeitar $H_0$ se $z \\geq z_{\\alpha}$"
      ]
    },
    {
      "cell_type": "code",
      "execution_count": 353,
      "metadata": {
        "id": "tkJSji7gpsly",
        "colab": {
          "base_uri": "https://localhost:8080/"
        },
        "outputId": "2036b75a-7060-4632-834e-f6fc9c369b7d"
      },
      "outputs": [
        {
          "output_type": "execute_result",
          "data": {
            "text/plain": [
              "True"
            ]
          },
          "metadata": {},
          "execution_count": 353
        }
      ],
      "source": [
        "z >= z_alpha"
      ]
    },
    {
      "cell_type": "markdown",
      "metadata": {
        "id": "UnBVO1uDpslz"
      },
      "source": [
        "### <font color='green'>Conclusão: Com um nível de confiança de 99% rejeitamos $H_0$, isto é, concluímos que a média das rendas dos chefes de domicílios do sexo masculino é maior que a média das rendas das chefes de domicílios do sexo feminino. Confirmando a alegação de desigualdade de renda entre os sexos.</font>"
      ]
    },
    {
      "cell_type": "markdown",
      "source": [
        "Exercício\n",
        "\n",
        "Um fabricante de cosméticos afirma que a adição de um novo composto químico em sua linha de shampoos consegue promover em mais de 2 centímetros o crescimento dos fios de cabelo em um período de 60 dias. Duas amostras de pessoas foram selecionadas e testadas, uma utilizando o shampoo novo (com o composto) e a outra com o shampoo antigo (sem o composto).\n",
        "\n",
        "Os resultados (crescimento dos fios de cabelo em centímetros) podem ser verificados na tabela abaixo:"
      ],
      "metadata": {
        "id": "pXpATKmebtkn"
      }
    },
    {
      "cell_type": "code",
      "source": [
        "shampoo_Novo = pd.Series([3.4, 4.9, 2.8, 5.5, 3.7, 2.5, 4.3, 4.6, 3.7, 3.4])\n",
        "shampoo_Antigo = pd.Series([0.3, 1.2, 1.2, 1.7, 1.1, 0.6, 1.2, 1.5, 0.5, 0.7])"
      ],
      "metadata": {
        "id": "-XoGKVbLb0GV"
      },
      "execution_count": 354,
      "outputs": []
    },
    {
      "cell_type": "markdown",
      "source": [
        "Assumindo um nível de confiança de 95% e considerando que as populações se distribuem como uma normal, podemos acreditar na afirmação do fabricante do shampoo? Assinale a alternativa que apresenta a estatística de teste e a decisão correta do teste.\n",
        "\n",
        "\n",
        "Um pouco mais de teoria: como se trata de um problema um pouco diferente do apresentado em nossa aula, vamos esclarecer alguns pontos para ajudar na solução:\n",
        "\n",
        "1) Em testes entre duas amostras, quando realizamos a escolha da distribuição amostral adequada (passo 2) e perguntamos se n ≥ 30, temos que considerar que n = n1 + n2, onde n1 é o tamanho da primeira amostra e n2 o tamanho da segunda;\n",
        "\n",
        "2) Quando n1 + n2 ≥ 30, utilizamos z (normal), e quando n1 + n2 < 30, σ não for conhecido e as populações forem normalmente distribuídas, utilizamos t (t-Student);\n",
        "\n",
        "3) Quando utilizamos a tabela t de Student, em teste de duas amostras, os graus de liberdade são obtidos da seguinte forma: n1 + n2 - 2;\n",
        "\n",
        "4) Quando o problema nos pergunta se podemos acreditar na afirmação do fabricante, está nos indicando o que devemos testar, ou seja, a nossa hipótese alternativa (H1), que no caso é:\n",
        "\n",
        "\n",
        "\n",
        "Onde:\n",
        "\n",
        "μ1 = Crescimento médio dos cabelos com o uso do novo shampoo\n",
        "μ2 = Crescimento médio dos cabelos com o uso do shampoo antigo.\n",
        "\n",
        "\n",
        "5) Em nosso próximo vídeo, utilizaremos o ztest_ind() para solucionar problemas como este. Um teste similar ao ztest_ind(), que utiliza a distribuição t de Student, é o ttest_ind(). Aqui, você será redirecionado para a documentação. Observe que o ttest_ind() retorna a estatística de teste, o p-valor e também os graus de liberdade."
      ],
      "metadata": {
        "id": "V3K-W1gYb91h"
      }
    },
    {
      "cell_type": "code",
      "source": [
        "media_amostra_antigo = shampoo_Antigo.mean()\n",
        "media_amostra_antigo"
      ],
      "metadata": {
        "colab": {
          "base_uri": "https://localhost:8080/"
        },
        "id": "mdEQRLq4ceJB",
        "outputId": "7bedf632-bb7b-4f46-979a-bb06134b9aed"
      },
      "execution_count": 355,
      "outputs": [
        {
          "output_type": "execute_result",
          "data": {
            "text/plain": [
              "1.0"
            ]
          },
          "metadata": {},
          "execution_count": 355
        }
      ]
    },
    {
      "cell_type": "code",
      "source": [
        "desvio_padrao_amostra_antigo = shampoo_Antigo.std()\n",
        "desvio_padrao_amostra_antigo"
      ],
      "metadata": {
        "colab": {
          "base_uri": "https://localhost:8080/"
        },
        "id": "-CXXxATZc8Mf",
        "outputId": "93d6d4dd-4668-4422-975b-ede769e68a98"
      },
      "execution_count": 356,
      "outputs": [
        {
          "output_type": "execute_result",
          "data": {
            "text/plain": [
              "0.4546060565661952"
            ]
          },
          "metadata": {},
          "execution_count": 356
        }
      ]
    },
    {
      "cell_type": "code",
      "source": [
        "media_amostra_novo = shampoo_Novo.mean()\n",
        "media_amostra_novo"
      ],
      "metadata": {
        "colab": {
          "base_uri": "https://localhost:8080/"
        },
        "id": "BDt7iMrndGhp",
        "outputId": "af1eafea-f95b-49b3-bd74-080a0fc95d1d"
      },
      "execution_count": 357,
      "outputs": [
        {
          "output_type": "execute_result",
          "data": {
            "text/plain": [
              "3.88"
            ]
          },
          "metadata": {},
          "execution_count": 357
        }
      ]
    },
    {
      "cell_type": "code",
      "source": [
        "desvio_padrao_amostra_novo = shampoo_Novo.std()\n",
        "desvio_padrao_amostra_novo"
      ],
      "metadata": {
        "colab": {
          "base_uri": "https://localhost:8080/"
        },
        "id": "5nWeB4x6d0-u",
        "outputId": "3b64558b-eb8c-4685-9423-8bc8c24b6810"
      },
      "execution_count": 358,
      "outputs": [
        {
          "output_type": "execute_result",
          "data": {
            "text/plain": [
              "0.9402127418834527"
            ]
          },
          "metadata": {},
          "execution_count": 358
        }
      ]
    },
    {
      "cell_type": "code",
      "source": [
        "significancia_shampoo = 0.05\n",
        "confianca_shampoo = 1 - significancia_shampoo\n",
        "n_A = len(shampoo_Novo)\n",
        "n_N = len(shampoo_Antigo)\n",
        "D_2 = 2"
      ],
      "metadata": {
        "id": "8YxhJRtqeFWn"
      },
      "execution_count": 359,
      "outputs": []
    },
    {
      "cell_type": "markdown",
      "source": [
        "### $\\mu_1 \\Rightarrow$ Crescimento médio dos cabelos com o uso do novo shampoo\n",
        "### $\\mu_2 \\Rightarrow$ Crescimento médio dos cabelos com o uso do shampoo antigo.\n",
        "\n",
        "### $\n",
        "\\begin{cases}\n",
        "H_0: \\mu_1 -\\mu_2 \\leq 2\\\\\n",
        "H_1: \\mu_1 -\\mu_2 > 2\n",
        "\\end{cases}\n",
        "$"
      ],
      "metadata": {
        "id": "iXe7WHWwf4of"
      }
    },
    {
      "cell_type": "code",
      "source": [
        "graus_liberdade_shampoo = n_A + n_N - 2\n",
        "t_alpha_shampoo = t_student.ppf(confianca_shampoo, graus_liberdade_shampoo)\n",
        "t_alpha_shampoo"
      ],
      "metadata": {
        "colab": {
          "base_uri": "https://localhost:8080/"
        },
        "id": "2I74RJg1p-Ix",
        "outputId": "17e3b588-de57-4c26-92bf-2d66837c7bfa"
      },
      "execution_count": 360,
      "outputs": [
        {
          "output_type": "execute_result",
          "data": {
            "text/plain": [
              "1.7340636066175354"
            ]
          },
          "metadata": {},
          "execution_count": 360
        }
      ]
    },
    {
      "cell_type": "code",
      "source": [
        "numerador_shampoo = (media_amostra_novo - media_amostra_antigo) - D_2\n",
        "\n",
        "denominador_shampoo = np.sqrt((desvio_padrao_amostra_novo ** 2 / n_N) + (desvio_padrao_amostra_antigo ** 2 / n_A))\n",
        "\n",
        "t_shampoo = numerador_shampoo / denominador_shampoo\n",
        "\n",
        "t_shampoo"
      ],
      "metadata": {
        "colab": {
          "base_uri": "https://localhost:8080/"
        },
        "id": "q0TxGl91n_iV",
        "outputId": "107c89f9-e369-4c5a-8d26-9b5e13c3dad1"
      },
      "execution_count": 361,
      "outputs": [
        {
          "output_type": "execute_result",
          "data": {
            "text/plain": [
              "2.6646283978779297"
            ]
          },
          "metadata": {},
          "execution_count": 361
        }
      ]
    },
    {
      "cell_type": "code",
      "source": [
        "print(f't_shampoo = {round(t_shampoo, 4)}')\n",
        "if t_shampoo >= t_alpha_shampoo:\n",
        "  print('Rejeitar H0')\n",
        "else:\n",
        "  print('Aceitar H0')"
      ],
      "metadata": {
        "colab": {
          "base_uri": "https://localhost:8080/"
        },
        "id": "qY97vTYbp3uG",
        "outputId": "a6d8ca6c-565b-4135-d132-faf4bd533f16"
      },
      "execution_count": 362,
      "outputs": [
        {
          "output_type": "stream",
          "name": "stdout",
          "text": [
            "t_shampoo = 2.6646\n",
            "Rejeitar H0\n"
          ]
        }
      ]
    },
    {
      "cell_type": "markdown",
      "metadata": {
        "id": "cyuNEHfwpsl0"
      },
      "source": [
        "### <font color='red'>Critério do valor $p$</font>\n",
        "\n",
        "> ### Teste Unicaudal\n",
        "> ### Rejeitar $H_0$ se o valor $p\\leq\\alpha$"
      ]
    },
    {
      "cell_type": "markdown",
      "metadata": {
        "id": "9WgvHygWpsl0"
      },
      "source": [
        "https://www.statsmodels.org/dev/generated/statsmodels.stats.weightstats.DescrStatsW.html\n",
        "\n",
        "https://www.statsmodels.org/dev/generated/statsmodels.stats.weightstats.CompareMeans.ttest_ind.html"
      ]
    },
    {
      "cell_type": "code",
      "execution_count": 363,
      "metadata": {
        "id": "UkFRl3hTpsl0"
      },
      "outputs": [],
      "source": [
        "from statsmodels.stats.weightstats import DescrStatsW, CompareMeans"
      ]
    },
    {
      "cell_type": "code",
      "execution_count": 364,
      "metadata": {
        "id": "uW0uVFnFpsl1"
      },
      "outputs": [],
      "source": [
        "test_H = DescrStatsW(homens)"
      ]
    },
    {
      "cell_type": "code",
      "execution_count": 365,
      "metadata": {
        "id": "kP92TQqupsl1"
      },
      "outputs": [],
      "source": [
        "test_M = DescrStatsW(mulheres)"
      ]
    },
    {
      "cell_type": "code",
      "execution_count": 366,
      "metadata": {
        "id": "diOjg4G8psl2"
      },
      "outputs": [],
      "source": [
        "test_A = test_H.get_compare(test_M)"
      ]
    },
    {
      "cell_type": "code",
      "execution_count": 367,
      "metadata": {
        "id": "tweh7q_spsl5",
        "colab": {
          "base_uri": "https://localhost:8080/"
        },
        "outputId": "69078c65-1577-4e22-e4c5-3bc76102367f"
      },
      "outputs": [
        {
          "output_type": "execute_result",
          "data": {
            "text/plain": [
              "2.2372867859458255e-09"
            ]
          },
          "metadata": {},
          "execution_count": 367
        }
      ],
      "source": [
        "z, p_valor = test_A.ztest_ind(alternative='larger', value=0)\n",
        "p_valor"
      ]
    },
    {
      "cell_type": "code",
      "execution_count": 368,
      "metadata": {
        "id": "qRkrt2XZhL9v"
      },
      "outputs": [],
      "source": [
        "# usando o comparemeans\n",
        "test_B = CompareMeans(test_H, test_M)"
      ]
    },
    {
      "cell_type": "code",
      "execution_count": 369,
      "metadata": {
        "id": "tSbOZem9hLvs",
        "colab": {
          "base_uri": "https://localhost:8080/"
        },
        "outputId": "14c4a92d-0fb8-458f-f062-4f8327c1d22a"
      },
      "outputs": [
        {
          "output_type": "execute_result",
          "data": {
            "text/plain": [
              "2.2372867859458255e-09"
            ]
          },
          "metadata": {},
          "execution_count": 369
        }
      ],
      "source": [
        "z, p_valor = test_B.ztest_ind(alternative='larger', value=0)\n",
        "p_valor"
      ]
    },
    {
      "cell_type": "code",
      "execution_count": 370,
      "metadata": {
        "id": "E3NF1BzYpsl6",
        "colab": {
          "base_uri": "https://localhost:8080/"
        },
        "outputId": "171396ee-451b-4da9-a4f1-aeb8effb1c00"
      },
      "outputs": [
        {
          "output_type": "execute_result",
          "data": {
            "text/plain": [
              "True"
            ]
          },
          "metadata": {},
          "execution_count": 370
        }
      ],
      "source": [
        "p_valor <= significancia"
      ]
    },
    {
      "cell_type": "markdown",
      "metadata": {
        "id": "0gxk-t4jpsl8"
      },
      "source": [
        "---"
      ]
    },
    {
      "cell_type": "markdown",
      "metadata": {
        "id": "IEHa9ZC_psl8"
      },
      "source": [
        "# <font color=green>4 TESTES NÃO PARAMÉTRICOS</font>\n",
        "***"
      ]
    },
    {
      "cell_type": "markdown",
      "metadata": {
        "id": "8iRwKn9Wpsl8"
      },
      "source": [
        "O trabalho com pequenas amostras pode levar a não aceitação da validade do teorema central do limite e também na impossibilidade de fazer suposições sobre a distribuição da variável avaliada. Quando isso ocorre torna-se necessária a aplicação de testes não paramétricos. Nos testes não paramétricos, não fazemos hipóteses sobre a distribuição (de probabilidade) das quais as observações são extraídas."
      ]
    },
    {
      "cell_type": "markdown",
      "metadata": {
        "id": "ngqmtRxFpsl9"
      },
      "source": [
        "## <font color='red'>Problema</font>"
      ]
    },
    {
      "cell_type": "markdown",
      "metadata": {
        "id": "Al0BiC02psl9"
      },
      "source": [
        "Antes de cada partida do campeonato nacional de futebol, as moedas utilizadas pelos árbitros devem ser verificadas para se ter certeza de que não são viciadas, ou seja, que não tendam para determinado resultado. Para isso um teste simples deve ser realizado antes de cada partida. Este teste consiste em lançar a moeda do jogo **50 vezes** e contar as frequências de **CARAS** e **COROAS** obtidas. A tabela abaixo mostra o resultado obtido no experimento:\n",
        "\n",
        "||CARA|COROA|\n",
        "|-|-|-|\n",
        "|Observado|17|33|\n",
        "|Esperado|25|25|\n",
        "\n",
        "A um **nível de significância de 5%**, é possível afirmar que a moeda não é honesta, isto é, que a moeda apresenta uma probabilidade maior de cair com a face **CARA** voltada para cima?"
      ]
    },
    {
      "cell_type": "markdown",
      "metadata": {
        "id": "56KA3Hnupsl9"
      },
      "source": [
        "## <font color=green>4.1 Teste do Qui-Quadrado ( $\\chi^2$)</font>\n",
        "***"
      ]
    },
    {
      "cell_type": "markdown",
      "metadata": {
        "id": "GxTlvB4Zpsl9"
      },
      "source": [
        "Também conhecido como teste de adequação ao ajustamento, seu nome se deve ao fato de utilizar uma variável estatística padronizada, representada pela letra grega qui ( $\\chi$) elevada ao quadrado. A tabela com os valores padronizados e como obtê-la podem ser vistos logo abaixo.\n",
        "\n",
        "O teste do $\\chi^2$ testa a hipótese nula de não haver diferença entre as frequências observadas de um determinado evento e as frequências que são realmente esperadas para este evento.\n",
        "\n",
        "Os passos de aplicação do teste são bem parecidos aos vistos para os testes paramétricos.\n",
        "\n",
        "![Região de Aceitação](https://caelum-online-public.s3.amazonaws.com/1229-estatistica-parte3/01/img017.png)"
      ]
    },
    {
      "cell_type": "markdown",
      "metadata": {
        "id": "1lbHtKGfpsl9"
      },
      "source": [
        "### Construindo tabela $\\chi^2$\n",
        "https://docs.scipy.org/doc/scipy/reference/generated/scipy.stats.chi.html"
      ]
    },
    {
      "cell_type": "code",
      "execution_count": 371,
      "metadata": {
        "id": "k7sZCK8dpsl-",
        "scrolled": false,
        "colab": {
          "base_uri": "https://localhost:8080/",
          "height": 1000
        },
        "outputId": "20d67af0-a492-4b3e-961d-e82968226f51"
      },
      "outputs": [
        {
          "output_type": "execute_result",
          "data": {
            "text/plain": [
              "p                     0.005    0.010    0.025    0.050    0.100    0.250  \\\n",
              "Graus de Liberdade                                                         \n",
              "1                    0.0000   0.0002   0.0010   0.0039   0.0158   0.1015   \n",
              "2                    0.0100   0.0201   0.0506   0.1026   0.2107   0.5754   \n",
              "3                    0.0717   0.1148   0.2158   0.3518   0.5844   1.2125   \n",
              "4                    0.2070   0.2971   0.4844   0.7107   1.0636   1.9226   \n",
              "5                    0.4117   0.5543   0.8312   1.1455   1.6103   2.6746   \n",
              "6                    0.6757   0.8721   1.2373   1.6354   2.2041   3.4546   \n",
              "7                    0.9893   1.2390   1.6899   2.1673   2.8331   4.2549   \n",
              "8                    1.3444   1.6465   2.1797   2.7326   3.4895   5.0706   \n",
              "9                    1.7349   2.0879   2.7004   3.3251   4.1682   5.8988   \n",
              "10                   2.1559   2.5582   3.2470   3.9403   4.8652   6.7372   \n",
              "11                   2.6032   3.0535   3.8157   4.5748   5.5778   7.5841   \n",
              "12                   3.0738   3.5706   4.4038   5.2260   6.3038   8.4384   \n",
              "13                   3.5650   4.1069   5.0088   5.8919   7.0415   9.2991   \n",
              "14                   4.0747   4.6604   5.6287   6.5706   7.7895  10.1653   \n",
              "15                   4.6009   5.2293   6.2621   7.2609   8.5468  11.0365   \n",
              "16                   5.1422   5.8122   6.9077   7.9616   9.3122  11.9122   \n",
              "17                   5.6972   6.4078   7.5642   8.6718  10.0852  12.7919   \n",
              "18                   6.2648   7.0149   8.2307   9.3905  10.8649  13.6753   \n",
              "19                   6.8440   7.6327   8.9065  10.1170  11.6509  14.5620   \n",
              "20                   7.4338   8.2604   9.5908  10.8508  12.4426  15.4518   \n",
              "21                   8.0337   8.8972  10.2829  11.5913  13.2396  16.3444   \n",
              "22                   8.6427   9.5425  10.9823  12.3380  14.0415  17.2396   \n",
              "23                   9.2604  10.1957  11.6886  13.0905  14.8480  18.1373   \n",
              "24                   9.8862  10.8564  12.4012  13.8484  15.6587  19.0373   \n",
              "25                  10.5197  11.5240  13.1197  14.6114  16.4734  19.9393   \n",
              "26                  11.1602  12.1981  13.8439  15.3792  17.2919  20.8434   \n",
              "27                  11.8076  12.8785  14.5734  16.1514  18.1139  21.7494   \n",
              "28                  12.4613  13.5647  15.3079  16.9279  18.9392  22.6572   \n",
              "29                  13.1211  14.2565  16.0471  17.7084  19.7677  23.5666   \n",
              "30                  13.7867  14.9535  16.7908  18.4927  20.5992  24.4776   \n",
              "\n",
              "p                     0.500    0.750    0.900    0.975    0.950    0.990  \\\n",
              "Graus de Liberdade                                                         \n",
              "1                    0.4549   1.3233   2.7055   5.0239   3.8415   6.6349   \n",
              "2                    1.3863   2.7726   4.6052   7.3778   5.9915   9.2103   \n",
              "3                    2.3660   4.1083   6.2514   9.3484   7.8147  11.3449   \n",
              "4                    3.3567   5.3853   7.7794  11.1433   9.4877  13.2767   \n",
              "5                    4.3515   6.6257   9.2364  12.8325  11.0705  15.0863   \n",
              "6                    5.3481   7.8408  10.6446  14.4494  12.5916  16.8119   \n",
              "7                    6.3458   9.0371  12.0170  16.0128  14.0671  18.4753   \n",
              "8                    7.3441  10.2189  13.3616  17.5345  15.5073  20.0902   \n",
              "9                    8.3428  11.3888  14.6837  19.0228  16.9190  21.6660   \n",
              "10                   9.3418  12.5489  15.9872  20.4832  18.3070  23.2093   \n",
              "11                  10.3410  13.7007  17.2750  21.9200  19.6751  24.7250   \n",
              "12                  11.3403  14.8454  18.5493  23.3367  21.0261  26.2170   \n",
              "13                  12.3398  15.9839  19.8119  24.7356  22.3620  27.6882   \n",
              "14                  13.3393  17.1169  21.0641  26.1189  23.6848  29.1412   \n",
              "15                  14.3389  18.2451  22.3071  27.4884  24.9958  30.5779   \n",
              "16                  15.3385  19.3689  23.5418  28.8454  26.2962  31.9999   \n",
              "17                  16.3382  20.4887  24.7690  30.1910  27.5871  33.4087   \n",
              "18                  17.3379  21.6049  25.9894  31.5264  28.8693  34.8053   \n",
              "19                  18.3377  22.7178  27.2036  32.8523  30.1435  36.1909   \n",
              "20                  19.3374  23.8277  28.4120  34.1696  31.4104  37.5662   \n",
              "21                  20.3372  24.9348  29.6151  35.4789  32.6706  38.9322   \n",
              "22                  21.3370  26.0393  30.8133  36.7807  33.9244  40.2894   \n",
              "23                  22.3369  27.1413  32.0069  38.0756  35.1725  41.6384   \n",
              "24                  23.3367  28.2412  33.1962  39.3641  36.4150  42.9798   \n",
              "25                  24.3366  29.3389  34.3816  40.6465  37.6525  44.3141   \n",
              "26                  25.3365  30.4346  35.5632  41.9232  38.8851  45.6417   \n",
              "27                  26.3363  31.5284  36.7412  43.1945  40.1133  46.9629   \n",
              "28                  27.3362  32.6205  37.9159  44.4608  41.3371  48.2782   \n",
              "29                  28.3361  33.7109  39.0875  45.7223  42.5570  49.5879   \n",
              "30                  29.3360  34.7997  40.2560  46.9792  43.7730  50.8922   \n",
              "\n",
              "p                     0.995  \n",
              "Graus de Liberdade           \n",
              "1                    7.8794  \n",
              "2                   10.5966  \n",
              "3                   12.8382  \n",
              "4                   14.8603  \n",
              "5                   16.7496  \n",
              "6                   18.5476  \n",
              "7                   20.2777  \n",
              "8                   21.9550  \n",
              "9                   23.5894  \n",
              "10                  25.1882  \n",
              "11                  26.7568  \n",
              "12                  28.2995  \n",
              "13                  29.8195  \n",
              "14                  31.3193  \n",
              "15                  32.8013  \n",
              "16                  34.2672  \n",
              "17                  35.7185  \n",
              "18                  37.1565  \n",
              "19                  38.5823  \n",
              "20                  39.9968  \n",
              "21                  41.4011  \n",
              "22                  42.7957  \n",
              "23                  44.1813  \n",
              "24                  45.5585  \n",
              "25                  46.9279  \n",
              "26                  48.2899  \n",
              "27                  49.6449  \n",
              "28                  50.9934  \n",
              "29                  52.3356  \n",
              "30                  53.6720  "
            ],
            "text/html": [
              "\n",
              "  <div id=\"df-32ffea70-120d-41c5-84fb-57b6528647fe\">\n",
              "    <div class=\"colab-df-container\">\n",
              "      <div>\n",
              "<style scoped>\n",
              "    .dataframe tbody tr th:only-of-type {\n",
              "        vertical-align: middle;\n",
              "    }\n",
              "\n",
              "    .dataframe tbody tr th {\n",
              "        vertical-align: top;\n",
              "    }\n",
              "\n",
              "    .dataframe thead th {\n",
              "        text-align: right;\n",
              "    }\n",
              "</style>\n",
              "<table border=\"1\" class=\"dataframe\">\n",
              "  <thead>\n",
              "    <tr style=\"text-align: right;\">\n",
              "      <th>p</th>\n",
              "      <th>0.005</th>\n",
              "      <th>0.010</th>\n",
              "      <th>0.025</th>\n",
              "      <th>0.050</th>\n",
              "      <th>0.100</th>\n",
              "      <th>0.250</th>\n",
              "      <th>0.500</th>\n",
              "      <th>0.750</th>\n",
              "      <th>0.900</th>\n",
              "      <th>0.975</th>\n",
              "      <th>0.950</th>\n",
              "      <th>0.990</th>\n",
              "      <th>0.995</th>\n",
              "    </tr>\n",
              "    <tr>\n",
              "      <th>Graus de Liberdade</th>\n",
              "      <th></th>\n",
              "      <th></th>\n",
              "      <th></th>\n",
              "      <th></th>\n",
              "      <th></th>\n",
              "      <th></th>\n",
              "      <th></th>\n",
              "      <th></th>\n",
              "      <th></th>\n",
              "      <th></th>\n",
              "      <th></th>\n",
              "      <th></th>\n",
              "      <th></th>\n",
              "    </tr>\n",
              "  </thead>\n",
              "  <tbody>\n",
              "    <tr>\n",
              "      <th>1</th>\n",
              "      <td>0.0000</td>\n",
              "      <td>0.0002</td>\n",
              "      <td>0.0010</td>\n",
              "      <td>0.0039</td>\n",
              "      <td>0.0158</td>\n",
              "      <td>0.1015</td>\n",
              "      <td>0.4549</td>\n",
              "      <td>1.3233</td>\n",
              "      <td>2.7055</td>\n",
              "      <td>5.0239</td>\n",
              "      <td>3.8415</td>\n",
              "      <td>6.6349</td>\n",
              "      <td>7.8794</td>\n",
              "    </tr>\n",
              "    <tr>\n",
              "      <th>2</th>\n",
              "      <td>0.0100</td>\n",
              "      <td>0.0201</td>\n",
              "      <td>0.0506</td>\n",
              "      <td>0.1026</td>\n",
              "      <td>0.2107</td>\n",
              "      <td>0.5754</td>\n",
              "      <td>1.3863</td>\n",
              "      <td>2.7726</td>\n",
              "      <td>4.6052</td>\n",
              "      <td>7.3778</td>\n",
              "      <td>5.9915</td>\n",
              "      <td>9.2103</td>\n",
              "      <td>10.5966</td>\n",
              "    </tr>\n",
              "    <tr>\n",
              "      <th>3</th>\n",
              "      <td>0.0717</td>\n",
              "      <td>0.1148</td>\n",
              "      <td>0.2158</td>\n",
              "      <td>0.3518</td>\n",
              "      <td>0.5844</td>\n",
              "      <td>1.2125</td>\n",
              "      <td>2.3660</td>\n",
              "      <td>4.1083</td>\n",
              "      <td>6.2514</td>\n",
              "      <td>9.3484</td>\n",
              "      <td>7.8147</td>\n",
              "      <td>11.3449</td>\n",
              "      <td>12.8382</td>\n",
              "    </tr>\n",
              "    <tr>\n",
              "      <th>4</th>\n",
              "      <td>0.2070</td>\n",
              "      <td>0.2971</td>\n",
              "      <td>0.4844</td>\n",
              "      <td>0.7107</td>\n",
              "      <td>1.0636</td>\n",
              "      <td>1.9226</td>\n",
              "      <td>3.3567</td>\n",
              "      <td>5.3853</td>\n",
              "      <td>7.7794</td>\n",
              "      <td>11.1433</td>\n",
              "      <td>9.4877</td>\n",
              "      <td>13.2767</td>\n",
              "      <td>14.8603</td>\n",
              "    </tr>\n",
              "    <tr>\n",
              "      <th>5</th>\n",
              "      <td>0.4117</td>\n",
              "      <td>0.5543</td>\n",
              "      <td>0.8312</td>\n",
              "      <td>1.1455</td>\n",
              "      <td>1.6103</td>\n",
              "      <td>2.6746</td>\n",
              "      <td>4.3515</td>\n",
              "      <td>6.6257</td>\n",
              "      <td>9.2364</td>\n",
              "      <td>12.8325</td>\n",
              "      <td>11.0705</td>\n",
              "      <td>15.0863</td>\n",
              "      <td>16.7496</td>\n",
              "    </tr>\n",
              "    <tr>\n",
              "      <th>6</th>\n",
              "      <td>0.6757</td>\n",
              "      <td>0.8721</td>\n",
              "      <td>1.2373</td>\n",
              "      <td>1.6354</td>\n",
              "      <td>2.2041</td>\n",
              "      <td>3.4546</td>\n",
              "      <td>5.3481</td>\n",
              "      <td>7.8408</td>\n",
              "      <td>10.6446</td>\n",
              "      <td>14.4494</td>\n",
              "      <td>12.5916</td>\n",
              "      <td>16.8119</td>\n",
              "      <td>18.5476</td>\n",
              "    </tr>\n",
              "    <tr>\n",
              "      <th>7</th>\n",
              "      <td>0.9893</td>\n",
              "      <td>1.2390</td>\n",
              "      <td>1.6899</td>\n",
              "      <td>2.1673</td>\n",
              "      <td>2.8331</td>\n",
              "      <td>4.2549</td>\n",
              "      <td>6.3458</td>\n",
              "      <td>9.0371</td>\n",
              "      <td>12.0170</td>\n",
              "      <td>16.0128</td>\n",
              "      <td>14.0671</td>\n",
              "      <td>18.4753</td>\n",
              "      <td>20.2777</td>\n",
              "    </tr>\n",
              "    <tr>\n",
              "      <th>8</th>\n",
              "      <td>1.3444</td>\n",
              "      <td>1.6465</td>\n",
              "      <td>2.1797</td>\n",
              "      <td>2.7326</td>\n",
              "      <td>3.4895</td>\n",
              "      <td>5.0706</td>\n",
              "      <td>7.3441</td>\n",
              "      <td>10.2189</td>\n",
              "      <td>13.3616</td>\n",
              "      <td>17.5345</td>\n",
              "      <td>15.5073</td>\n",
              "      <td>20.0902</td>\n",
              "      <td>21.9550</td>\n",
              "    </tr>\n",
              "    <tr>\n",
              "      <th>9</th>\n",
              "      <td>1.7349</td>\n",
              "      <td>2.0879</td>\n",
              "      <td>2.7004</td>\n",
              "      <td>3.3251</td>\n",
              "      <td>4.1682</td>\n",
              "      <td>5.8988</td>\n",
              "      <td>8.3428</td>\n",
              "      <td>11.3888</td>\n",
              "      <td>14.6837</td>\n",
              "      <td>19.0228</td>\n",
              "      <td>16.9190</td>\n",
              "      <td>21.6660</td>\n",
              "      <td>23.5894</td>\n",
              "    </tr>\n",
              "    <tr>\n",
              "      <th>10</th>\n",
              "      <td>2.1559</td>\n",
              "      <td>2.5582</td>\n",
              "      <td>3.2470</td>\n",
              "      <td>3.9403</td>\n",
              "      <td>4.8652</td>\n",
              "      <td>6.7372</td>\n",
              "      <td>9.3418</td>\n",
              "      <td>12.5489</td>\n",
              "      <td>15.9872</td>\n",
              "      <td>20.4832</td>\n",
              "      <td>18.3070</td>\n",
              "      <td>23.2093</td>\n",
              "      <td>25.1882</td>\n",
              "    </tr>\n",
              "    <tr>\n",
              "      <th>11</th>\n",
              "      <td>2.6032</td>\n",
              "      <td>3.0535</td>\n",
              "      <td>3.8157</td>\n",
              "      <td>4.5748</td>\n",
              "      <td>5.5778</td>\n",
              "      <td>7.5841</td>\n",
              "      <td>10.3410</td>\n",
              "      <td>13.7007</td>\n",
              "      <td>17.2750</td>\n",
              "      <td>21.9200</td>\n",
              "      <td>19.6751</td>\n",
              "      <td>24.7250</td>\n",
              "      <td>26.7568</td>\n",
              "    </tr>\n",
              "    <tr>\n",
              "      <th>12</th>\n",
              "      <td>3.0738</td>\n",
              "      <td>3.5706</td>\n",
              "      <td>4.4038</td>\n",
              "      <td>5.2260</td>\n",
              "      <td>6.3038</td>\n",
              "      <td>8.4384</td>\n",
              "      <td>11.3403</td>\n",
              "      <td>14.8454</td>\n",
              "      <td>18.5493</td>\n",
              "      <td>23.3367</td>\n",
              "      <td>21.0261</td>\n",
              "      <td>26.2170</td>\n",
              "      <td>28.2995</td>\n",
              "    </tr>\n",
              "    <tr>\n",
              "      <th>13</th>\n",
              "      <td>3.5650</td>\n",
              "      <td>4.1069</td>\n",
              "      <td>5.0088</td>\n",
              "      <td>5.8919</td>\n",
              "      <td>7.0415</td>\n",
              "      <td>9.2991</td>\n",
              "      <td>12.3398</td>\n",
              "      <td>15.9839</td>\n",
              "      <td>19.8119</td>\n",
              "      <td>24.7356</td>\n",
              "      <td>22.3620</td>\n",
              "      <td>27.6882</td>\n",
              "      <td>29.8195</td>\n",
              "    </tr>\n",
              "    <tr>\n",
              "      <th>14</th>\n",
              "      <td>4.0747</td>\n",
              "      <td>4.6604</td>\n",
              "      <td>5.6287</td>\n",
              "      <td>6.5706</td>\n",
              "      <td>7.7895</td>\n",
              "      <td>10.1653</td>\n",
              "      <td>13.3393</td>\n",
              "      <td>17.1169</td>\n",
              "      <td>21.0641</td>\n",
              "      <td>26.1189</td>\n",
              "      <td>23.6848</td>\n",
              "      <td>29.1412</td>\n",
              "      <td>31.3193</td>\n",
              "    </tr>\n",
              "    <tr>\n",
              "      <th>15</th>\n",
              "      <td>4.6009</td>\n",
              "      <td>5.2293</td>\n",
              "      <td>6.2621</td>\n",
              "      <td>7.2609</td>\n",
              "      <td>8.5468</td>\n",
              "      <td>11.0365</td>\n",
              "      <td>14.3389</td>\n",
              "      <td>18.2451</td>\n",
              "      <td>22.3071</td>\n",
              "      <td>27.4884</td>\n",
              "      <td>24.9958</td>\n",
              "      <td>30.5779</td>\n",
              "      <td>32.8013</td>\n",
              "    </tr>\n",
              "    <tr>\n",
              "      <th>16</th>\n",
              "      <td>5.1422</td>\n",
              "      <td>5.8122</td>\n",
              "      <td>6.9077</td>\n",
              "      <td>7.9616</td>\n",
              "      <td>9.3122</td>\n",
              "      <td>11.9122</td>\n",
              "      <td>15.3385</td>\n",
              "      <td>19.3689</td>\n",
              "      <td>23.5418</td>\n",
              "      <td>28.8454</td>\n",
              "      <td>26.2962</td>\n",
              "      <td>31.9999</td>\n",
              "      <td>34.2672</td>\n",
              "    </tr>\n",
              "    <tr>\n",
              "      <th>17</th>\n",
              "      <td>5.6972</td>\n",
              "      <td>6.4078</td>\n",
              "      <td>7.5642</td>\n",
              "      <td>8.6718</td>\n",
              "      <td>10.0852</td>\n",
              "      <td>12.7919</td>\n",
              "      <td>16.3382</td>\n",
              "      <td>20.4887</td>\n",
              "      <td>24.7690</td>\n",
              "      <td>30.1910</td>\n",
              "      <td>27.5871</td>\n",
              "      <td>33.4087</td>\n",
              "      <td>35.7185</td>\n",
              "    </tr>\n",
              "    <tr>\n",
              "      <th>18</th>\n",
              "      <td>6.2648</td>\n",
              "      <td>7.0149</td>\n",
              "      <td>8.2307</td>\n",
              "      <td>9.3905</td>\n",
              "      <td>10.8649</td>\n",
              "      <td>13.6753</td>\n",
              "      <td>17.3379</td>\n",
              "      <td>21.6049</td>\n",
              "      <td>25.9894</td>\n",
              "      <td>31.5264</td>\n",
              "      <td>28.8693</td>\n",
              "      <td>34.8053</td>\n",
              "      <td>37.1565</td>\n",
              "    </tr>\n",
              "    <tr>\n",
              "      <th>19</th>\n",
              "      <td>6.8440</td>\n",
              "      <td>7.6327</td>\n",
              "      <td>8.9065</td>\n",
              "      <td>10.1170</td>\n",
              "      <td>11.6509</td>\n",
              "      <td>14.5620</td>\n",
              "      <td>18.3377</td>\n",
              "      <td>22.7178</td>\n",
              "      <td>27.2036</td>\n",
              "      <td>32.8523</td>\n",
              "      <td>30.1435</td>\n",
              "      <td>36.1909</td>\n",
              "      <td>38.5823</td>\n",
              "    </tr>\n",
              "    <tr>\n",
              "      <th>20</th>\n",
              "      <td>7.4338</td>\n",
              "      <td>8.2604</td>\n",
              "      <td>9.5908</td>\n",
              "      <td>10.8508</td>\n",
              "      <td>12.4426</td>\n",
              "      <td>15.4518</td>\n",
              "      <td>19.3374</td>\n",
              "      <td>23.8277</td>\n",
              "      <td>28.4120</td>\n",
              "      <td>34.1696</td>\n",
              "      <td>31.4104</td>\n",
              "      <td>37.5662</td>\n",
              "      <td>39.9968</td>\n",
              "    </tr>\n",
              "    <tr>\n",
              "      <th>21</th>\n",
              "      <td>8.0337</td>\n",
              "      <td>8.8972</td>\n",
              "      <td>10.2829</td>\n",
              "      <td>11.5913</td>\n",
              "      <td>13.2396</td>\n",
              "      <td>16.3444</td>\n",
              "      <td>20.3372</td>\n",
              "      <td>24.9348</td>\n",
              "      <td>29.6151</td>\n",
              "      <td>35.4789</td>\n",
              "      <td>32.6706</td>\n",
              "      <td>38.9322</td>\n",
              "      <td>41.4011</td>\n",
              "    </tr>\n",
              "    <tr>\n",
              "      <th>22</th>\n",
              "      <td>8.6427</td>\n",
              "      <td>9.5425</td>\n",
              "      <td>10.9823</td>\n",
              "      <td>12.3380</td>\n",
              "      <td>14.0415</td>\n",
              "      <td>17.2396</td>\n",
              "      <td>21.3370</td>\n",
              "      <td>26.0393</td>\n",
              "      <td>30.8133</td>\n",
              "      <td>36.7807</td>\n",
              "      <td>33.9244</td>\n",
              "      <td>40.2894</td>\n",
              "      <td>42.7957</td>\n",
              "    </tr>\n",
              "    <tr>\n",
              "      <th>23</th>\n",
              "      <td>9.2604</td>\n",
              "      <td>10.1957</td>\n",
              "      <td>11.6886</td>\n",
              "      <td>13.0905</td>\n",
              "      <td>14.8480</td>\n",
              "      <td>18.1373</td>\n",
              "      <td>22.3369</td>\n",
              "      <td>27.1413</td>\n",
              "      <td>32.0069</td>\n",
              "      <td>38.0756</td>\n",
              "      <td>35.1725</td>\n",
              "      <td>41.6384</td>\n",
              "      <td>44.1813</td>\n",
              "    </tr>\n",
              "    <tr>\n",
              "      <th>24</th>\n",
              "      <td>9.8862</td>\n",
              "      <td>10.8564</td>\n",
              "      <td>12.4012</td>\n",
              "      <td>13.8484</td>\n",
              "      <td>15.6587</td>\n",
              "      <td>19.0373</td>\n",
              "      <td>23.3367</td>\n",
              "      <td>28.2412</td>\n",
              "      <td>33.1962</td>\n",
              "      <td>39.3641</td>\n",
              "      <td>36.4150</td>\n",
              "      <td>42.9798</td>\n",
              "      <td>45.5585</td>\n",
              "    </tr>\n",
              "    <tr>\n",
              "      <th>25</th>\n",
              "      <td>10.5197</td>\n",
              "      <td>11.5240</td>\n",
              "      <td>13.1197</td>\n",
              "      <td>14.6114</td>\n",
              "      <td>16.4734</td>\n",
              "      <td>19.9393</td>\n",
              "      <td>24.3366</td>\n",
              "      <td>29.3389</td>\n",
              "      <td>34.3816</td>\n",
              "      <td>40.6465</td>\n",
              "      <td>37.6525</td>\n",
              "      <td>44.3141</td>\n",
              "      <td>46.9279</td>\n",
              "    </tr>\n",
              "    <tr>\n",
              "      <th>26</th>\n",
              "      <td>11.1602</td>\n",
              "      <td>12.1981</td>\n",
              "      <td>13.8439</td>\n",
              "      <td>15.3792</td>\n",
              "      <td>17.2919</td>\n",
              "      <td>20.8434</td>\n",
              "      <td>25.3365</td>\n",
              "      <td>30.4346</td>\n",
              "      <td>35.5632</td>\n",
              "      <td>41.9232</td>\n",
              "      <td>38.8851</td>\n",
              "      <td>45.6417</td>\n",
              "      <td>48.2899</td>\n",
              "    </tr>\n",
              "    <tr>\n",
              "      <th>27</th>\n",
              "      <td>11.8076</td>\n",
              "      <td>12.8785</td>\n",
              "      <td>14.5734</td>\n",
              "      <td>16.1514</td>\n",
              "      <td>18.1139</td>\n",
              "      <td>21.7494</td>\n",
              "      <td>26.3363</td>\n",
              "      <td>31.5284</td>\n",
              "      <td>36.7412</td>\n",
              "      <td>43.1945</td>\n",
              "      <td>40.1133</td>\n",
              "      <td>46.9629</td>\n",
              "      <td>49.6449</td>\n",
              "    </tr>\n",
              "    <tr>\n",
              "      <th>28</th>\n",
              "      <td>12.4613</td>\n",
              "      <td>13.5647</td>\n",
              "      <td>15.3079</td>\n",
              "      <td>16.9279</td>\n",
              "      <td>18.9392</td>\n",
              "      <td>22.6572</td>\n",
              "      <td>27.3362</td>\n",
              "      <td>32.6205</td>\n",
              "      <td>37.9159</td>\n",
              "      <td>44.4608</td>\n",
              "      <td>41.3371</td>\n",
              "      <td>48.2782</td>\n",
              "      <td>50.9934</td>\n",
              "    </tr>\n",
              "    <tr>\n",
              "      <th>29</th>\n",
              "      <td>13.1211</td>\n",
              "      <td>14.2565</td>\n",
              "      <td>16.0471</td>\n",
              "      <td>17.7084</td>\n",
              "      <td>19.7677</td>\n",
              "      <td>23.5666</td>\n",
              "      <td>28.3361</td>\n",
              "      <td>33.7109</td>\n",
              "      <td>39.0875</td>\n",
              "      <td>45.7223</td>\n",
              "      <td>42.5570</td>\n",
              "      <td>49.5879</td>\n",
              "      <td>52.3356</td>\n",
              "    </tr>\n",
              "    <tr>\n",
              "      <th>30</th>\n",
              "      <td>13.7867</td>\n",
              "      <td>14.9535</td>\n",
              "      <td>16.7908</td>\n",
              "      <td>18.4927</td>\n",
              "      <td>20.5992</td>\n",
              "      <td>24.4776</td>\n",
              "      <td>29.3360</td>\n",
              "      <td>34.7997</td>\n",
              "      <td>40.2560</td>\n",
              "      <td>46.9792</td>\n",
              "      <td>43.7730</td>\n",
              "      <td>50.8922</td>\n",
              "      <td>53.6720</td>\n",
              "    </tr>\n",
              "  </tbody>\n",
              "</table>\n",
              "</div>\n",
              "      <button class=\"colab-df-convert\" onclick=\"convertToInteractive('df-32ffea70-120d-41c5-84fb-57b6528647fe')\"\n",
              "              title=\"Convert this dataframe to an interactive table.\"\n",
              "              style=\"display:none;\">\n",
              "        \n",
              "  <svg xmlns=\"http://www.w3.org/2000/svg\" height=\"24px\"viewBox=\"0 0 24 24\"\n",
              "       width=\"24px\">\n",
              "    <path d=\"M0 0h24v24H0V0z\" fill=\"none\"/>\n",
              "    <path d=\"M18.56 5.44l.94 2.06.94-2.06 2.06-.94-2.06-.94-.94-2.06-.94 2.06-2.06.94zm-11 1L8.5 8.5l.94-2.06 2.06-.94-2.06-.94L8.5 2.5l-.94 2.06-2.06.94zm10 10l.94 2.06.94-2.06 2.06-.94-2.06-.94-.94-2.06-.94 2.06-2.06.94z\"/><path d=\"M17.41 7.96l-1.37-1.37c-.4-.4-.92-.59-1.43-.59-.52 0-1.04.2-1.43.59L10.3 9.45l-7.72 7.72c-.78.78-.78 2.05 0 2.83L4 21.41c.39.39.9.59 1.41.59.51 0 1.02-.2 1.41-.59l7.78-7.78 2.81-2.81c.8-.78.8-2.07 0-2.86zM5.41 20L4 18.59l7.72-7.72 1.47 1.35L5.41 20z\"/>\n",
              "  </svg>\n",
              "      </button>\n",
              "      \n",
              "  <style>\n",
              "    .colab-df-container {\n",
              "      display:flex;\n",
              "      flex-wrap:wrap;\n",
              "      gap: 12px;\n",
              "    }\n",
              "\n",
              "    .colab-df-convert {\n",
              "      background-color: #E8F0FE;\n",
              "      border: none;\n",
              "      border-radius: 50%;\n",
              "      cursor: pointer;\n",
              "      display: none;\n",
              "      fill: #1967D2;\n",
              "      height: 32px;\n",
              "      padding: 0 0 0 0;\n",
              "      width: 32px;\n",
              "    }\n",
              "\n",
              "    .colab-df-convert:hover {\n",
              "      background-color: #E2EBFA;\n",
              "      box-shadow: 0px 1px 2px rgba(60, 64, 67, 0.3), 0px 1px 3px 1px rgba(60, 64, 67, 0.15);\n",
              "      fill: #174EA6;\n",
              "    }\n",
              "\n",
              "    [theme=dark] .colab-df-convert {\n",
              "      background-color: #3B4455;\n",
              "      fill: #D2E3FC;\n",
              "    }\n",
              "\n",
              "    [theme=dark] .colab-df-convert:hover {\n",
              "      background-color: #434B5C;\n",
              "      box-shadow: 0px 1px 3px 1px rgba(0, 0, 0, 0.15);\n",
              "      filter: drop-shadow(0px 1px 2px rgba(0, 0, 0, 0.3));\n",
              "      fill: #FFFFFF;\n",
              "    }\n",
              "  </style>\n",
              "\n",
              "      <script>\n",
              "        const buttonEl =\n",
              "          document.querySelector('#df-32ffea70-120d-41c5-84fb-57b6528647fe button.colab-df-convert');\n",
              "        buttonEl.style.display =\n",
              "          google.colab.kernel.accessAllowed ? 'block' : 'none';\n",
              "\n",
              "        async function convertToInteractive(key) {\n",
              "          const element = document.querySelector('#df-32ffea70-120d-41c5-84fb-57b6528647fe');\n",
              "          const dataTable =\n",
              "            await google.colab.kernel.invokeFunction('convertToInteractive',\n",
              "                                                     [key], {});\n",
              "          if (!dataTable) return;\n",
              "\n",
              "          const docLinkHtml = 'Like what you see? Visit the ' +\n",
              "            '<a target=\"_blank\" href=https://colab.research.google.com/notebooks/data_table.ipynb>data table notebook</a>'\n",
              "            + ' to learn more about interactive tables.';\n",
              "          element.innerHTML = '';\n",
              "          dataTable['output_type'] = 'display_data';\n",
              "          await google.colab.output.renderOutput(dataTable, element);\n",
              "          const docLink = document.createElement('div');\n",
              "          docLink.innerHTML = docLinkHtml;\n",
              "          element.appendChild(docLink);\n",
              "        }\n",
              "      </script>\n",
              "    </div>\n",
              "  </div>\n",
              "  "
            ]
          },
          "metadata": {},
          "execution_count": 371
        }
      ],
      "source": [
        "import pandas as pd\n",
        "from scipy.stats import chi\n",
        "\n",
        "tabela_t_chi_2 = pd.DataFrame(\n",
        "    [], \n",
        "    index=[i for i in range(1, 31)],\n",
        "    columns = [0.005, 0.01, 0.025, 0.05, 0.1, 0.25, 0.5, 0.75, 0.9, 0.975, 0.95, 0.99, 0.995]\n",
        ")\n",
        "\n",
        "for index in tabela_t_chi_2.index:\n",
        "    for column in tabela_t_chi_2.columns:\n",
        "        tabela_t_chi_2.loc[index, column] = \"{0:0.4f}\".format(chi.ppf(float(column), index)**2)\n",
        "\n",
        "tabela_t_chi_2.index.name='Graus de Liberdade'\n",
        "tabela_t_chi_2.rename_axis(['p'], axis=1, inplace = True)\n",
        "\n",
        "tabela_t_chi_2\n"
      ]
    },
    {
      "cell_type": "markdown",
      "metadata": {
        "id": "UkzhYAPDpsl_"
      },
      "source": [
        "<img src='https://caelum-online-public.s3.amazonaws.com/1229-estatistica-parte3/01/img016.png' width='250px'>\n",
        "\n",
        "Tabela com os valores de $\\chi_p^2$ em função dos graus de liberdade $(n - 1)$ e de $p = P(\\chi^2 \\leq \\chi_p^2)$"
      ]
    },
    {
      "cell_type": "markdown",
      "metadata": {
        "id": "cCPOqVFKpsl_"
      },
      "source": [
        "## <font color='red'>Problema</font>"
      ]
    },
    {
      "cell_type": "markdown",
      "metadata": {
        "id": "GTq1wpkbpsl_"
      },
      "source": [
        "Antes de cada partida do campeonato nacional de futebol, as moedas utilizadas pelos árbitros devem ser verificadas para se ter certeza de que não são viciadas, ou seja, que não tendam para determinado resultado. Para isso um teste simples deve ser realizado antes de cada partida. Este teste consiste em lançar a moeda do jogo **50 vezes** e contar as frequências de **CARAS** e **COROAS** obtidas. A tabela abaixo mostra o resultado obtido no experimento:\n",
        "\n",
        "||CARA|COROA|\n",
        "|-|-|-|\n",
        "|Observado|17|33|\n",
        "|Esperado|25|25|\n",
        "\n",
        "A um **nível de significância de 5%**, é possível afirmar que a moeda não é honesta, isto é, que a moeda apresenta uma probabilidade maior de cair com a face **CARA** voltada para cima?"
      ]
    },
    {
      "cell_type": "markdown",
      "metadata": {
        "id": "CSlCI1wUpsl_"
      },
      "source": [
        "---"
      ]
    },
    {
      "cell_type": "markdown",
      "metadata": {
        "id": "Op26YDWnpsmA"
      },
      "source": [
        "### Dados do problema"
      ]
    },
    {
      "cell_type": "code",
      "execution_count": 372,
      "metadata": {
        "id": "p5iOqxk2psmA"
      },
      "outputs": [],
      "source": [
        "F_Observada = [17, 33]\n",
        "F_Esperada = [25, 25]\n",
        "significancia = 0.05\n",
        "confianca = 1 - significancia\n",
        "k = 2 # Número de eventos possíveis\n",
        "graus_de_liberdade = k - 1"
      ]
    },
    {
      "cell_type": "markdown",
      "metadata": {
        "id": "w6A74pM-psmB"
      },
      "source": [
        "### **Passo 1** - formulação das hipóteses $H_0$ e $H_1$\n",
        "\n",
        "#### <font color='red'>Lembre-se, a hipótese nula sempre contém a alegação de igualdade</font>"
      ]
    },
    {
      "cell_type": "markdown",
      "metadata": {
        "id": "zA4AD5_8psmB"
      },
      "source": [
        "### $H_0: F_{CARA} = F_{COROA}$\n",
        "\n",
        "### $H_1: F_{CARA} \\neq F_{COROA}$"
      ]
    },
    {
      "cell_type": "markdown",
      "metadata": {
        "id": "rUtuw6_bpsmB"
      },
      "source": [
        "---"
      ]
    },
    {
      "cell_type": "markdown",
      "metadata": {
        "id": "Zi2oE6ZbpsmB"
      },
      "source": [
        "### **Passo 2** - fixação da significância do teste ($\\alpha$)"
      ]
    },
    {
      "cell_type": "markdown",
      "metadata": {
        "id": "cCL8Wyy7psmC"
      },
      "source": [
        "https://docs.scipy.org/doc/scipy/reference/generated/scipy.stats.chi.html"
      ]
    },
    {
      "cell_type": "code",
      "execution_count": 373,
      "metadata": {
        "id": "5bF7GEd-psmD"
      },
      "outputs": [],
      "source": [
        "from scipy.stats import chi"
      ]
    },
    {
      "cell_type": "code",
      "execution_count": 374,
      "metadata": {
        "id": "WRsJSXxGpsmE",
        "scrolled": true,
        "colab": {
          "base_uri": "https://localhost:8080/",
          "height": 174
        },
        "outputId": "bcb7240a-bed5-420f-c2b5-d097ff46f453"
      },
      "outputs": [
        {
          "output_type": "execute_result",
          "data": {
            "text/plain": [
              "p                    0.005   0.010   0.025   0.050   0.100   0.250   0.500  \\\n",
              "Graus de Liberdade                                                           \n",
              "1                   0.0000  0.0002  0.0010  0.0039  0.0158  0.1015  0.4549   \n",
              "2                   0.0100  0.0201  0.0506  0.1026  0.2107  0.5754  1.3863   \n",
              "3                   0.0717  0.1148  0.2158  0.3518  0.5844  1.2125  2.3660   \n",
              "\n",
              "p                    0.750   0.900   0.975   0.950    0.990    0.995  \n",
              "Graus de Liberdade                                                    \n",
              "1                   1.3233  2.7055  5.0239  3.8415   6.6349   7.8794  \n",
              "2                   2.7726  4.6052  7.3778  5.9915   9.2103  10.5966  \n",
              "3                   4.1083  6.2514  9.3484  7.8147  11.3449  12.8382  "
            ],
            "text/html": [
              "\n",
              "  <div id=\"df-13f333b9-6a83-423d-be50-bb8a21506c98\">\n",
              "    <div class=\"colab-df-container\">\n",
              "      <div>\n",
              "<style scoped>\n",
              "    .dataframe tbody tr th:only-of-type {\n",
              "        vertical-align: middle;\n",
              "    }\n",
              "\n",
              "    .dataframe tbody tr th {\n",
              "        vertical-align: top;\n",
              "    }\n",
              "\n",
              "    .dataframe thead th {\n",
              "        text-align: right;\n",
              "    }\n",
              "</style>\n",
              "<table border=\"1\" class=\"dataframe\">\n",
              "  <thead>\n",
              "    <tr style=\"text-align: right;\">\n",
              "      <th>p</th>\n",
              "      <th>0.005</th>\n",
              "      <th>0.010</th>\n",
              "      <th>0.025</th>\n",
              "      <th>0.050</th>\n",
              "      <th>0.100</th>\n",
              "      <th>0.250</th>\n",
              "      <th>0.500</th>\n",
              "      <th>0.750</th>\n",
              "      <th>0.900</th>\n",
              "      <th>0.975</th>\n",
              "      <th>0.950</th>\n",
              "      <th>0.990</th>\n",
              "      <th>0.995</th>\n",
              "    </tr>\n",
              "    <tr>\n",
              "      <th>Graus de Liberdade</th>\n",
              "      <th></th>\n",
              "      <th></th>\n",
              "      <th></th>\n",
              "      <th></th>\n",
              "      <th></th>\n",
              "      <th></th>\n",
              "      <th></th>\n",
              "      <th></th>\n",
              "      <th></th>\n",
              "      <th></th>\n",
              "      <th></th>\n",
              "      <th></th>\n",
              "      <th></th>\n",
              "    </tr>\n",
              "  </thead>\n",
              "  <tbody>\n",
              "    <tr>\n",
              "      <th>1</th>\n",
              "      <td>0.0000</td>\n",
              "      <td>0.0002</td>\n",
              "      <td>0.0010</td>\n",
              "      <td>0.0039</td>\n",
              "      <td>0.0158</td>\n",
              "      <td>0.1015</td>\n",
              "      <td>0.4549</td>\n",
              "      <td>1.3233</td>\n",
              "      <td>2.7055</td>\n",
              "      <td>5.0239</td>\n",
              "      <td>3.8415</td>\n",
              "      <td>6.6349</td>\n",
              "      <td>7.8794</td>\n",
              "    </tr>\n",
              "    <tr>\n",
              "      <th>2</th>\n",
              "      <td>0.0100</td>\n",
              "      <td>0.0201</td>\n",
              "      <td>0.0506</td>\n",
              "      <td>0.1026</td>\n",
              "      <td>0.2107</td>\n",
              "      <td>0.5754</td>\n",
              "      <td>1.3863</td>\n",
              "      <td>2.7726</td>\n",
              "      <td>4.6052</td>\n",
              "      <td>7.3778</td>\n",
              "      <td>5.9915</td>\n",
              "      <td>9.2103</td>\n",
              "      <td>10.5966</td>\n",
              "    </tr>\n",
              "    <tr>\n",
              "      <th>3</th>\n",
              "      <td>0.0717</td>\n",
              "      <td>0.1148</td>\n",
              "      <td>0.2158</td>\n",
              "      <td>0.3518</td>\n",
              "      <td>0.5844</td>\n",
              "      <td>1.2125</td>\n",
              "      <td>2.3660</td>\n",
              "      <td>4.1083</td>\n",
              "      <td>6.2514</td>\n",
              "      <td>9.3484</td>\n",
              "      <td>7.8147</td>\n",
              "      <td>11.3449</td>\n",
              "      <td>12.8382</td>\n",
              "    </tr>\n",
              "  </tbody>\n",
              "</table>\n",
              "</div>\n",
              "      <button class=\"colab-df-convert\" onclick=\"convertToInteractive('df-13f333b9-6a83-423d-be50-bb8a21506c98')\"\n",
              "              title=\"Convert this dataframe to an interactive table.\"\n",
              "              style=\"display:none;\">\n",
              "        \n",
              "  <svg xmlns=\"http://www.w3.org/2000/svg\" height=\"24px\"viewBox=\"0 0 24 24\"\n",
              "       width=\"24px\">\n",
              "    <path d=\"M0 0h24v24H0V0z\" fill=\"none\"/>\n",
              "    <path d=\"M18.56 5.44l.94 2.06.94-2.06 2.06-.94-2.06-.94-.94-2.06-.94 2.06-2.06.94zm-11 1L8.5 8.5l.94-2.06 2.06-.94-2.06-.94L8.5 2.5l-.94 2.06-2.06.94zm10 10l.94 2.06.94-2.06 2.06-.94-2.06-.94-.94-2.06-.94 2.06-2.06.94z\"/><path d=\"M17.41 7.96l-1.37-1.37c-.4-.4-.92-.59-1.43-.59-.52 0-1.04.2-1.43.59L10.3 9.45l-7.72 7.72c-.78.78-.78 2.05 0 2.83L4 21.41c.39.39.9.59 1.41.59.51 0 1.02-.2 1.41-.59l7.78-7.78 2.81-2.81c.8-.78.8-2.07 0-2.86zM5.41 20L4 18.59l7.72-7.72 1.47 1.35L5.41 20z\"/>\n",
              "  </svg>\n",
              "      </button>\n",
              "      \n",
              "  <style>\n",
              "    .colab-df-container {\n",
              "      display:flex;\n",
              "      flex-wrap:wrap;\n",
              "      gap: 12px;\n",
              "    }\n",
              "\n",
              "    .colab-df-convert {\n",
              "      background-color: #E8F0FE;\n",
              "      border: none;\n",
              "      border-radius: 50%;\n",
              "      cursor: pointer;\n",
              "      display: none;\n",
              "      fill: #1967D2;\n",
              "      height: 32px;\n",
              "      padding: 0 0 0 0;\n",
              "      width: 32px;\n",
              "    }\n",
              "\n",
              "    .colab-df-convert:hover {\n",
              "      background-color: #E2EBFA;\n",
              "      box-shadow: 0px 1px 2px rgba(60, 64, 67, 0.3), 0px 1px 3px 1px rgba(60, 64, 67, 0.15);\n",
              "      fill: #174EA6;\n",
              "    }\n",
              "\n",
              "    [theme=dark] .colab-df-convert {\n",
              "      background-color: #3B4455;\n",
              "      fill: #D2E3FC;\n",
              "    }\n",
              "\n",
              "    [theme=dark] .colab-df-convert:hover {\n",
              "      background-color: #434B5C;\n",
              "      box-shadow: 0px 1px 3px 1px rgba(0, 0, 0, 0.15);\n",
              "      filter: drop-shadow(0px 1px 2px rgba(0, 0, 0, 0.3));\n",
              "      fill: #FFFFFF;\n",
              "    }\n",
              "  </style>\n",
              "\n",
              "      <script>\n",
              "        const buttonEl =\n",
              "          document.querySelector('#df-13f333b9-6a83-423d-be50-bb8a21506c98 button.colab-df-convert');\n",
              "        buttonEl.style.display =\n",
              "          google.colab.kernel.accessAllowed ? 'block' : 'none';\n",
              "\n",
              "        async function convertToInteractive(key) {\n",
              "          const element = document.querySelector('#df-13f333b9-6a83-423d-be50-bb8a21506c98');\n",
              "          const dataTable =\n",
              "            await google.colab.kernel.invokeFunction('convertToInteractive',\n",
              "                                                     [key], {});\n",
              "          if (!dataTable) return;\n",
              "\n",
              "          const docLinkHtml = 'Like what you see? Visit the ' +\n",
              "            '<a target=\"_blank\" href=https://colab.research.google.com/notebooks/data_table.ipynb>data table notebook</a>'\n",
              "            + ' to learn more about interactive tables.';\n",
              "          element.innerHTML = '';\n",
              "          dataTable['output_type'] = 'display_data';\n",
              "          await google.colab.output.renderOutput(dataTable, element);\n",
              "          const docLink = document.createElement('div');\n",
              "          docLink.innerHTML = docLinkHtml;\n",
              "          element.appendChild(docLink);\n",
              "        }\n",
              "      </script>\n",
              "    </div>\n",
              "  </div>\n",
              "  "
            ]
          },
          "metadata": {},
          "execution_count": 374
        }
      ],
      "source": [
        "tabela_t_chi_2[:3]"
      ]
    },
    {
      "cell_type": "markdown",
      "metadata": {
        "id": "0RRjHQm7psmF"
      },
      "source": [
        "### Obtendo $\\chi_{\\alpha}^2$"
      ]
    },
    {
      "cell_type": "code",
      "execution_count": 375,
      "metadata": {
        "id": "6rXyih-lpsmH",
        "colab": {
          "base_uri": "https://localhost:8080/"
        },
        "outputId": "d6e69664-6b99-486c-8a6b-1a40d17b9ad4"
      },
      "outputs": [
        {
          "output_type": "execute_result",
          "data": {
            "text/plain": [
              "3.8414588206941245"
            ]
          },
          "metadata": {},
          "execution_count": 375
        }
      ],
      "source": [
        "chi_2_alpha = chi.ppf(confianca, graus_de_liberdade) ** 2\n",
        "chi_2_alpha"
      ]
    },
    {
      "cell_type": "markdown",
      "metadata": {
        "id": "aHxm3ZCupsmJ"
      },
      "source": [
        "![Região de Aceitação](https://caelum-online-public.s3.amazonaws.com/1229-estatistica-parte3/01/img018.png)"
      ]
    },
    {
      "cell_type": "markdown",
      "metadata": {
        "id": "FxLr2OnDpsmJ"
      },
      "source": [
        "---"
      ]
    },
    {
      "cell_type": "markdown",
      "metadata": {
        "id": "JcUvBM5OpsmJ"
      },
      "source": [
        "### **Passo 3** - cálculo da estatística-teste e verificação desse valor com as áreas de aceitação e rejeição do teste\n",
        "\n",
        "# $$\\chi^2 = \\sum_{i=1}^{k}{\\frac{(F_{i}^{Obs} - F_{i}^{Esp})^2}{F_{i}^{Esp}}}$$\n",
        "\n",
        "Onde\n",
        "\n",
        "$F_{i}^{Obs}$ = frequência observada para o evento $i$\n",
        "\n",
        "$F_{i}^{Esp}$ = frequência esperada para o evento $i$\n",
        "\n",
        "$k$ = total de eventos possíveis"
      ]
    },
    {
      "cell_type": "code",
      "execution_count": 376,
      "metadata": {
        "id": "2b32Y6HiuT-u",
        "colab": {
          "base_uri": "https://localhost:8080/"
        },
        "outputId": "66914960-c8d5-4737-8415-ce181e4cb5e5"
      },
      "outputs": [
        {
          "output_type": "execute_result",
          "data": {
            "text/plain": [
              "5.12"
            ]
          },
          "metadata": {},
          "execution_count": 376
        }
      ],
      "source": [
        "chi_2 = ((F_Observada[0] - F_Esperada[0])** 2 / F_Esperada[0]) + ((F_Observada[1] - F_Esperada[1])** 2 / F_Esperada[1])\n",
        "chi_2"
      ]
    },
    {
      "cell_type": "code",
      "execution_count": 378,
      "metadata": {
        "id": "7eL97ts8psmJ",
        "colab": {
          "base_uri": "https://localhost:8080/"
        },
        "outputId": "33cfe971-eaf6-4b74-c21e-bd011611f016"
      },
      "outputs": [
        {
          "output_type": "execute_result",
          "data": {
            "text/plain": [
              "5.12"
            ]
          },
          "metadata": {},
          "execution_count": 378
        }
      ],
      "source": [
        "chi_2 = 0\n",
        "\n",
        "for i in range(k):\n",
        "  chi_2 += (F_Observada[i] - F_Esperada[i]) ** 2 / F_Esperada[i]\n",
        "\n",
        "chi_2"
      ]
    },
    {
      "cell_type": "markdown",
      "metadata": {
        "id": "gdwiYn6ZpsmK"
      },
      "source": [
        "![Estatística-Teste](https://caelum-online-public.s3.amazonaws.com/1229-estatistica-parte3/01/img019.png)"
      ]
    },
    {
      "cell_type": "markdown",
      "metadata": {
        "id": "7v6msKABpsmK"
      },
      "source": [
        "---"
      ]
    },
    {
      "cell_type": "markdown",
      "metadata": {
        "id": "PHLhbZ3IpsmK"
      },
      "source": [
        "### **Passo 4** - Aceitação ou rejeição da hipótese nula"
      ]
    },
    {
      "cell_type": "markdown",
      "metadata": {
        "id": "tiQ0gAMGpsmL"
      },
      "source": [
        "<img src='https://caelum-online-public.s3.amazonaws.com/1229-estatistica-parte3/01/img020.png' width=80%>"
      ]
    },
    {
      "cell_type": "markdown",
      "metadata": {
        "id": "lhFLib7-psmM"
      },
      "source": [
        "### <font color='red'>Critério do valor crítico</font>\n",
        "\n",
        "> ### Rejeitar $H_0$ se $\\chi_{teste}^2 > \\chi_{\\alpha}^2$"
      ]
    },
    {
      "cell_type": "code",
      "execution_count": 379,
      "metadata": {
        "id": "HSOhw7E7psmM",
        "colab": {
          "base_uri": "https://localhost:8080/"
        },
        "outputId": "9ae835de-41a3-415d-c601-209bb0765814"
      },
      "outputs": [
        {
          "output_type": "execute_result",
          "data": {
            "text/plain": [
              "True"
            ]
          },
          "metadata": {},
          "execution_count": 379
        }
      ],
      "source": [
        "chi_2 > chi_2_alpha"
      ]
    },
    {
      "cell_type": "markdown",
      "metadata": {
        "id": "hvHTGAOepsmN"
      },
      "source": [
        "### <font color='green'>Conclusão: Com um nível de confiança de 95% rejeitamos a hipótese nula ($H_0$) e concluímos que as frequências observadas e esperadas são discrepantes, ou seja, a moeda não é honesta e precisa ser substituída.</font>"
      ]
    },
    {
      "cell_type": "markdown",
      "metadata": {
        "id": "VcqxUxnopsmN"
      },
      "source": [
        "### <font color='red'>Critério do valor $p$</font>\n",
        "\n",
        "> ### Rejeitar $H_0$ se o valor $p\\leq\\alpha$"
      ]
    },
    {
      "cell_type": "code",
      "execution_count": 380,
      "metadata": {
        "id": "fP8w-6MZpsmO",
        "colab": {
          "base_uri": "https://localhost:8080/"
        },
        "outputId": "537854c5-6a02-4e29-d7a2-3debb87ca920"
      },
      "outputs": [
        {
          "output_type": "execute_result",
          "data": {
            "text/plain": [
              "5.12"
            ]
          },
          "metadata": {},
          "execution_count": 380
        }
      ],
      "source": [
        "chi_2"
      ]
    },
    {
      "cell_type": "code",
      "execution_count": 381,
      "metadata": {
        "id": "LWCqrM2rpsmP",
        "colab": {
          "base_uri": "https://localhost:8080/"
        },
        "outputId": "324049fd-0be3-4b77-e6df-e4bb97777c4c"
      },
      "outputs": [
        {
          "output_type": "execute_result",
          "data": {
            "text/plain": [
              "2.262741699796952"
            ]
          },
          "metadata": {},
          "execution_count": 381
        }
      ],
      "source": [
        "raiz_chi_2 = np.sqrt(chi_2)\n",
        "raiz_chi_2"
      ]
    },
    {
      "cell_type": "code",
      "execution_count": 391,
      "metadata": {
        "id": "uFG6yszWpsmQ",
        "colab": {
          "base_uri": "https://localhost:8080/"
        },
        "outputId": "b9f074a2-b632-4346-bedd-a3bbc89da8dc"
      },
      "outputs": [
        {
          "output_type": "execute_result",
          "data": {
            "text/plain": [
              "0.023651616655356"
            ]
          },
          "metadata": {},
          "execution_count": 391
        }
      ],
      "source": [
        "p_valor = chi.sf(raiz_chi_2, df=1)\n",
        "p_valor"
      ]
    },
    {
      "cell_type": "markdown",
      "metadata": {
        "id": "WpvavOAVpsmR"
      },
      "source": [
        "https://docs.scipy.org/doc/scipy/reference/generated/scipy.stats.chisquare.html"
      ]
    },
    {
      "cell_type": "code",
      "execution_count": 384,
      "metadata": {
        "id": "Jc1RkAn6psmR"
      },
      "outputs": [],
      "source": [
        "from scipy.stats import chisquare"
      ]
    },
    {
      "cell_type": "code",
      "execution_count": 387,
      "metadata": {
        "id": "jjiIlObspsmR",
        "colab": {
          "base_uri": "https://localhost:8080/"
        },
        "outputId": "25053e51-a1f5-433a-b35e-68d27463ff5f"
      },
      "outputs": [
        {
          "output_type": "stream",
          "name": "stdout",
          "text": [
            "5.12\n",
            "0.023651616655356\n"
          ]
        }
      ],
      "source": [
        "chi_2, p_valor = chisquare(f_obs=F_Observada, f_exp=F_Esperada)\n",
        "print(chi_2)\n",
        "print(p_valor)"
      ]
    },
    {
      "cell_type": "code",
      "execution_count": 388,
      "metadata": {
        "id": "reKBubKWpsmT",
        "colab": {
          "base_uri": "https://localhost:8080/"
        },
        "outputId": "5cee61d1-0562-4742-a7f5-983b72da7a13"
      },
      "outputs": [
        {
          "output_type": "execute_result",
          "data": {
            "text/plain": [
              "True"
            ]
          },
          "metadata": {},
          "execution_count": 388
        }
      ],
      "source": [
        "p_valor <= significancia"
      ]
    },
    {
      "cell_type": "markdown",
      "metadata": {
        "id": "WlHU5fNNpsmU"
      },
      "source": [
        "---"
      ]
    },
    {
      "cell_type": "markdown",
      "metadata": {
        "id": "PUXdBJ9FpsmU"
      },
      "source": [
        "## <font color='red'>Problema</font>"
      ]
    },
    {
      "cell_type": "markdown",
      "metadata": {
        "id": "DXvJ2JnKpsmU"
      },
      "source": [
        "Um novo tratamento para acabar com o hábito de fumar está sendo empregado em um grupo de **35 pacientes** voluntários. De cada paciente testado foram obtidas as informações de quantidades de cigarros consumidos por dia antes e depois do término do tratamento. Assumindo um **nível de confiança de 95%** é possível concluir que, depois da aplicação do novo tratamento, houve uma mudança no hábito de fumar do grupo de pacientes testado?"
      ]
    },
    {
      "cell_type": "markdown",
      "metadata": {
        "id": "BqE_PN7IpsmU"
      },
      "source": [
        "## <font color=green>4.2 Teste Wilcoxon</font>\n",
        "### Comparação de duas populações - amostras dependentes\n",
        "***"
      ]
    },
    {
      "cell_type": "markdown",
      "metadata": {
        "id": "1MxFBYB-psmU"
      },
      "source": [
        "Empregado quando se deseja comparar duas amostras relacionadas, amostras emparelhadas. Pode ser aplicado quando se deseja testar a diferença de duas condições, isto é, quando um mesmo elemento é submetido a duas medidas."
      ]
    },
    {
      "cell_type": "markdown",
      "metadata": {
        "id": "3H67Y7P7psmV"
      },
      "source": [
        "### Dados do problema"
      ]
    },
    {
      "cell_type": "code",
      "execution_count": 392,
      "metadata": {
        "id": "JBh5-HrnpsmV"
      },
      "outputs": [],
      "source": [
        "fumo = {\n",
        "    'Antes': [39, 25, 24, 50, 13, 52, 21, 29, 10, 22, 50, 15, 36, 39, 52, 48, 24, 15, 40, 41, 17, 12, 21, 49, 14, 55, 46, 22, 28, 23, 37, 17, 31, 49, 49],\n",
        "    'Depois': [16, 8, 12, 0, 14, 16, 13, 12, 19, 17, 17, 2, 15, 10, 20, 13, 0, 4, 16, 18, 16, 16, 9, 9, 18, 4, 17, 0, 11, 14, 0, 19, 2, 9, 6]\n",
        "}\n",
        "significancia = 0.05\n",
        "confianca = 1 - significancia\n",
        "n = 35\n"
      ]
    },
    {
      "cell_type": "code",
      "execution_count": 393,
      "metadata": {
        "id": "AfEGWBp1psmW",
        "scrolled": true,
        "colab": {
          "base_uri": "https://localhost:8080/",
          "height": 206
        },
        "outputId": "75ed6041-5241-41b9-afb6-1605be2dc262"
      },
      "outputs": [
        {
          "output_type": "execute_result",
          "data": {
            "text/plain": [
              "   Antes  Depois\n",
              "0     39      16\n",
              "1     25       8\n",
              "2     24      12\n",
              "3     50       0\n",
              "4     13      14"
            ],
            "text/html": [
              "\n",
              "  <div id=\"df-93702c7e-230c-48cd-9d98-5e081961096b\">\n",
              "    <div class=\"colab-df-container\">\n",
              "      <div>\n",
              "<style scoped>\n",
              "    .dataframe tbody tr th:only-of-type {\n",
              "        vertical-align: middle;\n",
              "    }\n",
              "\n",
              "    .dataframe tbody tr th {\n",
              "        vertical-align: top;\n",
              "    }\n",
              "\n",
              "    .dataframe thead th {\n",
              "        text-align: right;\n",
              "    }\n",
              "</style>\n",
              "<table border=\"1\" class=\"dataframe\">\n",
              "  <thead>\n",
              "    <tr style=\"text-align: right;\">\n",
              "      <th></th>\n",
              "      <th>Antes</th>\n",
              "      <th>Depois</th>\n",
              "    </tr>\n",
              "  </thead>\n",
              "  <tbody>\n",
              "    <tr>\n",
              "      <th>0</th>\n",
              "      <td>39</td>\n",
              "      <td>16</td>\n",
              "    </tr>\n",
              "    <tr>\n",
              "      <th>1</th>\n",
              "      <td>25</td>\n",
              "      <td>8</td>\n",
              "    </tr>\n",
              "    <tr>\n",
              "      <th>2</th>\n",
              "      <td>24</td>\n",
              "      <td>12</td>\n",
              "    </tr>\n",
              "    <tr>\n",
              "      <th>3</th>\n",
              "      <td>50</td>\n",
              "      <td>0</td>\n",
              "    </tr>\n",
              "    <tr>\n",
              "      <th>4</th>\n",
              "      <td>13</td>\n",
              "      <td>14</td>\n",
              "    </tr>\n",
              "  </tbody>\n",
              "</table>\n",
              "</div>\n",
              "      <button class=\"colab-df-convert\" onclick=\"convertToInteractive('df-93702c7e-230c-48cd-9d98-5e081961096b')\"\n",
              "              title=\"Convert this dataframe to an interactive table.\"\n",
              "              style=\"display:none;\">\n",
              "        \n",
              "  <svg xmlns=\"http://www.w3.org/2000/svg\" height=\"24px\"viewBox=\"0 0 24 24\"\n",
              "       width=\"24px\">\n",
              "    <path d=\"M0 0h24v24H0V0z\" fill=\"none\"/>\n",
              "    <path d=\"M18.56 5.44l.94 2.06.94-2.06 2.06-.94-2.06-.94-.94-2.06-.94 2.06-2.06.94zm-11 1L8.5 8.5l.94-2.06 2.06-.94-2.06-.94L8.5 2.5l-.94 2.06-2.06.94zm10 10l.94 2.06.94-2.06 2.06-.94-2.06-.94-.94-2.06-.94 2.06-2.06.94z\"/><path d=\"M17.41 7.96l-1.37-1.37c-.4-.4-.92-.59-1.43-.59-.52 0-1.04.2-1.43.59L10.3 9.45l-7.72 7.72c-.78.78-.78 2.05 0 2.83L4 21.41c.39.39.9.59 1.41.59.51 0 1.02-.2 1.41-.59l7.78-7.78 2.81-2.81c.8-.78.8-2.07 0-2.86zM5.41 20L4 18.59l7.72-7.72 1.47 1.35L5.41 20z\"/>\n",
              "  </svg>\n",
              "      </button>\n",
              "      \n",
              "  <style>\n",
              "    .colab-df-container {\n",
              "      display:flex;\n",
              "      flex-wrap:wrap;\n",
              "      gap: 12px;\n",
              "    }\n",
              "\n",
              "    .colab-df-convert {\n",
              "      background-color: #E8F0FE;\n",
              "      border: none;\n",
              "      border-radius: 50%;\n",
              "      cursor: pointer;\n",
              "      display: none;\n",
              "      fill: #1967D2;\n",
              "      height: 32px;\n",
              "      padding: 0 0 0 0;\n",
              "      width: 32px;\n",
              "    }\n",
              "\n",
              "    .colab-df-convert:hover {\n",
              "      background-color: #E2EBFA;\n",
              "      box-shadow: 0px 1px 2px rgba(60, 64, 67, 0.3), 0px 1px 3px 1px rgba(60, 64, 67, 0.15);\n",
              "      fill: #174EA6;\n",
              "    }\n",
              "\n",
              "    [theme=dark] .colab-df-convert {\n",
              "      background-color: #3B4455;\n",
              "      fill: #D2E3FC;\n",
              "    }\n",
              "\n",
              "    [theme=dark] .colab-df-convert:hover {\n",
              "      background-color: #434B5C;\n",
              "      box-shadow: 0px 1px 3px 1px rgba(0, 0, 0, 0.15);\n",
              "      filter: drop-shadow(0px 1px 2px rgba(0, 0, 0, 0.3));\n",
              "      fill: #FFFFFF;\n",
              "    }\n",
              "  </style>\n",
              "\n",
              "      <script>\n",
              "        const buttonEl =\n",
              "          document.querySelector('#df-93702c7e-230c-48cd-9d98-5e081961096b button.colab-df-convert');\n",
              "        buttonEl.style.display =\n",
              "          google.colab.kernel.accessAllowed ? 'block' : 'none';\n",
              "\n",
              "        async function convertToInteractive(key) {\n",
              "          const element = document.querySelector('#df-93702c7e-230c-48cd-9d98-5e081961096b');\n",
              "          const dataTable =\n",
              "            await google.colab.kernel.invokeFunction('convertToInteractive',\n",
              "                                                     [key], {});\n",
              "          if (!dataTable) return;\n",
              "\n",
              "          const docLinkHtml = 'Like what you see? Visit the ' +\n",
              "            '<a target=\"_blank\" href=https://colab.research.google.com/notebooks/data_table.ipynb>data table notebook</a>'\n",
              "            + ' to learn more about interactive tables.';\n",
              "          element.innerHTML = '';\n",
              "          dataTable['output_type'] = 'display_data';\n",
              "          await google.colab.output.renderOutput(dataTable, element);\n",
              "          const docLink = document.createElement('div');\n",
              "          docLink.innerHTML = docLinkHtml;\n",
              "          element.appendChild(docLink);\n",
              "        }\n",
              "      </script>\n",
              "    </div>\n",
              "  </div>\n",
              "  "
            ]
          },
          "metadata": {},
          "execution_count": 393
        }
      ],
      "source": [
        "fumo = pd.DataFrame(fumo)\n",
        "fumo.head()\n"
      ]
    },
    {
      "cell_type": "code",
      "execution_count": 394,
      "metadata": {
        "id": "oNQvLLR8psmX",
        "colab": {
          "base_uri": "https://localhost:8080/"
        },
        "outputId": "df0b61ee-8f1a-4545-d2c9-04c08bccd33d"
      },
      "outputs": [
        {
          "output_type": "execute_result",
          "data": {
            "text/plain": [
              "31.857142857142858"
            ]
          },
          "metadata": {},
          "execution_count": 394
        }
      ],
      "source": [
        "media_antes = fumo.Antes.mean()\n",
        "media_antes\n"
      ]
    },
    {
      "cell_type": "code",
      "execution_count": 395,
      "metadata": {
        "id": "wOgIYP0upsmZ",
        "colab": {
          "base_uri": "https://localhost:8080/"
        },
        "outputId": "b3979fb4-82cc-42e9-8a48-7296af550daf"
      },
      "outputs": [
        {
          "output_type": "execute_result",
          "data": {
            "text/plain": [
              "11.2"
            ]
          },
          "metadata": {},
          "execution_count": 395
        }
      ],
      "source": [
        "media_depois = fumo.Depois.mean()\n",
        "media_depois"
      ]
    },
    {
      "cell_type": "markdown",
      "metadata": {
        "id": "gvnOmelVpsma"
      },
      "source": [
        "### **Passo 1** - formulação das hipóteses $H_0$ e $H_1$\n",
        "\n",
        "#### <font color='red'>Lembre-se, a hipótese nula sempre contém a alegação de igualdade</font>"
      ]
    },
    {
      "cell_type": "markdown",
      "metadata": {
        "id": "1AXOiD_epsma"
      },
      "source": [
        "### $H_0: \\mu_{antes} = \\mu_{depois}$\n",
        "\n",
        "### $H_1: \\mu_{antes} > \\mu_{depois}$"
      ]
    },
    {
      "cell_type": "markdown",
      "metadata": {
        "id": "degUD6b2psmb"
      },
      "source": [
        "---"
      ]
    },
    {
      "cell_type": "markdown",
      "metadata": {
        "id": "3jrV_c2Opsmb"
      },
      "source": [
        "### **Passo 2** - escolha da distribuição amostral adequada"
      ]
    },
    {
      "cell_type": "markdown",
      "metadata": {
        "id": "vF-9xAPzpsmc"
      },
      "source": [
        "### O tamanho da amostra é maior que 20?\n",
        "#### Resp.: Sim"
      ]
    },
    {
      "cell_type": "markdown",
      "metadata": {
        "id": "tvxXutrGpsmc"
      },
      "source": [
        "---"
      ]
    },
    {
      "cell_type": "markdown",
      "metadata": {
        "id": "aihd76Wkpsmc"
      },
      "source": [
        "### **Passo 3** - fixação da significância do teste ($\\alpha$)"
      ]
    },
    {
      "cell_type": "markdown",
      "metadata": {
        "id": "XF6AA8qLpsmc"
      },
      "source": [
        "### Obtendo $z_{\\alpha/2}$"
      ]
    },
    {
      "cell_type": "code",
      "execution_count": 396,
      "metadata": {
        "id": "UsRrnCnXpsmd",
        "colab": {
          "base_uri": "https://localhost:8080/"
        },
        "outputId": "1fadd082-3d81-4662-9a4b-c7279aa2f5bd"
      },
      "outputs": [
        {
          "output_type": "execute_result",
          "data": {
            "text/plain": [
              "0.975"
            ]
          },
          "metadata": {},
          "execution_count": 396
        }
      ],
      "source": [
        "probabilidade = (0.5 + (confianca / 2))\n",
        "probabilidade"
      ]
    },
    {
      "cell_type": "code",
      "execution_count": 397,
      "metadata": {
        "id": "PTmwCAq9psme",
        "colab": {
          "base_uri": "https://localhost:8080/"
        },
        "outputId": "c0249ad4-e04b-48cb-ffd1-6b8cd6d39f7b"
      },
      "outputs": [
        {
          "output_type": "execute_result",
          "data": {
            "text/plain": [
              "1.96"
            ]
          },
          "metadata": {},
          "execution_count": 397
        }
      ],
      "source": [
        "z_alpha_2 = norm.ppf(probabilidade)\n",
        "z_alpha_2.round(2)"
      ]
    },
    {
      "cell_type": "markdown",
      "metadata": {
        "id": "S2dqQHQJpsmf"
      },
      "source": [
        "![Região de Aceitação](https://caelum-online-public.s3.amazonaws.com/1229-estatistica-parte3/01/img006.png)"
      ]
    },
    {
      "cell_type": "markdown",
      "metadata": {
        "id": "z0iEZ685psmf"
      },
      "source": [
        "---"
      ]
    },
    {
      "cell_type": "markdown",
      "metadata": {
        "id": "zpYLf-dZpsmg"
      },
      "source": [
        "### **Passo 4** - cálculo da estatística-teste e verificação desse valor com as áreas de aceitação e rejeição do teste\n",
        "\n",
        "# $$Z = \\frac{T - \\mu_T}{\\sigma_T}$$\n",
        "\n",
        "Onde\n",
        "\n",
        "## $T$ = menor das somas de postos de mesmo sinal\n",
        "\n",
        "# $$\\mu_T = \\frac{n(n+1)}{4}$$\n",
        "# $$\\sigma_T = \\sqrt{\\frac{n(n + 1)(2n + 1)}{24}}$$"
      ]
    },
    {
      "cell_type": "markdown",
      "metadata": {
        "id": "ZTY9IuIIpsmg"
      },
      "source": [
        "### Construindo a tabela com os postos"
      ]
    },
    {
      "cell_type": "code",
      "execution_count": 398,
      "metadata": {
        "id": "o0fp6m3iqIlu",
        "colab": {
          "base_uri": "https://localhost:8080/",
          "height": 1000
        },
        "outputId": "7e70cc20-8bed-4c20-bfdc-ab1691d21948"
      },
      "outputs": [
        {
          "output_type": "execute_result",
          "data": {
            "text/plain": [
              "    Antes  Depois\n",
              "0      39      16\n",
              "1      25       8\n",
              "2      24      12\n",
              "3      50       0\n",
              "4      13      14\n",
              "5      52      16\n",
              "6      21      13\n",
              "7      29      12\n",
              "8      10      19\n",
              "9      22      17\n",
              "10     50      17\n",
              "11     15       2\n",
              "12     36      15\n",
              "13     39      10\n",
              "14     52      20\n",
              "15     48      13\n",
              "16     24       0\n",
              "17     15       4\n",
              "18     40      16\n",
              "19     41      18\n",
              "20     17      16\n",
              "21     12      16\n",
              "22     21       9\n",
              "23     49       9\n",
              "24     14      18\n",
              "25     55       4\n",
              "26     46      17\n",
              "27     22       0\n",
              "28     28      11\n",
              "29     23      14\n",
              "30     37       0\n",
              "31     17      19\n",
              "32     31       2\n",
              "33     49       9\n",
              "34     49       6"
            ],
            "text/html": [
              "\n",
              "  <div id=\"df-638aa9d4-2885-440a-aa2e-71321a542f40\">\n",
              "    <div class=\"colab-df-container\">\n",
              "      <div>\n",
              "<style scoped>\n",
              "    .dataframe tbody tr th:only-of-type {\n",
              "        vertical-align: middle;\n",
              "    }\n",
              "\n",
              "    .dataframe tbody tr th {\n",
              "        vertical-align: top;\n",
              "    }\n",
              "\n",
              "    .dataframe thead th {\n",
              "        text-align: right;\n",
              "    }\n",
              "</style>\n",
              "<table border=\"1\" class=\"dataframe\">\n",
              "  <thead>\n",
              "    <tr style=\"text-align: right;\">\n",
              "      <th></th>\n",
              "      <th>Antes</th>\n",
              "      <th>Depois</th>\n",
              "    </tr>\n",
              "  </thead>\n",
              "  <tbody>\n",
              "    <tr>\n",
              "      <th>0</th>\n",
              "      <td>39</td>\n",
              "      <td>16</td>\n",
              "    </tr>\n",
              "    <tr>\n",
              "      <th>1</th>\n",
              "      <td>25</td>\n",
              "      <td>8</td>\n",
              "    </tr>\n",
              "    <tr>\n",
              "      <th>2</th>\n",
              "      <td>24</td>\n",
              "      <td>12</td>\n",
              "    </tr>\n",
              "    <tr>\n",
              "      <th>3</th>\n",
              "      <td>50</td>\n",
              "      <td>0</td>\n",
              "    </tr>\n",
              "    <tr>\n",
              "      <th>4</th>\n",
              "      <td>13</td>\n",
              "      <td>14</td>\n",
              "    </tr>\n",
              "    <tr>\n",
              "      <th>5</th>\n",
              "      <td>52</td>\n",
              "      <td>16</td>\n",
              "    </tr>\n",
              "    <tr>\n",
              "      <th>6</th>\n",
              "      <td>21</td>\n",
              "      <td>13</td>\n",
              "    </tr>\n",
              "    <tr>\n",
              "      <th>7</th>\n",
              "      <td>29</td>\n",
              "      <td>12</td>\n",
              "    </tr>\n",
              "    <tr>\n",
              "      <th>8</th>\n",
              "      <td>10</td>\n",
              "      <td>19</td>\n",
              "    </tr>\n",
              "    <tr>\n",
              "      <th>9</th>\n",
              "      <td>22</td>\n",
              "      <td>17</td>\n",
              "    </tr>\n",
              "    <tr>\n",
              "      <th>10</th>\n",
              "      <td>50</td>\n",
              "      <td>17</td>\n",
              "    </tr>\n",
              "    <tr>\n",
              "      <th>11</th>\n",
              "      <td>15</td>\n",
              "      <td>2</td>\n",
              "    </tr>\n",
              "    <tr>\n",
              "      <th>12</th>\n",
              "      <td>36</td>\n",
              "      <td>15</td>\n",
              "    </tr>\n",
              "    <tr>\n",
              "      <th>13</th>\n",
              "      <td>39</td>\n",
              "      <td>10</td>\n",
              "    </tr>\n",
              "    <tr>\n",
              "      <th>14</th>\n",
              "      <td>52</td>\n",
              "      <td>20</td>\n",
              "    </tr>\n",
              "    <tr>\n",
              "      <th>15</th>\n",
              "      <td>48</td>\n",
              "      <td>13</td>\n",
              "    </tr>\n",
              "    <tr>\n",
              "      <th>16</th>\n",
              "      <td>24</td>\n",
              "      <td>0</td>\n",
              "    </tr>\n",
              "    <tr>\n",
              "      <th>17</th>\n",
              "      <td>15</td>\n",
              "      <td>4</td>\n",
              "    </tr>\n",
              "    <tr>\n",
              "      <th>18</th>\n",
              "      <td>40</td>\n",
              "      <td>16</td>\n",
              "    </tr>\n",
              "    <tr>\n",
              "      <th>19</th>\n",
              "      <td>41</td>\n",
              "      <td>18</td>\n",
              "    </tr>\n",
              "    <tr>\n",
              "      <th>20</th>\n",
              "      <td>17</td>\n",
              "      <td>16</td>\n",
              "    </tr>\n",
              "    <tr>\n",
              "      <th>21</th>\n",
              "      <td>12</td>\n",
              "      <td>16</td>\n",
              "    </tr>\n",
              "    <tr>\n",
              "      <th>22</th>\n",
              "      <td>21</td>\n",
              "      <td>9</td>\n",
              "    </tr>\n",
              "    <tr>\n",
              "      <th>23</th>\n",
              "      <td>49</td>\n",
              "      <td>9</td>\n",
              "    </tr>\n",
              "    <tr>\n",
              "      <th>24</th>\n",
              "      <td>14</td>\n",
              "      <td>18</td>\n",
              "    </tr>\n",
              "    <tr>\n",
              "      <th>25</th>\n",
              "      <td>55</td>\n",
              "      <td>4</td>\n",
              "    </tr>\n",
              "    <tr>\n",
              "      <th>26</th>\n",
              "      <td>46</td>\n",
              "      <td>17</td>\n",
              "    </tr>\n",
              "    <tr>\n",
              "      <th>27</th>\n",
              "      <td>22</td>\n",
              "      <td>0</td>\n",
              "    </tr>\n",
              "    <tr>\n",
              "      <th>28</th>\n",
              "      <td>28</td>\n",
              "      <td>11</td>\n",
              "    </tr>\n",
              "    <tr>\n",
              "      <th>29</th>\n",
              "      <td>23</td>\n",
              "      <td>14</td>\n",
              "    </tr>\n",
              "    <tr>\n",
              "      <th>30</th>\n",
              "      <td>37</td>\n",
              "      <td>0</td>\n",
              "    </tr>\n",
              "    <tr>\n",
              "      <th>31</th>\n",
              "      <td>17</td>\n",
              "      <td>19</td>\n",
              "    </tr>\n",
              "    <tr>\n",
              "      <th>32</th>\n",
              "      <td>31</td>\n",
              "      <td>2</td>\n",
              "    </tr>\n",
              "    <tr>\n",
              "      <th>33</th>\n",
              "      <td>49</td>\n",
              "      <td>9</td>\n",
              "    </tr>\n",
              "    <tr>\n",
              "      <th>34</th>\n",
              "      <td>49</td>\n",
              "      <td>6</td>\n",
              "    </tr>\n",
              "  </tbody>\n",
              "</table>\n",
              "</div>\n",
              "      <button class=\"colab-df-convert\" onclick=\"convertToInteractive('df-638aa9d4-2885-440a-aa2e-71321a542f40')\"\n",
              "              title=\"Convert this dataframe to an interactive table.\"\n",
              "              style=\"display:none;\">\n",
              "        \n",
              "  <svg xmlns=\"http://www.w3.org/2000/svg\" height=\"24px\"viewBox=\"0 0 24 24\"\n",
              "       width=\"24px\">\n",
              "    <path d=\"M0 0h24v24H0V0z\" fill=\"none\"/>\n",
              "    <path d=\"M18.56 5.44l.94 2.06.94-2.06 2.06-.94-2.06-.94-.94-2.06-.94 2.06-2.06.94zm-11 1L8.5 8.5l.94-2.06 2.06-.94-2.06-.94L8.5 2.5l-.94 2.06-2.06.94zm10 10l.94 2.06.94-2.06 2.06-.94-2.06-.94-.94-2.06-.94 2.06-2.06.94z\"/><path d=\"M17.41 7.96l-1.37-1.37c-.4-.4-.92-.59-1.43-.59-.52 0-1.04.2-1.43.59L10.3 9.45l-7.72 7.72c-.78.78-.78 2.05 0 2.83L4 21.41c.39.39.9.59 1.41.59.51 0 1.02-.2 1.41-.59l7.78-7.78 2.81-2.81c.8-.78.8-2.07 0-2.86zM5.41 20L4 18.59l7.72-7.72 1.47 1.35L5.41 20z\"/>\n",
              "  </svg>\n",
              "      </button>\n",
              "      \n",
              "  <style>\n",
              "    .colab-df-container {\n",
              "      display:flex;\n",
              "      flex-wrap:wrap;\n",
              "      gap: 12px;\n",
              "    }\n",
              "\n",
              "    .colab-df-convert {\n",
              "      background-color: #E8F0FE;\n",
              "      border: none;\n",
              "      border-radius: 50%;\n",
              "      cursor: pointer;\n",
              "      display: none;\n",
              "      fill: #1967D2;\n",
              "      height: 32px;\n",
              "      padding: 0 0 0 0;\n",
              "      width: 32px;\n",
              "    }\n",
              "\n",
              "    .colab-df-convert:hover {\n",
              "      background-color: #E2EBFA;\n",
              "      box-shadow: 0px 1px 2px rgba(60, 64, 67, 0.3), 0px 1px 3px 1px rgba(60, 64, 67, 0.15);\n",
              "      fill: #174EA6;\n",
              "    }\n",
              "\n",
              "    [theme=dark] .colab-df-convert {\n",
              "      background-color: #3B4455;\n",
              "      fill: #D2E3FC;\n",
              "    }\n",
              "\n",
              "    [theme=dark] .colab-df-convert:hover {\n",
              "      background-color: #434B5C;\n",
              "      box-shadow: 0px 1px 3px 1px rgba(0, 0, 0, 0.15);\n",
              "      filter: drop-shadow(0px 1px 2px rgba(0, 0, 0, 0.3));\n",
              "      fill: #FFFFFF;\n",
              "    }\n",
              "  </style>\n",
              "\n",
              "      <script>\n",
              "        const buttonEl =\n",
              "          document.querySelector('#df-638aa9d4-2885-440a-aa2e-71321a542f40 button.colab-df-convert');\n",
              "        buttonEl.style.display =\n",
              "          google.colab.kernel.accessAllowed ? 'block' : 'none';\n",
              "\n",
              "        async function convertToInteractive(key) {\n",
              "          const element = document.querySelector('#df-638aa9d4-2885-440a-aa2e-71321a542f40');\n",
              "          const dataTable =\n",
              "            await google.colab.kernel.invokeFunction('convertToInteractive',\n",
              "                                                     [key], {});\n",
              "          if (!dataTable) return;\n",
              "\n",
              "          const docLinkHtml = 'Like what you see? Visit the ' +\n",
              "            '<a target=\"_blank\" href=https://colab.research.google.com/notebooks/data_table.ipynb>data table notebook</a>'\n",
              "            + ' to learn more about interactive tables.';\n",
              "          element.innerHTML = '';\n",
              "          dataTable['output_type'] = 'display_data';\n",
              "          await google.colab.output.renderOutput(dataTable, element);\n",
              "          const docLink = document.createElement('div');\n",
              "          docLink.innerHTML = docLinkHtml;\n",
              "          element.appendChild(docLink);\n",
              "        }\n",
              "      </script>\n",
              "    </div>\n",
              "  </div>\n",
              "  "
            ]
          },
          "metadata": {},
          "execution_count": 398
        }
      ],
      "source": [
        "fumo"
      ]
    },
    {
      "cell_type": "code",
      "execution_count": 399,
      "metadata": {
        "id": "T4KmZijZotWj",
        "colab": {
          "base_uri": "https://localhost:8080/",
          "height": 1000
        },
        "outputId": "ff33f76f-c1f5-41eb-992e-ddd993bea9a6"
      },
      "outputs": [
        {
          "output_type": "execute_result",
          "data": {
            "text/plain": [
              "    Antes  Depois  Dif\n",
              "0      39      16  -23\n",
              "1      25       8  -17\n",
              "2      24      12  -12\n",
              "3      50       0  -50\n",
              "4      13      14    1\n",
              "5      52      16  -36\n",
              "6      21      13   -8\n",
              "7      29      12  -17\n",
              "8      10      19    9\n",
              "9      22      17   -5\n",
              "10     50      17  -33\n",
              "11     15       2  -13\n",
              "12     36      15  -21\n",
              "13     39      10  -29\n",
              "14     52      20  -32\n",
              "15     48      13  -35\n",
              "16     24       0  -24\n",
              "17     15       4  -11\n",
              "18     40      16  -24\n",
              "19     41      18  -23\n",
              "20     17      16   -1\n",
              "21     12      16    4\n",
              "22     21       9  -12\n",
              "23     49       9  -40\n",
              "24     14      18    4\n",
              "25     55       4  -51\n",
              "26     46      17  -29\n",
              "27     22       0  -22\n",
              "28     28      11  -17\n",
              "29     23      14   -9\n",
              "30     37       0  -37\n",
              "31     17      19    2\n",
              "32     31       2  -29\n",
              "33     49       9  -40\n",
              "34     49       6  -43"
            ],
            "text/html": [
              "\n",
              "  <div id=\"df-f982d38e-5432-4b12-8b26-f86e825876dc\">\n",
              "    <div class=\"colab-df-container\">\n",
              "      <div>\n",
              "<style scoped>\n",
              "    .dataframe tbody tr th:only-of-type {\n",
              "        vertical-align: middle;\n",
              "    }\n",
              "\n",
              "    .dataframe tbody tr th {\n",
              "        vertical-align: top;\n",
              "    }\n",
              "\n",
              "    .dataframe thead th {\n",
              "        text-align: right;\n",
              "    }\n",
              "</style>\n",
              "<table border=\"1\" class=\"dataframe\">\n",
              "  <thead>\n",
              "    <tr style=\"text-align: right;\">\n",
              "      <th></th>\n",
              "      <th>Antes</th>\n",
              "      <th>Depois</th>\n",
              "      <th>Dif</th>\n",
              "    </tr>\n",
              "  </thead>\n",
              "  <tbody>\n",
              "    <tr>\n",
              "      <th>0</th>\n",
              "      <td>39</td>\n",
              "      <td>16</td>\n",
              "      <td>-23</td>\n",
              "    </tr>\n",
              "    <tr>\n",
              "      <th>1</th>\n",
              "      <td>25</td>\n",
              "      <td>8</td>\n",
              "      <td>-17</td>\n",
              "    </tr>\n",
              "    <tr>\n",
              "      <th>2</th>\n",
              "      <td>24</td>\n",
              "      <td>12</td>\n",
              "      <td>-12</td>\n",
              "    </tr>\n",
              "    <tr>\n",
              "      <th>3</th>\n",
              "      <td>50</td>\n",
              "      <td>0</td>\n",
              "      <td>-50</td>\n",
              "    </tr>\n",
              "    <tr>\n",
              "      <th>4</th>\n",
              "      <td>13</td>\n",
              "      <td>14</td>\n",
              "      <td>1</td>\n",
              "    </tr>\n",
              "    <tr>\n",
              "      <th>5</th>\n",
              "      <td>52</td>\n",
              "      <td>16</td>\n",
              "      <td>-36</td>\n",
              "    </tr>\n",
              "    <tr>\n",
              "      <th>6</th>\n",
              "      <td>21</td>\n",
              "      <td>13</td>\n",
              "      <td>-8</td>\n",
              "    </tr>\n",
              "    <tr>\n",
              "      <th>7</th>\n",
              "      <td>29</td>\n",
              "      <td>12</td>\n",
              "      <td>-17</td>\n",
              "    </tr>\n",
              "    <tr>\n",
              "      <th>8</th>\n",
              "      <td>10</td>\n",
              "      <td>19</td>\n",
              "      <td>9</td>\n",
              "    </tr>\n",
              "    <tr>\n",
              "      <th>9</th>\n",
              "      <td>22</td>\n",
              "      <td>17</td>\n",
              "      <td>-5</td>\n",
              "    </tr>\n",
              "    <tr>\n",
              "      <th>10</th>\n",
              "      <td>50</td>\n",
              "      <td>17</td>\n",
              "      <td>-33</td>\n",
              "    </tr>\n",
              "    <tr>\n",
              "      <th>11</th>\n",
              "      <td>15</td>\n",
              "      <td>2</td>\n",
              "      <td>-13</td>\n",
              "    </tr>\n",
              "    <tr>\n",
              "      <th>12</th>\n",
              "      <td>36</td>\n",
              "      <td>15</td>\n",
              "      <td>-21</td>\n",
              "    </tr>\n",
              "    <tr>\n",
              "      <th>13</th>\n",
              "      <td>39</td>\n",
              "      <td>10</td>\n",
              "      <td>-29</td>\n",
              "    </tr>\n",
              "    <tr>\n",
              "      <th>14</th>\n",
              "      <td>52</td>\n",
              "      <td>20</td>\n",
              "      <td>-32</td>\n",
              "    </tr>\n",
              "    <tr>\n",
              "      <th>15</th>\n",
              "      <td>48</td>\n",
              "      <td>13</td>\n",
              "      <td>-35</td>\n",
              "    </tr>\n",
              "    <tr>\n",
              "      <th>16</th>\n",
              "      <td>24</td>\n",
              "      <td>0</td>\n",
              "      <td>-24</td>\n",
              "    </tr>\n",
              "    <tr>\n",
              "      <th>17</th>\n",
              "      <td>15</td>\n",
              "      <td>4</td>\n",
              "      <td>-11</td>\n",
              "    </tr>\n",
              "    <tr>\n",
              "      <th>18</th>\n",
              "      <td>40</td>\n",
              "      <td>16</td>\n",
              "      <td>-24</td>\n",
              "    </tr>\n",
              "    <tr>\n",
              "      <th>19</th>\n",
              "      <td>41</td>\n",
              "      <td>18</td>\n",
              "      <td>-23</td>\n",
              "    </tr>\n",
              "    <tr>\n",
              "      <th>20</th>\n",
              "      <td>17</td>\n",
              "      <td>16</td>\n",
              "      <td>-1</td>\n",
              "    </tr>\n",
              "    <tr>\n",
              "      <th>21</th>\n",
              "      <td>12</td>\n",
              "      <td>16</td>\n",
              "      <td>4</td>\n",
              "    </tr>\n",
              "    <tr>\n",
              "      <th>22</th>\n",
              "      <td>21</td>\n",
              "      <td>9</td>\n",
              "      <td>-12</td>\n",
              "    </tr>\n",
              "    <tr>\n",
              "      <th>23</th>\n",
              "      <td>49</td>\n",
              "      <td>9</td>\n",
              "      <td>-40</td>\n",
              "    </tr>\n",
              "    <tr>\n",
              "      <th>24</th>\n",
              "      <td>14</td>\n",
              "      <td>18</td>\n",
              "      <td>4</td>\n",
              "    </tr>\n",
              "    <tr>\n",
              "      <th>25</th>\n",
              "      <td>55</td>\n",
              "      <td>4</td>\n",
              "      <td>-51</td>\n",
              "    </tr>\n",
              "    <tr>\n",
              "      <th>26</th>\n",
              "      <td>46</td>\n",
              "      <td>17</td>\n",
              "      <td>-29</td>\n",
              "    </tr>\n",
              "    <tr>\n",
              "      <th>27</th>\n",
              "      <td>22</td>\n",
              "      <td>0</td>\n",
              "      <td>-22</td>\n",
              "    </tr>\n",
              "    <tr>\n",
              "      <th>28</th>\n",
              "      <td>28</td>\n",
              "      <td>11</td>\n",
              "      <td>-17</td>\n",
              "    </tr>\n",
              "    <tr>\n",
              "      <th>29</th>\n",
              "      <td>23</td>\n",
              "      <td>14</td>\n",
              "      <td>-9</td>\n",
              "    </tr>\n",
              "    <tr>\n",
              "      <th>30</th>\n",
              "      <td>37</td>\n",
              "      <td>0</td>\n",
              "      <td>-37</td>\n",
              "    </tr>\n",
              "    <tr>\n",
              "      <th>31</th>\n",
              "      <td>17</td>\n",
              "      <td>19</td>\n",
              "      <td>2</td>\n",
              "    </tr>\n",
              "    <tr>\n",
              "      <th>32</th>\n",
              "      <td>31</td>\n",
              "      <td>2</td>\n",
              "      <td>-29</td>\n",
              "    </tr>\n",
              "    <tr>\n",
              "      <th>33</th>\n",
              "      <td>49</td>\n",
              "      <td>9</td>\n",
              "      <td>-40</td>\n",
              "    </tr>\n",
              "    <tr>\n",
              "      <th>34</th>\n",
              "      <td>49</td>\n",
              "      <td>6</td>\n",
              "      <td>-43</td>\n",
              "    </tr>\n",
              "  </tbody>\n",
              "</table>\n",
              "</div>\n",
              "      <button class=\"colab-df-convert\" onclick=\"convertToInteractive('df-f982d38e-5432-4b12-8b26-f86e825876dc')\"\n",
              "              title=\"Convert this dataframe to an interactive table.\"\n",
              "              style=\"display:none;\">\n",
              "        \n",
              "  <svg xmlns=\"http://www.w3.org/2000/svg\" height=\"24px\"viewBox=\"0 0 24 24\"\n",
              "       width=\"24px\">\n",
              "    <path d=\"M0 0h24v24H0V0z\" fill=\"none\"/>\n",
              "    <path d=\"M18.56 5.44l.94 2.06.94-2.06 2.06-.94-2.06-.94-.94-2.06-.94 2.06-2.06.94zm-11 1L8.5 8.5l.94-2.06 2.06-.94-2.06-.94L8.5 2.5l-.94 2.06-2.06.94zm10 10l.94 2.06.94-2.06 2.06-.94-2.06-.94-.94-2.06-.94 2.06-2.06.94z\"/><path d=\"M17.41 7.96l-1.37-1.37c-.4-.4-.92-.59-1.43-.59-.52 0-1.04.2-1.43.59L10.3 9.45l-7.72 7.72c-.78.78-.78 2.05 0 2.83L4 21.41c.39.39.9.59 1.41.59.51 0 1.02-.2 1.41-.59l7.78-7.78 2.81-2.81c.8-.78.8-2.07 0-2.86zM5.41 20L4 18.59l7.72-7.72 1.47 1.35L5.41 20z\"/>\n",
              "  </svg>\n",
              "      </button>\n",
              "      \n",
              "  <style>\n",
              "    .colab-df-container {\n",
              "      display:flex;\n",
              "      flex-wrap:wrap;\n",
              "      gap: 12px;\n",
              "    }\n",
              "\n",
              "    .colab-df-convert {\n",
              "      background-color: #E8F0FE;\n",
              "      border: none;\n",
              "      border-radius: 50%;\n",
              "      cursor: pointer;\n",
              "      display: none;\n",
              "      fill: #1967D2;\n",
              "      height: 32px;\n",
              "      padding: 0 0 0 0;\n",
              "      width: 32px;\n",
              "    }\n",
              "\n",
              "    .colab-df-convert:hover {\n",
              "      background-color: #E2EBFA;\n",
              "      box-shadow: 0px 1px 2px rgba(60, 64, 67, 0.3), 0px 1px 3px 1px rgba(60, 64, 67, 0.15);\n",
              "      fill: #174EA6;\n",
              "    }\n",
              "\n",
              "    [theme=dark] .colab-df-convert {\n",
              "      background-color: #3B4455;\n",
              "      fill: #D2E3FC;\n",
              "    }\n",
              "\n",
              "    [theme=dark] .colab-df-convert:hover {\n",
              "      background-color: #434B5C;\n",
              "      box-shadow: 0px 1px 3px 1px rgba(0, 0, 0, 0.15);\n",
              "      filter: drop-shadow(0px 1px 2px rgba(0, 0, 0, 0.3));\n",
              "      fill: #FFFFFF;\n",
              "    }\n",
              "  </style>\n",
              "\n",
              "      <script>\n",
              "        const buttonEl =\n",
              "          document.querySelector('#df-f982d38e-5432-4b12-8b26-f86e825876dc button.colab-df-convert');\n",
              "        buttonEl.style.display =\n",
              "          google.colab.kernel.accessAllowed ? 'block' : 'none';\n",
              "\n",
              "        async function convertToInteractive(key) {\n",
              "          const element = document.querySelector('#df-f982d38e-5432-4b12-8b26-f86e825876dc');\n",
              "          const dataTable =\n",
              "            await google.colab.kernel.invokeFunction('convertToInteractive',\n",
              "                                                     [key], {});\n",
              "          if (!dataTable) return;\n",
              "\n",
              "          const docLinkHtml = 'Like what you see? Visit the ' +\n",
              "            '<a target=\"_blank\" href=https://colab.research.google.com/notebooks/data_table.ipynb>data table notebook</a>'\n",
              "            + ' to learn more about interactive tables.';\n",
              "          element.innerHTML = '';\n",
              "          dataTable['output_type'] = 'display_data';\n",
              "          await google.colab.output.renderOutput(dataTable, element);\n",
              "          const docLink = document.createElement('div');\n",
              "          docLink.innerHTML = docLinkHtml;\n",
              "          element.appendChild(docLink);\n",
              "        }\n",
              "      </script>\n",
              "    </div>\n",
              "  </div>\n",
              "  "
            ]
          },
          "metadata": {},
          "execution_count": 399
        }
      ],
      "source": [
        "fumo['Dif'] = fumo.Depois - fumo.Antes\n",
        "fumo"
      ]
    },
    {
      "cell_type": "code",
      "execution_count": 400,
      "metadata": {
        "id": "c4fvYVrdotTL",
        "colab": {
          "base_uri": "https://localhost:8080/",
          "height": 1000
        },
        "outputId": "c9a3481a-0702-4c81-aebf-e71a84e4f389"
      },
      "outputs": [
        {
          "output_type": "execute_result",
          "data": {
            "text/plain": [
              "    Antes  Depois  Dif  |Dif|\n",
              "0      39      16  -23     23\n",
              "1      25       8  -17     17\n",
              "2      24      12  -12     12\n",
              "3      50       0  -50     50\n",
              "4      13      14    1      1\n",
              "5      52      16  -36     36\n",
              "6      21      13   -8      8\n",
              "7      29      12  -17     17\n",
              "8      10      19    9      9\n",
              "9      22      17   -5      5\n",
              "10     50      17  -33     33\n",
              "11     15       2  -13     13\n",
              "12     36      15  -21     21\n",
              "13     39      10  -29     29\n",
              "14     52      20  -32     32\n",
              "15     48      13  -35     35\n",
              "16     24       0  -24     24\n",
              "17     15       4  -11     11\n",
              "18     40      16  -24     24\n",
              "19     41      18  -23     23\n",
              "20     17      16   -1      1\n",
              "21     12      16    4      4\n",
              "22     21       9  -12     12\n",
              "23     49       9  -40     40\n",
              "24     14      18    4      4\n",
              "25     55       4  -51     51\n",
              "26     46      17  -29     29\n",
              "27     22       0  -22     22\n",
              "28     28      11  -17     17\n",
              "29     23      14   -9      9\n",
              "30     37       0  -37     37\n",
              "31     17      19    2      2\n",
              "32     31       2  -29     29\n",
              "33     49       9  -40     40\n",
              "34     49       6  -43     43"
            ],
            "text/html": [
              "\n",
              "  <div id=\"df-21587f49-1561-4345-807d-535de11f86ec\">\n",
              "    <div class=\"colab-df-container\">\n",
              "      <div>\n",
              "<style scoped>\n",
              "    .dataframe tbody tr th:only-of-type {\n",
              "        vertical-align: middle;\n",
              "    }\n",
              "\n",
              "    .dataframe tbody tr th {\n",
              "        vertical-align: top;\n",
              "    }\n",
              "\n",
              "    .dataframe thead th {\n",
              "        text-align: right;\n",
              "    }\n",
              "</style>\n",
              "<table border=\"1\" class=\"dataframe\">\n",
              "  <thead>\n",
              "    <tr style=\"text-align: right;\">\n",
              "      <th></th>\n",
              "      <th>Antes</th>\n",
              "      <th>Depois</th>\n",
              "      <th>Dif</th>\n",
              "      <th>|Dif|</th>\n",
              "    </tr>\n",
              "  </thead>\n",
              "  <tbody>\n",
              "    <tr>\n",
              "      <th>0</th>\n",
              "      <td>39</td>\n",
              "      <td>16</td>\n",
              "      <td>-23</td>\n",
              "      <td>23</td>\n",
              "    </tr>\n",
              "    <tr>\n",
              "      <th>1</th>\n",
              "      <td>25</td>\n",
              "      <td>8</td>\n",
              "      <td>-17</td>\n",
              "      <td>17</td>\n",
              "    </tr>\n",
              "    <tr>\n",
              "      <th>2</th>\n",
              "      <td>24</td>\n",
              "      <td>12</td>\n",
              "      <td>-12</td>\n",
              "      <td>12</td>\n",
              "    </tr>\n",
              "    <tr>\n",
              "      <th>3</th>\n",
              "      <td>50</td>\n",
              "      <td>0</td>\n",
              "      <td>-50</td>\n",
              "      <td>50</td>\n",
              "    </tr>\n",
              "    <tr>\n",
              "      <th>4</th>\n",
              "      <td>13</td>\n",
              "      <td>14</td>\n",
              "      <td>1</td>\n",
              "      <td>1</td>\n",
              "    </tr>\n",
              "    <tr>\n",
              "      <th>5</th>\n",
              "      <td>52</td>\n",
              "      <td>16</td>\n",
              "      <td>-36</td>\n",
              "      <td>36</td>\n",
              "    </tr>\n",
              "    <tr>\n",
              "      <th>6</th>\n",
              "      <td>21</td>\n",
              "      <td>13</td>\n",
              "      <td>-8</td>\n",
              "      <td>8</td>\n",
              "    </tr>\n",
              "    <tr>\n",
              "      <th>7</th>\n",
              "      <td>29</td>\n",
              "      <td>12</td>\n",
              "      <td>-17</td>\n",
              "      <td>17</td>\n",
              "    </tr>\n",
              "    <tr>\n",
              "      <th>8</th>\n",
              "      <td>10</td>\n",
              "      <td>19</td>\n",
              "      <td>9</td>\n",
              "      <td>9</td>\n",
              "    </tr>\n",
              "    <tr>\n",
              "      <th>9</th>\n",
              "      <td>22</td>\n",
              "      <td>17</td>\n",
              "      <td>-5</td>\n",
              "      <td>5</td>\n",
              "    </tr>\n",
              "    <tr>\n",
              "      <th>10</th>\n",
              "      <td>50</td>\n",
              "      <td>17</td>\n",
              "      <td>-33</td>\n",
              "      <td>33</td>\n",
              "    </tr>\n",
              "    <tr>\n",
              "      <th>11</th>\n",
              "      <td>15</td>\n",
              "      <td>2</td>\n",
              "      <td>-13</td>\n",
              "      <td>13</td>\n",
              "    </tr>\n",
              "    <tr>\n",
              "      <th>12</th>\n",
              "      <td>36</td>\n",
              "      <td>15</td>\n",
              "      <td>-21</td>\n",
              "      <td>21</td>\n",
              "    </tr>\n",
              "    <tr>\n",
              "      <th>13</th>\n",
              "      <td>39</td>\n",
              "      <td>10</td>\n",
              "      <td>-29</td>\n",
              "      <td>29</td>\n",
              "    </tr>\n",
              "    <tr>\n",
              "      <th>14</th>\n",
              "      <td>52</td>\n",
              "      <td>20</td>\n",
              "      <td>-32</td>\n",
              "      <td>32</td>\n",
              "    </tr>\n",
              "    <tr>\n",
              "      <th>15</th>\n",
              "      <td>48</td>\n",
              "      <td>13</td>\n",
              "      <td>-35</td>\n",
              "      <td>35</td>\n",
              "    </tr>\n",
              "    <tr>\n",
              "      <th>16</th>\n",
              "      <td>24</td>\n",
              "      <td>0</td>\n",
              "      <td>-24</td>\n",
              "      <td>24</td>\n",
              "    </tr>\n",
              "    <tr>\n",
              "      <th>17</th>\n",
              "      <td>15</td>\n",
              "      <td>4</td>\n",
              "      <td>-11</td>\n",
              "      <td>11</td>\n",
              "    </tr>\n",
              "    <tr>\n",
              "      <th>18</th>\n",
              "      <td>40</td>\n",
              "      <td>16</td>\n",
              "      <td>-24</td>\n",
              "      <td>24</td>\n",
              "    </tr>\n",
              "    <tr>\n",
              "      <th>19</th>\n",
              "      <td>41</td>\n",
              "      <td>18</td>\n",
              "      <td>-23</td>\n",
              "      <td>23</td>\n",
              "    </tr>\n",
              "    <tr>\n",
              "      <th>20</th>\n",
              "      <td>17</td>\n",
              "      <td>16</td>\n",
              "      <td>-1</td>\n",
              "      <td>1</td>\n",
              "    </tr>\n",
              "    <tr>\n",
              "      <th>21</th>\n",
              "      <td>12</td>\n",
              "      <td>16</td>\n",
              "      <td>4</td>\n",
              "      <td>4</td>\n",
              "    </tr>\n",
              "    <tr>\n",
              "      <th>22</th>\n",
              "      <td>21</td>\n",
              "      <td>9</td>\n",
              "      <td>-12</td>\n",
              "      <td>12</td>\n",
              "    </tr>\n",
              "    <tr>\n",
              "      <th>23</th>\n",
              "      <td>49</td>\n",
              "      <td>9</td>\n",
              "      <td>-40</td>\n",
              "      <td>40</td>\n",
              "    </tr>\n",
              "    <tr>\n",
              "      <th>24</th>\n",
              "      <td>14</td>\n",
              "      <td>18</td>\n",
              "      <td>4</td>\n",
              "      <td>4</td>\n",
              "    </tr>\n",
              "    <tr>\n",
              "      <th>25</th>\n",
              "      <td>55</td>\n",
              "      <td>4</td>\n",
              "      <td>-51</td>\n",
              "      <td>51</td>\n",
              "    </tr>\n",
              "    <tr>\n",
              "      <th>26</th>\n",
              "      <td>46</td>\n",
              "      <td>17</td>\n",
              "      <td>-29</td>\n",
              "      <td>29</td>\n",
              "    </tr>\n",
              "    <tr>\n",
              "      <th>27</th>\n",
              "      <td>22</td>\n",
              "      <td>0</td>\n",
              "      <td>-22</td>\n",
              "      <td>22</td>\n",
              "    </tr>\n",
              "    <tr>\n",
              "      <th>28</th>\n",
              "      <td>28</td>\n",
              "      <td>11</td>\n",
              "      <td>-17</td>\n",
              "      <td>17</td>\n",
              "    </tr>\n",
              "    <tr>\n",
              "      <th>29</th>\n",
              "      <td>23</td>\n",
              "      <td>14</td>\n",
              "      <td>-9</td>\n",
              "      <td>9</td>\n",
              "    </tr>\n",
              "    <tr>\n",
              "      <th>30</th>\n",
              "      <td>37</td>\n",
              "      <td>0</td>\n",
              "      <td>-37</td>\n",
              "      <td>37</td>\n",
              "    </tr>\n",
              "    <tr>\n",
              "      <th>31</th>\n",
              "      <td>17</td>\n",
              "      <td>19</td>\n",
              "      <td>2</td>\n",
              "      <td>2</td>\n",
              "    </tr>\n",
              "    <tr>\n",
              "      <th>32</th>\n",
              "      <td>31</td>\n",
              "      <td>2</td>\n",
              "      <td>-29</td>\n",
              "      <td>29</td>\n",
              "    </tr>\n",
              "    <tr>\n",
              "      <th>33</th>\n",
              "      <td>49</td>\n",
              "      <td>9</td>\n",
              "      <td>-40</td>\n",
              "      <td>40</td>\n",
              "    </tr>\n",
              "    <tr>\n",
              "      <th>34</th>\n",
              "      <td>49</td>\n",
              "      <td>6</td>\n",
              "      <td>-43</td>\n",
              "      <td>43</td>\n",
              "    </tr>\n",
              "  </tbody>\n",
              "</table>\n",
              "</div>\n",
              "      <button class=\"colab-df-convert\" onclick=\"convertToInteractive('df-21587f49-1561-4345-807d-535de11f86ec')\"\n",
              "              title=\"Convert this dataframe to an interactive table.\"\n",
              "              style=\"display:none;\">\n",
              "        \n",
              "  <svg xmlns=\"http://www.w3.org/2000/svg\" height=\"24px\"viewBox=\"0 0 24 24\"\n",
              "       width=\"24px\">\n",
              "    <path d=\"M0 0h24v24H0V0z\" fill=\"none\"/>\n",
              "    <path d=\"M18.56 5.44l.94 2.06.94-2.06 2.06-.94-2.06-.94-.94-2.06-.94 2.06-2.06.94zm-11 1L8.5 8.5l.94-2.06 2.06-.94-2.06-.94L8.5 2.5l-.94 2.06-2.06.94zm10 10l.94 2.06.94-2.06 2.06-.94-2.06-.94-.94-2.06-.94 2.06-2.06.94z\"/><path d=\"M17.41 7.96l-1.37-1.37c-.4-.4-.92-.59-1.43-.59-.52 0-1.04.2-1.43.59L10.3 9.45l-7.72 7.72c-.78.78-.78 2.05 0 2.83L4 21.41c.39.39.9.59 1.41.59.51 0 1.02-.2 1.41-.59l7.78-7.78 2.81-2.81c.8-.78.8-2.07 0-2.86zM5.41 20L4 18.59l7.72-7.72 1.47 1.35L5.41 20z\"/>\n",
              "  </svg>\n",
              "      </button>\n",
              "      \n",
              "  <style>\n",
              "    .colab-df-container {\n",
              "      display:flex;\n",
              "      flex-wrap:wrap;\n",
              "      gap: 12px;\n",
              "    }\n",
              "\n",
              "    .colab-df-convert {\n",
              "      background-color: #E8F0FE;\n",
              "      border: none;\n",
              "      border-radius: 50%;\n",
              "      cursor: pointer;\n",
              "      display: none;\n",
              "      fill: #1967D2;\n",
              "      height: 32px;\n",
              "      padding: 0 0 0 0;\n",
              "      width: 32px;\n",
              "    }\n",
              "\n",
              "    .colab-df-convert:hover {\n",
              "      background-color: #E2EBFA;\n",
              "      box-shadow: 0px 1px 2px rgba(60, 64, 67, 0.3), 0px 1px 3px 1px rgba(60, 64, 67, 0.15);\n",
              "      fill: #174EA6;\n",
              "    }\n",
              "\n",
              "    [theme=dark] .colab-df-convert {\n",
              "      background-color: #3B4455;\n",
              "      fill: #D2E3FC;\n",
              "    }\n",
              "\n",
              "    [theme=dark] .colab-df-convert:hover {\n",
              "      background-color: #434B5C;\n",
              "      box-shadow: 0px 1px 3px 1px rgba(0, 0, 0, 0.15);\n",
              "      filter: drop-shadow(0px 1px 2px rgba(0, 0, 0, 0.3));\n",
              "      fill: #FFFFFF;\n",
              "    }\n",
              "  </style>\n",
              "\n",
              "      <script>\n",
              "        const buttonEl =\n",
              "          document.querySelector('#df-21587f49-1561-4345-807d-535de11f86ec button.colab-df-convert');\n",
              "        buttonEl.style.display =\n",
              "          google.colab.kernel.accessAllowed ? 'block' : 'none';\n",
              "\n",
              "        async function convertToInteractive(key) {\n",
              "          const element = document.querySelector('#df-21587f49-1561-4345-807d-535de11f86ec');\n",
              "          const dataTable =\n",
              "            await google.colab.kernel.invokeFunction('convertToInteractive',\n",
              "                                                     [key], {});\n",
              "          if (!dataTable) return;\n",
              "\n",
              "          const docLinkHtml = 'Like what you see? Visit the ' +\n",
              "            '<a target=\"_blank\" href=https://colab.research.google.com/notebooks/data_table.ipynb>data table notebook</a>'\n",
              "            + ' to learn more about interactive tables.';\n",
              "          element.innerHTML = '';\n",
              "          dataTable['output_type'] = 'display_data';\n",
              "          await google.colab.output.renderOutput(dataTable, element);\n",
              "          const docLink = document.createElement('div');\n",
              "          docLink.innerHTML = docLinkHtml;\n",
              "          element.appendChild(docLink);\n",
              "        }\n",
              "      </script>\n",
              "    </div>\n",
              "  </div>\n",
              "  "
            ]
          },
          "metadata": {},
          "execution_count": 400
        }
      ],
      "source": [
        "fumo['|Dif|'] = fumo.Dif.abs()\n",
        "fumo"
      ]
    },
    {
      "cell_type": "code",
      "execution_count": 401,
      "metadata": {
        "id": "hwqK3Uu7otP7",
        "colab": {
          "base_uri": "https://localhost:8080/",
          "height": 1000
        },
        "outputId": "8a60c003-e007-4d7e-eda3-d7c555889fcd"
      },
      "outputs": [
        {
          "output_type": "execute_result",
          "data": {
            "text/plain": [
              "    Antes  Depois  Dif  |Dif|\n",
              "4      13      14    1      1\n",
              "20     17      16   -1      1\n",
              "31     17      19    2      2\n",
              "21     12      16    4      4\n",
              "24     14      18    4      4\n",
              "9      22      17   -5      5\n",
              "6      21      13   -8      8\n",
              "29     23      14   -9      9\n",
              "8      10      19    9      9\n",
              "17     15       4  -11     11\n",
              "2      24      12  -12     12\n",
              "22     21       9  -12     12\n",
              "11     15       2  -13     13\n",
              "28     28      11  -17     17\n",
              "1      25       8  -17     17\n",
              "7      29      12  -17     17\n",
              "12     36      15  -21     21\n",
              "27     22       0  -22     22\n",
              "19     41      18  -23     23\n",
              "0      39      16  -23     23\n",
              "16     24       0  -24     24\n",
              "18     40      16  -24     24\n",
              "26     46      17  -29     29\n",
              "13     39      10  -29     29\n",
              "32     31       2  -29     29\n",
              "14     52      20  -32     32\n",
              "10     50      17  -33     33\n",
              "15     48      13  -35     35\n",
              "5      52      16  -36     36\n",
              "30     37       0  -37     37\n",
              "33     49       9  -40     40\n",
              "23     49       9  -40     40\n",
              "34     49       6  -43     43\n",
              "3      50       0  -50     50\n",
              "25     55       4  -51     51"
            ],
            "text/html": [
              "\n",
              "  <div id=\"df-d4b4e15f-2bb4-4f25-af07-31562b08885a\">\n",
              "    <div class=\"colab-df-container\">\n",
              "      <div>\n",
              "<style scoped>\n",
              "    .dataframe tbody tr th:only-of-type {\n",
              "        vertical-align: middle;\n",
              "    }\n",
              "\n",
              "    .dataframe tbody tr th {\n",
              "        vertical-align: top;\n",
              "    }\n",
              "\n",
              "    .dataframe thead th {\n",
              "        text-align: right;\n",
              "    }\n",
              "</style>\n",
              "<table border=\"1\" class=\"dataframe\">\n",
              "  <thead>\n",
              "    <tr style=\"text-align: right;\">\n",
              "      <th></th>\n",
              "      <th>Antes</th>\n",
              "      <th>Depois</th>\n",
              "      <th>Dif</th>\n",
              "      <th>|Dif|</th>\n",
              "    </tr>\n",
              "  </thead>\n",
              "  <tbody>\n",
              "    <tr>\n",
              "      <th>4</th>\n",
              "      <td>13</td>\n",
              "      <td>14</td>\n",
              "      <td>1</td>\n",
              "      <td>1</td>\n",
              "    </tr>\n",
              "    <tr>\n",
              "      <th>20</th>\n",
              "      <td>17</td>\n",
              "      <td>16</td>\n",
              "      <td>-1</td>\n",
              "      <td>1</td>\n",
              "    </tr>\n",
              "    <tr>\n",
              "      <th>31</th>\n",
              "      <td>17</td>\n",
              "      <td>19</td>\n",
              "      <td>2</td>\n",
              "      <td>2</td>\n",
              "    </tr>\n",
              "    <tr>\n",
              "      <th>21</th>\n",
              "      <td>12</td>\n",
              "      <td>16</td>\n",
              "      <td>4</td>\n",
              "      <td>4</td>\n",
              "    </tr>\n",
              "    <tr>\n",
              "      <th>24</th>\n",
              "      <td>14</td>\n",
              "      <td>18</td>\n",
              "      <td>4</td>\n",
              "      <td>4</td>\n",
              "    </tr>\n",
              "    <tr>\n",
              "      <th>9</th>\n",
              "      <td>22</td>\n",
              "      <td>17</td>\n",
              "      <td>-5</td>\n",
              "      <td>5</td>\n",
              "    </tr>\n",
              "    <tr>\n",
              "      <th>6</th>\n",
              "      <td>21</td>\n",
              "      <td>13</td>\n",
              "      <td>-8</td>\n",
              "      <td>8</td>\n",
              "    </tr>\n",
              "    <tr>\n",
              "      <th>29</th>\n",
              "      <td>23</td>\n",
              "      <td>14</td>\n",
              "      <td>-9</td>\n",
              "      <td>9</td>\n",
              "    </tr>\n",
              "    <tr>\n",
              "      <th>8</th>\n",
              "      <td>10</td>\n",
              "      <td>19</td>\n",
              "      <td>9</td>\n",
              "      <td>9</td>\n",
              "    </tr>\n",
              "    <tr>\n",
              "      <th>17</th>\n",
              "      <td>15</td>\n",
              "      <td>4</td>\n",
              "      <td>-11</td>\n",
              "      <td>11</td>\n",
              "    </tr>\n",
              "    <tr>\n",
              "      <th>2</th>\n",
              "      <td>24</td>\n",
              "      <td>12</td>\n",
              "      <td>-12</td>\n",
              "      <td>12</td>\n",
              "    </tr>\n",
              "    <tr>\n",
              "      <th>22</th>\n",
              "      <td>21</td>\n",
              "      <td>9</td>\n",
              "      <td>-12</td>\n",
              "      <td>12</td>\n",
              "    </tr>\n",
              "    <tr>\n",
              "      <th>11</th>\n",
              "      <td>15</td>\n",
              "      <td>2</td>\n",
              "      <td>-13</td>\n",
              "      <td>13</td>\n",
              "    </tr>\n",
              "    <tr>\n",
              "      <th>28</th>\n",
              "      <td>28</td>\n",
              "      <td>11</td>\n",
              "      <td>-17</td>\n",
              "      <td>17</td>\n",
              "    </tr>\n",
              "    <tr>\n",
              "      <th>1</th>\n",
              "      <td>25</td>\n",
              "      <td>8</td>\n",
              "      <td>-17</td>\n",
              "      <td>17</td>\n",
              "    </tr>\n",
              "    <tr>\n",
              "      <th>7</th>\n",
              "      <td>29</td>\n",
              "      <td>12</td>\n",
              "      <td>-17</td>\n",
              "      <td>17</td>\n",
              "    </tr>\n",
              "    <tr>\n",
              "      <th>12</th>\n",
              "      <td>36</td>\n",
              "      <td>15</td>\n",
              "      <td>-21</td>\n",
              "      <td>21</td>\n",
              "    </tr>\n",
              "    <tr>\n",
              "      <th>27</th>\n",
              "      <td>22</td>\n",
              "      <td>0</td>\n",
              "      <td>-22</td>\n",
              "      <td>22</td>\n",
              "    </tr>\n",
              "    <tr>\n",
              "      <th>19</th>\n",
              "      <td>41</td>\n",
              "      <td>18</td>\n",
              "      <td>-23</td>\n",
              "      <td>23</td>\n",
              "    </tr>\n",
              "    <tr>\n",
              "      <th>0</th>\n",
              "      <td>39</td>\n",
              "      <td>16</td>\n",
              "      <td>-23</td>\n",
              "      <td>23</td>\n",
              "    </tr>\n",
              "    <tr>\n",
              "      <th>16</th>\n",
              "      <td>24</td>\n",
              "      <td>0</td>\n",
              "      <td>-24</td>\n",
              "      <td>24</td>\n",
              "    </tr>\n",
              "    <tr>\n",
              "      <th>18</th>\n",
              "      <td>40</td>\n",
              "      <td>16</td>\n",
              "      <td>-24</td>\n",
              "      <td>24</td>\n",
              "    </tr>\n",
              "    <tr>\n",
              "      <th>26</th>\n",
              "      <td>46</td>\n",
              "      <td>17</td>\n",
              "      <td>-29</td>\n",
              "      <td>29</td>\n",
              "    </tr>\n",
              "    <tr>\n",
              "      <th>13</th>\n",
              "      <td>39</td>\n",
              "      <td>10</td>\n",
              "      <td>-29</td>\n",
              "      <td>29</td>\n",
              "    </tr>\n",
              "    <tr>\n",
              "      <th>32</th>\n",
              "      <td>31</td>\n",
              "      <td>2</td>\n",
              "      <td>-29</td>\n",
              "      <td>29</td>\n",
              "    </tr>\n",
              "    <tr>\n",
              "      <th>14</th>\n",
              "      <td>52</td>\n",
              "      <td>20</td>\n",
              "      <td>-32</td>\n",
              "      <td>32</td>\n",
              "    </tr>\n",
              "    <tr>\n",
              "      <th>10</th>\n",
              "      <td>50</td>\n",
              "      <td>17</td>\n",
              "      <td>-33</td>\n",
              "      <td>33</td>\n",
              "    </tr>\n",
              "    <tr>\n",
              "      <th>15</th>\n",
              "      <td>48</td>\n",
              "      <td>13</td>\n",
              "      <td>-35</td>\n",
              "      <td>35</td>\n",
              "    </tr>\n",
              "    <tr>\n",
              "      <th>5</th>\n",
              "      <td>52</td>\n",
              "      <td>16</td>\n",
              "      <td>-36</td>\n",
              "      <td>36</td>\n",
              "    </tr>\n",
              "    <tr>\n",
              "      <th>30</th>\n",
              "      <td>37</td>\n",
              "      <td>0</td>\n",
              "      <td>-37</td>\n",
              "      <td>37</td>\n",
              "    </tr>\n",
              "    <tr>\n",
              "      <th>33</th>\n",
              "      <td>49</td>\n",
              "      <td>9</td>\n",
              "      <td>-40</td>\n",
              "      <td>40</td>\n",
              "    </tr>\n",
              "    <tr>\n",
              "      <th>23</th>\n",
              "      <td>49</td>\n",
              "      <td>9</td>\n",
              "      <td>-40</td>\n",
              "      <td>40</td>\n",
              "    </tr>\n",
              "    <tr>\n",
              "      <th>34</th>\n",
              "      <td>49</td>\n",
              "      <td>6</td>\n",
              "      <td>-43</td>\n",
              "      <td>43</td>\n",
              "    </tr>\n",
              "    <tr>\n",
              "      <th>3</th>\n",
              "      <td>50</td>\n",
              "      <td>0</td>\n",
              "      <td>-50</td>\n",
              "      <td>50</td>\n",
              "    </tr>\n",
              "    <tr>\n",
              "      <th>25</th>\n",
              "      <td>55</td>\n",
              "      <td>4</td>\n",
              "      <td>-51</td>\n",
              "      <td>51</td>\n",
              "    </tr>\n",
              "  </tbody>\n",
              "</table>\n",
              "</div>\n",
              "      <button class=\"colab-df-convert\" onclick=\"convertToInteractive('df-d4b4e15f-2bb4-4f25-af07-31562b08885a')\"\n",
              "              title=\"Convert this dataframe to an interactive table.\"\n",
              "              style=\"display:none;\">\n",
              "        \n",
              "  <svg xmlns=\"http://www.w3.org/2000/svg\" height=\"24px\"viewBox=\"0 0 24 24\"\n",
              "       width=\"24px\">\n",
              "    <path d=\"M0 0h24v24H0V0z\" fill=\"none\"/>\n",
              "    <path d=\"M18.56 5.44l.94 2.06.94-2.06 2.06-.94-2.06-.94-.94-2.06-.94 2.06-2.06.94zm-11 1L8.5 8.5l.94-2.06 2.06-.94-2.06-.94L8.5 2.5l-.94 2.06-2.06.94zm10 10l.94 2.06.94-2.06 2.06-.94-2.06-.94-.94-2.06-.94 2.06-2.06.94z\"/><path d=\"M17.41 7.96l-1.37-1.37c-.4-.4-.92-.59-1.43-.59-.52 0-1.04.2-1.43.59L10.3 9.45l-7.72 7.72c-.78.78-.78 2.05 0 2.83L4 21.41c.39.39.9.59 1.41.59.51 0 1.02-.2 1.41-.59l7.78-7.78 2.81-2.81c.8-.78.8-2.07 0-2.86zM5.41 20L4 18.59l7.72-7.72 1.47 1.35L5.41 20z\"/>\n",
              "  </svg>\n",
              "      </button>\n",
              "      \n",
              "  <style>\n",
              "    .colab-df-container {\n",
              "      display:flex;\n",
              "      flex-wrap:wrap;\n",
              "      gap: 12px;\n",
              "    }\n",
              "\n",
              "    .colab-df-convert {\n",
              "      background-color: #E8F0FE;\n",
              "      border: none;\n",
              "      border-radius: 50%;\n",
              "      cursor: pointer;\n",
              "      display: none;\n",
              "      fill: #1967D2;\n",
              "      height: 32px;\n",
              "      padding: 0 0 0 0;\n",
              "      width: 32px;\n",
              "    }\n",
              "\n",
              "    .colab-df-convert:hover {\n",
              "      background-color: #E2EBFA;\n",
              "      box-shadow: 0px 1px 2px rgba(60, 64, 67, 0.3), 0px 1px 3px 1px rgba(60, 64, 67, 0.15);\n",
              "      fill: #174EA6;\n",
              "    }\n",
              "\n",
              "    [theme=dark] .colab-df-convert {\n",
              "      background-color: #3B4455;\n",
              "      fill: #D2E3FC;\n",
              "    }\n",
              "\n",
              "    [theme=dark] .colab-df-convert:hover {\n",
              "      background-color: #434B5C;\n",
              "      box-shadow: 0px 1px 3px 1px rgba(0, 0, 0, 0.15);\n",
              "      filter: drop-shadow(0px 1px 2px rgba(0, 0, 0, 0.3));\n",
              "      fill: #FFFFFF;\n",
              "    }\n",
              "  </style>\n",
              "\n",
              "      <script>\n",
              "        const buttonEl =\n",
              "          document.querySelector('#df-d4b4e15f-2bb4-4f25-af07-31562b08885a button.colab-df-convert');\n",
              "        buttonEl.style.display =\n",
              "          google.colab.kernel.accessAllowed ? 'block' : 'none';\n",
              "\n",
              "        async function convertToInteractive(key) {\n",
              "          const element = document.querySelector('#df-d4b4e15f-2bb4-4f25-af07-31562b08885a');\n",
              "          const dataTable =\n",
              "            await google.colab.kernel.invokeFunction('convertToInteractive',\n",
              "                                                     [key], {});\n",
              "          if (!dataTable) return;\n",
              "\n",
              "          const docLinkHtml = 'Like what you see? Visit the ' +\n",
              "            '<a target=\"_blank\" href=https://colab.research.google.com/notebooks/data_table.ipynb>data table notebook</a>'\n",
              "            + ' to learn more about interactive tables.';\n",
              "          element.innerHTML = '';\n",
              "          dataTable['output_type'] = 'display_data';\n",
              "          await google.colab.output.renderOutput(dataTable, element);\n",
              "          const docLink = document.createElement('div');\n",
              "          docLink.innerHTML = docLinkHtml;\n",
              "          element.appendChild(docLink);\n",
              "        }\n",
              "      </script>\n",
              "    </div>\n",
              "  </div>\n",
              "  "
            ]
          },
          "metadata": {},
          "execution_count": 401
        }
      ],
      "source": [
        "fumo.sort_values(by = '|Dif|', inplace = True)\n",
        "fumo"
      ]
    },
    {
      "cell_type": "code",
      "execution_count": 402,
      "metadata": {
        "id": "K_JKSwLHotMx",
        "colab": {
          "base_uri": "https://localhost:8080/",
          "height": 1000
        },
        "outputId": "3bc1459e-36b8-4de7-a48c-d97e95195d1b"
      },
      "outputs": [
        {
          "output_type": "execute_result",
          "data": {
            "text/plain": [
              "    Antes  Depois  Dif  |Dif|  Posto\n",
              "4      13      14    1      1      1\n",
              "20     17      16   -1      1      2\n",
              "31     17      19    2      2      3\n",
              "21     12      16    4      4      4\n",
              "24     14      18    4      4      5\n",
              "9      22      17   -5      5      6\n",
              "6      21      13   -8      8      7\n",
              "29     23      14   -9      9      8\n",
              "8      10      19    9      9      9\n",
              "17     15       4  -11     11     10\n",
              "2      24      12  -12     12     11\n",
              "22     21       9  -12     12     12\n",
              "11     15       2  -13     13     13\n",
              "28     28      11  -17     17     14\n",
              "1      25       8  -17     17     15\n",
              "7      29      12  -17     17     16\n",
              "12     36      15  -21     21     17\n",
              "27     22       0  -22     22     18\n",
              "19     41      18  -23     23     19\n",
              "0      39      16  -23     23     20\n",
              "16     24       0  -24     24     21\n",
              "18     40      16  -24     24     22\n",
              "26     46      17  -29     29     23\n",
              "13     39      10  -29     29     24\n",
              "32     31       2  -29     29     25\n",
              "14     52      20  -32     32     26\n",
              "10     50      17  -33     33     27\n",
              "15     48      13  -35     35     28\n",
              "5      52      16  -36     36     29\n",
              "30     37       0  -37     37     30\n",
              "33     49       9  -40     40     31\n",
              "23     49       9  -40     40     32\n",
              "34     49       6  -43     43     33\n",
              "3      50       0  -50     50     34\n",
              "25     55       4  -51     51     35"
            ],
            "text/html": [
              "\n",
              "  <div id=\"df-d08f7c5e-ba39-4758-85d0-6add65d59bdb\">\n",
              "    <div class=\"colab-df-container\">\n",
              "      <div>\n",
              "<style scoped>\n",
              "    .dataframe tbody tr th:only-of-type {\n",
              "        vertical-align: middle;\n",
              "    }\n",
              "\n",
              "    .dataframe tbody tr th {\n",
              "        vertical-align: top;\n",
              "    }\n",
              "\n",
              "    .dataframe thead th {\n",
              "        text-align: right;\n",
              "    }\n",
              "</style>\n",
              "<table border=\"1\" class=\"dataframe\">\n",
              "  <thead>\n",
              "    <tr style=\"text-align: right;\">\n",
              "      <th></th>\n",
              "      <th>Antes</th>\n",
              "      <th>Depois</th>\n",
              "      <th>Dif</th>\n",
              "      <th>|Dif|</th>\n",
              "      <th>Posto</th>\n",
              "    </tr>\n",
              "  </thead>\n",
              "  <tbody>\n",
              "    <tr>\n",
              "      <th>4</th>\n",
              "      <td>13</td>\n",
              "      <td>14</td>\n",
              "      <td>1</td>\n",
              "      <td>1</td>\n",
              "      <td>1</td>\n",
              "    </tr>\n",
              "    <tr>\n",
              "      <th>20</th>\n",
              "      <td>17</td>\n",
              "      <td>16</td>\n",
              "      <td>-1</td>\n",
              "      <td>1</td>\n",
              "      <td>2</td>\n",
              "    </tr>\n",
              "    <tr>\n",
              "      <th>31</th>\n",
              "      <td>17</td>\n",
              "      <td>19</td>\n",
              "      <td>2</td>\n",
              "      <td>2</td>\n",
              "      <td>3</td>\n",
              "    </tr>\n",
              "    <tr>\n",
              "      <th>21</th>\n",
              "      <td>12</td>\n",
              "      <td>16</td>\n",
              "      <td>4</td>\n",
              "      <td>4</td>\n",
              "      <td>4</td>\n",
              "    </tr>\n",
              "    <tr>\n",
              "      <th>24</th>\n",
              "      <td>14</td>\n",
              "      <td>18</td>\n",
              "      <td>4</td>\n",
              "      <td>4</td>\n",
              "      <td>5</td>\n",
              "    </tr>\n",
              "    <tr>\n",
              "      <th>9</th>\n",
              "      <td>22</td>\n",
              "      <td>17</td>\n",
              "      <td>-5</td>\n",
              "      <td>5</td>\n",
              "      <td>6</td>\n",
              "    </tr>\n",
              "    <tr>\n",
              "      <th>6</th>\n",
              "      <td>21</td>\n",
              "      <td>13</td>\n",
              "      <td>-8</td>\n",
              "      <td>8</td>\n",
              "      <td>7</td>\n",
              "    </tr>\n",
              "    <tr>\n",
              "      <th>29</th>\n",
              "      <td>23</td>\n",
              "      <td>14</td>\n",
              "      <td>-9</td>\n",
              "      <td>9</td>\n",
              "      <td>8</td>\n",
              "    </tr>\n",
              "    <tr>\n",
              "      <th>8</th>\n",
              "      <td>10</td>\n",
              "      <td>19</td>\n",
              "      <td>9</td>\n",
              "      <td>9</td>\n",
              "      <td>9</td>\n",
              "    </tr>\n",
              "    <tr>\n",
              "      <th>17</th>\n",
              "      <td>15</td>\n",
              "      <td>4</td>\n",
              "      <td>-11</td>\n",
              "      <td>11</td>\n",
              "      <td>10</td>\n",
              "    </tr>\n",
              "    <tr>\n",
              "      <th>2</th>\n",
              "      <td>24</td>\n",
              "      <td>12</td>\n",
              "      <td>-12</td>\n",
              "      <td>12</td>\n",
              "      <td>11</td>\n",
              "    </tr>\n",
              "    <tr>\n",
              "      <th>22</th>\n",
              "      <td>21</td>\n",
              "      <td>9</td>\n",
              "      <td>-12</td>\n",
              "      <td>12</td>\n",
              "      <td>12</td>\n",
              "    </tr>\n",
              "    <tr>\n",
              "      <th>11</th>\n",
              "      <td>15</td>\n",
              "      <td>2</td>\n",
              "      <td>-13</td>\n",
              "      <td>13</td>\n",
              "      <td>13</td>\n",
              "    </tr>\n",
              "    <tr>\n",
              "      <th>28</th>\n",
              "      <td>28</td>\n",
              "      <td>11</td>\n",
              "      <td>-17</td>\n",
              "      <td>17</td>\n",
              "      <td>14</td>\n",
              "    </tr>\n",
              "    <tr>\n",
              "      <th>1</th>\n",
              "      <td>25</td>\n",
              "      <td>8</td>\n",
              "      <td>-17</td>\n",
              "      <td>17</td>\n",
              "      <td>15</td>\n",
              "    </tr>\n",
              "    <tr>\n",
              "      <th>7</th>\n",
              "      <td>29</td>\n",
              "      <td>12</td>\n",
              "      <td>-17</td>\n",
              "      <td>17</td>\n",
              "      <td>16</td>\n",
              "    </tr>\n",
              "    <tr>\n",
              "      <th>12</th>\n",
              "      <td>36</td>\n",
              "      <td>15</td>\n",
              "      <td>-21</td>\n",
              "      <td>21</td>\n",
              "      <td>17</td>\n",
              "    </tr>\n",
              "    <tr>\n",
              "      <th>27</th>\n",
              "      <td>22</td>\n",
              "      <td>0</td>\n",
              "      <td>-22</td>\n",
              "      <td>22</td>\n",
              "      <td>18</td>\n",
              "    </tr>\n",
              "    <tr>\n",
              "      <th>19</th>\n",
              "      <td>41</td>\n",
              "      <td>18</td>\n",
              "      <td>-23</td>\n",
              "      <td>23</td>\n",
              "      <td>19</td>\n",
              "    </tr>\n",
              "    <tr>\n",
              "      <th>0</th>\n",
              "      <td>39</td>\n",
              "      <td>16</td>\n",
              "      <td>-23</td>\n",
              "      <td>23</td>\n",
              "      <td>20</td>\n",
              "    </tr>\n",
              "    <tr>\n",
              "      <th>16</th>\n",
              "      <td>24</td>\n",
              "      <td>0</td>\n",
              "      <td>-24</td>\n",
              "      <td>24</td>\n",
              "      <td>21</td>\n",
              "    </tr>\n",
              "    <tr>\n",
              "      <th>18</th>\n",
              "      <td>40</td>\n",
              "      <td>16</td>\n",
              "      <td>-24</td>\n",
              "      <td>24</td>\n",
              "      <td>22</td>\n",
              "    </tr>\n",
              "    <tr>\n",
              "      <th>26</th>\n",
              "      <td>46</td>\n",
              "      <td>17</td>\n",
              "      <td>-29</td>\n",
              "      <td>29</td>\n",
              "      <td>23</td>\n",
              "    </tr>\n",
              "    <tr>\n",
              "      <th>13</th>\n",
              "      <td>39</td>\n",
              "      <td>10</td>\n",
              "      <td>-29</td>\n",
              "      <td>29</td>\n",
              "      <td>24</td>\n",
              "    </tr>\n",
              "    <tr>\n",
              "      <th>32</th>\n",
              "      <td>31</td>\n",
              "      <td>2</td>\n",
              "      <td>-29</td>\n",
              "      <td>29</td>\n",
              "      <td>25</td>\n",
              "    </tr>\n",
              "    <tr>\n",
              "      <th>14</th>\n",
              "      <td>52</td>\n",
              "      <td>20</td>\n",
              "      <td>-32</td>\n",
              "      <td>32</td>\n",
              "      <td>26</td>\n",
              "    </tr>\n",
              "    <tr>\n",
              "      <th>10</th>\n",
              "      <td>50</td>\n",
              "      <td>17</td>\n",
              "      <td>-33</td>\n",
              "      <td>33</td>\n",
              "      <td>27</td>\n",
              "    </tr>\n",
              "    <tr>\n",
              "      <th>15</th>\n",
              "      <td>48</td>\n",
              "      <td>13</td>\n",
              "      <td>-35</td>\n",
              "      <td>35</td>\n",
              "      <td>28</td>\n",
              "    </tr>\n",
              "    <tr>\n",
              "      <th>5</th>\n",
              "      <td>52</td>\n",
              "      <td>16</td>\n",
              "      <td>-36</td>\n",
              "      <td>36</td>\n",
              "      <td>29</td>\n",
              "    </tr>\n",
              "    <tr>\n",
              "      <th>30</th>\n",
              "      <td>37</td>\n",
              "      <td>0</td>\n",
              "      <td>-37</td>\n",
              "      <td>37</td>\n",
              "      <td>30</td>\n",
              "    </tr>\n",
              "    <tr>\n",
              "      <th>33</th>\n",
              "      <td>49</td>\n",
              "      <td>9</td>\n",
              "      <td>-40</td>\n",
              "      <td>40</td>\n",
              "      <td>31</td>\n",
              "    </tr>\n",
              "    <tr>\n",
              "      <th>23</th>\n",
              "      <td>49</td>\n",
              "      <td>9</td>\n",
              "      <td>-40</td>\n",
              "      <td>40</td>\n",
              "      <td>32</td>\n",
              "    </tr>\n",
              "    <tr>\n",
              "      <th>34</th>\n",
              "      <td>49</td>\n",
              "      <td>6</td>\n",
              "      <td>-43</td>\n",
              "      <td>43</td>\n",
              "      <td>33</td>\n",
              "    </tr>\n",
              "    <tr>\n",
              "      <th>3</th>\n",
              "      <td>50</td>\n",
              "      <td>0</td>\n",
              "      <td>-50</td>\n",
              "      <td>50</td>\n",
              "      <td>34</td>\n",
              "    </tr>\n",
              "    <tr>\n",
              "      <th>25</th>\n",
              "      <td>55</td>\n",
              "      <td>4</td>\n",
              "      <td>-51</td>\n",
              "      <td>51</td>\n",
              "      <td>35</td>\n",
              "    </tr>\n",
              "  </tbody>\n",
              "</table>\n",
              "</div>\n",
              "      <button class=\"colab-df-convert\" onclick=\"convertToInteractive('df-d08f7c5e-ba39-4758-85d0-6add65d59bdb')\"\n",
              "              title=\"Convert this dataframe to an interactive table.\"\n",
              "              style=\"display:none;\">\n",
              "        \n",
              "  <svg xmlns=\"http://www.w3.org/2000/svg\" height=\"24px\"viewBox=\"0 0 24 24\"\n",
              "       width=\"24px\">\n",
              "    <path d=\"M0 0h24v24H0V0z\" fill=\"none\"/>\n",
              "    <path d=\"M18.56 5.44l.94 2.06.94-2.06 2.06-.94-2.06-.94-.94-2.06-.94 2.06-2.06.94zm-11 1L8.5 8.5l.94-2.06 2.06-.94-2.06-.94L8.5 2.5l-.94 2.06-2.06.94zm10 10l.94 2.06.94-2.06 2.06-.94-2.06-.94-.94-2.06-.94 2.06-2.06.94z\"/><path d=\"M17.41 7.96l-1.37-1.37c-.4-.4-.92-.59-1.43-.59-.52 0-1.04.2-1.43.59L10.3 9.45l-7.72 7.72c-.78.78-.78 2.05 0 2.83L4 21.41c.39.39.9.59 1.41.59.51 0 1.02-.2 1.41-.59l7.78-7.78 2.81-2.81c.8-.78.8-2.07 0-2.86zM5.41 20L4 18.59l7.72-7.72 1.47 1.35L5.41 20z\"/>\n",
              "  </svg>\n",
              "      </button>\n",
              "      \n",
              "  <style>\n",
              "    .colab-df-container {\n",
              "      display:flex;\n",
              "      flex-wrap:wrap;\n",
              "      gap: 12px;\n",
              "    }\n",
              "\n",
              "    .colab-df-convert {\n",
              "      background-color: #E8F0FE;\n",
              "      border: none;\n",
              "      border-radius: 50%;\n",
              "      cursor: pointer;\n",
              "      display: none;\n",
              "      fill: #1967D2;\n",
              "      height: 32px;\n",
              "      padding: 0 0 0 0;\n",
              "      width: 32px;\n",
              "    }\n",
              "\n",
              "    .colab-df-convert:hover {\n",
              "      background-color: #E2EBFA;\n",
              "      box-shadow: 0px 1px 2px rgba(60, 64, 67, 0.3), 0px 1px 3px 1px rgba(60, 64, 67, 0.15);\n",
              "      fill: #174EA6;\n",
              "    }\n",
              "\n",
              "    [theme=dark] .colab-df-convert {\n",
              "      background-color: #3B4455;\n",
              "      fill: #D2E3FC;\n",
              "    }\n",
              "\n",
              "    [theme=dark] .colab-df-convert:hover {\n",
              "      background-color: #434B5C;\n",
              "      box-shadow: 0px 1px 3px 1px rgba(0, 0, 0, 0.15);\n",
              "      filter: drop-shadow(0px 1px 2px rgba(0, 0, 0, 0.3));\n",
              "      fill: #FFFFFF;\n",
              "    }\n",
              "  </style>\n",
              "\n",
              "      <script>\n",
              "        const buttonEl =\n",
              "          document.querySelector('#df-d08f7c5e-ba39-4758-85d0-6add65d59bdb button.colab-df-convert');\n",
              "        buttonEl.style.display =\n",
              "          google.colab.kernel.accessAllowed ? 'block' : 'none';\n",
              "\n",
              "        async function convertToInteractive(key) {\n",
              "          const element = document.querySelector('#df-d08f7c5e-ba39-4758-85d0-6add65d59bdb');\n",
              "          const dataTable =\n",
              "            await google.colab.kernel.invokeFunction('convertToInteractive',\n",
              "                                                     [key], {});\n",
              "          if (!dataTable) return;\n",
              "\n",
              "          const docLinkHtml = 'Like what you see? Visit the ' +\n",
              "            '<a target=\"_blank\" href=https://colab.research.google.com/notebooks/data_table.ipynb>data table notebook</a>'\n",
              "            + ' to learn more about interactive tables.';\n",
              "          element.innerHTML = '';\n",
              "          dataTable['output_type'] = 'display_data';\n",
              "          await google.colab.output.renderOutput(dataTable, element);\n",
              "          const docLink = document.createElement('div');\n",
              "          docLink.innerHTML = docLinkHtml;\n",
              "          element.appendChild(docLink);\n",
              "        }\n",
              "      </script>\n",
              "    </div>\n",
              "  </div>\n",
              "  "
            ]
          },
          "metadata": {},
          "execution_count": 402
        }
      ],
      "source": [
        "fumo['Posto'] = range(1, len(fumo) + 1)\n",
        "fumo"
      ]
    },
    {
      "cell_type": "code",
      "execution_count": 403,
      "metadata": {
        "id": "h8TXHLh1otJh",
        "colab": {
          "base_uri": "https://localhost:8080/",
          "height": 833
        },
        "outputId": "598b60f2-700e-4132-85b4-7413e30b48cd"
      },
      "outputs": [
        {
          "output_type": "execute_result",
          "data": {
            "text/plain": [
              "       Posto\n",
              "|Dif|       \n",
              "1        1.5\n",
              "2        3.0\n",
              "4        4.5\n",
              "5        6.0\n",
              "8        7.0\n",
              "9        8.5\n",
              "11      10.0\n",
              "12      11.5\n",
              "13      13.0\n",
              "17      15.0\n",
              "21      17.0\n",
              "22      18.0\n",
              "23      19.5\n",
              "24      21.5\n",
              "29      24.0\n",
              "32      26.0\n",
              "33      27.0\n",
              "35      28.0\n",
              "36      29.0\n",
              "37      30.0\n",
              "40      31.5\n",
              "43      33.0\n",
              "50      34.0\n",
              "51      35.0"
            ],
            "text/html": [
              "\n",
              "  <div id=\"df-79416e4e-0022-42f6-b8e1-19c42f70da73\">\n",
              "    <div class=\"colab-df-container\">\n",
              "      <div>\n",
              "<style scoped>\n",
              "    .dataframe tbody tr th:only-of-type {\n",
              "        vertical-align: middle;\n",
              "    }\n",
              "\n",
              "    .dataframe tbody tr th {\n",
              "        vertical-align: top;\n",
              "    }\n",
              "\n",
              "    .dataframe thead th {\n",
              "        text-align: right;\n",
              "    }\n",
              "</style>\n",
              "<table border=\"1\" class=\"dataframe\">\n",
              "  <thead>\n",
              "    <tr style=\"text-align: right;\">\n",
              "      <th></th>\n",
              "      <th>Posto</th>\n",
              "    </tr>\n",
              "    <tr>\n",
              "      <th>|Dif|</th>\n",
              "      <th></th>\n",
              "    </tr>\n",
              "  </thead>\n",
              "  <tbody>\n",
              "    <tr>\n",
              "      <th>1</th>\n",
              "      <td>1.5</td>\n",
              "    </tr>\n",
              "    <tr>\n",
              "      <th>2</th>\n",
              "      <td>3.0</td>\n",
              "    </tr>\n",
              "    <tr>\n",
              "      <th>4</th>\n",
              "      <td>4.5</td>\n",
              "    </tr>\n",
              "    <tr>\n",
              "      <th>5</th>\n",
              "      <td>6.0</td>\n",
              "    </tr>\n",
              "    <tr>\n",
              "      <th>8</th>\n",
              "      <td>7.0</td>\n",
              "    </tr>\n",
              "    <tr>\n",
              "      <th>9</th>\n",
              "      <td>8.5</td>\n",
              "    </tr>\n",
              "    <tr>\n",
              "      <th>11</th>\n",
              "      <td>10.0</td>\n",
              "    </tr>\n",
              "    <tr>\n",
              "      <th>12</th>\n",
              "      <td>11.5</td>\n",
              "    </tr>\n",
              "    <tr>\n",
              "      <th>13</th>\n",
              "      <td>13.0</td>\n",
              "    </tr>\n",
              "    <tr>\n",
              "      <th>17</th>\n",
              "      <td>15.0</td>\n",
              "    </tr>\n",
              "    <tr>\n",
              "      <th>21</th>\n",
              "      <td>17.0</td>\n",
              "    </tr>\n",
              "    <tr>\n",
              "      <th>22</th>\n",
              "      <td>18.0</td>\n",
              "    </tr>\n",
              "    <tr>\n",
              "      <th>23</th>\n",
              "      <td>19.5</td>\n",
              "    </tr>\n",
              "    <tr>\n",
              "      <th>24</th>\n",
              "      <td>21.5</td>\n",
              "    </tr>\n",
              "    <tr>\n",
              "      <th>29</th>\n",
              "      <td>24.0</td>\n",
              "    </tr>\n",
              "    <tr>\n",
              "      <th>32</th>\n",
              "      <td>26.0</td>\n",
              "    </tr>\n",
              "    <tr>\n",
              "      <th>33</th>\n",
              "      <td>27.0</td>\n",
              "    </tr>\n",
              "    <tr>\n",
              "      <th>35</th>\n",
              "      <td>28.0</td>\n",
              "    </tr>\n",
              "    <tr>\n",
              "      <th>36</th>\n",
              "      <td>29.0</td>\n",
              "    </tr>\n",
              "    <tr>\n",
              "      <th>37</th>\n",
              "      <td>30.0</td>\n",
              "    </tr>\n",
              "    <tr>\n",
              "      <th>40</th>\n",
              "      <td>31.5</td>\n",
              "    </tr>\n",
              "    <tr>\n",
              "      <th>43</th>\n",
              "      <td>33.0</td>\n",
              "    </tr>\n",
              "    <tr>\n",
              "      <th>50</th>\n",
              "      <td>34.0</td>\n",
              "    </tr>\n",
              "    <tr>\n",
              "      <th>51</th>\n",
              "      <td>35.0</td>\n",
              "    </tr>\n",
              "  </tbody>\n",
              "</table>\n",
              "</div>\n",
              "      <button class=\"colab-df-convert\" onclick=\"convertToInteractive('df-79416e4e-0022-42f6-b8e1-19c42f70da73')\"\n",
              "              title=\"Convert this dataframe to an interactive table.\"\n",
              "              style=\"display:none;\">\n",
              "        \n",
              "  <svg xmlns=\"http://www.w3.org/2000/svg\" height=\"24px\"viewBox=\"0 0 24 24\"\n",
              "       width=\"24px\">\n",
              "    <path d=\"M0 0h24v24H0V0z\" fill=\"none\"/>\n",
              "    <path d=\"M18.56 5.44l.94 2.06.94-2.06 2.06-.94-2.06-.94-.94-2.06-.94 2.06-2.06.94zm-11 1L8.5 8.5l.94-2.06 2.06-.94-2.06-.94L8.5 2.5l-.94 2.06-2.06.94zm10 10l.94 2.06.94-2.06 2.06-.94-2.06-.94-.94-2.06-.94 2.06-2.06.94z\"/><path d=\"M17.41 7.96l-1.37-1.37c-.4-.4-.92-.59-1.43-.59-.52 0-1.04.2-1.43.59L10.3 9.45l-7.72 7.72c-.78.78-.78 2.05 0 2.83L4 21.41c.39.39.9.59 1.41.59.51 0 1.02-.2 1.41-.59l7.78-7.78 2.81-2.81c.8-.78.8-2.07 0-2.86zM5.41 20L4 18.59l7.72-7.72 1.47 1.35L5.41 20z\"/>\n",
              "  </svg>\n",
              "      </button>\n",
              "      \n",
              "  <style>\n",
              "    .colab-df-container {\n",
              "      display:flex;\n",
              "      flex-wrap:wrap;\n",
              "      gap: 12px;\n",
              "    }\n",
              "\n",
              "    .colab-df-convert {\n",
              "      background-color: #E8F0FE;\n",
              "      border: none;\n",
              "      border-radius: 50%;\n",
              "      cursor: pointer;\n",
              "      display: none;\n",
              "      fill: #1967D2;\n",
              "      height: 32px;\n",
              "      padding: 0 0 0 0;\n",
              "      width: 32px;\n",
              "    }\n",
              "\n",
              "    .colab-df-convert:hover {\n",
              "      background-color: #E2EBFA;\n",
              "      box-shadow: 0px 1px 2px rgba(60, 64, 67, 0.3), 0px 1px 3px 1px rgba(60, 64, 67, 0.15);\n",
              "      fill: #174EA6;\n",
              "    }\n",
              "\n",
              "    [theme=dark] .colab-df-convert {\n",
              "      background-color: #3B4455;\n",
              "      fill: #D2E3FC;\n",
              "    }\n",
              "\n",
              "    [theme=dark] .colab-df-convert:hover {\n",
              "      background-color: #434B5C;\n",
              "      box-shadow: 0px 1px 3px 1px rgba(0, 0, 0, 0.15);\n",
              "      filter: drop-shadow(0px 1px 2px rgba(0, 0, 0, 0.3));\n",
              "      fill: #FFFFFF;\n",
              "    }\n",
              "  </style>\n",
              "\n",
              "      <script>\n",
              "        const buttonEl =\n",
              "          document.querySelector('#df-79416e4e-0022-42f6-b8e1-19c42f70da73 button.colab-df-convert');\n",
              "        buttonEl.style.display =\n",
              "          google.colab.kernel.accessAllowed ? 'block' : 'none';\n",
              "\n",
              "        async function convertToInteractive(key) {\n",
              "          const element = document.querySelector('#df-79416e4e-0022-42f6-b8e1-19c42f70da73');\n",
              "          const dataTable =\n",
              "            await google.colab.kernel.invokeFunction('convertToInteractive',\n",
              "                                                     [key], {});\n",
              "          if (!dataTable) return;\n",
              "\n",
              "          const docLinkHtml = 'Like what you see? Visit the ' +\n",
              "            '<a target=\"_blank\" href=https://colab.research.google.com/notebooks/data_table.ipynb>data table notebook</a>'\n",
              "            + ' to learn more about interactive tables.';\n",
              "          element.innerHTML = '';\n",
              "          dataTable['output_type'] = 'display_data';\n",
              "          await google.colab.output.renderOutput(dataTable, element);\n",
              "          const docLink = document.createElement('div');\n",
              "          docLink.innerHTML = docLinkHtml;\n",
              "          element.appendChild(docLink);\n",
              "        }\n",
              "      </script>\n",
              "    </div>\n",
              "  </div>\n",
              "  "
            ]
          },
          "metadata": {},
          "execution_count": 403
        }
      ],
      "source": [
        "posto = fumo[['|Dif|', 'Posto']].groupby(['|Dif|']).mean()\n",
        "posto"
      ]
    },
    {
      "cell_type": "code",
      "execution_count": 404,
      "metadata": {
        "id": "fjX9_aRIotGD",
        "colab": {
          "base_uri": "https://localhost:8080/",
          "height": 801
        },
        "outputId": "8ced8159-edc6-4d30-ca99-b85f4d4c64f5"
      },
      "outputs": [
        {
          "output_type": "execute_result",
          "data": {
            "text/plain": [
              "    |Dif|  Posto\n",
              "0       1    1.5\n",
              "1       2    3.0\n",
              "2       4    4.5\n",
              "3       5    6.0\n",
              "4       8    7.0\n",
              "5       9    8.5\n",
              "6      11   10.0\n",
              "7      12   11.5\n",
              "8      13   13.0\n",
              "9      17   15.0\n",
              "10     21   17.0\n",
              "11     22   18.0\n",
              "12     23   19.5\n",
              "13     24   21.5\n",
              "14     29   24.0\n",
              "15     32   26.0\n",
              "16     33   27.0\n",
              "17     35   28.0\n",
              "18     36   29.0\n",
              "19     37   30.0\n",
              "20     40   31.5\n",
              "21     43   33.0\n",
              "22     50   34.0\n",
              "23     51   35.0"
            ],
            "text/html": [
              "\n",
              "  <div id=\"df-3dd1f25b-171b-4129-820c-3a6f1ac3b736\">\n",
              "    <div class=\"colab-df-container\">\n",
              "      <div>\n",
              "<style scoped>\n",
              "    .dataframe tbody tr th:only-of-type {\n",
              "        vertical-align: middle;\n",
              "    }\n",
              "\n",
              "    .dataframe tbody tr th {\n",
              "        vertical-align: top;\n",
              "    }\n",
              "\n",
              "    .dataframe thead th {\n",
              "        text-align: right;\n",
              "    }\n",
              "</style>\n",
              "<table border=\"1\" class=\"dataframe\">\n",
              "  <thead>\n",
              "    <tr style=\"text-align: right;\">\n",
              "      <th></th>\n",
              "      <th>|Dif|</th>\n",
              "      <th>Posto</th>\n",
              "    </tr>\n",
              "  </thead>\n",
              "  <tbody>\n",
              "    <tr>\n",
              "      <th>0</th>\n",
              "      <td>1</td>\n",
              "      <td>1.5</td>\n",
              "    </tr>\n",
              "    <tr>\n",
              "      <th>1</th>\n",
              "      <td>2</td>\n",
              "      <td>3.0</td>\n",
              "    </tr>\n",
              "    <tr>\n",
              "      <th>2</th>\n",
              "      <td>4</td>\n",
              "      <td>4.5</td>\n",
              "    </tr>\n",
              "    <tr>\n",
              "      <th>3</th>\n",
              "      <td>5</td>\n",
              "      <td>6.0</td>\n",
              "    </tr>\n",
              "    <tr>\n",
              "      <th>4</th>\n",
              "      <td>8</td>\n",
              "      <td>7.0</td>\n",
              "    </tr>\n",
              "    <tr>\n",
              "      <th>5</th>\n",
              "      <td>9</td>\n",
              "      <td>8.5</td>\n",
              "    </tr>\n",
              "    <tr>\n",
              "      <th>6</th>\n",
              "      <td>11</td>\n",
              "      <td>10.0</td>\n",
              "    </tr>\n",
              "    <tr>\n",
              "      <th>7</th>\n",
              "      <td>12</td>\n",
              "      <td>11.5</td>\n",
              "    </tr>\n",
              "    <tr>\n",
              "      <th>8</th>\n",
              "      <td>13</td>\n",
              "      <td>13.0</td>\n",
              "    </tr>\n",
              "    <tr>\n",
              "      <th>9</th>\n",
              "      <td>17</td>\n",
              "      <td>15.0</td>\n",
              "    </tr>\n",
              "    <tr>\n",
              "      <th>10</th>\n",
              "      <td>21</td>\n",
              "      <td>17.0</td>\n",
              "    </tr>\n",
              "    <tr>\n",
              "      <th>11</th>\n",
              "      <td>22</td>\n",
              "      <td>18.0</td>\n",
              "    </tr>\n",
              "    <tr>\n",
              "      <th>12</th>\n",
              "      <td>23</td>\n",
              "      <td>19.5</td>\n",
              "    </tr>\n",
              "    <tr>\n",
              "      <th>13</th>\n",
              "      <td>24</td>\n",
              "      <td>21.5</td>\n",
              "    </tr>\n",
              "    <tr>\n",
              "      <th>14</th>\n",
              "      <td>29</td>\n",
              "      <td>24.0</td>\n",
              "    </tr>\n",
              "    <tr>\n",
              "      <th>15</th>\n",
              "      <td>32</td>\n",
              "      <td>26.0</td>\n",
              "    </tr>\n",
              "    <tr>\n",
              "      <th>16</th>\n",
              "      <td>33</td>\n",
              "      <td>27.0</td>\n",
              "    </tr>\n",
              "    <tr>\n",
              "      <th>17</th>\n",
              "      <td>35</td>\n",
              "      <td>28.0</td>\n",
              "    </tr>\n",
              "    <tr>\n",
              "      <th>18</th>\n",
              "      <td>36</td>\n",
              "      <td>29.0</td>\n",
              "    </tr>\n",
              "    <tr>\n",
              "      <th>19</th>\n",
              "      <td>37</td>\n",
              "      <td>30.0</td>\n",
              "    </tr>\n",
              "    <tr>\n",
              "      <th>20</th>\n",
              "      <td>40</td>\n",
              "      <td>31.5</td>\n",
              "    </tr>\n",
              "    <tr>\n",
              "      <th>21</th>\n",
              "      <td>43</td>\n",
              "      <td>33.0</td>\n",
              "    </tr>\n",
              "    <tr>\n",
              "      <th>22</th>\n",
              "      <td>50</td>\n",
              "      <td>34.0</td>\n",
              "    </tr>\n",
              "    <tr>\n",
              "      <th>23</th>\n",
              "      <td>51</td>\n",
              "      <td>35.0</td>\n",
              "    </tr>\n",
              "  </tbody>\n",
              "</table>\n",
              "</div>\n",
              "      <button class=\"colab-df-convert\" onclick=\"convertToInteractive('df-3dd1f25b-171b-4129-820c-3a6f1ac3b736')\"\n",
              "              title=\"Convert this dataframe to an interactive table.\"\n",
              "              style=\"display:none;\">\n",
              "        \n",
              "  <svg xmlns=\"http://www.w3.org/2000/svg\" height=\"24px\"viewBox=\"0 0 24 24\"\n",
              "       width=\"24px\">\n",
              "    <path d=\"M0 0h24v24H0V0z\" fill=\"none\"/>\n",
              "    <path d=\"M18.56 5.44l.94 2.06.94-2.06 2.06-.94-2.06-.94-.94-2.06-.94 2.06-2.06.94zm-11 1L8.5 8.5l.94-2.06 2.06-.94-2.06-.94L8.5 2.5l-.94 2.06-2.06.94zm10 10l.94 2.06.94-2.06 2.06-.94-2.06-.94-.94-2.06-.94 2.06-2.06.94z\"/><path d=\"M17.41 7.96l-1.37-1.37c-.4-.4-.92-.59-1.43-.59-.52 0-1.04.2-1.43.59L10.3 9.45l-7.72 7.72c-.78.78-.78 2.05 0 2.83L4 21.41c.39.39.9.59 1.41.59.51 0 1.02-.2 1.41-.59l7.78-7.78 2.81-2.81c.8-.78.8-2.07 0-2.86zM5.41 20L4 18.59l7.72-7.72 1.47 1.35L5.41 20z\"/>\n",
              "  </svg>\n",
              "      </button>\n",
              "      \n",
              "  <style>\n",
              "    .colab-df-container {\n",
              "      display:flex;\n",
              "      flex-wrap:wrap;\n",
              "      gap: 12px;\n",
              "    }\n",
              "\n",
              "    .colab-df-convert {\n",
              "      background-color: #E8F0FE;\n",
              "      border: none;\n",
              "      border-radius: 50%;\n",
              "      cursor: pointer;\n",
              "      display: none;\n",
              "      fill: #1967D2;\n",
              "      height: 32px;\n",
              "      padding: 0 0 0 0;\n",
              "      width: 32px;\n",
              "    }\n",
              "\n",
              "    .colab-df-convert:hover {\n",
              "      background-color: #E2EBFA;\n",
              "      box-shadow: 0px 1px 2px rgba(60, 64, 67, 0.3), 0px 1px 3px 1px rgba(60, 64, 67, 0.15);\n",
              "      fill: #174EA6;\n",
              "    }\n",
              "\n",
              "    [theme=dark] .colab-df-convert {\n",
              "      background-color: #3B4455;\n",
              "      fill: #D2E3FC;\n",
              "    }\n",
              "\n",
              "    [theme=dark] .colab-df-convert:hover {\n",
              "      background-color: #434B5C;\n",
              "      box-shadow: 0px 1px 3px 1px rgba(0, 0, 0, 0.15);\n",
              "      filter: drop-shadow(0px 1px 2px rgba(0, 0, 0, 0.3));\n",
              "      fill: #FFFFFF;\n",
              "    }\n",
              "  </style>\n",
              "\n",
              "      <script>\n",
              "        const buttonEl =\n",
              "          document.querySelector('#df-3dd1f25b-171b-4129-820c-3a6f1ac3b736 button.colab-df-convert');\n",
              "        buttonEl.style.display =\n",
              "          google.colab.kernel.accessAllowed ? 'block' : 'none';\n",
              "\n",
              "        async function convertToInteractive(key) {\n",
              "          const element = document.querySelector('#df-3dd1f25b-171b-4129-820c-3a6f1ac3b736');\n",
              "          const dataTable =\n",
              "            await google.colab.kernel.invokeFunction('convertToInteractive',\n",
              "                                                     [key], {});\n",
              "          if (!dataTable) return;\n",
              "\n",
              "          const docLinkHtml = 'Like what you see? Visit the ' +\n",
              "            '<a target=\"_blank\" href=https://colab.research.google.com/notebooks/data_table.ipynb>data table notebook</a>'\n",
              "            + ' to learn more about interactive tables.';\n",
              "          element.innerHTML = '';\n",
              "          dataTable['output_type'] = 'display_data';\n",
              "          await google.colab.output.renderOutput(dataTable, element);\n",
              "          const docLink = document.createElement('div');\n",
              "          docLink.innerHTML = docLinkHtml;\n",
              "          element.appendChild(docLink);\n",
              "        }\n",
              "      </script>\n",
              "    </div>\n",
              "  </div>\n",
              "  "
            ]
          },
          "metadata": {},
          "execution_count": 404
        }
      ],
      "source": [
        "posto.reset_index(inplace = True)\n",
        "posto"
      ]
    },
    {
      "cell_type": "code",
      "execution_count": 405,
      "metadata": {
        "id": "uk79v15dotCn",
        "colab": {
          "base_uri": "https://localhost:8080/",
          "height": 1000
        },
        "outputId": "4fa93640-eb8b-4fec-fac4-95e7f360e8dc"
      },
      "outputs": [
        {
          "output_type": "execute_result",
          "data": {
            "text/plain": [
              "    Antes  Depois  Dif  |Dif|\n",
              "4      13      14    1      1\n",
              "20     17      16   -1      1\n",
              "31     17      19    2      2\n",
              "21     12      16    4      4\n",
              "24     14      18    4      4\n",
              "9      22      17   -5      5\n",
              "6      21      13   -8      8\n",
              "29     23      14   -9      9\n",
              "8      10      19    9      9\n",
              "17     15       4  -11     11\n",
              "2      24      12  -12     12\n",
              "22     21       9  -12     12\n",
              "11     15       2  -13     13\n",
              "28     28      11  -17     17\n",
              "1      25       8  -17     17\n",
              "7      29      12  -17     17\n",
              "12     36      15  -21     21\n",
              "27     22       0  -22     22\n",
              "19     41      18  -23     23\n",
              "0      39      16  -23     23\n",
              "16     24       0  -24     24\n",
              "18     40      16  -24     24\n",
              "26     46      17  -29     29\n",
              "13     39      10  -29     29\n",
              "32     31       2  -29     29\n",
              "14     52      20  -32     32\n",
              "10     50      17  -33     33\n",
              "15     48      13  -35     35\n",
              "5      52      16  -36     36\n",
              "30     37       0  -37     37\n",
              "33     49       9  -40     40\n",
              "23     49       9  -40     40\n",
              "34     49       6  -43     43\n",
              "3      50       0  -50     50\n",
              "25     55       4  -51     51"
            ],
            "text/html": [
              "\n",
              "  <div id=\"df-86b24c0a-3f57-408d-9e09-4c5daeafb754\">\n",
              "    <div class=\"colab-df-container\">\n",
              "      <div>\n",
              "<style scoped>\n",
              "    .dataframe tbody tr th:only-of-type {\n",
              "        vertical-align: middle;\n",
              "    }\n",
              "\n",
              "    .dataframe tbody tr th {\n",
              "        vertical-align: top;\n",
              "    }\n",
              "\n",
              "    .dataframe thead th {\n",
              "        text-align: right;\n",
              "    }\n",
              "</style>\n",
              "<table border=\"1\" class=\"dataframe\">\n",
              "  <thead>\n",
              "    <tr style=\"text-align: right;\">\n",
              "      <th></th>\n",
              "      <th>Antes</th>\n",
              "      <th>Depois</th>\n",
              "      <th>Dif</th>\n",
              "      <th>|Dif|</th>\n",
              "    </tr>\n",
              "  </thead>\n",
              "  <tbody>\n",
              "    <tr>\n",
              "      <th>4</th>\n",
              "      <td>13</td>\n",
              "      <td>14</td>\n",
              "      <td>1</td>\n",
              "      <td>1</td>\n",
              "    </tr>\n",
              "    <tr>\n",
              "      <th>20</th>\n",
              "      <td>17</td>\n",
              "      <td>16</td>\n",
              "      <td>-1</td>\n",
              "      <td>1</td>\n",
              "    </tr>\n",
              "    <tr>\n",
              "      <th>31</th>\n",
              "      <td>17</td>\n",
              "      <td>19</td>\n",
              "      <td>2</td>\n",
              "      <td>2</td>\n",
              "    </tr>\n",
              "    <tr>\n",
              "      <th>21</th>\n",
              "      <td>12</td>\n",
              "      <td>16</td>\n",
              "      <td>4</td>\n",
              "      <td>4</td>\n",
              "    </tr>\n",
              "    <tr>\n",
              "      <th>24</th>\n",
              "      <td>14</td>\n",
              "      <td>18</td>\n",
              "      <td>4</td>\n",
              "      <td>4</td>\n",
              "    </tr>\n",
              "    <tr>\n",
              "      <th>9</th>\n",
              "      <td>22</td>\n",
              "      <td>17</td>\n",
              "      <td>-5</td>\n",
              "      <td>5</td>\n",
              "    </tr>\n",
              "    <tr>\n",
              "      <th>6</th>\n",
              "      <td>21</td>\n",
              "      <td>13</td>\n",
              "      <td>-8</td>\n",
              "      <td>8</td>\n",
              "    </tr>\n",
              "    <tr>\n",
              "      <th>29</th>\n",
              "      <td>23</td>\n",
              "      <td>14</td>\n",
              "      <td>-9</td>\n",
              "      <td>9</td>\n",
              "    </tr>\n",
              "    <tr>\n",
              "      <th>8</th>\n",
              "      <td>10</td>\n",
              "      <td>19</td>\n",
              "      <td>9</td>\n",
              "      <td>9</td>\n",
              "    </tr>\n",
              "    <tr>\n",
              "      <th>17</th>\n",
              "      <td>15</td>\n",
              "      <td>4</td>\n",
              "      <td>-11</td>\n",
              "      <td>11</td>\n",
              "    </tr>\n",
              "    <tr>\n",
              "      <th>2</th>\n",
              "      <td>24</td>\n",
              "      <td>12</td>\n",
              "      <td>-12</td>\n",
              "      <td>12</td>\n",
              "    </tr>\n",
              "    <tr>\n",
              "      <th>22</th>\n",
              "      <td>21</td>\n",
              "      <td>9</td>\n",
              "      <td>-12</td>\n",
              "      <td>12</td>\n",
              "    </tr>\n",
              "    <tr>\n",
              "      <th>11</th>\n",
              "      <td>15</td>\n",
              "      <td>2</td>\n",
              "      <td>-13</td>\n",
              "      <td>13</td>\n",
              "    </tr>\n",
              "    <tr>\n",
              "      <th>28</th>\n",
              "      <td>28</td>\n",
              "      <td>11</td>\n",
              "      <td>-17</td>\n",
              "      <td>17</td>\n",
              "    </tr>\n",
              "    <tr>\n",
              "      <th>1</th>\n",
              "      <td>25</td>\n",
              "      <td>8</td>\n",
              "      <td>-17</td>\n",
              "      <td>17</td>\n",
              "    </tr>\n",
              "    <tr>\n",
              "      <th>7</th>\n",
              "      <td>29</td>\n",
              "      <td>12</td>\n",
              "      <td>-17</td>\n",
              "      <td>17</td>\n",
              "    </tr>\n",
              "    <tr>\n",
              "      <th>12</th>\n",
              "      <td>36</td>\n",
              "      <td>15</td>\n",
              "      <td>-21</td>\n",
              "      <td>21</td>\n",
              "    </tr>\n",
              "    <tr>\n",
              "      <th>27</th>\n",
              "      <td>22</td>\n",
              "      <td>0</td>\n",
              "      <td>-22</td>\n",
              "      <td>22</td>\n",
              "    </tr>\n",
              "    <tr>\n",
              "      <th>19</th>\n",
              "      <td>41</td>\n",
              "      <td>18</td>\n",
              "      <td>-23</td>\n",
              "      <td>23</td>\n",
              "    </tr>\n",
              "    <tr>\n",
              "      <th>0</th>\n",
              "      <td>39</td>\n",
              "      <td>16</td>\n",
              "      <td>-23</td>\n",
              "      <td>23</td>\n",
              "    </tr>\n",
              "    <tr>\n",
              "      <th>16</th>\n",
              "      <td>24</td>\n",
              "      <td>0</td>\n",
              "      <td>-24</td>\n",
              "      <td>24</td>\n",
              "    </tr>\n",
              "    <tr>\n",
              "      <th>18</th>\n",
              "      <td>40</td>\n",
              "      <td>16</td>\n",
              "      <td>-24</td>\n",
              "      <td>24</td>\n",
              "    </tr>\n",
              "    <tr>\n",
              "      <th>26</th>\n",
              "      <td>46</td>\n",
              "      <td>17</td>\n",
              "      <td>-29</td>\n",
              "      <td>29</td>\n",
              "    </tr>\n",
              "    <tr>\n",
              "      <th>13</th>\n",
              "      <td>39</td>\n",
              "      <td>10</td>\n",
              "      <td>-29</td>\n",
              "      <td>29</td>\n",
              "    </tr>\n",
              "    <tr>\n",
              "      <th>32</th>\n",
              "      <td>31</td>\n",
              "      <td>2</td>\n",
              "      <td>-29</td>\n",
              "      <td>29</td>\n",
              "    </tr>\n",
              "    <tr>\n",
              "      <th>14</th>\n",
              "      <td>52</td>\n",
              "      <td>20</td>\n",
              "      <td>-32</td>\n",
              "      <td>32</td>\n",
              "    </tr>\n",
              "    <tr>\n",
              "      <th>10</th>\n",
              "      <td>50</td>\n",
              "      <td>17</td>\n",
              "      <td>-33</td>\n",
              "      <td>33</td>\n",
              "    </tr>\n",
              "    <tr>\n",
              "      <th>15</th>\n",
              "      <td>48</td>\n",
              "      <td>13</td>\n",
              "      <td>-35</td>\n",
              "      <td>35</td>\n",
              "    </tr>\n",
              "    <tr>\n",
              "      <th>5</th>\n",
              "      <td>52</td>\n",
              "      <td>16</td>\n",
              "      <td>-36</td>\n",
              "      <td>36</td>\n",
              "    </tr>\n",
              "    <tr>\n",
              "      <th>30</th>\n",
              "      <td>37</td>\n",
              "      <td>0</td>\n",
              "      <td>-37</td>\n",
              "      <td>37</td>\n",
              "    </tr>\n",
              "    <tr>\n",
              "      <th>33</th>\n",
              "      <td>49</td>\n",
              "      <td>9</td>\n",
              "      <td>-40</td>\n",
              "      <td>40</td>\n",
              "    </tr>\n",
              "    <tr>\n",
              "      <th>23</th>\n",
              "      <td>49</td>\n",
              "      <td>9</td>\n",
              "      <td>-40</td>\n",
              "      <td>40</td>\n",
              "    </tr>\n",
              "    <tr>\n",
              "      <th>34</th>\n",
              "      <td>49</td>\n",
              "      <td>6</td>\n",
              "      <td>-43</td>\n",
              "      <td>43</td>\n",
              "    </tr>\n",
              "    <tr>\n",
              "      <th>3</th>\n",
              "      <td>50</td>\n",
              "      <td>0</td>\n",
              "      <td>-50</td>\n",
              "      <td>50</td>\n",
              "    </tr>\n",
              "    <tr>\n",
              "      <th>25</th>\n",
              "      <td>55</td>\n",
              "      <td>4</td>\n",
              "      <td>-51</td>\n",
              "      <td>51</td>\n",
              "    </tr>\n",
              "  </tbody>\n",
              "</table>\n",
              "</div>\n",
              "      <button class=\"colab-df-convert\" onclick=\"convertToInteractive('df-86b24c0a-3f57-408d-9e09-4c5daeafb754')\"\n",
              "              title=\"Convert this dataframe to an interactive table.\"\n",
              "              style=\"display:none;\">\n",
              "        \n",
              "  <svg xmlns=\"http://www.w3.org/2000/svg\" height=\"24px\"viewBox=\"0 0 24 24\"\n",
              "       width=\"24px\">\n",
              "    <path d=\"M0 0h24v24H0V0z\" fill=\"none\"/>\n",
              "    <path d=\"M18.56 5.44l.94 2.06.94-2.06 2.06-.94-2.06-.94-.94-2.06-.94 2.06-2.06.94zm-11 1L8.5 8.5l.94-2.06 2.06-.94-2.06-.94L8.5 2.5l-.94 2.06-2.06.94zm10 10l.94 2.06.94-2.06 2.06-.94-2.06-.94-.94-2.06-.94 2.06-2.06.94z\"/><path d=\"M17.41 7.96l-1.37-1.37c-.4-.4-.92-.59-1.43-.59-.52 0-1.04.2-1.43.59L10.3 9.45l-7.72 7.72c-.78.78-.78 2.05 0 2.83L4 21.41c.39.39.9.59 1.41.59.51 0 1.02-.2 1.41-.59l7.78-7.78 2.81-2.81c.8-.78.8-2.07 0-2.86zM5.41 20L4 18.59l7.72-7.72 1.47 1.35L5.41 20z\"/>\n",
              "  </svg>\n",
              "      </button>\n",
              "      \n",
              "  <style>\n",
              "    .colab-df-container {\n",
              "      display:flex;\n",
              "      flex-wrap:wrap;\n",
              "      gap: 12px;\n",
              "    }\n",
              "\n",
              "    .colab-df-convert {\n",
              "      background-color: #E8F0FE;\n",
              "      border: none;\n",
              "      border-radius: 50%;\n",
              "      cursor: pointer;\n",
              "      display: none;\n",
              "      fill: #1967D2;\n",
              "      height: 32px;\n",
              "      padding: 0 0 0 0;\n",
              "      width: 32px;\n",
              "    }\n",
              "\n",
              "    .colab-df-convert:hover {\n",
              "      background-color: #E2EBFA;\n",
              "      box-shadow: 0px 1px 2px rgba(60, 64, 67, 0.3), 0px 1px 3px 1px rgba(60, 64, 67, 0.15);\n",
              "      fill: #174EA6;\n",
              "    }\n",
              "\n",
              "    [theme=dark] .colab-df-convert {\n",
              "      background-color: #3B4455;\n",
              "      fill: #D2E3FC;\n",
              "    }\n",
              "\n",
              "    [theme=dark] .colab-df-convert:hover {\n",
              "      background-color: #434B5C;\n",
              "      box-shadow: 0px 1px 3px 1px rgba(0, 0, 0, 0.15);\n",
              "      filter: drop-shadow(0px 1px 2px rgba(0, 0, 0, 0.3));\n",
              "      fill: #FFFFFF;\n",
              "    }\n",
              "  </style>\n",
              "\n",
              "      <script>\n",
              "        const buttonEl =\n",
              "          document.querySelector('#df-86b24c0a-3f57-408d-9e09-4c5daeafb754 button.colab-df-convert');\n",
              "        buttonEl.style.display =\n",
              "          google.colab.kernel.accessAllowed ? 'block' : 'none';\n",
              "\n",
              "        async function convertToInteractive(key) {\n",
              "          const element = document.querySelector('#df-86b24c0a-3f57-408d-9e09-4c5daeafb754');\n",
              "          const dataTable =\n",
              "            await google.colab.kernel.invokeFunction('convertToInteractive',\n",
              "                                                     [key], {});\n",
              "          if (!dataTable) return;\n",
              "\n",
              "          const docLinkHtml = 'Like what you see? Visit the ' +\n",
              "            '<a target=\"_blank\" href=https://colab.research.google.com/notebooks/data_table.ipynb>data table notebook</a>'\n",
              "            + ' to learn more about interactive tables.';\n",
              "          element.innerHTML = '';\n",
              "          dataTable['output_type'] = 'display_data';\n",
              "          await google.colab.output.renderOutput(dataTable, element);\n",
              "          const docLink = document.createElement('div');\n",
              "          docLink.innerHTML = docLinkHtml;\n",
              "          element.appendChild(docLink);\n",
              "        }\n",
              "      </script>\n",
              "    </div>\n",
              "  </div>\n",
              "  "
            ]
          },
          "metadata": {},
          "execution_count": 405
        }
      ],
      "source": [
        "fumo.drop(['Posto'], axis = 1, inplace = True)\n",
        "fumo"
      ]
    },
    {
      "cell_type": "code",
      "execution_count": 406,
      "metadata": {
        "id": "qCdc7pGgos_T",
        "colab": {
          "base_uri": "https://localhost:8080/",
          "height": 1000
        },
        "outputId": "d2997c00-e8a1-4b26-bbf6-628e9331d84a"
      },
      "outputs": [
        {
          "output_type": "execute_result",
          "data": {
            "text/plain": [
              "    Antes  Depois  Dif  |Dif|  Posto\n",
              "0      13      14    1      1    1.5\n",
              "1      17      16   -1      1    1.5\n",
              "2      17      19    2      2    3.0\n",
              "3      12      16    4      4    4.5\n",
              "4      14      18    4      4    4.5\n",
              "5      22      17   -5      5    6.0\n",
              "6      21      13   -8      8    7.0\n",
              "7      23      14   -9      9    8.5\n",
              "8      10      19    9      9    8.5\n",
              "9      15       4  -11     11   10.0\n",
              "10     24      12  -12     12   11.5\n",
              "11     21       9  -12     12   11.5\n",
              "12     15       2  -13     13   13.0\n",
              "13     28      11  -17     17   15.0\n",
              "14     25       8  -17     17   15.0\n",
              "15     29      12  -17     17   15.0\n",
              "16     36      15  -21     21   17.0\n",
              "17     22       0  -22     22   18.0\n",
              "18     41      18  -23     23   19.5\n",
              "19     39      16  -23     23   19.5\n",
              "20     24       0  -24     24   21.5\n",
              "21     40      16  -24     24   21.5\n",
              "22     46      17  -29     29   24.0\n",
              "23     39      10  -29     29   24.0\n",
              "24     31       2  -29     29   24.0\n",
              "25     52      20  -32     32   26.0\n",
              "26     50      17  -33     33   27.0\n",
              "27     48      13  -35     35   28.0\n",
              "28     52      16  -36     36   29.0\n",
              "29     37       0  -37     37   30.0\n",
              "30     49       9  -40     40   31.5\n",
              "31     49       9  -40     40   31.5\n",
              "32     49       6  -43     43   33.0\n",
              "33     50       0  -50     50   34.0\n",
              "34     55       4  -51     51   35.0"
            ],
            "text/html": [
              "\n",
              "  <div id=\"df-bfd688b0-24f4-44d3-912c-f6b5e106c032\">\n",
              "    <div class=\"colab-df-container\">\n",
              "      <div>\n",
              "<style scoped>\n",
              "    .dataframe tbody tr th:only-of-type {\n",
              "        vertical-align: middle;\n",
              "    }\n",
              "\n",
              "    .dataframe tbody tr th {\n",
              "        vertical-align: top;\n",
              "    }\n",
              "\n",
              "    .dataframe thead th {\n",
              "        text-align: right;\n",
              "    }\n",
              "</style>\n",
              "<table border=\"1\" class=\"dataframe\">\n",
              "  <thead>\n",
              "    <tr style=\"text-align: right;\">\n",
              "      <th></th>\n",
              "      <th>Antes</th>\n",
              "      <th>Depois</th>\n",
              "      <th>Dif</th>\n",
              "      <th>|Dif|</th>\n",
              "      <th>Posto</th>\n",
              "    </tr>\n",
              "  </thead>\n",
              "  <tbody>\n",
              "    <tr>\n",
              "      <th>0</th>\n",
              "      <td>13</td>\n",
              "      <td>14</td>\n",
              "      <td>1</td>\n",
              "      <td>1</td>\n",
              "      <td>1.5</td>\n",
              "    </tr>\n",
              "    <tr>\n",
              "      <th>1</th>\n",
              "      <td>17</td>\n",
              "      <td>16</td>\n",
              "      <td>-1</td>\n",
              "      <td>1</td>\n",
              "      <td>1.5</td>\n",
              "    </tr>\n",
              "    <tr>\n",
              "      <th>2</th>\n",
              "      <td>17</td>\n",
              "      <td>19</td>\n",
              "      <td>2</td>\n",
              "      <td>2</td>\n",
              "      <td>3.0</td>\n",
              "    </tr>\n",
              "    <tr>\n",
              "      <th>3</th>\n",
              "      <td>12</td>\n",
              "      <td>16</td>\n",
              "      <td>4</td>\n",
              "      <td>4</td>\n",
              "      <td>4.5</td>\n",
              "    </tr>\n",
              "    <tr>\n",
              "      <th>4</th>\n",
              "      <td>14</td>\n",
              "      <td>18</td>\n",
              "      <td>4</td>\n",
              "      <td>4</td>\n",
              "      <td>4.5</td>\n",
              "    </tr>\n",
              "    <tr>\n",
              "      <th>5</th>\n",
              "      <td>22</td>\n",
              "      <td>17</td>\n",
              "      <td>-5</td>\n",
              "      <td>5</td>\n",
              "      <td>6.0</td>\n",
              "    </tr>\n",
              "    <tr>\n",
              "      <th>6</th>\n",
              "      <td>21</td>\n",
              "      <td>13</td>\n",
              "      <td>-8</td>\n",
              "      <td>8</td>\n",
              "      <td>7.0</td>\n",
              "    </tr>\n",
              "    <tr>\n",
              "      <th>7</th>\n",
              "      <td>23</td>\n",
              "      <td>14</td>\n",
              "      <td>-9</td>\n",
              "      <td>9</td>\n",
              "      <td>8.5</td>\n",
              "    </tr>\n",
              "    <tr>\n",
              "      <th>8</th>\n",
              "      <td>10</td>\n",
              "      <td>19</td>\n",
              "      <td>9</td>\n",
              "      <td>9</td>\n",
              "      <td>8.5</td>\n",
              "    </tr>\n",
              "    <tr>\n",
              "      <th>9</th>\n",
              "      <td>15</td>\n",
              "      <td>4</td>\n",
              "      <td>-11</td>\n",
              "      <td>11</td>\n",
              "      <td>10.0</td>\n",
              "    </tr>\n",
              "    <tr>\n",
              "      <th>10</th>\n",
              "      <td>24</td>\n",
              "      <td>12</td>\n",
              "      <td>-12</td>\n",
              "      <td>12</td>\n",
              "      <td>11.5</td>\n",
              "    </tr>\n",
              "    <tr>\n",
              "      <th>11</th>\n",
              "      <td>21</td>\n",
              "      <td>9</td>\n",
              "      <td>-12</td>\n",
              "      <td>12</td>\n",
              "      <td>11.5</td>\n",
              "    </tr>\n",
              "    <tr>\n",
              "      <th>12</th>\n",
              "      <td>15</td>\n",
              "      <td>2</td>\n",
              "      <td>-13</td>\n",
              "      <td>13</td>\n",
              "      <td>13.0</td>\n",
              "    </tr>\n",
              "    <tr>\n",
              "      <th>13</th>\n",
              "      <td>28</td>\n",
              "      <td>11</td>\n",
              "      <td>-17</td>\n",
              "      <td>17</td>\n",
              "      <td>15.0</td>\n",
              "    </tr>\n",
              "    <tr>\n",
              "      <th>14</th>\n",
              "      <td>25</td>\n",
              "      <td>8</td>\n",
              "      <td>-17</td>\n",
              "      <td>17</td>\n",
              "      <td>15.0</td>\n",
              "    </tr>\n",
              "    <tr>\n",
              "      <th>15</th>\n",
              "      <td>29</td>\n",
              "      <td>12</td>\n",
              "      <td>-17</td>\n",
              "      <td>17</td>\n",
              "      <td>15.0</td>\n",
              "    </tr>\n",
              "    <tr>\n",
              "      <th>16</th>\n",
              "      <td>36</td>\n",
              "      <td>15</td>\n",
              "      <td>-21</td>\n",
              "      <td>21</td>\n",
              "      <td>17.0</td>\n",
              "    </tr>\n",
              "    <tr>\n",
              "      <th>17</th>\n",
              "      <td>22</td>\n",
              "      <td>0</td>\n",
              "      <td>-22</td>\n",
              "      <td>22</td>\n",
              "      <td>18.0</td>\n",
              "    </tr>\n",
              "    <tr>\n",
              "      <th>18</th>\n",
              "      <td>41</td>\n",
              "      <td>18</td>\n",
              "      <td>-23</td>\n",
              "      <td>23</td>\n",
              "      <td>19.5</td>\n",
              "    </tr>\n",
              "    <tr>\n",
              "      <th>19</th>\n",
              "      <td>39</td>\n",
              "      <td>16</td>\n",
              "      <td>-23</td>\n",
              "      <td>23</td>\n",
              "      <td>19.5</td>\n",
              "    </tr>\n",
              "    <tr>\n",
              "      <th>20</th>\n",
              "      <td>24</td>\n",
              "      <td>0</td>\n",
              "      <td>-24</td>\n",
              "      <td>24</td>\n",
              "      <td>21.5</td>\n",
              "    </tr>\n",
              "    <tr>\n",
              "      <th>21</th>\n",
              "      <td>40</td>\n",
              "      <td>16</td>\n",
              "      <td>-24</td>\n",
              "      <td>24</td>\n",
              "      <td>21.5</td>\n",
              "    </tr>\n",
              "    <tr>\n",
              "      <th>22</th>\n",
              "      <td>46</td>\n",
              "      <td>17</td>\n",
              "      <td>-29</td>\n",
              "      <td>29</td>\n",
              "      <td>24.0</td>\n",
              "    </tr>\n",
              "    <tr>\n",
              "      <th>23</th>\n",
              "      <td>39</td>\n",
              "      <td>10</td>\n",
              "      <td>-29</td>\n",
              "      <td>29</td>\n",
              "      <td>24.0</td>\n",
              "    </tr>\n",
              "    <tr>\n",
              "      <th>24</th>\n",
              "      <td>31</td>\n",
              "      <td>2</td>\n",
              "      <td>-29</td>\n",
              "      <td>29</td>\n",
              "      <td>24.0</td>\n",
              "    </tr>\n",
              "    <tr>\n",
              "      <th>25</th>\n",
              "      <td>52</td>\n",
              "      <td>20</td>\n",
              "      <td>-32</td>\n",
              "      <td>32</td>\n",
              "      <td>26.0</td>\n",
              "    </tr>\n",
              "    <tr>\n",
              "      <th>26</th>\n",
              "      <td>50</td>\n",
              "      <td>17</td>\n",
              "      <td>-33</td>\n",
              "      <td>33</td>\n",
              "      <td>27.0</td>\n",
              "    </tr>\n",
              "    <tr>\n",
              "      <th>27</th>\n",
              "      <td>48</td>\n",
              "      <td>13</td>\n",
              "      <td>-35</td>\n",
              "      <td>35</td>\n",
              "      <td>28.0</td>\n",
              "    </tr>\n",
              "    <tr>\n",
              "      <th>28</th>\n",
              "      <td>52</td>\n",
              "      <td>16</td>\n",
              "      <td>-36</td>\n",
              "      <td>36</td>\n",
              "      <td>29.0</td>\n",
              "    </tr>\n",
              "    <tr>\n",
              "      <th>29</th>\n",
              "      <td>37</td>\n",
              "      <td>0</td>\n",
              "      <td>-37</td>\n",
              "      <td>37</td>\n",
              "      <td>30.0</td>\n",
              "    </tr>\n",
              "    <tr>\n",
              "      <th>30</th>\n",
              "      <td>49</td>\n",
              "      <td>9</td>\n",
              "      <td>-40</td>\n",
              "      <td>40</td>\n",
              "      <td>31.5</td>\n",
              "    </tr>\n",
              "    <tr>\n",
              "      <th>31</th>\n",
              "      <td>49</td>\n",
              "      <td>9</td>\n",
              "      <td>-40</td>\n",
              "      <td>40</td>\n",
              "      <td>31.5</td>\n",
              "    </tr>\n",
              "    <tr>\n",
              "      <th>32</th>\n",
              "      <td>49</td>\n",
              "      <td>6</td>\n",
              "      <td>-43</td>\n",
              "      <td>43</td>\n",
              "      <td>33.0</td>\n",
              "    </tr>\n",
              "    <tr>\n",
              "      <th>33</th>\n",
              "      <td>50</td>\n",
              "      <td>0</td>\n",
              "      <td>-50</td>\n",
              "      <td>50</td>\n",
              "      <td>34.0</td>\n",
              "    </tr>\n",
              "    <tr>\n",
              "      <th>34</th>\n",
              "      <td>55</td>\n",
              "      <td>4</td>\n",
              "      <td>-51</td>\n",
              "      <td>51</td>\n",
              "      <td>35.0</td>\n",
              "    </tr>\n",
              "  </tbody>\n",
              "</table>\n",
              "</div>\n",
              "      <button class=\"colab-df-convert\" onclick=\"convertToInteractive('df-bfd688b0-24f4-44d3-912c-f6b5e106c032')\"\n",
              "              title=\"Convert this dataframe to an interactive table.\"\n",
              "              style=\"display:none;\">\n",
              "        \n",
              "  <svg xmlns=\"http://www.w3.org/2000/svg\" height=\"24px\"viewBox=\"0 0 24 24\"\n",
              "       width=\"24px\">\n",
              "    <path d=\"M0 0h24v24H0V0z\" fill=\"none\"/>\n",
              "    <path d=\"M18.56 5.44l.94 2.06.94-2.06 2.06-.94-2.06-.94-.94-2.06-.94 2.06-2.06.94zm-11 1L8.5 8.5l.94-2.06 2.06-.94-2.06-.94L8.5 2.5l-.94 2.06-2.06.94zm10 10l.94 2.06.94-2.06 2.06-.94-2.06-.94-.94-2.06-.94 2.06-2.06.94z\"/><path d=\"M17.41 7.96l-1.37-1.37c-.4-.4-.92-.59-1.43-.59-.52 0-1.04.2-1.43.59L10.3 9.45l-7.72 7.72c-.78.78-.78 2.05 0 2.83L4 21.41c.39.39.9.59 1.41.59.51 0 1.02-.2 1.41-.59l7.78-7.78 2.81-2.81c.8-.78.8-2.07 0-2.86zM5.41 20L4 18.59l7.72-7.72 1.47 1.35L5.41 20z\"/>\n",
              "  </svg>\n",
              "      </button>\n",
              "      \n",
              "  <style>\n",
              "    .colab-df-container {\n",
              "      display:flex;\n",
              "      flex-wrap:wrap;\n",
              "      gap: 12px;\n",
              "    }\n",
              "\n",
              "    .colab-df-convert {\n",
              "      background-color: #E8F0FE;\n",
              "      border: none;\n",
              "      border-radius: 50%;\n",
              "      cursor: pointer;\n",
              "      display: none;\n",
              "      fill: #1967D2;\n",
              "      height: 32px;\n",
              "      padding: 0 0 0 0;\n",
              "      width: 32px;\n",
              "    }\n",
              "\n",
              "    .colab-df-convert:hover {\n",
              "      background-color: #E2EBFA;\n",
              "      box-shadow: 0px 1px 2px rgba(60, 64, 67, 0.3), 0px 1px 3px 1px rgba(60, 64, 67, 0.15);\n",
              "      fill: #174EA6;\n",
              "    }\n",
              "\n",
              "    [theme=dark] .colab-df-convert {\n",
              "      background-color: #3B4455;\n",
              "      fill: #D2E3FC;\n",
              "    }\n",
              "\n",
              "    [theme=dark] .colab-df-convert:hover {\n",
              "      background-color: #434B5C;\n",
              "      box-shadow: 0px 1px 3px 1px rgba(0, 0, 0, 0.15);\n",
              "      filter: drop-shadow(0px 1px 2px rgba(0, 0, 0, 0.3));\n",
              "      fill: #FFFFFF;\n",
              "    }\n",
              "  </style>\n",
              "\n",
              "      <script>\n",
              "        const buttonEl =\n",
              "          document.querySelector('#df-bfd688b0-24f4-44d3-912c-f6b5e106c032 button.colab-df-convert');\n",
              "        buttonEl.style.display =\n",
              "          google.colab.kernel.accessAllowed ? 'block' : 'none';\n",
              "\n",
              "        async function convertToInteractive(key) {\n",
              "          const element = document.querySelector('#df-bfd688b0-24f4-44d3-912c-f6b5e106c032');\n",
              "          const dataTable =\n",
              "            await google.colab.kernel.invokeFunction('convertToInteractive',\n",
              "                                                     [key], {});\n",
              "          if (!dataTable) return;\n",
              "\n",
              "          const docLinkHtml = 'Like what you see? Visit the ' +\n",
              "            '<a target=\"_blank\" href=https://colab.research.google.com/notebooks/data_table.ipynb>data table notebook</a>'\n",
              "            + ' to learn more about interactive tables.';\n",
              "          element.innerHTML = '';\n",
              "          dataTable['output_type'] = 'display_data';\n",
              "          await google.colab.output.renderOutput(dataTable, element);\n",
              "          const docLink = document.createElement('div');\n",
              "          docLink.innerHTML = docLinkHtml;\n",
              "          element.appendChild(docLink);\n",
              "        }\n",
              "      </script>\n",
              "    </div>\n",
              "  </div>\n",
              "  "
            ]
          },
          "metadata": {},
          "execution_count": 406
        }
      ],
      "source": [
        "fumo = fumo.merge(posto, left_on='|Dif|', right_on='|Dif|', how='left')\n",
        "fumo"
      ]
    },
    {
      "cell_type": "code",
      "execution_count": 408,
      "metadata": {
        "id": "R2Nyk4E_os77",
        "colab": {
          "base_uri": "https://localhost:8080/",
          "height": 1000
        },
        "outputId": "7f1b16d9-db6a-44e8-c1fe-f10f50692e94"
      },
      "outputs": [
        {
          "output_type": "execute_result",
          "data": {
            "text/plain": [
              "    Antes  Depois  Dif  |Dif|  Posto  Posto (+)\n",
              "0      13      14    1      1    1.5        1.5\n",
              "1      17      16   -1      1    1.5        0.0\n",
              "2      17      19    2      2    3.0        3.0\n",
              "3      12      16    4      4    4.5        4.5\n",
              "4      14      18    4      4    4.5        4.5\n",
              "5      22      17   -5      5    6.0        0.0\n",
              "6      21      13   -8      8    7.0        0.0\n",
              "7      23      14   -9      9    8.5        0.0\n",
              "8      10      19    9      9    8.5        8.5\n",
              "9      15       4  -11     11   10.0        0.0\n",
              "10     24      12  -12     12   11.5        0.0\n",
              "11     21       9  -12     12   11.5        0.0\n",
              "12     15       2  -13     13   13.0        0.0\n",
              "13     28      11  -17     17   15.0        0.0\n",
              "14     25       8  -17     17   15.0        0.0\n",
              "15     29      12  -17     17   15.0        0.0\n",
              "16     36      15  -21     21   17.0        0.0\n",
              "17     22       0  -22     22   18.0        0.0\n",
              "18     41      18  -23     23   19.5        0.0\n",
              "19     39      16  -23     23   19.5        0.0\n",
              "20     24       0  -24     24   21.5        0.0\n",
              "21     40      16  -24     24   21.5        0.0\n",
              "22     46      17  -29     29   24.0        0.0\n",
              "23     39      10  -29     29   24.0        0.0\n",
              "24     31       2  -29     29   24.0        0.0\n",
              "25     52      20  -32     32   26.0        0.0\n",
              "26     50      17  -33     33   27.0        0.0\n",
              "27     48      13  -35     35   28.0        0.0\n",
              "28     52      16  -36     36   29.0        0.0\n",
              "29     37       0  -37     37   30.0        0.0\n",
              "30     49       9  -40     40   31.5        0.0\n",
              "31     49       9  -40     40   31.5        0.0\n",
              "32     49       6  -43     43   33.0        0.0\n",
              "33     50       0  -50     50   34.0        0.0\n",
              "34     55       4  -51     51   35.0        0.0"
            ],
            "text/html": [
              "\n",
              "  <div id=\"df-a1a14bc8-0613-4bcf-b0a9-a86305abdd01\">\n",
              "    <div class=\"colab-df-container\">\n",
              "      <div>\n",
              "<style scoped>\n",
              "    .dataframe tbody tr th:only-of-type {\n",
              "        vertical-align: middle;\n",
              "    }\n",
              "\n",
              "    .dataframe tbody tr th {\n",
              "        vertical-align: top;\n",
              "    }\n",
              "\n",
              "    .dataframe thead th {\n",
              "        text-align: right;\n",
              "    }\n",
              "</style>\n",
              "<table border=\"1\" class=\"dataframe\">\n",
              "  <thead>\n",
              "    <tr style=\"text-align: right;\">\n",
              "      <th></th>\n",
              "      <th>Antes</th>\n",
              "      <th>Depois</th>\n",
              "      <th>Dif</th>\n",
              "      <th>|Dif|</th>\n",
              "      <th>Posto</th>\n",
              "      <th>Posto (+)</th>\n",
              "    </tr>\n",
              "  </thead>\n",
              "  <tbody>\n",
              "    <tr>\n",
              "      <th>0</th>\n",
              "      <td>13</td>\n",
              "      <td>14</td>\n",
              "      <td>1</td>\n",
              "      <td>1</td>\n",
              "      <td>1.5</td>\n",
              "      <td>1.5</td>\n",
              "    </tr>\n",
              "    <tr>\n",
              "      <th>1</th>\n",
              "      <td>17</td>\n",
              "      <td>16</td>\n",
              "      <td>-1</td>\n",
              "      <td>1</td>\n",
              "      <td>1.5</td>\n",
              "      <td>0.0</td>\n",
              "    </tr>\n",
              "    <tr>\n",
              "      <th>2</th>\n",
              "      <td>17</td>\n",
              "      <td>19</td>\n",
              "      <td>2</td>\n",
              "      <td>2</td>\n",
              "      <td>3.0</td>\n",
              "      <td>3.0</td>\n",
              "    </tr>\n",
              "    <tr>\n",
              "      <th>3</th>\n",
              "      <td>12</td>\n",
              "      <td>16</td>\n",
              "      <td>4</td>\n",
              "      <td>4</td>\n",
              "      <td>4.5</td>\n",
              "      <td>4.5</td>\n",
              "    </tr>\n",
              "    <tr>\n",
              "      <th>4</th>\n",
              "      <td>14</td>\n",
              "      <td>18</td>\n",
              "      <td>4</td>\n",
              "      <td>4</td>\n",
              "      <td>4.5</td>\n",
              "      <td>4.5</td>\n",
              "    </tr>\n",
              "    <tr>\n",
              "      <th>5</th>\n",
              "      <td>22</td>\n",
              "      <td>17</td>\n",
              "      <td>-5</td>\n",
              "      <td>5</td>\n",
              "      <td>6.0</td>\n",
              "      <td>0.0</td>\n",
              "    </tr>\n",
              "    <tr>\n",
              "      <th>6</th>\n",
              "      <td>21</td>\n",
              "      <td>13</td>\n",
              "      <td>-8</td>\n",
              "      <td>8</td>\n",
              "      <td>7.0</td>\n",
              "      <td>0.0</td>\n",
              "    </tr>\n",
              "    <tr>\n",
              "      <th>7</th>\n",
              "      <td>23</td>\n",
              "      <td>14</td>\n",
              "      <td>-9</td>\n",
              "      <td>9</td>\n",
              "      <td>8.5</td>\n",
              "      <td>0.0</td>\n",
              "    </tr>\n",
              "    <tr>\n",
              "      <th>8</th>\n",
              "      <td>10</td>\n",
              "      <td>19</td>\n",
              "      <td>9</td>\n",
              "      <td>9</td>\n",
              "      <td>8.5</td>\n",
              "      <td>8.5</td>\n",
              "    </tr>\n",
              "    <tr>\n",
              "      <th>9</th>\n",
              "      <td>15</td>\n",
              "      <td>4</td>\n",
              "      <td>-11</td>\n",
              "      <td>11</td>\n",
              "      <td>10.0</td>\n",
              "      <td>0.0</td>\n",
              "    </tr>\n",
              "    <tr>\n",
              "      <th>10</th>\n",
              "      <td>24</td>\n",
              "      <td>12</td>\n",
              "      <td>-12</td>\n",
              "      <td>12</td>\n",
              "      <td>11.5</td>\n",
              "      <td>0.0</td>\n",
              "    </tr>\n",
              "    <tr>\n",
              "      <th>11</th>\n",
              "      <td>21</td>\n",
              "      <td>9</td>\n",
              "      <td>-12</td>\n",
              "      <td>12</td>\n",
              "      <td>11.5</td>\n",
              "      <td>0.0</td>\n",
              "    </tr>\n",
              "    <tr>\n",
              "      <th>12</th>\n",
              "      <td>15</td>\n",
              "      <td>2</td>\n",
              "      <td>-13</td>\n",
              "      <td>13</td>\n",
              "      <td>13.0</td>\n",
              "      <td>0.0</td>\n",
              "    </tr>\n",
              "    <tr>\n",
              "      <th>13</th>\n",
              "      <td>28</td>\n",
              "      <td>11</td>\n",
              "      <td>-17</td>\n",
              "      <td>17</td>\n",
              "      <td>15.0</td>\n",
              "      <td>0.0</td>\n",
              "    </tr>\n",
              "    <tr>\n",
              "      <th>14</th>\n",
              "      <td>25</td>\n",
              "      <td>8</td>\n",
              "      <td>-17</td>\n",
              "      <td>17</td>\n",
              "      <td>15.0</td>\n",
              "      <td>0.0</td>\n",
              "    </tr>\n",
              "    <tr>\n",
              "      <th>15</th>\n",
              "      <td>29</td>\n",
              "      <td>12</td>\n",
              "      <td>-17</td>\n",
              "      <td>17</td>\n",
              "      <td>15.0</td>\n",
              "      <td>0.0</td>\n",
              "    </tr>\n",
              "    <tr>\n",
              "      <th>16</th>\n",
              "      <td>36</td>\n",
              "      <td>15</td>\n",
              "      <td>-21</td>\n",
              "      <td>21</td>\n",
              "      <td>17.0</td>\n",
              "      <td>0.0</td>\n",
              "    </tr>\n",
              "    <tr>\n",
              "      <th>17</th>\n",
              "      <td>22</td>\n",
              "      <td>0</td>\n",
              "      <td>-22</td>\n",
              "      <td>22</td>\n",
              "      <td>18.0</td>\n",
              "      <td>0.0</td>\n",
              "    </tr>\n",
              "    <tr>\n",
              "      <th>18</th>\n",
              "      <td>41</td>\n",
              "      <td>18</td>\n",
              "      <td>-23</td>\n",
              "      <td>23</td>\n",
              "      <td>19.5</td>\n",
              "      <td>0.0</td>\n",
              "    </tr>\n",
              "    <tr>\n",
              "      <th>19</th>\n",
              "      <td>39</td>\n",
              "      <td>16</td>\n",
              "      <td>-23</td>\n",
              "      <td>23</td>\n",
              "      <td>19.5</td>\n",
              "      <td>0.0</td>\n",
              "    </tr>\n",
              "    <tr>\n",
              "      <th>20</th>\n",
              "      <td>24</td>\n",
              "      <td>0</td>\n",
              "      <td>-24</td>\n",
              "      <td>24</td>\n",
              "      <td>21.5</td>\n",
              "      <td>0.0</td>\n",
              "    </tr>\n",
              "    <tr>\n",
              "      <th>21</th>\n",
              "      <td>40</td>\n",
              "      <td>16</td>\n",
              "      <td>-24</td>\n",
              "      <td>24</td>\n",
              "      <td>21.5</td>\n",
              "      <td>0.0</td>\n",
              "    </tr>\n",
              "    <tr>\n",
              "      <th>22</th>\n",
              "      <td>46</td>\n",
              "      <td>17</td>\n",
              "      <td>-29</td>\n",
              "      <td>29</td>\n",
              "      <td>24.0</td>\n",
              "      <td>0.0</td>\n",
              "    </tr>\n",
              "    <tr>\n",
              "      <th>23</th>\n",
              "      <td>39</td>\n",
              "      <td>10</td>\n",
              "      <td>-29</td>\n",
              "      <td>29</td>\n",
              "      <td>24.0</td>\n",
              "      <td>0.0</td>\n",
              "    </tr>\n",
              "    <tr>\n",
              "      <th>24</th>\n",
              "      <td>31</td>\n",
              "      <td>2</td>\n",
              "      <td>-29</td>\n",
              "      <td>29</td>\n",
              "      <td>24.0</td>\n",
              "      <td>0.0</td>\n",
              "    </tr>\n",
              "    <tr>\n",
              "      <th>25</th>\n",
              "      <td>52</td>\n",
              "      <td>20</td>\n",
              "      <td>-32</td>\n",
              "      <td>32</td>\n",
              "      <td>26.0</td>\n",
              "      <td>0.0</td>\n",
              "    </tr>\n",
              "    <tr>\n",
              "      <th>26</th>\n",
              "      <td>50</td>\n",
              "      <td>17</td>\n",
              "      <td>-33</td>\n",
              "      <td>33</td>\n",
              "      <td>27.0</td>\n",
              "      <td>0.0</td>\n",
              "    </tr>\n",
              "    <tr>\n",
              "      <th>27</th>\n",
              "      <td>48</td>\n",
              "      <td>13</td>\n",
              "      <td>-35</td>\n",
              "      <td>35</td>\n",
              "      <td>28.0</td>\n",
              "      <td>0.0</td>\n",
              "    </tr>\n",
              "    <tr>\n",
              "      <th>28</th>\n",
              "      <td>52</td>\n",
              "      <td>16</td>\n",
              "      <td>-36</td>\n",
              "      <td>36</td>\n",
              "      <td>29.0</td>\n",
              "      <td>0.0</td>\n",
              "    </tr>\n",
              "    <tr>\n",
              "      <th>29</th>\n",
              "      <td>37</td>\n",
              "      <td>0</td>\n",
              "      <td>-37</td>\n",
              "      <td>37</td>\n",
              "      <td>30.0</td>\n",
              "      <td>0.0</td>\n",
              "    </tr>\n",
              "    <tr>\n",
              "      <th>30</th>\n",
              "      <td>49</td>\n",
              "      <td>9</td>\n",
              "      <td>-40</td>\n",
              "      <td>40</td>\n",
              "      <td>31.5</td>\n",
              "      <td>0.0</td>\n",
              "    </tr>\n",
              "    <tr>\n",
              "      <th>31</th>\n",
              "      <td>49</td>\n",
              "      <td>9</td>\n",
              "      <td>-40</td>\n",
              "      <td>40</td>\n",
              "      <td>31.5</td>\n",
              "      <td>0.0</td>\n",
              "    </tr>\n",
              "    <tr>\n",
              "      <th>32</th>\n",
              "      <td>49</td>\n",
              "      <td>6</td>\n",
              "      <td>-43</td>\n",
              "      <td>43</td>\n",
              "      <td>33.0</td>\n",
              "      <td>0.0</td>\n",
              "    </tr>\n",
              "    <tr>\n",
              "      <th>33</th>\n",
              "      <td>50</td>\n",
              "      <td>0</td>\n",
              "      <td>-50</td>\n",
              "      <td>50</td>\n",
              "      <td>34.0</td>\n",
              "      <td>0.0</td>\n",
              "    </tr>\n",
              "    <tr>\n",
              "      <th>34</th>\n",
              "      <td>55</td>\n",
              "      <td>4</td>\n",
              "      <td>-51</td>\n",
              "      <td>51</td>\n",
              "      <td>35.0</td>\n",
              "      <td>0.0</td>\n",
              "    </tr>\n",
              "  </tbody>\n",
              "</table>\n",
              "</div>\n",
              "      <button class=\"colab-df-convert\" onclick=\"convertToInteractive('df-a1a14bc8-0613-4bcf-b0a9-a86305abdd01')\"\n",
              "              title=\"Convert this dataframe to an interactive table.\"\n",
              "              style=\"display:none;\">\n",
              "        \n",
              "  <svg xmlns=\"http://www.w3.org/2000/svg\" height=\"24px\"viewBox=\"0 0 24 24\"\n",
              "       width=\"24px\">\n",
              "    <path d=\"M0 0h24v24H0V0z\" fill=\"none\"/>\n",
              "    <path d=\"M18.56 5.44l.94 2.06.94-2.06 2.06-.94-2.06-.94-.94-2.06-.94 2.06-2.06.94zm-11 1L8.5 8.5l.94-2.06 2.06-.94-2.06-.94L8.5 2.5l-.94 2.06-2.06.94zm10 10l.94 2.06.94-2.06 2.06-.94-2.06-.94-.94-2.06-.94 2.06-2.06.94z\"/><path d=\"M17.41 7.96l-1.37-1.37c-.4-.4-.92-.59-1.43-.59-.52 0-1.04.2-1.43.59L10.3 9.45l-7.72 7.72c-.78.78-.78 2.05 0 2.83L4 21.41c.39.39.9.59 1.41.59.51 0 1.02-.2 1.41-.59l7.78-7.78 2.81-2.81c.8-.78.8-2.07 0-2.86zM5.41 20L4 18.59l7.72-7.72 1.47 1.35L5.41 20z\"/>\n",
              "  </svg>\n",
              "      </button>\n",
              "      \n",
              "  <style>\n",
              "    .colab-df-container {\n",
              "      display:flex;\n",
              "      flex-wrap:wrap;\n",
              "      gap: 12px;\n",
              "    }\n",
              "\n",
              "    .colab-df-convert {\n",
              "      background-color: #E8F0FE;\n",
              "      border: none;\n",
              "      border-radius: 50%;\n",
              "      cursor: pointer;\n",
              "      display: none;\n",
              "      fill: #1967D2;\n",
              "      height: 32px;\n",
              "      padding: 0 0 0 0;\n",
              "      width: 32px;\n",
              "    }\n",
              "\n",
              "    .colab-df-convert:hover {\n",
              "      background-color: #E2EBFA;\n",
              "      box-shadow: 0px 1px 2px rgba(60, 64, 67, 0.3), 0px 1px 3px 1px rgba(60, 64, 67, 0.15);\n",
              "      fill: #174EA6;\n",
              "    }\n",
              "\n",
              "    [theme=dark] .colab-df-convert {\n",
              "      background-color: #3B4455;\n",
              "      fill: #D2E3FC;\n",
              "    }\n",
              "\n",
              "    [theme=dark] .colab-df-convert:hover {\n",
              "      background-color: #434B5C;\n",
              "      box-shadow: 0px 1px 3px 1px rgba(0, 0, 0, 0.15);\n",
              "      filter: drop-shadow(0px 1px 2px rgba(0, 0, 0, 0.3));\n",
              "      fill: #FFFFFF;\n",
              "    }\n",
              "  </style>\n",
              "\n",
              "      <script>\n",
              "        const buttonEl =\n",
              "          document.querySelector('#df-a1a14bc8-0613-4bcf-b0a9-a86305abdd01 button.colab-df-convert');\n",
              "        buttonEl.style.display =\n",
              "          google.colab.kernel.accessAllowed ? 'block' : 'none';\n",
              "\n",
              "        async function convertToInteractive(key) {\n",
              "          const element = document.querySelector('#df-a1a14bc8-0613-4bcf-b0a9-a86305abdd01');\n",
              "          const dataTable =\n",
              "            await google.colab.kernel.invokeFunction('convertToInteractive',\n",
              "                                                     [key], {});\n",
              "          if (!dataTable) return;\n",
              "\n",
              "          const docLinkHtml = 'Like what you see? Visit the ' +\n",
              "            '<a target=\"_blank\" href=https://colab.research.google.com/notebooks/data_table.ipynb>data table notebook</a>'\n",
              "            + ' to learn more about interactive tables.';\n",
              "          element.innerHTML = '';\n",
              "          dataTable['output_type'] = 'display_data';\n",
              "          await google.colab.output.renderOutput(dataTable, element);\n",
              "          const docLink = document.createElement('div');\n",
              "          docLink.innerHTML = docLinkHtml;\n",
              "          element.appendChild(docLink);\n",
              "        }\n",
              "      </script>\n",
              "    </div>\n",
              "  </div>\n",
              "  "
            ]
          },
          "metadata": {},
          "execution_count": 408
        }
      ],
      "source": [
        "fumo['Posto (+)'] = fumo.apply(lambda x: x.Posto if x.Dif > 0 else 0, axis = 1)\n",
        "fumo"
      ]
    },
    {
      "cell_type": "code",
      "execution_count": 409,
      "metadata": {
        "id": "PoL2W6c7os4d",
        "colab": {
          "base_uri": "https://localhost:8080/",
          "height": 1000
        },
        "outputId": "095e9a2c-0dda-4c16-f436-5a7401770b4f"
      },
      "outputs": [
        {
          "output_type": "execute_result",
          "data": {
            "text/plain": [
              "    Antes  Depois  Dif  |Dif|  Posto  Posto (+)  Posto (-)\n",
              "0      13      14    1      1    1.5        1.5        0.0\n",
              "1      17      16   -1      1    1.5        0.0        1.5\n",
              "2      17      19    2      2    3.0        3.0        0.0\n",
              "3      12      16    4      4    4.5        4.5        0.0\n",
              "4      14      18    4      4    4.5        4.5        0.0\n",
              "5      22      17   -5      5    6.0        0.0        6.0\n",
              "6      21      13   -8      8    7.0        0.0        7.0\n",
              "7      23      14   -9      9    8.5        0.0        8.5\n",
              "8      10      19    9      9    8.5        8.5        0.0\n",
              "9      15       4  -11     11   10.0        0.0       10.0\n",
              "10     24      12  -12     12   11.5        0.0       11.5\n",
              "11     21       9  -12     12   11.5        0.0       11.5\n",
              "12     15       2  -13     13   13.0        0.0       13.0\n",
              "13     28      11  -17     17   15.0        0.0       15.0\n",
              "14     25       8  -17     17   15.0        0.0       15.0\n",
              "15     29      12  -17     17   15.0        0.0       15.0\n",
              "16     36      15  -21     21   17.0        0.0       17.0\n",
              "17     22       0  -22     22   18.0        0.0       18.0\n",
              "18     41      18  -23     23   19.5        0.0       19.5\n",
              "19     39      16  -23     23   19.5        0.0       19.5\n",
              "20     24       0  -24     24   21.5        0.0       21.5\n",
              "21     40      16  -24     24   21.5        0.0       21.5\n",
              "22     46      17  -29     29   24.0        0.0       24.0\n",
              "23     39      10  -29     29   24.0        0.0       24.0\n",
              "24     31       2  -29     29   24.0        0.0       24.0\n",
              "25     52      20  -32     32   26.0        0.0       26.0\n",
              "26     50      17  -33     33   27.0        0.0       27.0\n",
              "27     48      13  -35     35   28.0        0.0       28.0\n",
              "28     52      16  -36     36   29.0        0.0       29.0\n",
              "29     37       0  -37     37   30.0        0.0       30.0\n",
              "30     49       9  -40     40   31.5        0.0       31.5\n",
              "31     49       9  -40     40   31.5        0.0       31.5\n",
              "32     49       6  -43     43   33.0        0.0       33.0\n",
              "33     50       0  -50     50   34.0        0.0       34.0\n",
              "34     55       4  -51     51   35.0        0.0       35.0"
            ],
            "text/html": [
              "\n",
              "  <div id=\"df-b4cafd16-c5ee-412e-b302-60b30b43278e\">\n",
              "    <div class=\"colab-df-container\">\n",
              "      <div>\n",
              "<style scoped>\n",
              "    .dataframe tbody tr th:only-of-type {\n",
              "        vertical-align: middle;\n",
              "    }\n",
              "\n",
              "    .dataframe tbody tr th {\n",
              "        vertical-align: top;\n",
              "    }\n",
              "\n",
              "    .dataframe thead th {\n",
              "        text-align: right;\n",
              "    }\n",
              "</style>\n",
              "<table border=\"1\" class=\"dataframe\">\n",
              "  <thead>\n",
              "    <tr style=\"text-align: right;\">\n",
              "      <th></th>\n",
              "      <th>Antes</th>\n",
              "      <th>Depois</th>\n",
              "      <th>Dif</th>\n",
              "      <th>|Dif|</th>\n",
              "      <th>Posto</th>\n",
              "      <th>Posto (+)</th>\n",
              "      <th>Posto (-)</th>\n",
              "    </tr>\n",
              "  </thead>\n",
              "  <tbody>\n",
              "    <tr>\n",
              "      <th>0</th>\n",
              "      <td>13</td>\n",
              "      <td>14</td>\n",
              "      <td>1</td>\n",
              "      <td>1</td>\n",
              "      <td>1.5</td>\n",
              "      <td>1.5</td>\n",
              "      <td>0.0</td>\n",
              "    </tr>\n",
              "    <tr>\n",
              "      <th>1</th>\n",
              "      <td>17</td>\n",
              "      <td>16</td>\n",
              "      <td>-1</td>\n",
              "      <td>1</td>\n",
              "      <td>1.5</td>\n",
              "      <td>0.0</td>\n",
              "      <td>1.5</td>\n",
              "    </tr>\n",
              "    <tr>\n",
              "      <th>2</th>\n",
              "      <td>17</td>\n",
              "      <td>19</td>\n",
              "      <td>2</td>\n",
              "      <td>2</td>\n",
              "      <td>3.0</td>\n",
              "      <td>3.0</td>\n",
              "      <td>0.0</td>\n",
              "    </tr>\n",
              "    <tr>\n",
              "      <th>3</th>\n",
              "      <td>12</td>\n",
              "      <td>16</td>\n",
              "      <td>4</td>\n",
              "      <td>4</td>\n",
              "      <td>4.5</td>\n",
              "      <td>4.5</td>\n",
              "      <td>0.0</td>\n",
              "    </tr>\n",
              "    <tr>\n",
              "      <th>4</th>\n",
              "      <td>14</td>\n",
              "      <td>18</td>\n",
              "      <td>4</td>\n",
              "      <td>4</td>\n",
              "      <td>4.5</td>\n",
              "      <td>4.5</td>\n",
              "      <td>0.0</td>\n",
              "    </tr>\n",
              "    <tr>\n",
              "      <th>5</th>\n",
              "      <td>22</td>\n",
              "      <td>17</td>\n",
              "      <td>-5</td>\n",
              "      <td>5</td>\n",
              "      <td>6.0</td>\n",
              "      <td>0.0</td>\n",
              "      <td>6.0</td>\n",
              "    </tr>\n",
              "    <tr>\n",
              "      <th>6</th>\n",
              "      <td>21</td>\n",
              "      <td>13</td>\n",
              "      <td>-8</td>\n",
              "      <td>8</td>\n",
              "      <td>7.0</td>\n",
              "      <td>0.0</td>\n",
              "      <td>7.0</td>\n",
              "    </tr>\n",
              "    <tr>\n",
              "      <th>7</th>\n",
              "      <td>23</td>\n",
              "      <td>14</td>\n",
              "      <td>-9</td>\n",
              "      <td>9</td>\n",
              "      <td>8.5</td>\n",
              "      <td>0.0</td>\n",
              "      <td>8.5</td>\n",
              "    </tr>\n",
              "    <tr>\n",
              "      <th>8</th>\n",
              "      <td>10</td>\n",
              "      <td>19</td>\n",
              "      <td>9</td>\n",
              "      <td>9</td>\n",
              "      <td>8.5</td>\n",
              "      <td>8.5</td>\n",
              "      <td>0.0</td>\n",
              "    </tr>\n",
              "    <tr>\n",
              "      <th>9</th>\n",
              "      <td>15</td>\n",
              "      <td>4</td>\n",
              "      <td>-11</td>\n",
              "      <td>11</td>\n",
              "      <td>10.0</td>\n",
              "      <td>0.0</td>\n",
              "      <td>10.0</td>\n",
              "    </tr>\n",
              "    <tr>\n",
              "      <th>10</th>\n",
              "      <td>24</td>\n",
              "      <td>12</td>\n",
              "      <td>-12</td>\n",
              "      <td>12</td>\n",
              "      <td>11.5</td>\n",
              "      <td>0.0</td>\n",
              "      <td>11.5</td>\n",
              "    </tr>\n",
              "    <tr>\n",
              "      <th>11</th>\n",
              "      <td>21</td>\n",
              "      <td>9</td>\n",
              "      <td>-12</td>\n",
              "      <td>12</td>\n",
              "      <td>11.5</td>\n",
              "      <td>0.0</td>\n",
              "      <td>11.5</td>\n",
              "    </tr>\n",
              "    <tr>\n",
              "      <th>12</th>\n",
              "      <td>15</td>\n",
              "      <td>2</td>\n",
              "      <td>-13</td>\n",
              "      <td>13</td>\n",
              "      <td>13.0</td>\n",
              "      <td>0.0</td>\n",
              "      <td>13.0</td>\n",
              "    </tr>\n",
              "    <tr>\n",
              "      <th>13</th>\n",
              "      <td>28</td>\n",
              "      <td>11</td>\n",
              "      <td>-17</td>\n",
              "      <td>17</td>\n",
              "      <td>15.0</td>\n",
              "      <td>0.0</td>\n",
              "      <td>15.0</td>\n",
              "    </tr>\n",
              "    <tr>\n",
              "      <th>14</th>\n",
              "      <td>25</td>\n",
              "      <td>8</td>\n",
              "      <td>-17</td>\n",
              "      <td>17</td>\n",
              "      <td>15.0</td>\n",
              "      <td>0.0</td>\n",
              "      <td>15.0</td>\n",
              "    </tr>\n",
              "    <tr>\n",
              "      <th>15</th>\n",
              "      <td>29</td>\n",
              "      <td>12</td>\n",
              "      <td>-17</td>\n",
              "      <td>17</td>\n",
              "      <td>15.0</td>\n",
              "      <td>0.0</td>\n",
              "      <td>15.0</td>\n",
              "    </tr>\n",
              "    <tr>\n",
              "      <th>16</th>\n",
              "      <td>36</td>\n",
              "      <td>15</td>\n",
              "      <td>-21</td>\n",
              "      <td>21</td>\n",
              "      <td>17.0</td>\n",
              "      <td>0.0</td>\n",
              "      <td>17.0</td>\n",
              "    </tr>\n",
              "    <tr>\n",
              "      <th>17</th>\n",
              "      <td>22</td>\n",
              "      <td>0</td>\n",
              "      <td>-22</td>\n",
              "      <td>22</td>\n",
              "      <td>18.0</td>\n",
              "      <td>0.0</td>\n",
              "      <td>18.0</td>\n",
              "    </tr>\n",
              "    <tr>\n",
              "      <th>18</th>\n",
              "      <td>41</td>\n",
              "      <td>18</td>\n",
              "      <td>-23</td>\n",
              "      <td>23</td>\n",
              "      <td>19.5</td>\n",
              "      <td>0.0</td>\n",
              "      <td>19.5</td>\n",
              "    </tr>\n",
              "    <tr>\n",
              "      <th>19</th>\n",
              "      <td>39</td>\n",
              "      <td>16</td>\n",
              "      <td>-23</td>\n",
              "      <td>23</td>\n",
              "      <td>19.5</td>\n",
              "      <td>0.0</td>\n",
              "      <td>19.5</td>\n",
              "    </tr>\n",
              "    <tr>\n",
              "      <th>20</th>\n",
              "      <td>24</td>\n",
              "      <td>0</td>\n",
              "      <td>-24</td>\n",
              "      <td>24</td>\n",
              "      <td>21.5</td>\n",
              "      <td>0.0</td>\n",
              "      <td>21.5</td>\n",
              "    </tr>\n",
              "    <tr>\n",
              "      <th>21</th>\n",
              "      <td>40</td>\n",
              "      <td>16</td>\n",
              "      <td>-24</td>\n",
              "      <td>24</td>\n",
              "      <td>21.5</td>\n",
              "      <td>0.0</td>\n",
              "      <td>21.5</td>\n",
              "    </tr>\n",
              "    <tr>\n",
              "      <th>22</th>\n",
              "      <td>46</td>\n",
              "      <td>17</td>\n",
              "      <td>-29</td>\n",
              "      <td>29</td>\n",
              "      <td>24.0</td>\n",
              "      <td>0.0</td>\n",
              "      <td>24.0</td>\n",
              "    </tr>\n",
              "    <tr>\n",
              "      <th>23</th>\n",
              "      <td>39</td>\n",
              "      <td>10</td>\n",
              "      <td>-29</td>\n",
              "      <td>29</td>\n",
              "      <td>24.0</td>\n",
              "      <td>0.0</td>\n",
              "      <td>24.0</td>\n",
              "    </tr>\n",
              "    <tr>\n",
              "      <th>24</th>\n",
              "      <td>31</td>\n",
              "      <td>2</td>\n",
              "      <td>-29</td>\n",
              "      <td>29</td>\n",
              "      <td>24.0</td>\n",
              "      <td>0.0</td>\n",
              "      <td>24.0</td>\n",
              "    </tr>\n",
              "    <tr>\n",
              "      <th>25</th>\n",
              "      <td>52</td>\n",
              "      <td>20</td>\n",
              "      <td>-32</td>\n",
              "      <td>32</td>\n",
              "      <td>26.0</td>\n",
              "      <td>0.0</td>\n",
              "      <td>26.0</td>\n",
              "    </tr>\n",
              "    <tr>\n",
              "      <th>26</th>\n",
              "      <td>50</td>\n",
              "      <td>17</td>\n",
              "      <td>-33</td>\n",
              "      <td>33</td>\n",
              "      <td>27.0</td>\n",
              "      <td>0.0</td>\n",
              "      <td>27.0</td>\n",
              "    </tr>\n",
              "    <tr>\n",
              "      <th>27</th>\n",
              "      <td>48</td>\n",
              "      <td>13</td>\n",
              "      <td>-35</td>\n",
              "      <td>35</td>\n",
              "      <td>28.0</td>\n",
              "      <td>0.0</td>\n",
              "      <td>28.0</td>\n",
              "    </tr>\n",
              "    <tr>\n",
              "      <th>28</th>\n",
              "      <td>52</td>\n",
              "      <td>16</td>\n",
              "      <td>-36</td>\n",
              "      <td>36</td>\n",
              "      <td>29.0</td>\n",
              "      <td>0.0</td>\n",
              "      <td>29.0</td>\n",
              "    </tr>\n",
              "    <tr>\n",
              "      <th>29</th>\n",
              "      <td>37</td>\n",
              "      <td>0</td>\n",
              "      <td>-37</td>\n",
              "      <td>37</td>\n",
              "      <td>30.0</td>\n",
              "      <td>0.0</td>\n",
              "      <td>30.0</td>\n",
              "    </tr>\n",
              "    <tr>\n",
              "      <th>30</th>\n",
              "      <td>49</td>\n",
              "      <td>9</td>\n",
              "      <td>-40</td>\n",
              "      <td>40</td>\n",
              "      <td>31.5</td>\n",
              "      <td>0.0</td>\n",
              "      <td>31.5</td>\n",
              "    </tr>\n",
              "    <tr>\n",
              "      <th>31</th>\n",
              "      <td>49</td>\n",
              "      <td>9</td>\n",
              "      <td>-40</td>\n",
              "      <td>40</td>\n",
              "      <td>31.5</td>\n",
              "      <td>0.0</td>\n",
              "      <td>31.5</td>\n",
              "    </tr>\n",
              "    <tr>\n",
              "      <th>32</th>\n",
              "      <td>49</td>\n",
              "      <td>6</td>\n",
              "      <td>-43</td>\n",
              "      <td>43</td>\n",
              "      <td>33.0</td>\n",
              "      <td>0.0</td>\n",
              "      <td>33.0</td>\n",
              "    </tr>\n",
              "    <tr>\n",
              "      <th>33</th>\n",
              "      <td>50</td>\n",
              "      <td>0</td>\n",
              "      <td>-50</td>\n",
              "      <td>50</td>\n",
              "      <td>34.0</td>\n",
              "      <td>0.0</td>\n",
              "      <td>34.0</td>\n",
              "    </tr>\n",
              "    <tr>\n",
              "      <th>34</th>\n",
              "      <td>55</td>\n",
              "      <td>4</td>\n",
              "      <td>-51</td>\n",
              "      <td>51</td>\n",
              "      <td>35.0</td>\n",
              "      <td>0.0</td>\n",
              "      <td>35.0</td>\n",
              "    </tr>\n",
              "  </tbody>\n",
              "</table>\n",
              "</div>\n",
              "      <button class=\"colab-df-convert\" onclick=\"convertToInteractive('df-b4cafd16-c5ee-412e-b302-60b30b43278e')\"\n",
              "              title=\"Convert this dataframe to an interactive table.\"\n",
              "              style=\"display:none;\">\n",
              "        \n",
              "  <svg xmlns=\"http://www.w3.org/2000/svg\" height=\"24px\"viewBox=\"0 0 24 24\"\n",
              "       width=\"24px\">\n",
              "    <path d=\"M0 0h24v24H0V0z\" fill=\"none\"/>\n",
              "    <path d=\"M18.56 5.44l.94 2.06.94-2.06 2.06-.94-2.06-.94-.94-2.06-.94 2.06-2.06.94zm-11 1L8.5 8.5l.94-2.06 2.06-.94-2.06-.94L8.5 2.5l-.94 2.06-2.06.94zm10 10l.94 2.06.94-2.06 2.06-.94-2.06-.94-.94-2.06-.94 2.06-2.06.94z\"/><path d=\"M17.41 7.96l-1.37-1.37c-.4-.4-.92-.59-1.43-.59-.52 0-1.04.2-1.43.59L10.3 9.45l-7.72 7.72c-.78.78-.78 2.05 0 2.83L4 21.41c.39.39.9.59 1.41.59.51 0 1.02-.2 1.41-.59l7.78-7.78 2.81-2.81c.8-.78.8-2.07 0-2.86zM5.41 20L4 18.59l7.72-7.72 1.47 1.35L5.41 20z\"/>\n",
              "  </svg>\n",
              "      </button>\n",
              "      \n",
              "  <style>\n",
              "    .colab-df-container {\n",
              "      display:flex;\n",
              "      flex-wrap:wrap;\n",
              "      gap: 12px;\n",
              "    }\n",
              "\n",
              "    .colab-df-convert {\n",
              "      background-color: #E8F0FE;\n",
              "      border: none;\n",
              "      border-radius: 50%;\n",
              "      cursor: pointer;\n",
              "      display: none;\n",
              "      fill: #1967D2;\n",
              "      height: 32px;\n",
              "      padding: 0 0 0 0;\n",
              "      width: 32px;\n",
              "    }\n",
              "\n",
              "    .colab-df-convert:hover {\n",
              "      background-color: #E2EBFA;\n",
              "      box-shadow: 0px 1px 2px rgba(60, 64, 67, 0.3), 0px 1px 3px 1px rgba(60, 64, 67, 0.15);\n",
              "      fill: #174EA6;\n",
              "    }\n",
              "\n",
              "    [theme=dark] .colab-df-convert {\n",
              "      background-color: #3B4455;\n",
              "      fill: #D2E3FC;\n",
              "    }\n",
              "\n",
              "    [theme=dark] .colab-df-convert:hover {\n",
              "      background-color: #434B5C;\n",
              "      box-shadow: 0px 1px 3px 1px rgba(0, 0, 0, 0.15);\n",
              "      filter: drop-shadow(0px 1px 2px rgba(0, 0, 0, 0.3));\n",
              "      fill: #FFFFFF;\n",
              "    }\n",
              "  </style>\n",
              "\n",
              "      <script>\n",
              "        const buttonEl =\n",
              "          document.querySelector('#df-b4cafd16-c5ee-412e-b302-60b30b43278e button.colab-df-convert');\n",
              "        buttonEl.style.display =\n",
              "          google.colab.kernel.accessAllowed ? 'block' : 'none';\n",
              "\n",
              "        async function convertToInteractive(key) {\n",
              "          const element = document.querySelector('#df-b4cafd16-c5ee-412e-b302-60b30b43278e');\n",
              "          const dataTable =\n",
              "            await google.colab.kernel.invokeFunction('convertToInteractive',\n",
              "                                                     [key], {});\n",
              "          if (!dataTable) return;\n",
              "\n",
              "          const docLinkHtml = 'Like what you see? Visit the ' +\n",
              "            '<a target=\"_blank\" href=https://colab.research.google.com/notebooks/data_table.ipynb>data table notebook</a>'\n",
              "            + ' to learn more about interactive tables.';\n",
              "          element.innerHTML = '';\n",
              "          dataTable['output_type'] = 'display_data';\n",
              "          await google.colab.output.renderOutput(dataTable, element);\n",
              "          const docLink = document.createElement('div');\n",
              "          docLink.innerHTML = docLinkHtml;\n",
              "          element.appendChild(docLink);\n",
              "        }\n",
              "      </script>\n",
              "    </div>\n",
              "  </div>\n",
              "  "
            ]
          },
          "metadata": {},
          "execution_count": 409
        }
      ],
      "source": [
        "fumo['Posto (-)'] = fumo.apply(lambda x: x.Posto if x.Dif < 0 else 0, axis = 1)\n",
        "fumo"
      ]
    },
    {
      "cell_type": "code",
      "execution_count": 410,
      "metadata": {
        "id": "kIu3BKAwos0z",
        "colab": {
          "base_uri": "https://localhost:8080/",
          "height": 1000
        },
        "outputId": "aff991dc-1f3c-4c12-e2f3-8042fe13b2c4"
      },
      "outputs": [
        {
          "output_type": "execute_result",
          "data": {
            "text/plain": [
              "    Antes  Depois  Dif  |Dif|  Posto (+)  Posto (-)\n",
              "0      13      14    1      1        1.5        0.0\n",
              "1      17      16   -1      1        0.0        1.5\n",
              "2      17      19    2      2        3.0        0.0\n",
              "3      12      16    4      4        4.5        0.0\n",
              "4      14      18    4      4        4.5        0.0\n",
              "5      22      17   -5      5        0.0        6.0\n",
              "6      21      13   -8      8        0.0        7.0\n",
              "7      23      14   -9      9        0.0        8.5\n",
              "8      10      19    9      9        8.5        0.0\n",
              "9      15       4  -11     11        0.0       10.0\n",
              "10     24      12  -12     12        0.0       11.5\n",
              "11     21       9  -12     12        0.0       11.5\n",
              "12     15       2  -13     13        0.0       13.0\n",
              "13     28      11  -17     17        0.0       15.0\n",
              "14     25       8  -17     17        0.0       15.0\n",
              "15     29      12  -17     17        0.0       15.0\n",
              "16     36      15  -21     21        0.0       17.0\n",
              "17     22       0  -22     22        0.0       18.0\n",
              "18     41      18  -23     23        0.0       19.5\n",
              "19     39      16  -23     23        0.0       19.5\n",
              "20     24       0  -24     24        0.0       21.5\n",
              "21     40      16  -24     24        0.0       21.5\n",
              "22     46      17  -29     29        0.0       24.0\n",
              "23     39      10  -29     29        0.0       24.0\n",
              "24     31       2  -29     29        0.0       24.0\n",
              "25     52      20  -32     32        0.0       26.0\n",
              "26     50      17  -33     33        0.0       27.0\n",
              "27     48      13  -35     35        0.0       28.0\n",
              "28     52      16  -36     36        0.0       29.0\n",
              "29     37       0  -37     37        0.0       30.0\n",
              "30     49       9  -40     40        0.0       31.5\n",
              "31     49       9  -40     40        0.0       31.5\n",
              "32     49       6  -43     43        0.0       33.0\n",
              "33     50       0  -50     50        0.0       34.0\n",
              "34     55       4  -51     51        0.0       35.0"
            ],
            "text/html": [
              "\n",
              "  <div id=\"df-ec6875fc-a2c5-4838-8462-8718f587c943\">\n",
              "    <div class=\"colab-df-container\">\n",
              "      <div>\n",
              "<style scoped>\n",
              "    .dataframe tbody tr th:only-of-type {\n",
              "        vertical-align: middle;\n",
              "    }\n",
              "\n",
              "    .dataframe tbody tr th {\n",
              "        vertical-align: top;\n",
              "    }\n",
              "\n",
              "    .dataframe thead th {\n",
              "        text-align: right;\n",
              "    }\n",
              "</style>\n",
              "<table border=\"1\" class=\"dataframe\">\n",
              "  <thead>\n",
              "    <tr style=\"text-align: right;\">\n",
              "      <th></th>\n",
              "      <th>Antes</th>\n",
              "      <th>Depois</th>\n",
              "      <th>Dif</th>\n",
              "      <th>|Dif|</th>\n",
              "      <th>Posto (+)</th>\n",
              "      <th>Posto (-)</th>\n",
              "    </tr>\n",
              "  </thead>\n",
              "  <tbody>\n",
              "    <tr>\n",
              "      <th>0</th>\n",
              "      <td>13</td>\n",
              "      <td>14</td>\n",
              "      <td>1</td>\n",
              "      <td>1</td>\n",
              "      <td>1.5</td>\n",
              "      <td>0.0</td>\n",
              "    </tr>\n",
              "    <tr>\n",
              "      <th>1</th>\n",
              "      <td>17</td>\n",
              "      <td>16</td>\n",
              "      <td>-1</td>\n",
              "      <td>1</td>\n",
              "      <td>0.0</td>\n",
              "      <td>1.5</td>\n",
              "    </tr>\n",
              "    <tr>\n",
              "      <th>2</th>\n",
              "      <td>17</td>\n",
              "      <td>19</td>\n",
              "      <td>2</td>\n",
              "      <td>2</td>\n",
              "      <td>3.0</td>\n",
              "      <td>0.0</td>\n",
              "    </tr>\n",
              "    <tr>\n",
              "      <th>3</th>\n",
              "      <td>12</td>\n",
              "      <td>16</td>\n",
              "      <td>4</td>\n",
              "      <td>4</td>\n",
              "      <td>4.5</td>\n",
              "      <td>0.0</td>\n",
              "    </tr>\n",
              "    <tr>\n",
              "      <th>4</th>\n",
              "      <td>14</td>\n",
              "      <td>18</td>\n",
              "      <td>4</td>\n",
              "      <td>4</td>\n",
              "      <td>4.5</td>\n",
              "      <td>0.0</td>\n",
              "    </tr>\n",
              "    <tr>\n",
              "      <th>5</th>\n",
              "      <td>22</td>\n",
              "      <td>17</td>\n",
              "      <td>-5</td>\n",
              "      <td>5</td>\n",
              "      <td>0.0</td>\n",
              "      <td>6.0</td>\n",
              "    </tr>\n",
              "    <tr>\n",
              "      <th>6</th>\n",
              "      <td>21</td>\n",
              "      <td>13</td>\n",
              "      <td>-8</td>\n",
              "      <td>8</td>\n",
              "      <td>0.0</td>\n",
              "      <td>7.0</td>\n",
              "    </tr>\n",
              "    <tr>\n",
              "      <th>7</th>\n",
              "      <td>23</td>\n",
              "      <td>14</td>\n",
              "      <td>-9</td>\n",
              "      <td>9</td>\n",
              "      <td>0.0</td>\n",
              "      <td>8.5</td>\n",
              "    </tr>\n",
              "    <tr>\n",
              "      <th>8</th>\n",
              "      <td>10</td>\n",
              "      <td>19</td>\n",
              "      <td>9</td>\n",
              "      <td>9</td>\n",
              "      <td>8.5</td>\n",
              "      <td>0.0</td>\n",
              "    </tr>\n",
              "    <tr>\n",
              "      <th>9</th>\n",
              "      <td>15</td>\n",
              "      <td>4</td>\n",
              "      <td>-11</td>\n",
              "      <td>11</td>\n",
              "      <td>0.0</td>\n",
              "      <td>10.0</td>\n",
              "    </tr>\n",
              "    <tr>\n",
              "      <th>10</th>\n",
              "      <td>24</td>\n",
              "      <td>12</td>\n",
              "      <td>-12</td>\n",
              "      <td>12</td>\n",
              "      <td>0.0</td>\n",
              "      <td>11.5</td>\n",
              "    </tr>\n",
              "    <tr>\n",
              "      <th>11</th>\n",
              "      <td>21</td>\n",
              "      <td>9</td>\n",
              "      <td>-12</td>\n",
              "      <td>12</td>\n",
              "      <td>0.0</td>\n",
              "      <td>11.5</td>\n",
              "    </tr>\n",
              "    <tr>\n",
              "      <th>12</th>\n",
              "      <td>15</td>\n",
              "      <td>2</td>\n",
              "      <td>-13</td>\n",
              "      <td>13</td>\n",
              "      <td>0.0</td>\n",
              "      <td>13.0</td>\n",
              "    </tr>\n",
              "    <tr>\n",
              "      <th>13</th>\n",
              "      <td>28</td>\n",
              "      <td>11</td>\n",
              "      <td>-17</td>\n",
              "      <td>17</td>\n",
              "      <td>0.0</td>\n",
              "      <td>15.0</td>\n",
              "    </tr>\n",
              "    <tr>\n",
              "      <th>14</th>\n",
              "      <td>25</td>\n",
              "      <td>8</td>\n",
              "      <td>-17</td>\n",
              "      <td>17</td>\n",
              "      <td>0.0</td>\n",
              "      <td>15.0</td>\n",
              "    </tr>\n",
              "    <tr>\n",
              "      <th>15</th>\n",
              "      <td>29</td>\n",
              "      <td>12</td>\n",
              "      <td>-17</td>\n",
              "      <td>17</td>\n",
              "      <td>0.0</td>\n",
              "      <td>15.0</td>\n",
              "    </tr>\n",
              "    <tr>\n",
              "      <th>16</th>\n",
              "      <td>36</td>\n",
              "      <td>15</td>\n",
              "      <td>-21</td>\n",
              "      <td>21</td>\n",
              "      <td>0.0</td>\n",
              "      <td>17.0</td>\n",
              "    </tr>\n",
              "    <tr>\n",
              "      <th>17</th>\n",
              "      <td>22</td>\n",
              "      <td>0</td>\n",
              "      <td>-22</td>\n",
              "      <td>22</td>\n",
              "      <td>0.0</td>\n",
              "      <td>18.0</td>\n",
              "    </tr>\n",
              "    <tr>\n",
              "      <th>18</th>\n",
              "      <td>41</td>\n",
              "      <td>18</td>\n",
              "      <td>-23</td>\n",
              "      <td>23</td>\n",
              "      <td>0.0</td>\n",
              "      <td>19.5</td>\n",
              "    </tr>\n",
              "    <tr>\n",
              "      <th>19</th>\n",
              "      <td>39</td>\n",
              "      <td>16</td>\n",
              "      <td>-23</td>\n",
              "      <td>23</td>\n",
              "      <td>0.0</td>\n",
              "      <td>19.5</td>\n",
              "    </tr>\n",
              "    <tr>\n",
              "      <th>20</th>\n",
              "      <td>24</td>\n",
              "      <td>0</td>\n",
              "      <td>-24</td>\n",
              "      <td>24</td>\n",
              "      <td>0.0</td>\n",
              "      <td>21.5</td>\n",
              "    </tr>\n",
              "    <tr>\n",
              "      <th>21</th>\n",
              "      <td>40</td>\n",
              "      <td>16</td>\n",
              "      <td>-24</td>\n",
              "      <td>24</td>\n",
              "      <td>0.0</td>\n",
              "      <td>21.5</td>\n",
              "    </tr>\n",
              "    <tr>\n",
              "      <th>22</th>\n",
              "      <td>46</td>\n",
              "      <td>17</td>\n",
              "      <td>-29</td>\n",
              "      <td>29</td>\n",
              "      <td>0.0</td>\n",
              "      <td>24.0</td>\n",
              "    </tr>\n",
              "    <tr>\n",
              "      <th>23</th>\n",
              "      <td>39</td>\n",
              "      <td>10</td>\n",
              "      <td>-29</td>\n",
              "      <td>29</td>\n",
              "      <td>0.0</td>\n",
              "      <td>24.0</td>\n",
              "    </tr>\n",
              "    <tr>\n",
              "      <th>24</th>\n",
              "      <td>31</td>\n",
              "      <td>2</td>\n",
              "      <td>-29</td>\n",
              "      <td>29</td>\n",
              "      <td>0.0</td>\n",
              "      <td>24.0</td>\n",
              "    </tr>\n",
              "    <tr>\n",
              "      <th>25</th>\n",
              "      <td>52</td>\n",
              "      <td>20</td>\n",
              "      <td>-32</td>\n",
              "      <td>32</td>\n",
              "      <td>0.0</td>\n",
              "      <td>26.0</td>\n",
              "    </tr>\n",
              "    <tr>\n",
              "      <th>26</th>\n",
              "      <td>50</td>\n",
              "      <td>17</td>\n",
              "      <td>-33</td>\n",
              "      <td>33</td>\n",
              "      <td>0.0</td>\n",
              "      <td>27.0</td>\n",
              "    </tr>\n",
              "    <tr>\n",
              "      <th>27</th>\n",
              "      <td>48</td>\n",
              "      <td>13</td>\n",
              "      <td>-35</td>\n",
              "      <td>35</td>\n",
              "      <td>0.0</td>\n",
              "      <td>28.0</td>\n",
              "    </tr>\n",
              "    <tr>\n",
              "      <th>28</th>\n",
              "      <td>52</td>\n",
              "      <td>16</td>\n",
              "      <td>-36</td>\n",
              "      <td>36</td>\n",
              "      <td>0.0</td>\n",
              "      <td>29.0</td>\n",
              "    </tr>\n",
              "    <tr>\n",
              "      <th>29</th>\n",
              "      <td>37</td>\n",
              "      <td>0</td>\n",
              "      <td>-37</td>\n",
              "      <td>37</td>\n",
              "      <td>0.0</td>\n",
              "      <td>30.0</td>\n",
              "    </tr>\n",
              "    <tr>\n",
              "      <th>30</th>\n",
              "      <td>49</td>\n",
              "      <td>9</td>\n",
              "      <td>-40</td>\n",
              "      <td>40</td>\n",
              "      <td>0.0</td>\n",
              "      <td>31.5</td>\n",
              "    </tr>\n",
              "    <tr>\n",
              "      <th>31</th>\n",
              "      <td>49</td>\n",
              "      <td>9</td>\n",
              "      <td>-40</td>\n",
              "      <td>40</td>\n",
              "      <td>0.0</td>\n",
              "      <td>31.5</td>\n",
              "    </tr>\n",
              "    <tr>\n",
              "      <th>32</th>\n",
              "      <td>49</td>\n",
              "      <td>6</td>\n",
              "      <td>-43</td>\n",
              "      <td>43</td>\n",
              "      <td>0.0</td>\n",
              "      <td>33.0</td>\n",
              "    </tr>\n",
              "    <tr>\n",
              "      <th>33</th>\n",
              "      <td>50</td>\n",
              "      <td>0</td>\n",
              "      <td>-50</td>\n",
              "      <td>50</td>\n",
              "      <td>0.0</td>\n",
              "      <td>34.0</td>\n",
              "    </tr>\n",
              "    <tr>\n",
              "      <th>34</th>\n",
              "      <td>55</td>\n",
              "      <td>4</td>\n",
              "      <td>-51</td>\n",
              "      <td>51</td>\n",
              "      <td>0.0</td>\n",
              "      <td>35.0</td>\n",
              "    </tr>\n",
              "  </tbody>\n",
              "</table>\n",
              "</div>\n",
              "      <button class=\"colab-df-convert\" onclick=\"convertToInteractive('df-ec6875fc-a2c5-4838-8462-8718f587c943')\"\n",
              "              title=\"Convert this dataframe to an interactive table.\"\n",
              "              style=\"display:none;\">\n",
              "        \n",
              "  <svg xmlns=\"http://www.w3.org/2000/svg\" height=\"24px\"viewBox=\"0 0 24 24\"\n",
              "       width=\"24px\">\n",
              "    <path d=\"M0 0h24v24H0V0z\" fill=\"none\"/>\n",
              "    <path d=\"M18.56 5.44l.94 2.06.94-2.06 2.06-.94-2.06-.94-.94-2.06-.94 2.06-2.06.94zm-11 1L8.5 8.5l.94-2.06 2.06-.94-2.06-.94L8.5 2.5l-.94 2.06-2.06.94zm10 10l.94 2.06.94-2.06 2.06-.94-2.06-.94-.94-2.06-.94 2.06-2.06.94z\"/><path d=\"M17.41 7.96l-1.37-1.37c-.4-.4-.92-.59-1.43-.59-.52 0-1.04.2-1.43.59L10.3 9.45l-7.72 7.72c-.78.78-.78 2.05 0 2.83L4 21.41c.39.39.9.59 1.41.59.51 0 1.02-.2 1.41-.59l7.78-7.78 2.81-2.81c.8-.78.8-2.07 0-2.86zM5.41 20L4 18.59l7.72-7.72 1.47 1.35L5.41 20z\"/>\n",
              "  </svg>\n",
              "      </button>\n",
              "      \n",
              "  <style>\n",
              "    .colab-df-container {\n",
              "      display:flex;\n",
              "      flex-wrap:wrap;\n",
              "      gap: 12px;\n",
              "    }\n",
              "\n",
              "    .colab-df-convert {\n",
              "      background-color: #E8F0FE;\n",
              "      border: none;\n",
              "      border-radius: 50%;\n",
              "      cursor: pointer;\n",
              "      display: none;\n",
              "      fill: #1967D2;\n",
              "      height: 32px;\n",
              "      padding: 0 0 0 0;\n",
              "      width: 32px;\n",
              "    }\n",
              "\n",
              "    .colab-df-convert:hover {\n",
              "      background-color: #E2EBFA;\n",
              "      box-shadow: 0px 1px 2px rgba(60, 64, 67, 0.3), 0px 1px 3px 1px rgba(60, 64, 67, 0.15);\n",
              "      fill: #174EA6;\n",
              "    }\n",
              "\n",
              "    [theme=dark] .colab-df-convert {\n",
              "      background-color: #3B4455;\n",
              "      fill: #D2E3FC;\n",
              "    }\n",
              "\n",
              "    [theme=dark] .colab-df-convert:hover {\n",
              "      background-color: #434B5C;\n",
              "      box-shadow: 0px 1px 3px 1px rgba(0, 0, 0, 0.15);\n",
              "      filter: drop-shadow(0px 1px 2px rgba(0, 0, 0, 0.3));\n",
              "      fill: #FFFFFF;\n",
              "    }\n",
              "  </style>\n",
              "\n",
              "      <script>\n",
              "        const buttonEl =\n",
              "          document.querySelector('#df-ec6875fc-a2c5-4838-8462-8718f587c943 button.colab-df-convert');\n",
              "        buttonEl.style.display =\n",
              "          google.colab.kernel.accessAllowed ? 'block' : 'none';\n",
              "\n",
              "        async function convertToInteractive(key) {\n",
              "          const element = document.querySelector('#df-ec6875fc-a2c5-4838-8462-8718f587c943');\n",
              "          const dataTable =\n",
              "            await google.colab.kernel.invokeFunction('convertToInteractive',\n",
              "                                                     [key], {});\n",
              "          if (!dataTable) return;\n",
              "\n",
              "          const docLinkHtml = 'Like what you see? Visit the ' +\n",
              "            '<a target=\"_blank\" href=https://colab.research.google.com/notebooks/data_table.ipynb>data table notebook</a>'\n",
              "            + ' to learn more about interactive tables.';\n",
              "          element.innerHTML = '';\n",
              "          dataTable['output_type'] = 'display_data';\n",
              "          await google.colab.output.renderOutput(dataTable, element);\n",
              "          const docLink = document.createElement('div');\n",
              "          docLink.innerHTML = docLinkHtml;\n",
              "          element.appendChild(docLink);\n",
              "        }\n",
              "      </script>\n",
              "    </div>\n",
              "  </div>\n",
              "  "
            ]
          },
          "metadata": {},
          "execution_count": 410
        }
      ],
      "source": [
        "fumo.drop(['Posto'], axis = 1, inplace = True)\n",
        "fumo"
      ]
    },
    {
      "cell_type": "markdown",
      "metadata": {
        "id": "QrhSJfAipsmh"
      },
      "source": [
        "### Obter $T$\n",
        "\n",
        "## $T$ = menor das somas de postos de mesmo sinal"
      ]
    },
    {
      "cell_type": "code",
      "execution_count": 411,
      "metadata": {
        "id": "TTWy-3OQpsmh",
        "colab": {
          "base_uri": "https://localhost:8080/"
        },
        "outputId": "1ec57a50-8642-4cdc-f0d5-19bb86abcfda"
      },
      "outputs": [
        {
          "output_type": "execute_result",
          "data": {
            "text/plain": [
              "22.0"
            ]
          },
          "metadata": {},
          "execution_count": 411
        }
      ],
      "source": [
        "T = min(fumo['Posto (+)'].sum(), fumo['Posto (-)'].sum())\n",
        "T"
      ]
    },
    {
      "cell_type": "markdown",
      "metadata": {
        "id": "3y4Tn1y4psmi"
      },
      "source": [
        "### Obter $\\mu_T$\n",
        "\n",
        "# $$\\mu_T = \\frac{n(n+1)}{4}$$\n"
      ]
    },
    {
      "cell_type": "code",
      "execution_count": 412,
      "metadata": {
        "id": "0KhV5ph6psmi",
        "colab": {
          "base_uri": "https://localhost:8080/"
        },
        "outputId": "793391fd-28da-456e-9647-eda3bd1d3a80"
      },
      "outputs": [
        {
          "output_type": "execute_result",
          "data": {
            "text/plain": [
              "315.0"
            ]
          },
          "metadata": {},
          "execution_count": 412
        }
      ],
      "source": [
        "mu_T = (n * (n+1)) / 4\n",
        "mu_T"
      ]
    },
    {
      "cell_type": "markdown",
      "metadata": {
        "id": "ZqFb-m08psmj"
      },
      "source": [
        "### Obter $\\sigma_T$\n",
        "\n",
        "# $$\\sigma_T = \\sqrt{\\frac{n(n + 1)(2n + 1)}{24}}$$"
      ]
    },
    {
      "cell_type": "code",
      "execution_count": 413,
      "metadata": {
        "id": "c6dypGFSpsmj",
        "colab": {
          "base_uri": "https://localhost:8080/"
        },
        "outputId": "1f8e253b-8fbb-4a71-bfd6-740495154696"
      },
      "outputs": [
        {
          "output_type": "execute_result",
          "data": {
            "text/plain": [
              "61.053255441458646"
            ]
          },
          "metadata": {},
          "execution_count": 413
        }
      ],
      "source": [
        "sigma_T = np.sqrt((n*(n+1) * ((2*n) + 1))/24)\n",
        "sigma_T"
      ]
    },
    {
      "cell_type": "markdown",
      "metadata": {
        "id": "qEk2CUKApsmk"
      },
      "source": [
        "### Obter $Z_{teste}$\n",
        "\n",
        "# $$Z = \\frac{T - \\mu_T}{\\sigma_T}$$"
      ]
    },
    {
      "cell_type": "code",
      "execution_count": 414,
      "metadata": {
        "id": "KqPQgbBEpsmk",
        "colab": {
          "base_uri": "https://localhost:8080/"
        },
        "outputId": "6058cc67-86fd-44e3-bc35-1c4fd1b0e48e"
      },
      "outputs": [
        {
          "output_type": "execute_result",
          "data": {
            "text/plain": [
              "-4.799088891843698"
            ]
          },
          "metadata": {},
          "execution_count": 414
        }
      ],
      "source": [
        "Z = (T - mu_T) / sigma_T\n",
        "Z"
      ]
    },
    {
      "cell_type": "markdown",
      "metadata": {
        "id": "iMpU26IZpsmm"
      },
      "source": [
        "![Estatística-Teste](https://caelum-online-public.s3.amazonaws.com/1229-estatistica-parte3/01/img021.png)"
      ]
    },
    {
      "cell_type": "markdown",
      "metadata": {
        "id": "XFgoaLzSpsmm"
      },
      "source": [
        "---"
      ]
    },
    {
      "cell_type": "markdown",
      "metadata": {
        "id": "YYGhG-lSpsmm"
      },
      "source": [
        "### **Passo 5** - Aceitação ou rejeição da hipótese nula"
      ]
    },
    {
      "cell_type": "markdown",
      "metadata": {
        "id": "pDOdx-Vqpsmm"
      },
      "source": [
        "<img src='https://caelum-online-public.s3.amazonaws.com/1229-estatistica-parte3/01/img022.png' width='80%'>"
      ]
    },
    {
      "cell_type": "markdown",
      "metadata": {
        "id": "ODKOD-rkpsmm"
      },
      "source": [
        "### <font color='red'>Critério do valor crítico</font>\n",
        "\n",
        "> ### Rejeitar $H_0$ se $Z \\leq -z_{\\alpha / 2}$ ou se $Z \\geq z_{\\alpha / 2}$"
      ]
    },
    {
      "cell_type": "code",
      "execution_count": 415,
      "metadata": {
        "id": "Gmp8dB6Apsmm",
        "colab": {
          "base_uri": "https://localhost:8080/"
        },
        "outputId": "477ad766-b00e-4ae5-f9f0-2f90483fcc7c"
      },
      "outputs": [
        {
          "output_type": "execute_result",
          "data": {
            "text/plain": [
              "True"
            ]
          },
          "metadata": {},
          "execution_count": 415
        }
      ],
      "source": [
        "Z <= -z_alpha_2"
      ]
    },
    {
      "cell_type": "code",
      "execution_count": 416,
      "metadata": {
        "id": "E9jxoexkpsmn",
        "colab": {
          "base_uri": "https://localhost:8080/"
        },
        "outputId": "46a15d83-59af-45fd-84db-2a283f4c536c"
      },
      "outputs": [
        {
          "output_type": "execute_result",
          "data": {
            "text/plain": [
              "False"
            ]
          },
          "metadata": {},
          "execution_count": 416
        }
      ],
      "source": [
        "Z >= z_alpha_2"
      ]
    },
    {
      "cell_type": "markdown",
      "metadata": {
        "id": "n0gtzn53psmo"
      },
      "source": [
        "### <font color='green'>Conclusão: Rejeitamos a hipótese de que não existe diferença entre os grupos, isto é, existe uma diferença entre as médias de cigarros fumados pelos pacientes antes e depois do tratamento. E como é possível verificar através das médias de cigarros fumados por dia antes (31.86) e depois (11.2) do tratamento, podemos concluir que o tratamento apresentou resultado satisfatório.</font>"
      ]
    },
    {
      "cell_type": "markdown",
      "metadata": {
        "id": "8bP36mQ-psmp"
      },
      "source": [
        "### <font color='red'>Critério do valor $p$</font>\n",
        "\n",
        "> ### Rejeitar $H_0$ se o valor $p\\leq\\alpha$"
      ]
    },
    {
      "cell_type": "markdown",
      "metadata": {
        "id": "H8kFeqh1psmp"
      },
      "source": [
        "https://docs.scipy.org/doc/scipy/reference/generated/scipy.stats.wilcoxon.html"
      ]
    },
    {
      "cell_type": "code",
      "execution_count": 417,
      "metadata": {
        "id": "bgWrxnBmpsmp"
      },
      "outputs": [],
      "source": [
        "from scipy.stats import wilcoxon"
      ]
    },
    {
      "cell_type": "code",
      "execution_count": 420,
      "metadata": {
        "id": "PsdWRoHCpsmp",
        "colab": {
          "base_uri": "https://localhost:8080/"
        },
        "outputId": "00afb3ee-e8be-45f9-b53e-a429ca496a74"
      },
      "outputs": [
        {
          "output_type": "stream",
          "name": "stdout",
          "text": [
            "22.0\n",
            "1.584310018505865e-06\n"
          ]
        }
      ],
      "source": [
        "T, p_valor = wilcoxon(fumo.Antes, fumo.Depois)\n",
        "print(T)\n",
        "print(p_valor)"
      ]
    },
    {
      "cell_type": "code",
      "execution_count": 421,
      "metadata": {
        "id": "Qk13I21vpsmq",
        "scrolled": true,
        "colab": {
          "base_uri": "https://localhost:8080/"
        },
        "outputId": "8bc2ec70-46f9-4cb4-8414-8ef0f52e6b83"
      },
      "outputs": [
        {
          "output_type": "execute_result",
          "data": {
            "text/plain": [
              "True"
            ]
          },
          "metadata": {},
          "execution_count": 421
        }
      ],
      "source": [
        "p_valor <= significancia"
      ]
    },
    {
      "cell_type": "markdown",
      "source": [
        "Exercício\n",
        "\n",
        "Desconfiado da eficiência dos cursos e materiais de estudo online da Alura, um professor resolveu realizar um teste com um grupo de 14 alunos de sua classe. Para isto, ele submeteu estes alunos a duas etapas distintas e logo depois de cada etapa, aplicou uma avaliação. Na etapa inicial, foram oferecidas aulas normais, sem a utilização do material de apoio da Alura. Na segunda etapa, foram também oferecidas aulas normais, mas com a utilização do material de apoio da Alura. As notas obtidas pelos alunos estão na tabela abaixo:"
      ],
      "metadata": {
        "id": "EQ-esdke5hpZ"
      }
    },
    {
      "cell_type": "code",
      "source": [
        "sem_Alura = pd.Series([ 7,  8, 6, 6, 10, 4, 2, 5,  9, 2, 4, 9, 1, 10])\n",
        "com_Alura = pd.Series([10, 10, 9, 9,  9, 7, 5, 8, 10, 6, 3, 7, 4,  8])"
      ],
      "metadata": {
        "id": "WTl2eYjN5iJz"
      },
      "execution_count": 422,
      "outputs": []
    },
    {
      "cell_type": "code",
      "source": [
        "T, p_valor = wilcoxon(sem_Alura, com_Alura)\n",
        "siginificancia = 0.10\n",
        "print(T)\n",
        "print(p_valor)"
      ],
      "metadata": {
        "colab": {
          "base_uri": "https://localhost:8080/"
        },
        "id": "mrqIfYDT5oux",
        "outputId": "83215754-1582-4940-eac1-c1bdd29a7f19"
      },
      "execution_count": 423,
      "outputs": [
        {
          "output_type": "stream",
          "name": "stdout",
          "text": [
            "14.0\n",
            "0.013427734375\n"
          ]
        }
      ]
    },
    {
      "cell_type": "code",
      "source": [
        "p_valor <= significancia"
      ],
      "metadata": {
        "colab": {
          "base_uri": "https://localhost:8080/"
        },
        "id": "XYJXkgBv56Ae",
        "outputId": "482f0fd3-5f76-48ee-cabc-f0d7ab6290e7"
      },
      "execution_count": 424,
      "outputs": [
        {
          "output_type": "execute_result",
          "data": {
            "text/plain": [
              "True"
            ]
          },
          "metadata": {},
          "execution_count": 424
        }
      ]
    },
    {
      "cell_type": "markdown",
      "metadata": {
        "id": "ZGNui18Xpsms"
      },
      "source": [
        "---"
      ]
    },
    {
      "cell_type": "markdown",
      "metadata": {
        "id": "sIs_74V5psms"
      },
      "source": [
        "## <font color='red'>Problema</font>"
      ]
    },
    {
      "cell_type": "markdown",
      "metadata": {
        "id": "Rk4GknKUpsms"
      },
      "source": [
        "Em nosso dataset temos os rendimento dos chefes de domicílio obtidos da Pesquisa Nacional por Amostra de Domicílios - PNAD no ano de 2015. Um problema bastante conhecido em nosso país diz respeito a desigualdade de renda, principalmente entre homens e mulheres.\n",
        "\n",
        "Duas amostras aleatórias, uma de **6 homens** e outra com **8 mulheres**, foram selecionadas em nosso dataset. Com o objetivo de comprovar tal desigualdade **teste a igualdade das médias** entra estas duas amostras com um nível de **significância de 5%**."
      ]
    },
    {
      "cell_type": "markdown",
      "metadata": {
        "id": "iHBuQumppsmt"
      },
      "source": [
        "## <font color=green>4.3 Teste de Mann-Whitney</font>\n",
        "### Comparação de duas populações - amostras independentes\n",
        "***"
      ]
    },
    {
      "cell_type": "markdown",
      "metadata": {
        "id": "bDyY8UUPpsmt"
      },
      "source": [
        "Mann-Whitney é um teste não paramétrico utilizado para verificar se duas amostras independentes foram selecionadas a partir de populações que têm a mesma média. Por ser um teste não paramétrico, Mann-Whitney torna-se uma alternativa ao teste paramétrico de comparação de médias."
      ]
    },
    {
      "cell_type": "markdown",
      "metadata": {
        "id": "DjWTAICFpsmt"
      },
      "source": [
        "### Seleção das amostras"
      ]
    },
    {
      "cell_type": "code",
      "execution_count": 425,
      "metadata": {
        "id": "k_MCXHjIpsmt",
        "scrolled": true
      },
      "outputs": [],
      "source": [
        "mulheres = dados.query('Sexo == 1 and Renda > 0').sample(n = 8, random_state = 101).Renda"
      ]
    },
    {
      "cell_type": "code",
      "execution_count": 426,
      "metadata": {
        "id": "whXUtsKLpsmu",
        "scrolled": true
      },
      "outputs": [],
      "source": [
        "homens = dados.query('Sexo == 0 and Renda > 0').sample(n = 6, random_state = 101).Renda"
      ]
    },
    {
      "cell_type": "markdown",
      "metadata": {
        "id": "HvQY_Wwjpsmx"
      },
      "source": [
        "### Dados do problema"
      ]
    },
    {
      "cell_type": "code",
      "execution_count": 427,
      "metadata": {
        "id": "3fz8oLQspsmx",
        "colab": {
          "base_uri": "https://localhost:8080/"
        },
        "outputId": "9be8c12c-c1e0-41a0-ba2d-e0be41763925"
      },
      "outputs": [
        {
          "output_type": "execute_result",
          "data": {
            "text/plain": [
              "1090.75"
            ]
          },
          "metadata": {},
          "execution_count": 427
        }
      ],
      "source": [
        "media_amostra_M = mulheres.mean()\n",
        "media_amostra_M"
      ]
    },
    {
      "cell_type": "code",
      "execution_count": 428,
      "metadata": {
        "id": "qJa9ykpJpsmz",
        "colab": {
          "base_uri": "https://localhost:8080/"
        },
        "outputId": "8707da98-4631-4ba0-c479-ec221b59fb6b"
      },
      "outputs": [
        {
          "output_type": "execute_result",
          "data": {
            "text/plain": [
              "1341.6666666666667"
            ]
          },
          "metadata": {},
          "execution_count": 428
        }
      ],
      "source": [
        "media_amostra_H = homens.mean()\n",
        "media_amostra_H"
      ]
    },
    {
      "cell_type": "code",
      "execution_count": 429,
      "metadata": {
        "id": "9_cFuYzJpsm1"
      },
      "outputs": [],
      "source": [
        "significancia = 0.05\n",
        "confianca = 1 - significancia\n",
        "n_1 = len(homens)\n",
        "n_2 = len(mulheres)"
      ]
    },
    {
      "cell_type": "markdown",
      "metadata": {
        "id": "rnHNRcb5psm1"
      },
      "source": [
        "### **Passo 1** - formulação das hipóteses $H_0$ e $H_1$\n",
        "\n",
        "#### <font color='red'>Lembre-se, a hipótese nula sempre contém a alegação de igualdade</font>"
      ]
    },
    {
      "cell_type": "markdown",
      "metadata": {
        "id": "F-q66nqDpsm2"
      },
      "source": [
        "### $\\mu_m \\Rightarrow$ Média das rendas dos chefes de domicílios do sexo feminino\n",
        "### $\\mu_h \\Rightarrow$ Média das rendas dos chefes de domicílios do sexo masculino\n",
        "\n",
        "### $\n",
        "\\begin{cases}\n",
        "H_0: \\mu_m = \\mu_h\\\\\n",
        "H_1: \\mu_m < \\mu_h\n",
        "\\end{cases}\n",
        "$"
      ]
    },
    {
      "cell_type": "markdown",
      "metadata": {
        "id": "-A8XaMDnpsm3"
      },
      "source": [
        "---"
      ]
    },
    {
      "cell_type": "markdown",
      "metadata": {
        "id": "VhpHwyi3psm3"
      },
      "source": [
        "### **Passo 2** - escolha da distribuição amostral adequada"
      ]
    },
    {
      "cell_type": "markdown",
      "metadata": {
        "id": "hh2UhSRApsm4"
      },
      "source": [
        "Deve-se optar pela distribuição **$t$ de Student**, já que nada é mencionado sobre a distribuição da população, o desvio padrão populacional é desconhecido e o número de elementos investigados é menor que 30."
      ]
    },
    {
      "cell_type": "markdown",
      "metadata": {
        "id": "PP_3zdrWpsm4"
      },
      "source": [
        "---"
      ]
    },
    {
      "cell_type": "markdown",
      "metadata": {
        "id": "RALoS1ddpsm4"
      },
      "source": [
        "### **Passo 3** - fixação da significância do teste ($\\alpha$)"
      ]
    },
    {
      "cell_type": "markdown",
      "metadata": {
        "id": "0Ohhw-i5psm4"
      },
      "source": [
        "### Obtendo $t_{\\alpha}$"
      ]
    },
    {
      "cell_type": "code",
      "execution_count": 430,
      "metadata": {
        "id": "oVNraTWypsm4",
        "colab": {
          "base_uri": "https://localhost:8080/"
        },
        "outputId": "567685c2-c6fd-4550-9507-ab136db9c6da"
      },
      "outputs": [
        {
          "output_type": "execute_result",
          "data": {
            "text/plain": [
              "12"
            ]
          },
          "metadata": {},
          "execution_count": 430
        }
      ],
      "source": [
        "graus_de_liberdade = n_1 + n_2 - 2\n",
        "graus_de_liberdade"
      ]
    },
    {
      "cell_type": "code",
      "execution_count": 431,
      "metadata": {
        "id": "px40muD3psm6",
        "scrolled": true,
        "colab": {
          "base_uri": "https://localhost:8080/",
          "height": 174
        },
        "outputId": "e49ceee0-b60f-42c8-9a42-bd46e4966740"
      },
      "outputs": [
        {
          "output_type": "execute_result",
          "data": {
            "text/plain": [
              "Bicaudal                          0.100     0.090     0.080     0.070  \\\n",
              "Unicaudal                         0.050     0.045     0.040     0.035   \n",
              "Graus de Liberdade (n - 1) 11  1.795885  1.858772  1.928427  2.006663   \n",
              "                           12  1.782288  1.844015  1.912313  1.988934   \n",
              "                           13  1.770933    1.8317  1.898874  1.974158   \n",
              "\n",
              "Bicaudal                          0.060     0.050     0.040     0.030  \\\n",
              "Unicaudal                         0.030     0.025     0.020     0.015   \n",
              "Graus de Liberdade (n - 1) 11  2.096139  2.200985   2.32814  2.490664   \n",
              "                           12  2.076441  2.178813  2.302722    2.4607   \n",
              "                           13  2.060038  2.160369  2.281604  2.435845   \n",
              "\n",
              "Bicaudal                          0.020     0.010  \n",
              "Unicaudal                         0.010     0.005  \n",
              "Graus de Liberdade (n - 1) 11  2.718079  3.105807  \n",
              "                           12  2.680998   3.05454  \n",
              "                           13  2.650309  3.012276  "
            ],
            "text/html": [
              "\n",
              "  <div id=\"df-f9782883-acf3-4ca2-ac60-62812e3fbabd\">\n",
              "    <div class=\"colab-df-container\">\n",
              "      <div>\n",
              "<style scoped>\n",
              "    .dataframe tbody tr th:only-of-type {\n",
              "        vertical-align: middle;\n",
              "    }\n",
              "\n",
              "    .dataframe tbody tr th {\n",
              "        vertical-align: top;\n",
              "    }\n",
              "\n",
              "    .dataframe thead tr th {\n",
              "        text-align: left;\n",
              "    }\n",
              "</style>\n",
              "<table border=\"1\" class=\"dataframe\">\n",
              "  <thead>\n",
              "    <tr>\n",
              "      <th></th>\n",
              "      <th>Bicaudal</th>\n",
              "      <th>0.100</th>\n",
              "      <th>0.090</th>\n",
              "      <th>0.080</th>\n",
              "      <th>0.070</th>\n",
              "      <th>0.060</th>\n",
              "      <th>0.050</th>\n",
              "      <th>0.040</th>\n",
              "      <th>0.030</th>\n",
              "      <th>0.020</th>\n",
              "      <th>0.010</th>\n",
              "    </tr>\n",
              "    <tr>\n",
              "      <th></th>\n",
              "      <th>Unicaudal</th>\n",
              "      <th>0.050</th>\n",
              "      <th>0.045</th>\n",
              "      <th>0.040</th>\n",
              "      <th>0.035</th>\n",
              "      <th>0.030</th>\n",
              "      <th>0.025</th>\n",
              "      <th>0.020</th>\n",
              "      <th>0.015</th>\n",
              "      <th>0.010</th>\n",
              "      <th>0.005</th>\n",
              "    </tr>\n",
              "  </thead>\n",
              "  <tbody>\n",
              "    <tr>\n",
              "      <th rowspan=\"3\" valign=\"top\">Graus de Liberdade (n - 1)</th>\n",
              "      <th>11</th>\n",
              "      <td>1.795885</td>\n",
              "      <td>1.858772</td>\n",
              "      <td>1.928427</td>\n",
              "      <td>2.006663</td>\n",
              "      <td>2.096139</td>\n",
              "      <td>2.200985</td>\n",
              "      <td>2.32814</td>\n",
              "      <td>2.490664</td>\n",
              "      <td>2.718079</td>\n",
              "      <td>3.105807</td>\n",
              "    </tr>\n",
              "    <tr>\n",
              "      <th>12</th>\n",
              "      <td>1.782288</td>\n",
              "      <td>1.844015</td>\n",
              "      <td>1.912313</td>\n",
              "      <td>1.988934</td>\n",
              "      <td>2.076441</td>\n",
              "      <td>2.178813</td>\n",
              "      <td>2.302722</td>\n",
              "      <td>2.4607</td>\n",
              "      <td>2.680998</td>\n",
              "      <td>3.05454</td>\n",
              "    </tr>\n",
              "    <tr>\n",
              "      <th>13</th>\n",
              "      <td>1.770933</td>\n",
              "      <td>1.8317</td>\n",
              "      <td>1.898874</td>\n",
              "      <td>1.974158</td>\n",
              "      <td>2.060038</td>\n",
              "      <td>2.160369</td>\n",
              "      <td>2.281604</td>\n",
              "      <td>2.435845</td>\n",
              "      <td>2.650309</td>\n",
              "      <td>3.012276</td>\n",
              "    </tr>\n",
              "  </tbody>\n",
              "</table>\n",
              "</div>\n",
              "      <button class=\"colab-df-convert\" onclick=\"convertToInteractive('df-f9782883-acf3-4ca2-ac60-62812e3fbabd')\"\n",
              "              title=\"Convert this dataframe to an interactive table.\"\n",
              "              style=\"display:none;\">\n",
              "        \n",
              "  <svg xmlns=\"http://www.w3.org/2000/svg\" height=\"24px\"viewBox=\"0 0 24 24\"\n",
              "       width=\"24px\">\n",
              "    <path d=\"M0 0h24v24H0V0z\" fill=\"none\"/>\n",
              "    <path d=\"M18.56 5.44l.94 2.06.94-2.06 2.06-.94-2.06-.94-.94-2.06-.94 2.06-2.06.94zm-11 1L8.5 8.5l.94-2.06 2.06-.94-2.06-.94L8.5 2.5l-.94 2.06-2.06.94zm10 10l.94 2.06.94-2.06 2.06-.94-2.06-.94-.94-2.06-.94 2.06-2.06.94z\"/><path d=\"M17.41 7.96l-1.37-1.37c-.4-.4-.92-.59-1.43-.59-.52 0-1.04.2-1.43.59L10.3 9.45l-7.72 7.72c-.78.78-.78 2.05 0 2.83L4 21.41c.39.39.9.59 1.41.59.51 0 1.02-.2 1.41-.59l7.78-7.78 2.81-2.81c.8-.78.8-2.07 0-2.86zM5.41 20L4 18.59l7.72-7.72 1.47 1.35L5.41 20z\"/>\n",
              "  </svg>\n",
              "      </button>\n",
              "      \n",
              "  <style>\n",
              "    .colab-df-container {\n",
              "      display:flex;\n",
              "      flex-wrap:wrap;\n",
              "      gap: 12px;\n",
              "    }\n",
              "\n",
              "    .colab-df-convert {\n",
              "      background-color: #E8F0FE;\n",
              "      border: none;\n",
              "      border-radius: 50%;\n",
              "      cursor: pointer;\n",
              "      display: none;\n",
              "      fill: #1967D2;\n",
              "      height: 32px;\n",
              "      padding: 0 0 0 0;\n",
              "      width: 32px;\n",
              "    }\n",
              "\n",
              "    .colab-df-convert:hover {\n",
              "      background-color: #E2EBFA;\n",
              "      box-shadow: 0px 1px 2px rgba(60, 64, 67, 0.3), 0px 1px 3px 1px rgba(60, 64, 67, 0.15);\n",
              "      fill: #174EA6;\n",
              "    }\n",
              "\n",
              "    [theme=dark] .colab-df-convert {\n",
              "      background-color: #3B4455;\n",
              "      fill: #D2E3FC;\n",
              "    }\n",
              "\n",
              "    [theme=dark] .colab-df-convert:hover {\n",
              "      background-color: #434B5C;\n",
              "      box-shadow: 0px 1px 3px 1px rgba(0, 0, 0, 0.15);\n",
              "      filter: drop-shadow(0px 1px 2px rgba(0, 0, 0, 0.3));\n",
              "      fill: #FFFFFF;\n",
              "    }\n",
              "  </style>\n",
              "\n",
              "      <script>\n",
              "        const buttonEl =\n",
              "          document.querySelector('#df-f9782883-acf3-4ca2-ac60-62812e3fbabd button.colab-df-convert');\n",
              "        buttonEl.style.display =\n",
              "          google.colab.kernel.accessAllowed ? 'block' : 'none';\n",
              "\n",
              "        async function convertToInteractive(key) {\n",
              "          const element = document.querySelector('#df-f9782883-acf3-4ca2-ac60-62812e3fbabd');\n",
              "          const dataTable =\n",
              "            await google.colab.kernel.invokeFunction('convertToInteractive',\n",
              "                                                     [key], {});\n",
              "          if (!dataTable) return;\n",
              "\n",
              "          const docLinkHtml = 'Like what you see? Visit the ' +\n",
              "            '<a target=\"_blank\" href=https://colab.research.google.com/notebooks/data_table.ipynb>data table notebook</a>'\n",
              "            + ' to learn more about interactive tables.';\n",
              "          element.innerHTML = '';\n",
              "          dataTable['output_type'] = 'display_data';\n",
              "          await google.colab.output.renderOutput(dataTable, element);\n",
              "          const docLink = document.createElement('div');\n",
              "          docLink.innerHTML = docLinkHtml;\n",
              "          element.appendChild(docLink);\n",
              "        }\n",
              "      </script>\n",
              "    </div>\n",
              "  </div>\n",
              "  "
            ]
          },
          "metadata": {},
          "execution_count": 431
        }
      ],
      "source": [
        "tabela_t_student[10:13]"
      ]
    },
    {
      "cell_type": "code",
      "execution_count": 433,
      "metadata": {
        "id": "5iCApoGNpsm7",
        "colab": {
          "base_uri": "https://localhost:8080/"
        },
        "outputId": "fafadd58-dcc3-4b4c-95b2-5820a0ec8657"
      },
      "outputs": [
        {
          "output_type": "execute_result",
          "data": {
            "text/plain": [
              "-1.78"
            ]
          },
          "metadata": {},
          "execution_count": 433
        }
      ],
      "source": [
        "# quando for unicaudal inferior, o macete pra pegar o valor negativo\n",
        "# é passar a significancia invés de confiança no parâmetro do t_student.ppf\n",
        "t_alpha = t_student.ppf(significancia, graus_de_liberdade)\n",
        "t_alpha.round(2)"
      ]
    },
    {
      "cell_type": "markdown",
      "metadata": {
        "id": "Hv5Wk8G0psm7"
      },
      "source": [
        "![Região de Aceitação](https://caelum-online-public.s3.amazonaws.com/1229-estatistica-parte3/01/img023.png)"
      ]
    },
    {
      "cell_type": "markdown",
      "metadata": {
        "id": "qF2QVjmtpsm7"
      },
      "source": [
        "---"
      ]
    },
    {
      "cell_type": "markdown",
      "metadata": {
        "id": "mD62Ibrupsm8"
      },
      "source": [
        "### **Passo 4** - cálculo da estatística-teste e verificação desse valor com as áreas de aceitação e rejeição do teste\n",
        "## 1. Definir os n's:\n",
        "### $n_1$ = nº de elementos do menor grupo\n",
        "### $n_2$ = nº de elementos do maior grupo\n",
        "---\n",
        "## 2. Obter a soma dos postos\n",
        "### $R_1$ = soma dos postos do grupo $n_1$\n",
        "### $R_2$ = soma dos postos do grupo $n_2$\n",
        "---\n",
        "## 3. Obter as estatísticas\n",
        "# $$u_1 = n_1 \\times n_2 + \\frac{n_1 \\times (n_1 + 1)}{2} - R_1$$\n",
        "# $$u_2 = n_1 \\times n_2 + \\frac{n_2 \\times (n_2 + 1)}{2} - R_2$$\n",
        "---\n",
        "## 4. Selecionar o menor U\n",
        "# $$u = min(u_1, u_2)$$\n",
        "---\n",
        "## 5. Obter a estatística de teste\n",
        "# $$Z = \\frac{u - \\mu{(u)}}{\\sigma{(u)}}$$\n",
        "\n",
        "Onde\n",
        "\n",
        "# $$\\mu{(u)} = \\frac{n_1 \\times n_2}{2}$$\n",
        "# $$\\sigma{(u)} = \\sqrt{\\frac{n_1 \\times n_2 \\times (n_1 + n_2 + 1)}{12}}$$"
      ]
    },
    {
      "cell_type": "markdown",
      "metadata": {
        "id": "DsVNwKjOpsm8"
      },
      "source": [
        "### Obtendo os postos"
      ]
    },
    {
      "cell_type": "code",
      "execution_count": 434,
      "metadata": {
        "id": "mjUNCgykpsm8",
        "colab": {
          "base_uri": "https://localhost:8080/",
          "height": 237
        },
        "outputId": "87561da1-65d0-4c87-f133-831e7d990cef"
      },
      "outputs": [
        {
          "output_type": "execute_result",
          "data": {
            "text/plain": [
              "       Renda    Sexo\n",
              "67872   1200  Homens\n",
              "30211   2000  Homens\n",
              "64406    850  Homens\n",
              "26519    800  Homens\n",
              "61540   2000  Homens\n",
              "17422   1200  Homens"
            ],
            "text/html": [
              "\n",
              "  <div id=\"df-a6a7c74e-f814-43db-9036-d012f1fffc0c\">\n",
              "    <div class=\"colab-df-container\">\n",
              "      <div>\n",
              "<style scoped>\n",
              "    .dataframe tbody tr th:only-of-type {\n",
              "        vertical-align: middle;\n",
              "    }\n",
              "\n",
              "    .dataframe tbody tr th {\n",
              "        vertical-align: top;\n",
              "    }\n",
              "\n",
              "    .dataframe thead th {\n",
              "        text-align: right;\n",
              "    }\n",
              "</style>\n",
              "<table border=\"1\" class=\"dataframe\">\n",
              "  <thead>\n",
              "    <tr style=\"text-align: right;\">\n",
              "      <th></th>\n",
              "      <th>Renda</th>\n",
              "      <th>Sexo</th>\n",
              "    </tr>\n",
              "  </thead>\n",
              "  <tbody>\n",
              "    <tr>\n",
              "      <th>67872</th>\n",
              "      <td>1200</td>\n",
              "      <td>Homens</td>\n",
              "    </tr>\n",
              "    <tr>\n",
              "      <th>30211</th>\n",
              "      <td>2000</td>\n",
              "      <td>Homens</td>\n",
              "    </tr>\n",
              "    <tr>\n",
              "      <th>64406</th>\n",
              "      <td>850</td>\n",
              "      <td>Homens</td>\n",
              "    </tr>\n",
              "    <tr>\n",
              "      <th>26519</th>\n",
              "      <td>800</td>\n",
              "      <td>Homens</td>\n",
              "    </tr>\n",
              "    <tr>\n",
              "      <th>61540</th>\n",
              "      <td>2000</td>\n",
              "      <td>Homens</td>\n",
              "    </tr>\n",
              "    <tr>\n",
              "      <th>17422</th>\n",
              "      <td>1200</td>\n",
              "      <td>Homens</td>\n",
              "    </tr>\n",
              "  </tbody>\n",
              "</table>\n",
              "</div>\n",
              "      <button class=\"colab-df-convert\" onclick=\"convertToInteractive('df-a6a7c74e-f814-43db-9036-d012f1fffc0c')\"\n",
              "              title=\"Convert this dataframe to an interactive table.\"\n",
              "              style=\"display:none;\">\n",
              "        \n",
              "  <svg xmlns=\"http://www.w3.org/2000/svg\" height=\"24px\"viewBox=\"0 0 24 24\"\n",
              "       width=\"24px\">\n",
              "    <path d=\"M0 0h24v24H0V0z\" fill=\"none\"/>\n",
              "    <path d=\"M18.56 5.44l.94 2.06.94-2.06 2.06-.94-2.06-.94-.94-2.06-.94 2.06-2.06.94zm-11 1L8.5 8.5l.94-2.06 2.06-.94-2.06-.94L8.5 2.5l-.94 2.06-2.06.94zm10 10l.94 2.06.94-2.06 2.06-.94-2.06-.94-.94-2.06-.94 2.06-2.06.94z\"/><path d=\"M17.41 7.96l-1.37-1.37c-.4-.4-.92-.59-1.43-.59-.52 0-1.04.2-1.43.59L10.3 9.45l-7.72 7.72c-.78.78-.78 2.05 0 2.83L4 21.41c.39.39.9.59 1.41.59.51 0 1.02-.2 1.41-.59l7.78-7.78 2.81-2.81c.8-.78.8-2.07 0-2.86zM5.41 20L4 18.59l7.72-7.72 1.47 1.35L5.41 20z\"/>\n",
              "  </svg>\n",
              "      </button>\n",
              "      \n",
              "  <style>\n",
              "    .colab-df-container {\n",
              "      display:flex;\n",
              "      flex-wrap:wrap;\n",
              "      gap: 12px;\n",
              "    }\n",
              "\n",
              "    .colab-df-convert {\n",
              "      background-color: #E8F0FE;\n",
              "      border: none;\n",
              "      border-radius: 50%;\n",
              "      cursor: pointer;\n",
              "      display: none;\n",
              "      fill: #1967D2;\n",
              "      height: 32px;\n",
              "      padding: 0 0 0 0;\n",
              "      width: 32px;\n",
              "    }\n",
              "\n",
              "    .colab-df-convert:hover {\n",
              "      background-color: #E2EBFA;\n",
              "      box-shadow: 0px 1px 2px rgba(60, 64, 67, 0.3), 0px 1px 3px 1px rgba(60, 64, 67, 0.15);\n",
              "      fill: #174EA6;\n",
              "    }\n",
              "\n",
              "    [theme=dark] .colab-df-convert {\n",
              "      background-color: #3B4455;\n",
              "      fill: #D2E3FC;\n",
              "    }\n",
              "\n",
              "    [theme=dark] .colab-df-convert:hover {\n",
              "      background-color: #434B5C;\n",
              "      box-shadow: 0px 1px 3px 1px rgba(0, 0, 0, 0.15);\n",
              "      filter: drop-shadow(0px 1px 2px rgba(0, 0, 0, 0.3));\n",
              "      fill: #FFFFFF;\n",
              "    }\n",
              "  </style>\n",
              "\n",
              "      <script>\n",
              "        const buttonEl =\n",
              "          document.querySelector('#df-a6a7c74e-f814-43db-9036-d012f1fffc0c button.colab-df-convert');\n",
              "        buttonEl.style.display =\n",
              "          google.colab.kernel.accessAllowed ? 'block' : 'none';\n",
              "\n",
              "        async function convertToInteractive(key) {\n",
              "          const element = document.querySelector('#df-a6a7c74e-f814-43db-9036-d012f1fffc0c');\n",
              "          const dataTable =\n",
              "            await google.colab.kernel.invokeFunction('convertToInteractive',\n",
              "                                                     [key], {});\n",
              "          if (!dataTable) return;\n",
              "\n",
              "          const docLinkHtml = 'Like what you see? Visit the ' +\n",
              "            '<a target=\"_blank\" href=https://colab.research.google.com/notebooks/data_table.ipynb>data table notebook</a>'\n",
              "            + ' to learn more about interactive tables.';\n",
              "          element.innerHTML = '';\n",
              "          dataTable['output_type'] = 'display_data';\n",
              "          await google.colab.output.renderOutput(dataTable, element);\n",
              "          const docLink = document.createElement('div');\n",
              "          docLink.innerHTML = docLinkHtml;\n",
              "          element.appendChild(docLink);\n",
              "        }\n",
              "      </script>\n",
              "    </div>\n",
              "  </div>\n",
              "  "
            ]
          },
          "metadata": {},
          "execution_count": 434
        }
      ],
      "source": [
        "H = pd.DataFrame(homens)\n",
        "H['Sexo'] = 'Homens'\n",
        "H"
      ]
    },
    {
      "cell_type": "code",
      "execution_count": 435,
      "metadata": {
        "id": "y68IGk4o8mgB",
        "colab": {
          "base_uri": "https://localhost:8080/",
          "height": 300
        },
        "outputId": "51b900ac-3854-457d-b544-3310466e3a97"
      },
      "outputs": [
        {
          "output_type": "execute_result",
          "data": {
            "text/plain": [
              "       Renda      Sexo\n",
              "6251    1100  Mulheres\n",
              "34764    400  Mulheres\n",
              "40596    788  Mulheres\n",
              "11303   4300  Mulheres\n",
              "22733    250  Mulheres\n",
              "24707    400  Mulheres\n",
              "60340    700  Mulheres\n",
              "17035    788  Mulheres"
            ],
            "text/html": [
              "\n",
              "  <div id=\"df-54dee125-9986-4e5b-b419-64133f02dd20\">\n",
              "    <div class=\"colab-df-container\">\n",
              "      <div>\n",
              "<style scoped>\n",
              "    .dataframe tbody tr th:only-of-type {\n",
              "        vertical-align: middle;\n",
              "    }\n",
              "\n",
              "    .dataframe tbody tr th {\n",
              "        vertical-align: top;\n",
              "    }\n",
              "\n",
              "    .dataframe thead th {\n",
              "        text-align: right;\n",
              "    }\n",
              "</style>\n",
              "<table border=\"1\" class=\"dataframe\">\n",
              "  <thead>\n",
              "    <tr style=\"text-align: right;\">\n",
              "      <th></th>\n",
              "      <th>Renda</th>\n",
              "      <th>Sexo</th>\n",
              "    </tr>\n",
              "  </thead>\n",
              "  <tbody>\n",
              "    <tr>\n",
              "      <th>6251</th>\n",
              "      <td>1100</td>\n",
              "      <td>Mulheres</td>\n",
              "    </tr>\n",
              "    <tr>\n",
              "      <th>34764</th>\n",
              "      <td>400</td>\n",
              "      <td>Mulheres</td>\n",
              "    </tr>\n",
              "    <tr>\n",
              "      <th>40596</th>\n",
              "      <td>788</td>\n",
              "      <td>Mulheres</td>\n",
              "    </tr>\n",
              "    <tr>\n",
              "      <th>11303</th>\n",
              "      <td>4300</td>\n",
              "      <td>Mulheres</td>\n",
              "    </tr>\n",
              "    <tr>\n",
              "      <th>22733</th>\n",
              "      <td>250</td>\n",
              "      <td>Mulheres</td>\n",
              "    </tr>\n",
              "    <tr>\n",
              "      <th>24707</th>\n",
              "      <td>400</td>\n",
              "      <td>Mulheres</td>\n",
              "    </tr>\n",
              "    <tr>\n",
              "      <th>60340</th>\n",
              "      <td>700</td>\n",
              "      <td>Mulheres</td>\n",
              "    </tr>\n",
              "    <tr>\n",
              "      <th>17035</th>\n",
              "      <td>788</td>\n",
              "      <td>Mulheres</td>\n",
              "    </tr>\n",
              "  </tbody>\n",
              "</table>\n",
              "</div>\n",
              "      <button class=\"colab-df-convert\" onclick=\"convertToInteractive('df-54dee125-9986-4e5b-b419-64133f02dd20')\"\n",
              "              title=\"Convert this dataframe to an interactive table.\"\n",
              "              style=\"display:none;\">\n",
              "        \n",
              "  <svg xmlns=\"http://www.w3.org/2000/svg\" height=\"24px\"viewBox=\"0 0 24 24\"\n",
              "       width=\"24px\">\n",
              "    <path d=\"M0 0h24v24H0V0z\" fill=\"none\"/>\n",
              "    <path d=\"M18.56 5.44l.94 2.06.94-2.06 2.06-.94-2.06-.94-.94-2.06-.94 2.06-2.06.94zm-11 1L8.5 8.5l.94-2.06 2.06-.94-2.06-.94L8.5 2.5l-.94 2.06-2.06.94zm10 10l.94 2.06.94-2.06 2.06-.94-2.06-.94-.94-2.06-.94 2.06-2.06.94z\"/><path d=\"M17.41 7.96l-1.37-1.37c-.4-.4-.92-.59-1.43-.59-.52 0-1.04.2-1.43.59L10.3 9.45l-7.72 7.72c-.78.78-.78 2.05 0 2.83L4 21.41c.39.39.9.59 1.41.59.51 0 1.02-.2 1.41-.59l7.78-7.78 2.81-2.81c.8-.78.8-2.07 0-2.86zM5.41 20L4 18.59l7.72-7.72 1.47 1.35L5.41 20z\"/>\n",
              "  </svg>\n",
              "      </button>\n",
              "      \n",
              "  <style>\n",
              "    .colab-df-container {\n",
              "      display:flex;\n",
              "      flex-wrap:wrap;\n",
              "      gap: 12px;\n",
              "    }\n",
              "\n",
              "    .colab-df-convert {\n",
              "      background-color: #E8F0FE;\n",
              "      border: none;\n",
              "      border-radius: 50%;\n",
              "      cursor: pointer;\n",
              "      display: none;\n",
              "      fill: #1967D2;\n",
              "      height: 32px;\n",
              "      padding: 0 0 0 0;\n",
              "      width: 32px;\n",
              "    }\n",
              "\n",
              "    .colab-df-convert:hover {\n",
              "      background-color: #E2EBFA;\n",
              "      box-shadow: 0px 1px 2px rgba(60, 64, 67, 0.3), 0px 1px 3px 1px rgba(60, 64, 67, 0.15);\n",
              "      fill: #174EA6;\n",
              "    }\n",
              "\n",
              "    [theme=dark] .colab-df-convert {\n",
              "      background-color: #3B4455;\n",
              "      fill: #D2E3FC;\n",
              "    }\n",
              "\n",
              "    [theme=dark] .colab-df-convert:hover {\n",
              "      background-color: #434B5C;\n",
              "      box-shadow: 0px 1px 3px 1px rgba(0, 0, 0, 0.15);\n",
              "      filter: drop-shadow(0px 1px 2px rgba(0, 0, 0, 0.3));\n",
              "      fill: #FFFFFF;\n",
              "    }\n",
              "  </style>\n",
              "\n",
              "      <script>\n",
              "        const buttonEl =\n",
              "          document.querySelector('#df-54dee125-9986-4e5b-b419-64133f02dd20 button.colab-df-convert');\n",
              "        buttonEl.style.display =\n",
              "          google.colab.kernel.accessAllowed ? 'block' : 'none';\n",
              "\n",
              "        async function convertToInteractive(key) {\n",
              "          const element = document.querySelector('#df-54dee125-9986-4e5b-b419-64133f02dd20');\n",
              "          const dataTable =\n",
              "            await google.colab.kernel.invokeFunction('convertToInteractive',\n",
              "                                                     [key], {});\n",
              "          if (!dataTable) return;\n",
              "\n",
              "          const docLinkHtml = 'Like what you see? Visit the ' +\n",
              "            '<a target=\"_blank\" href=https://colab.research.google.com/notebooks/data_table.ipynb>data table notebook</a>'\n",
              "            + ' to learn more about interactive tables.';\n",
              "          element.innerHTML = '';\n",
              "          dataTable['output_type'] = 'display_data';\n",
              "          await google.colab.output.renderOutput(dataTable, element);\n",
              "          const docLink = document.createElement('div');\n",
              "          docLink.innerHTML = docLinkHtml;\n",
              "          element.appendChild(docLink);\n",
              "        }\n",
              "      </script>\n",
              "    </div>\n",
              "  </div>\n",
              "  "
            ]
          },
          "metadata": {},
          "execution_count": 435
        }
      ],
      "source": [
        "M = pd.DataFrame(mulheres)\n",
        "M['Sexo'] = 'Mulheres'\n",
        "M"
      ]
    },
    {
      "cell_type": "code",
      "execution_count": 436,
      "metadata": {
        "id": "HFVjaj4f8mOi",
        "colab": {
          "base_uri": "https://localhost:8080/",
          "height": 488
        },
        "outputId": "a72a0207-84d6-465a-9822-ce2e9111503e"
      },
      "outputs": [
        {
          "output_type": "execute_result",
          "data": {
            "text/plain": [
              "    Renda      Sexo\n",
              "0    1200    Homens\n",
              "1    2000    Homens\n",
              "2     850    Homens\n",
              "3     800    Homens\n",
              "4    2000    Homens\n",
              "5    1200    Homens\n",
              "6    1100  Mulheres\n",
              "7     400  Mulheres\n",
              "8     788  Mulheres\n",
              "9    4300  Mulheres\n",
              "10    250  Mulheres\n",
              "11    400  Mulheres\n",
              "12    700  Mulheres\n",
              "13    788  Mulheres"
            ],
            "text/html": [
              "\n",
              "  <div id=\"df-5865d332-dd39-467b-aa7c-5e0a4db60a9d\">\n",
              "    <div class=\"colab-df-container\">\n",
              "      <div>\n",
              "<style scoped>\n",
              "    .dataframe tbody tr th:only-of-type {\n",
              "        vertical-align: middle;\n",
              "    }\n",
              "\n",
              "    .dataframe tbody tr th {\n",
              "        vertical-align: top;\n",
              "    }\n",
              "\n",
              "    .dataframe thead th {\n",
              "        text-align: right;\n",
              "    }\n",
              "</style>\n",
              "<table border=\"1\" class=\"dataframe\">\n",
              "  <thead>\n",
              "    <tr style=\"text-align: right;\">\n",
              "      <th></th>\n",
              "      <th>Renda</th>\n",
              "      <th>Sexo</th>\n",
              "    </tr>\n",
              "  </thead>\n",
              "  <tbody>\n",
              "    <tr>\n",
              "      <th>0</th>\n",
              "      <td>1200</td>\n",
              "      <td>Homens</td>\n",
              "    </tr>\n",
              "    <tr>\n",
              "      <th>1</th>\n",
              "      <td>2000</td>\n",
              "      <td>Homens</td>\n",
              "    </tr>\n",
              "    <tr>\n",
              "      <th>2</th>\n",
              "      <td>850</td>\n",
              "      <td>Homens</td>\n",
              "    </tr>\n",
              "    <tr>\n",
              "      <th>3</th>\n",
              "      <td>800</td>\n",
              "      <td>Homens</td>\n",
              "    </tr>\n",
              "    <tr>\n",
              "      <th>4</th>\n",
              "      <td>2000</td>\n",
              "      <td>Homens</td>\n",
              "    </tr>\n",
              "    <tr>\n",
              "      <th>5</th>\n",
              "      <td>1200</td>\n",
              "      <td>Homens</td>\n",
              "    </tr>\n",
              "    <tr>\n",
              "      <th>6</th>\n",
              "      <td>1100</td>\n",
              "      <td>Mulheres</td>\n",
              "    </tr>\n",
              "    <tr>\n",
              "      <th>7</th>\n",
              "      <td>400</td>\n",
              "      <td>Mulheres</td>\n",
              "    </tr>\n",
              "    <tr>\n",
              "      <th>8</th>\n",
              "      <td>788</td>\n",
              "      <td>Mulheres</td>\n",
              "    </tr>\n",
              "    <tr>\n",
              "      <th>9</th>\n",
              "      <td>4300</td>\n",
              "      <td>Mulheres</td>\n",
              "    </tr>\n",
              "    <tr>\n",
              "      <th>10</th>\n",
              "      <td>250</td>\n",
              "      <td>Mulheres</td>\n",
              "    </tr>\n",
              "    <tr>\n",
              "      <th>11</th>\n",
              "      <td>400</td>\n",
              "      <td>Mulheres</td>\n",
              "    </tr>\n",
              "    <tr>\n",
              "      <th>12</th>\n",
              "      <td>700</td>\n",
              "      <td>Mulheres</td>\n",
              "    </tr>\n",
              "    <tr>\n",
              "      <th>13</th>\n",
              "      <td>788</td>\n",
              "      <td>Mulheres</td>\n",
              "    </tr>\n",
              "  </tbody>\n",
              "</table>\n",
              "</div>\n",
              "      <button class=\"colab-df-convert\" onclick=\"convertToInteractive('df-5865d332-dd39-467b-aa7c-5e0a4db60a9d')\"\n",
              "              title=\"Convert this dataframe to an interactive table.\"\n",
              "              style=\"display:none;\">\n",
              "        \n",
              "  <svg xmlns=\"http://www.w3.org/2000/svg\" height=\"24px\"viewBox=\"0 0 24 24\"\n",
              "       width=\"24px\">\n",
              "    <path d=\"M0 0h24v24H0V0z\" fill=\"none\"/>\n",
              "    <path d=\"M18.56 5.44l.94 2.06.94-2.06 2.06-.94-2.06-.94-.94-2.06-.94 2.06-2.06.94zm-11 1L8.5 8.5l.94-2.06 2.06-.94-2.06-.94L8.5 2.5l-.94 2.06-2.06.94zm10 10l.94 2.06.94-2.06 2.06-.94-2.06-.94-.94-2.06-.94 2.06-2.06.94z\"/><path d=\"M17.41 7.96l-1.37-1.37c-.4-.4-.92-.59-1.43-.59-.52 0-1.04.2-1.43.59L10.3 9.45l-7.72 7.72c-.78.78-.78 2.05 0 2.83L4 21.41c.39.39.9.59 1.41.59.51 0 1.02-.2 1.41-.59l7.78-7.78 2.81-2.81c.8-.78.8-2.07 0-2.86zM5.41 20L4 18.59l7.72-7.72 1.47 1.35L5.41 20z\"/>\n",
              "  </svg>\n",
              "      </button>\n",
              "      \n",
              "  <style>\n",
              "    .colab-df-container {\n",
              "      display:flex;\n",
              "      flex-wrap:wrap;\n",
              "      gap: 12px;\n",
              "    }\n",
              "\n",
              "    .colab-df-convert {\n",
              "      background-color: #E8F0FE;\n",
              "      border: none;\n",
              "      border-radius: 50%;\n",
              "      cursor: pointer;\n",
              "      display: none;\n",
              "      fill: #1967D2;\n",
              "      height: 32px;\n",
              "      padding: 0 0 0 0;\n",
              "      width: 32px;\n",
              "    }\n",
              "\n",
              "    .colab-df-convert:hover {\n",
              "      background-color: #E2EBFA;\n",
              "      box-shadow: 0px 1px 2px rgba(60, 64, 67, 0.3), 0px 1px 3px 1px rgba(60, 64, 67, 0.15);\n",
              "      fill: #174EA6;\n",
              "    }\n",
              "\n",
              "    [theme=dark] .colab-df-convert {\n",
              "      background-color: #3B4455;\n",
              "      fill: #D2E3FC;\n",
              "    }\n",
              "\n",
              "    [theme=dark] .colab-df-convert:hover {\n",
              "      background-color: #434B5C;\n",
              "      box-shadow: 0px 1px 3px 1px rgba(0, 0, 0, 0.15);\n",
              "      filter: drop-shadow(0px 1px 2px rgba(0, 0, 0, 0.3));\n",
              "      fill: #FFFFFF;\n",
              "    }\n",
              "  </style>\n",
              "\n",
              "      <script>\n",
              "        const buttonEl =\n",
              "          document.querySelector('#df-5865d332-dd39-467b-aa7c-5e0a4db60a9d button.colab-df-convert');\n",
              "        buttonEl.style.display =\n",
              "          google.colab.kernel.accessAllowed ? 'block' : 'none';\n",
              "\n",
              "        async function convertToInteractive(key) {\n",
              "          const element = document.querySelector('#df-5865d332-dd39-467b-aa7c-5e0a4db60a9d');\n",
              "          const dataTable =\n",
              "            await google.colab.kernel.invokeFunction('convertToInteractive',\n",
              "                                                     [key], {});\n",
              "          if (!dataTable) return;\n",
              "\n",
              "          const docLinkHtml = 'Like what you see? Visit the ' +\n",
              "            '<a target=\"_blank\" href=https://colab.research.google.com/notebooks/data_table.ipynb>data table notebook</a>'\n",
              "            + ' to learn more about interactive tables.';\n",
              "          element.innerHTML = '';\n",
              "          dataTable['output_type'] = 'display_data';\n",
              "          await google.colab.output.renderOutput(dataTable, element);\n",
              "          const docLink = document.createElement('div');\n",
              "          docLink.innerHTML = docLinkHtml;\n",
              "          element.appendChild(docLink);\n",
              "        }\n",
              "      </script>\n",
              "    </div>\n",
              "  </div>\n",
              "  "
            ]
          },
          "metadata": {},
          "execution_count": 436
        }
      ],
      "source": [
        "sexo = H.append(M)\n",
        "sexo.reset_index(inplace = True, drop = True)\n",
        "sexo"
      ]
    },
    {
      "cell_type": "code",
      "execution_count": 437,
      "metadata": {
        "id": "cpN2H9kFpsm-",
        "colab": {
          "base_uri": "https://localhost:8080/",
          "height": 488
        },
        "outputId": "c81fe09b-4039-4a43-fbe6-3de066beab9c"
      },
      "outputs": [
        {
          "output_type": "execute_result",
          "data": {
            "text/plain": [
              "    Renda      Sexo\n",
              "10    250  Mulheres\n",
              "7     400  Mulheres\n",
              "11    400  Mulheres\n",
              "12    700  Mulheres\n",
              "8     788  Mulheres\n",
              "13    788  Mulheres\n",
              "3     800    Homens\n",
              "2     850    Homens\n",
              "6    1100  Mulheres\n",
              "0    1200    Homens\n",
              "5    1200    Homens\n",
              "1    2000    Homens\n",
              "4    2000    Homens\n",
              "9    4300  Mulheres"
            ],
            "text/html": [
              "\n",
              "  <div id=\"df-2182eafd-660e-4b53-936b-34f729c88725\">\n",
              "    <div class=\"colab-df-container\">\n",
              "      <div>\n",
              "<style scoped>\n",
              "    .dataframe tbody tr th:only-of-type {\n",
              "        vertical-align: middle;\n",
              "    }\n",
              "\n",
              "    .dataframe tbody tr th {\n",
              "        vertical-align: top;\n",
              "    }\n",
              "\n",
              "    .dataframe thead th {\n",
              "        text-align: right;\n",
              "    }\n",
              "</style>\n",
              "<table border=\"1\" class=\"dataframe\">\n",
              "  <thead>\n",
              "    <tr style=\"text-align: right;\">\n",
              "      <th></th>\n",
              "      <th>Renda</th>\n",
              "      <th>Sexo</th>\n",
              "    </tr>\n",
              "  </thead>\n",
              "  <tbody>\n",
              "    <tr>\n",
              "      <th>10</th>\n",
              "      <td>250</td>\n",
              "      <td>Mulheres</td>\n",
              "    </tr>\n",
              "    <tr>\n",
              "      <th>7</th>\n",
              "      <td>400</td>\n",
              "      <td>Mulheres</td>\n",
              "    </tr>\n",
              "    <tr>\n",
              "      <th>11</th>\n",
              "      <td>400</td>\n",
              "      <td>Mulheres</td>\n",
              "    </tr>\n",
              "    <tr>\n",
              "      <th>12</th>\n",
              "      <td>700</td>\n",
              "      <td>Mulheres</td>\n",
              "    </tr>\n",
              "    <tr>\n",
              "      <th>8</th>\n",
              "      <td>788</td>\n",
              "      <td>Mulheres</td>\n",
              "    </tr>\n",
              "    <tr>\n",
              "      <th>13</th>\n",
              "      <td>788</td>\n",
              "      <td>Mulheres</td>\n",
              "    </tr>\n",
              "    <tr>\n",
              "      <th>3</th>\n",
              "      <td>800</td>\n",
              "      <td>Homens</td>\n",
              "    </tr>\n",
              "    <tr>\n",
              "      <th>2</th>\n",
              "      <td>850</td>\n",
              "      <td>Homens</td>\n",
              "    </tr>\n",
              "    <tr>\n",
              "      <th>6</th>\n",
              "      <td>1100</td>\n",
              "      <td>Mulheres</td>\n",
              "    </tr>\n",
              "    <tr>\n",
              "      <th>0</th>\n",
              "      <td>1200</td>\n",
              "      <td>Homens</td>\n",
              "    </tr>\n",
              "    <tr>\n",
              "      <th>5</th>\n",
              "      <td>1200</td>\n",
              "      <td>Homens</td>\n",
              "    </tr>\n",
              "    <tr>\n",
              "      <th>1</th>\n",
              "      <td>2000</td>\n",
              "      <td>Homens</td>\n",
              "    </tr>\n",
              "    <tr>\n",
              "      <th>4</th>\n",
              "      <td>2000</td>\n",
              "      <td>Homens</td>\n",
              "    </tr>\n",
              "    <tr>\n",
              "      <th>9</th>\n",
              "      <td>4300</td>\n",
              "      <td>Mulheres</td>\n",
              "    </tr>\n",
              "  </tbody>\n",
              "</table>\n",
              "</div>\n",
              "      <button class=\"colab-df-convert\" onclick=\"convertToInteractive('df-2182eafd-660e-4b53-936b-34f729c88725')\"\n",
              "              title=\"Convert this dataframe to an interactive table.\"\n",
              "              style=\"display:none;\">\n",
              "        \n",
              "  <svg xmlns=\"http://www.w3.org/2000/svg\" height=\"24px\"viewBox=\"0 0 24 24\"\n",
              "       width=\"24px\">\n",
              "    <path d=\"M0 0h24v24H0V0z\" fill=\"none\"/>\n",
              "    <path d=\"M18.56 5.44l.94 2.06.94-2.06 2.06-.94-2.06-.94-.94-2.06-.94 2.06-2.06.94zm-11 1L8.5 8.5l.94-2.06 2.06-.94-2.06-.94L8.5 2.5l-.94 2.06-2.06.94zm10 10l.94 2.06.94-2.06 2.06-.94-2.06-.94-.94-2.06-.94 2.06-2.06.94z\"/><path d=\"M17.41 7.96l-1.37-1.37c-.4-.4-.92-.59-1.43-.59-.52 0-1.04.2-1.43.59L10.3 9.45l-7.72 7.72c-.78.78-.78 2.05 0 2.83L4 21.41c.39.39.9.59 1.41.59.51 0 1.02-.2 1.41-.59l7.78-7.78 2.81-2.81c.8-.78.8-2.07 0-2.86zM5.41 20L4 18.59l7.72-7.72 1.47 1.35L5.41 20z\"/>\n",
              "  </svg>\n",
              "      </button>\n",
              "      \n",
              "  <style>\n",
              "    .colab-df-container {\n",
              "      display:flex;\n",
              "      flex-wrap:wrap;\n",
              "      gap: 12px;\n",
              "    }\n",
              "\n",
              "    .colab-df-convert {\n",
              "      background-color: #E8F0FE;\n",
              "      border: none;\n",
              "      border-radius: 50%;\n",
              "      cursor: pointer;\n",
              "      display: none;\n",
              "      fill: #1967D2;\n",
              "      height: 32px;\n",
              "      padding: 0 0 0 0;\n",
              "      width: 32px;\n",
              "    }\n",
              "\n",
              "    .colab-df-convert:hover {\n",
              "      background-color: #E2EBFA;\n",
              "      box-shadow: 0px 1px 2px rgba(60, 64, 67, 0.3), 0px 1px 3px 1px rgba(60, 64, 67, 0.15);\n",
              "      fill: #174EA6;\n",
              "    }\n",
              "\n",
              "    [theme=dark] .colab-df-convert {\n",
              "      background-color: #3B4455;\n",
              "      fill: #D2E3FC;\n",
              "    }\n",
              "\n",
              "    [theme=dark] .colab-df-convert:hover {\n",
              "      background-color: #434B5C;\n",
              "      box-shadow: 0px 1px 3px 1px rgba(0, 0, 0, 0.15);\n",
              "      filter: drop-shadow(0px 1px 2px rgba(0, 0, 0, 0.3));\n",
              "      fill: #FFFFFF;\n",
              "    }\n",
              "  </style>\n",
              "\n",
              "      <script>\n",
              "        const buttonEl =\n",
              "          document.querySelector('#df-2182eafd-660e-4b53-936b-34f729c88725 button.colab-df-convert');\n",
              "        buttonEl.style.display =\n",
              "          google.colab.kernel.accessAllowed ? 'block' : 'none';\n",
              "\n",
              "        async function convertToInteractive(key) {\n",
              "          const element = document.querySelector('#df-2182eafd-660e-4b53-936b-34f729c88725');\n",
              "          const dataTable =\n",
              "            await google.colab.kernel.invokeFunction('convertToInteractive',\n",
              "                                                     [key], {});\n",
              "          if (!dataTable) return;\n",
              "\n",
              "          const docLinkHtml = 'Like what you see? Visit the ' +\n",
              "            '<a target=\"_blank\" href=https://colab.research.google.com/notebooks/data_table.ipynb>data table notebook</a>'\n",
              "            + ' to learn more about interactive tables.';\n",
              "          element.innerHTML = '';\n",
              "          dataTable['output_type'] = 'display_data';\n",
              "          await google.colab.output.renderOutput(dataTable, element);\n",
              "          const docLink = document.createElement('div');\n",
              "          docLink.innerHTML = docLinkHtml;\n",
              "          element.appendChild(docLink);\n",
              "        }\n",
              "      </script>\n",
              "    </div>\n",
              "  </div>\n",
              "  "
            ]
          },
          "metadata": {},
          "execution_count": 437
        }
      ],
      "source": [
        "sexo.sort_values(by = 'Renda', inplace = True)\n",
        "sexo"
      ]
    },
    {
      "cell_type": "code",
      "execution_count": 438,
      "metadata": {
        "id": "YCT6KsRS8-by",
        "colab": {
          "base_uri": "https://localhost:8080/",
          "height": 488
        },
        "outputId": "f9c1e5bc-0aa0-4b1f-8908-eacda9f9d2c9"
      },
      "outputs": [
        {
          "output_type": "execute_result",
          "data": {
            "text/plain": [
              "    Renda      Sexo  Posto\n",
              "10    250  Mulheres      1\n",
              "7     400  Mulheres      2\n",
              "11    400  Mulheres      3\n",
              "12    700  Mulheres      4\n",
              "8     788  Mulheres      5\n",
              "13    788  Mulheres      6\n",
              "3     800    Homens      7\n",
              "2     850    Homens      8\n",
              "6    1100  Mulheres      9\n",
              "0    1200    Homens     10\n",
              "5    1200    Homens     11\n",
              "1    2000    Homens     12\n",
              "4    2000    Homens     13\n",
              "9    4300  Mulheres     14"
            ],
            "text/html": [
              "\n",
              "  <div id=\"df-65308ce1-ef4d-4f65-b663-440d5b43bff5\">\n",
              "    <div class=\"colab-df-container\">\n",
              "      <div>\n",
              "<style scoped>\n",
              "    .dataframe tbody tr th:only-of-type {\n",
              "        vertical-align: middle;\n",
              "    }\n",
              "\n",
              "    .dataframe tbody tr th {\n",
              "        vertical-align: top;\n",
              "    }\n",
              "\n",
              "    .dataframe thead th {\n",
              "        text-align: right;\n",
              "    }\n",
              "</style>\n",
              "<table border=\"1\" class=\"dataframe\">\n",
              "  <thead>\n",
              "    <tr style=\"text-align: right;\">\n",
              "      <th></th>\n",
              "      <th>Renda</th>\n",
              "      <th>Sexo</th>\n",
              "      <th>Posto</th>\n",
              "    </tr>\n",
              "  </thead>\n",
              "  <tbody>\n",
              "    <tr>\n",
              "      <th>10</th>\n",
              "      <td>250</td>\n",
              "      <td>Mulheres</td>\n",
              "      <td>1</td>\n",
              "    </tr>\n",
              "    <tr>\n",
              "      <th>7</th>\n",
              "      <td>400</td>\n",
              "      <td>Mulheres</td>\n",
              "      <td>2</td>\n",
              "    </tr>\n",
              "    <tr>\n",
              "      <th>11</th>\n",
              "      <td>400</td>\n",
              "      <td>Mulheres</td>\n",
              "      <td>3</td>\n",
              "    </tr>\n",
              "    <tr>\n",
              "      <th>12</th>\n",
              "      <td>700</td>\n",
              "      <td>Mulheres</td>\n",
              "      <td>4</td>\n",
              "    </tr>\n",
              "    <tr>\n",
              "      <th>8</th>\n",
              "      <td>788</td>\n",
              "      <td>Mulheres</td>\n",
              "      <td>5</td>\n",
              "    </tr>\n",
              "    <tr>\n",
              "      <th>13</th>\n",
              "      <td>788</td>\n",
              "      <td>Mulheres</td>\n",
              "      <td>6</td>\n",
              "    </tr>\n",
              "    <tr>\n",
              "      <th>3</th>\n",
              "      <td>800</td>\n",
              "      <td>Homens</td>\n",
              "      <td>7</td>\n",
              "    </tr>\n",
              "    <tr>\n",
              "      <th>2</th>\n",
              "      <td>850</td>\n",
              "      <td>Homens</td>\n",
              "      <td>8</td>\n",
              "    </tr>\n",
              "    <tr>\n",
              "      <th>6</th>\n",
              "      <td>1100</td>\n",
              "      <td>Mulheres</td>\n",
              "      <td>9</td>\n",
              "    </tr>\n",
              "    <tr>\n",
              "      <th>0</th>\n",
              "      <td>1200</td>\n",
              "      <td>Homens</td>\n",
              "      <td>10</td>\n",
              "    </tr>\n",
              "    <tr>\n",
              "      <th>5</th>\n",
              "      <td>1200</td>\n",
              "      <td>Homens</td>\n",
              "      <td>11</td>\n",
              "    </tr>\n",
              "    <tr>\n",
              "      <th>1</th>\n",
              "      <td>2000</td>\n",
              "      <td>Homens</td>\n",
              "      <td>12</td>\n",
              "    </tr>\n",
              "    <tr>\n",
              "      <th>4</th>\n",
              "      <td>2000</td>\n",
              "      <td>Homens</td>\n",
              "      <td>13</td>\n",
              "    </tr>\n",
              "    <tr>\n",
              "      <th>9</th>\n",
              "      <td>4300</td>\n",
              "      <td>Mulheres</td>\n",
              "      <td>14</td>\n",
              "    </tr>\n",
              "  </tbody>\n",
              "</table>\n",
              "</div>\n",
              "      <button class=\"colab-df-convert\" onclick=\"convertToInteractive('df-65308ce1-ef4d-4f65-b663-440d5b43bff5')\"\n",
              "              title=\"Convert this dataframe to an interactive table.\"\n",
              "              style=\"display:none;\">\n",
              "        \n",
              "  <svg xmlns=\"http://www.w3.org/2000/svg\" height=\"24px\"viewBox=\"0 0 24 24\"\n",
              "       width=\"24px\">\n",
              "    <path d=\"M0 0h24v24H0V0z\" fill=\"none\"/>\n",
              "    <path d=\"M18.56 5.44l.94 2.06.94-2.06 2.06-.94-2.06-.94-.94-2.06-.94 2.06-2.06.94zm-11 1L8.5 8.5l.94-2.06 2.06-.94-2.06-.94L8.5 2.5l-.94 2.06-2.06.94zm10 10l.94 2.06.94-2.06 2.06-.94-2.06-.94-.94-2.06-.94 2.06-2.06.94z\"/><path d=\"M17.41 7.96l-1.37-1.37c-.4-.4-.92-.59-1.43-.59-.52 0-1.04.2-1.43.59L10.3 9.45l-7.72 7.72c-.78.78-.78 2.05 0 2.83L4 21.41c.39.39.9.59 1.41.59.51 0 1.02-.2 1.41-.59l7.78-7.78 2.81-2.81c.8-.78.8-2.07 0-2.86zM5.41 20L4 18.59l7.72-7.72 1.47 1.35L5.41 20z\"/>\n",
              "  </svg>\n",
              "      </button>\n",
              "      \n",
              "  <style>\n",
              "    .colab-df-container {\n",
              "      display:flex;\n",
              "      flex-wrap:wrap;\n",
              "      gap: 12px;\n",
              "    }\n",
              "\n",
              "    .colab-df-convert {\n",
              "      background-color: #E8F0FE;\n",
              "      border: none;\n",
              "      border-radius: 50%;\n",
              "      cursor: pointer;\n",
              "      display: none;\n",
              "      fill: #1967D2;\n",
              "      height: 32px;\n",
              "      padding: 0 0 0 0;\n",
              "      width: 32px;\n",
              "    }\n",
              "\n",
              "    .colab-df-convert:hover {\n",
              "      background-color: #E2EBFA;\n",
              "      box-shadow: 0px 1px 2px rgba(60, 64, 67, 0.3), 0px 1px 3px 1px rgba(60, 64, 67, 0.15);\n",
              "      fill: #174EA6;\n",
              "    }\n",
              "\n",
              "    [theme=dark] .colab-df-convert {\n",
              "      background-color: #3B4455;\n",
              "      fill: #D2E3FC;\n",
              "    }\n",
              "\n",
              "    [theme=dark] .colab-df-convert:hover {\n",
              "      background-color: #434B5C;\n",
              "      box-shadow: 0px 1px 3px 1px rgba(0, 0, 0, 0.15);\n",
              "      filter: drop-shadow(0px 1px 2px rgba(0, 0, 0, 0.3));\n",
              "      fill: #FFFFFF;\n",
              "    }\n",
              "  </style>\n",
              "\n",
              "      <script>\n",
              "        const buttonEl =\n",
              "          document.querySelector('#df-65308ce1-ef4d-4f65-b663-440d5b43bff5 button.colab-df-convert');\n",
              "        buttonEl.style.display =\n",
              "          google.colab.kernel.accessAllowed ? 'block' : 'none';\n",
              "\n",
              "        async function convertToInteractive(key) {\n",
              "          const element = document.querySelector('#df-65308ce1-ef4d-4f65-b663-440d5b43bff5');\n",
              "          const dataTable =\n",
              "            await google.colab.kernel.invokeFunction('convertToInteractive',\n",
              "                                                     [key], {});\n",
              "          if (!dataTable) return;\n",
              "\n",
              "          const docLinkHtml = 'Like what you see? Visit the ' +\n",
              "            '<a target=\"_blank\" href=https://colab.research.google.com/notebooks/data_table.ipynb>data table notebook</a>'\n",
              "            + ' to learn more about interactive tables.';\n",
              "          element.innerHTML = '';\n",
              "          dataTable['output_type'] = 'display_data';\n",
              "          await google.colab.output.renderOutput(dataTable, element);\n",
              "          const docLink = document.createElement('div');\n",
              "          docLink.innerHTML = docLinkHtml;\n",
              "          element.appendChild(docLink);\n",
              "        }\n",
              "      </script>\n",
              "    </div>\n",
              "  </div>\n",
              "  "
            ]
          },
          "metadata": {},
          "execution_count": 438
        }
      ],
      "source": [
        "sexo['Posto'] = range(1, len(sexo) + 1)\n",
        "sexo"
      ]
    },
    {
      "cell_type": "code",
      "execution_count": 439,
      "metadata": {
        "id": "tEuMTSSU8-OE",
        "colab": {
          "base_uri": "https://localhost:8080/",
          "height": 394
        },
        "outputId": "bb145e01-b716-4802-c59d-9f8295fdcd5e"
      },
      "outputs": [
        {
          "output_type": "execute_result",
          "data": {
            "text/plain": [
              "       Posto\n",
              "Renda       \n",
              "250      1.0\n",
              "400      2.5\n",
              "700      4.0\n",
              "788      5.5\n",
              "800      7.0\n",
              "850      8.0\n",
              "1100     9.0\n",
              "1200    10.5\n",
              "2000    12.5\n",
              "4300    14.0"
            ],
            "text/html": [
              "\n",
              "  <div id=\"df-c6a28b43-8c5b-4322-8a1e-5dfdee814245\">\n",
              "    <div class=\"colab-df-container\">\n",
              "      <div>\n",
              "<style scoped>\n",
              "    .dataframe tbody tr th:only-of-type {\n",
              "        vertical-align: middle;\n",
              "    }\n",
              "\n",
              "    .dataframe tbody tr th {\n",
              "        vertical-align: top;\n",
              "    }\n",
              "\n",
              "    .dataframe thead th {\n",
              "        text-align: right;\n",
              "    }\n",
              "</style>\n",
              "<table border=\"1\" class=\"dataframe\">\n",
              "  <thead>\n",
              "    <tr style=\"text-align: right;\">\n",
              "      <th></th>\n",
              "      <th>Posto</th>\n",
              "    </tr>\n",
              "    <tr>\n",
              "      <th>Renda</th>\n",
              "      <th></th>\n",
              "    </tr>\n",
              "  </thead>\n",
              "  <tbody>\n",
              "    <tr>\n",
              "      <th>250</th>\n",
              "      <td>1.0</td>\n",
              "    </tr>\n",
              "    <tr>\n",
              "      <th>400</th>\n",
              "      <td>2.5</td>\n",
              "    </tr>\n",
              "    <tr>\n",
              "      <th>700</th>\n",
              "      <td>4.0</td>\n",
              "    </tr>\n",
              "    <tr>\n",
              "      <th>788</th>\n",
              "      <td>5.5</td>\n",
              "    </tr>\n",
              "    <tr>\n",
              "      <th>800</th>\n",
              "      <td>7.0</td>\n",
              "    </tr>\n",
              "    <tr>\n",
              "      <th>850</th>\n",
              "      <td>8.0</td>\n",
              "    </tr>\n",
              "    <tr>\n",
              "      <th>1100</th>\n",
              "      <td>9.0</td>\n",
              "    </tr>\n",
              "    <tr>\n",
              "      <th>1200</th>\n",
              "      <td>10.5</td>\n",
              "    </tr>\n",
              "    <tr>\n",
              "      <th>2000</th>\n",
              "      <td>12.5</td>\n",
              "    </tr>\n",
              "    <tr>\n",
              "      <th>4300</th>\n",
              "      <td>14.0</td>\n",
              "    </tr>\n",
              "  </tbody>\n",
              "</table>\n",
              "</div>\n",
              "      <button class=\"colab-df-convert\" onclick=\"convertToInteractive('df-c6a28b43-8c5b-4322-8a1e-5dfdee814245')\"\n",
              "              title=\"Convert this dataframe to an interactive table.\"\n",
              "              style=\"display:none;\">\n",
              "        \n",
              "  <svg xmlns=\"http://www.w3.org/2000/svg\" height=\"24px\"viewBox=\"0 0 24 24\"\n",
              "       width=\"24px\">\n",
              "    <path d=\"M0 0h24v24H0V0z\" fill=\"none\"/>\n",
              "    <path d=\"M18.56 5.44l.94 2.06.94-2.06 2.06-.94-2.06-.94-.94-2.06-.94 2.06-2.06.94zm-11 1L8.5 8.5l.94-2.06 2.06-.94-2.06-.94L8.5 2.5l-.94 2.06-2.06.94zm10 10l.94 2.06.94-2.06 2.06-.94-2.06-.94-.94-2.06-.94 2.06-2.06.94z\"/><path d=\"M17.41 7.96l-1.37-1.37c-.4-.4-.92-.59-1.43-.59-.52 0-1.04.2-1.43.59L10.3 9.45l-7.72 7.72c-.78.78-.78 2.05 0 2.83L4 21.41c.39.39.9.59 1.41.59.51 0 1.02-.2 1.41-.59l7.78-7.78 2.81-2.81c.8-.78.8-2.07 0-2.86zM5.41 20L4 18.59l7.72-7.72 1.47 1.35L5.41 20z\"/>\n",
              "  </svg>\n",
              "      </button>\n",
              "      \n",
              "  <style>\n",
              "    .colab-df-container {\n",
              "      display:flex;\n",
              "      flex-wrap:wrap;\n",
              "      gap: 12px;\n",
              "    }\n",
              "\n",
              "    .colab-df-convert {\n",
              "      background-color: #E8F0FE;\n",
              "      border: none;\n",
              "      border-radius: 50%;\n",
              "      cursor: pointer;\n",
              "      display: none;\n",
              "      fill: #1967D2;\n",
              "      height: 32px;\n",
              "      padding: 0 0 0 0;\n",
              "      width: 32px;\n",
              "    }\n",
              "\n",
              "    .colab-df-convert:hover {\n",
              "      background-color: #E2EBFA;\n",
              "      box-shadow: 0px 1px 2px rgba(60, 64, 67, 0.3), 0px 1px 3px 1px rgba(60, 64, 67, 0.15);\n",
              "      fill: #174EA6;\n",
              "    }\n",
              "\n",
              "    [theme=dark] .colab-df-convert {\n",
              "      background-color: #3B4455;\n",
              "      fill: #D2E3FC;\n",
              "    }\n",
              "\n",
              "    [theme=dark] .colab-df-convert:hover {\n",
              "      background-color: #434B5C;\n",
              "      box-shadow: 0px 1px 3px 1px rgba(0, 0, 0, 0.15);\n",
              "      filter: drop-shadow(0px 1px 2px rgba(0, 0, 0, 0.3));\n",
              "      fill: #FFFFFF;\n",
              "    }\n",
              "  </style>\n",
              "\n",
              "      <script>\n",
              "        const buttonEl =\n",
              "          document.querySelector('#df-c6a28b43-8c5b-4322-8a1e-5dfdee814245 button.colab-df-convert');\n",
              "        buttonEl.style.display =\n",
              "          google.colab.kernel.accessAllowed ? 'block' : 'none';\n",
              "\n",
              "        async function convertToInteractive(key) {\n",
              "          const element = document.querySelector('#df-c6a28b43-8c5b-4322-8a1e-5dfdee814245');\n",
              "          const dataTable =\n",
              "            await google.colab.kernel.invokeFunction('convertToInteractive',\n",
              "                                                     [key], {});\n",
              "          if (!dataTable) return;\n",
              "\n",
              "          const docLinkHtml = 'Like what you see? Visit the ' +\n",
              "            '<a target=\"_blank\" href=https://colab.research.google.com/notebooks/data_table.ipynb>data table notebook</a>'\n",
              "            + ' to learn more about interactive tables.';\n",
              "          element.innerHTML = '';\n",
              "          dataTable['output_type'] = 'display_data';\n",
              "          await google.colab.output.renderOutput(dataTable, element);\n",
              "          const docLink = document.createElement('div');\n",
              "          docLink.innerHTML = docLinkHtml;\n",
              "          element.appendChild(docLink);\n",
              "        }\n",
              "      </script>\n",
              "    </div>\n",
              "  </div>\n",
              "  "
            ]
          },
          "metadata": {},
          "execution_count": 439
        }
      ],
      "source": [
        "posto = sexo[['Renda', 'Posto']].groupby(['Renda']).mean()\n",
        "posto"
      ]
    },
    {
      "cell_type": "code",
      "execution_count": 440,
      "metadata": {
        "id": "S9rtsrl88-LB",
        "colab": {
          "base_uri": "https://localhost:8080/",
          "height": 362
        },
        "outputId": "2445a1ed-280d-4fe1-8c74-c502b2406e49"
      },
      "outputs": [
        {
          "output_type": "execute_result",
          "data": {
            "text/plain": [
              "   Renda  Posto\n",
              "0    250    1.0\n",
              "1    400    2.5\n",
              "2    700    4.0\n",
              "3    788    5.5\n",
              "4    800    7.0\n",
              "5    850    8.0\n",
              "6   1100    9.0\n",
              "7   1200   10.5\n",
              "8   2000   12.5\n",
              "9   4300   14.0"
            ],
            "text/html": [
              "\n",
              "  <div id=\"df-7ade4914-db5e-4d56-896f-872b4afa5e15\">\n",
              "    <div class=\"colab-df-container\">\n",
              "      <div>\n",
              "<style scoped>\n",
              "    .dataframe tbody tr th:only-of-type {\n",
              "        vertical-align: middle;\n",
              "    }\n",
              "\n",
              "    .dataframe tbody tr th {\n",
              "        vertical-align: top;\n",
              "    }\n",
              "\n",
              "    .dataframe thead th {\n",
              "        text-align: right;\n",
              "    }\n",
              "</style>\n",
              "<table border=\"1\" class=\"dataframe\">\n",
              "  <thead>\n",
              "    <tr style=\"text-align: right;\">\n",
              "      <th></th>\n",
              "      <th>Renda</th>\n",
              "      <th>Posto</th>\n",
              "    </tr>\n",
              "  </thead>\n",
              "  <tbody>\n",
              "    <tr>\n",
              "      <th>0</th>\n",
              "      <td>250</td>\n",
              "      <td>1.0</td>\n",
              "    </tr>\n",
              "    <tr>\n",
              "      <th>1</th>\n",
              "      <td>400</td>\n",
              "      <td>2.5</td>\n",
              "    </tr>\n",
              "    <tr>\n",
              "      <th>2</th>\n",
              "      <td>700</td>\n",
              "      <td>4.0</td>\n",
              "    </tr>\n",
              "    <tr>\n",
              "      <th>3</th>\n",
              "      <td>788</td>\n",
              "      <td>5.5</td>\n",
              "    </tr>\n",
              "    <tr>\n",
              "      <th>4</th>\n",
              "      <td>800</td>\n",
              "      <td>7.0</td>\n",
              "    </tr>\n",
              "    <tr>\n",
              "      <th>5</th>\n",
              "      <td>850</td>\n",
              "      <td>8.0</td>\n",
              "    </tr>\n",
              "    <tr>\n",
              "      <th>6</th>\n",
              "      <td>1100</td>\n",
              "      <td>9.0</td>\n",
              "    </tr>\n",
              "    <tr>\n",
              "      <th>7</th>\n",
              "      <td>1200</td>\n",
              "      <td>10.5</td>\n",
              "    </tr>\n",
              "    <tr>\n",
              "      <th>8</th>\n",
              "      <td>2000</td>\n",
              "      <td>12.5</td>\n",
              "    </tr>\n",
              "    <tr>\n",
              "      <th>9</th>\n",
              "      <td>4300</td>\n",
              "      <td>14.0</td>\n",
              "    </tr>\n",
              "  </tbody>\n",
              "</table>\n",
              "</div>\n",
              "      <button class=\"colab-df-convert\" onclick=\"convertToInteractive('df-7ade4914-db5e-4d56-896f-872b4afa5e15')\"\n",
              "              title=\"Convert this dataframe to an interactive table.\"\n",
              "              style=\"display:none;\">\n",
              "        \n",
              "  <svg xmlns=\"http://www.w3.org/2000/svg\" height=\"24px\"viewBox=\"0 0 24 24\"\n",
              "       width=\"24px\">\n",
              "    <path d=\"M0 0h24v24H0V0z\" fill=\"none\"/>\n",
              "    <path d=\"M18.56 5.44l.94 2.06.94-2.06 2.06-.94-2.06-.94-.94-2.06-.94 2.06-2.06.94zm-11 1L8.5 8.5l.94-2.06 2.06-.94-2.06-.94L8.5 2.5l-.94 2.06-2.06.94zm10 10l.94 2.06.94-2.06 2.06-.94-2.06-.94-.94-2.06-.94 2.06-2.06.94z\"/><path d=\"M17.41 7.96l-1.37-1.37c-.4-.4-.92-.59-1.43-.59-.52 0-1.04.2-1.43.59L10.3 9.45l-7.72 7.72c-.78.78-.78 2.05 0 2.83L4 21.41c.39.39.9.59 1.41.59.51 0 1.02-.2 1.41-.59l7.78-7.78 2.81-2.81c.8-.78.8-2.07 0-2.86zM5.41 20L4 18.59l7.72-7.72 1.47 1.35L5.41 20z\"/>\n",
              "  </svg>\n",
              "      </button>\n",
              "      \n",
              "  <style>\n",
              "    .colab-df-container {\n",
              "      display:flex;\n",
              "      flex-wrap:wrap;\n",
              "      gap: 12px;\n",
              "    }\n",
              "\n",
              "    .colab-df-convert {\n",
              "      background-color: #E8F0FE;\n",
              "      border: none;\n",
              "      border-radius: 50%;\n",
              "      cursor: pointer;\n",
              "      display: none;\n",
              "      fill: #1967D2;\n",
              "      height: 32px;\n",
              "      padding: 0 0 0 0;\n",
              "      width: 32px;\n",
              "    }\n",
              "\n",
              "    .colab-df-convert:hover {\n",
              "      background-color: #E2EBFA;\n",
              "      box-shadow: 0px 1px 2px rgba(60, 64, 67, 0.3), 0px 1px 3px 1px rgba(60, 64, 67, 0.15);\n",
              "      fill: #174EA6;\n",
              "    }\n",
              "\n",
              "    [theme=dark] .colab-df-convert {\n",
              "      background-color: #3B4455;\n",
              "      fill: #D2E3FC;\n",
              "    }\n",
              "\n",
              "    [theme=dark] .colab-df-convert:hover {\n",
              "      background-color: #434B5C;\n",
              "      box-shadow: 0px 1px 3px 1px rgba(0, 0, 0, 0.15);\n",
              "      filter: drop-shadow(0px 1px 2px rgba(0, 0, 0, 0.3));\n",
              "      fill: #FFFFFF;\n",
              "    }\n",
              "  </style>\n",
              "\n",
              "      <script>\n",
              "        const buttonEl =\n",
              "          document.querySelector('#df-7ade4914-db5e-4d56-896f-872b4afa5e15 button.colab-df-convert');\n",
              "        buttonEl.style.display =\n",
              "          google.colab.kernel.accessAllowed ? 'block' : 'none';\n",
              "\n",
              "        async function convertToInteractive(key) {\n",
              "          const element = document.querySelector('#df-7ade4914-db5e-4d56-896f-872b4afa5e15');\n",
              "          const dataTable =\n",
              "            await google.colab.kernel.invokeFunction('convertToInteractive',\n",
              "                                                     [key], {});\n",
              "          if (!dataTable) return;\n",
              "\n",
              "          const docLinkHtml = 'Like what you see? Visit the ' +\n",
              "            '<a target=\"_blank\" href=https://colab.research.google.com/notebooks/data_table.ipynb>data table notebook</a>'\n",
              "            + ' to learn more about interactive tables.';\n",
              "          element.innerHTML = '';\n",
              "          dataTable['output_type'] = 'display_data';\n",
              "          await google.colab.output.renderOutput(dataTable, element);\n",
              "          const docLink = document.createElement('div');\n",
              "          docLink.innerHTML = docLinkHtml;\n",
              "          element.appendChild(docLink);\n",
              "        }\n",
              "      </script>\n",
              "    </div>\n",
              "  </div>\n",
              "  "
            ]
          },
          "metadata": {},
          "execution_count": 440
        }
      ],
      "source": [
        "posto.reset_index(inplace = True)\n",
        "posto"
      ]
    },
    {
      "cell_type": "code",
      "execution_count": 441,
      "metadata": {
        "id": "w0sqa3j-8-H6",
        "colab": {
          "base_uri": "https://localhost:8080/",
          "height": 488
        },
        "outputId": "249bcf38-5b95-410d-a85e-68fcc428e3b1"
      },
      "outputs": [
        {
          "output_type": "execute_result",
          "data": {
            "text/plain": [
              "    Renda      Sexo\n",
              "10    250  Mulheres\n",
              "7     400  Mulheres\n",
              "11    400  Mulheres\n",
              "12    700  Mulheres\n",
              "8     788  Mulheres\n",
              "13    788  Mulheres\n",
              "3     800    Homens\n",
              "2     850    Homens\n",
              "6    1100  Mulheres\n",
              "0    1200    Homens\n",
              "5    1200    Homens\n",
              "1    2000    Homens\n",
              "4    2000    Homens\n",
              "9    4300  Mulheres"
            ],
            "text/html": [
              "\n",
              "  <div id=\"df-62c37339-58df-4864-94cf-1af29c7dc8df\">\n",
              "    <div class=\"colab-df-container\">\n",
              "      <div>\n",
              "<style scoped>\n",
              "    .dataframe tbody tr th:only-of-type {\n",
              "        vertical-align: middle;\n",
              "    }\n",
              "\n",
              "    .dataframe tbody tr th {\n",
              "        vertical-align: top;\n",
              "    }\n",
              "\n",
              "    .dataframe thead th {\n",
              "        text-align: right;\n",
              "    }\n",
              "</style>\n",
              "<table border=\"1\" class=\"dataframe\">\n",
              "  <thead>\n",
              "    <tr style=\"text-align: right;\">\n",
              "      <th></th>\n",
              "      <th>Renda</th>\n",
              "      <th>Sexo</th>\n",
              "    </tr>\n",
              "  </thead>\n",
              "  <tbody>\n",
              "    <tr>\n",
              "      <th>10</th>\n",
              "      <td>250</td>\n",
              "      <td>Mulheres</td>\n",
              "    </tr>\n",
              "    <tr>\n",
              "      <th>7</th>\n",
              "      <td>400</td>\n",
              "      <td>Mulheres</td>\n",
              "    </tr>\n",
              "    <tr>\n",
              "      <th>11</th>\n",
              "      <td>400</td>\n",
              "      <td>Mulheres</td>\n",
              "    </tr>\n",
              "    <tr>\n",
              "      <th>12</th>\n",
              "      <td>700</td>\n",
              "      <td>Mulheres</td>\n",
              "    </tr>\n",
              "    <tr>\n",
              "      <th>8</th>\n",
              "      <td>788</td>\n",
              "      <td>Mulheres</td>\n",
              "    </tr>\n",
              "    <tr>\n",
              "      <th>13</th>\n",
              "      <td>788</td>\n",
              "      <td>Mulheres</td>\n",
              "    </tr>\n",
              "    <tr>\n",
              "      <th>3</th>\n",
              "      <td>800</td>\n",
              "      <td>Homens</td>\n",
              "    </tr>\n",
              "    <tr>\n",
              "      <th>2</th>\n",
              "      <td>850</td>\n",
              "      <td>Homens</td>\n",
              "    </tr>\n",
              "    <tr>\n",
              "      <th>6</th>\n",
              "      <td>1100</td>\n",
              "      <td>Mulheres</td>\n",
              "    </tr>\n",
              "    <tr>\n",
              "      <th>0</th>\n",
              "      <td>1200</td>\n",
              "      <td>Homens</td>\n",
              "    </tr>\n",
              "    <tr>\n",
              "      <th>5</th>\n",
              "      <td>1200</td>\n",
              "      <td>Homens</td>\n",
              "    </tr>\n",
              "    <tr>\n",
              "      <th>1</th>\n",
              "      <td>2000</td>\n",
              "      <td>Homens</td>\n",
              "    </tr>\n",
              "    <tr>\n",
              "      <th>4</th>\n",
              "      <td>2000</td>\n",
              "      <td>Homens</td>\n",
              "    </tr>\n",
              "    <tr>\n",
              "      <th>9</th>\n",
              "      <td>4300</td>\n",
              "      <td>Mulheres</td>\n",
              "    </tr>\n",
              "  </tbody>\n",
              "</table>\n",
              "</div>\n",
              "      <button class=\"colab-df-convert\" onclick=\"convertToInteractive('df-62c37339-58df-4864-94cf-1af29c7dc8df')\"\n",
              "              title=\"Convert this dataframe to an interactive table.\"\n",
              "              style=\"display:none;\">\n",
              "        \n",
              "  <svg xmlns=\"http://www.w3.org/2000/svg\" height=\"24px\"viewBox=\"0 0 24 24\"\n",
              "       width=\"24px\">\n",
              "    <path d=\"M0 0h24v24H0V0z\" fill=\"none\"/>\n",
              "    <path d=\"M18.56 5.44l.94 2.06.94-2.06 2.06-.94-2.06-.94-.94-2.06-.94 2.06-2.06.94zm-11 1L8.5 8.5l.94-2.06 2.06-.94-2.06-.94L8.5 2.5l-.94 2.06-2.06.94zm10 10l.94 2.06.94-2.06 2.06-.94-2.06-.94-.94-2.06-.94 2.06-2.06.94z\"/><path d=\"M17.41 7.96l-1.37-1.37c-.4-.4-.92-.59-1.43-.59-.52 0-1.04.2-1.43.59L10.3 9.45l-7.72 7.72c-.78.78-.78 2.05 0 2.83L4 21.41c.39.39.9.59 1.41.59.51 0 1.02-.2 1.41-.59l7.78-7.78 2.81-2.81c.8-.78.8-2.07 0-2.86zM5.41 20L4 18.59l7.72-7.72 1.47 1.35L5.41 20z\"/>\n",
              "  </svg>\n",
              "      </button>\n",
              "      \n",
              "  <style>\n",
              "    .colab-df-container {\n",
              "      display:flex;\n",
              "      flex-wrap:wrap;\n",
              "      gap: 12px;\n",
              "    }\n",
              "\n",
              "    .colab-df-convert {\n",
              "      background-color: #E8F0FE;\n",
              "      border: none;\n",
              "      border-radius: 50%;\n",
              "      cursor: pointer;\n",
              "      display: none;\n",
              "      fill: #1967D2;\n",
              "      height: 32px;\n",
              "      padding: 0 0 0 0;\n",
              "      width: 32px;\n",
              "    }\n",
              "\n",
              "    .colab-df-convert:hover {\n",
              "      background-color: #E2EBFA;\n",
              "      box-shadow: 0px 1px 2px rgba(60, 64, 67, 0.3), 0px 1px 3px 1px rgba(60, 64, 67, 0.15);\n",
              "      fill: #174EA6;\n",
              "    }\n",
              "\n",
              "    [theme=dark] .colab-df-convert {\n",
              "      background-color: #3B4455;\n",
              "      fill: #D2E3FC;\n",
              "    }\n",
              "\n",
              "    [theme=dark] .colab-df-convert:hover {\n",
              "      background-color: #434B5C;\n",
              "      box-shadow: 0px 1px 3px 1px rgba(0, 0, 0, 0.15);\n",
              "      filter: drop-shadow(0px 1px 2px rgba(0, 0, 0, 0.3));\n",
              "      fill: #FFFFFF;\n",
              "    }\n",
              "  </style>\n",
              "\n",
              "      <script>\n",
              "        const buttonEl =\n",
              "          document.querySelector('#df-62c37339-58df-4864-94cf-1af29c7dc8df button.colab-df-convert');\n",
              "        buttonEl.style.display =\n",
              "          google.colab.kernel.accessAllowed ? 'block' : 'none';\n",
              "\n",
              "        async function convertToInteractive(key) {\n",
              "          const element = document.querySelector('#df-62c37339-58df-4864-94cf-1af29c7dc8df');\n",
              "          const dataTable =\n",
              "            await google.colab.kernel.invokeFunction('convertToInteractive',\n",
              "                                                     [key], {});\n",
              "          if (!dataTable) return;\n",
              "\n",
              "          const docLinkHtml = 'Like what you see? Visit the ' +\n",
              "            '<a target=\"_blank\" href=https://colab.research.google.com/notebooks/data_table.ipynb>data table notebook</a>'\n",
              "            + ' to learn more about interactive tables.';\n",
              "          element.innerHTML = '';\n",
              "          dataTable['output_type'] = 'display_data';\n",
              "          await google.colab.output.renderOutput(dataTable, element);\n",
              "          const docLink = document.createElement('div');\n",
              "          docLink.innerHTML = docLinkHtml;\n",
              "          element.appendChild(docLink);\n",
              "        }\n",
              "      </script>\n",
              "    </div>\n",
              "  </div>\n",
              "  "
            ]
          },
          "metadata": {},
          "execution_count": 441
        }
      ],
      "source": [
        "sexo.drop(['Posto'], axis = 1, inplace = True)\n",
        "sexo"
      ]
    },
    {
      "cell_type": "code",
      "execution_count": 442,
      "metadata": {
        "id": "K4Qn49E78-Ed",
        "colab": {
          "base_uri": "https://localhost:8080/",
          "height": 488
        },
        "outputId": "57c2ef1d-0ba5-4bbf-badf-8e3a57c2d36b"
      },
      "outputs": [
        {
          "output_type": "execute_result",
          "data": {
            "text/plain": [
              "    Renda      Sexo  Posto\n",
              "0     250  Mulheres    1.0\n",
              "1     400  Mulheres    2.5\n",
              "2     400  Mulheres    2.5\n",
              "3     700  Mulheres    4.0\n",
              "4     788  Mulheres    5.5\n",
              "5     788  Mulheres    5.5\n",
              "6     800    Homens    7.0\n",
              "7     850    Homens    8.0\n",
              "8    1100  Mulheres    9.0\n",
              "9    1200    Homens   10.5\n",
              "10   1200    Homens   10.5\n",
              "11   2000    Homens   12.5\n",
              "12   2000    Homens   12.5\n",
              "13   4300  Mulheres   14.0"
            ],
            "text/html": [
              "\n",
              "  <div id=\"df-373f01e6-0d3d-48d0-a7ca-9a3be1b5a410\">\n",
              "    <div class=\"colab-df-container\">\n",
              "      <div>\n",
              "<style scoped>\n",
              "    .dataframe tbody tr th:only-of-type {\n",
              "        vertical-align: middle;\n",
              "    }\n",
              "\n",
              "    .dataframe tbody tr th {\n",
              "        vertical-align: top;\n",
              "    }\n",
              "\n",
              "    .dataframe thead th {\n",
              "        text-align: right;\n",
              "    }\n",
              "</style>\n",
              "<table border=\"1\" class=\"dataframe\">\n",
              "  <thead>\n",
              "    <tr style=\"text-align: right;\">\n",
              "      <th></th>\n",
              "      <th>Renda</th>\n",
              "      <th>Sexo</th>\n",
              "      <th>Posto</th>\n",
              "    </tr>\n",
              "  </thead>\n",
              "  <tbody>\n",
              "    <tr>\n",
              "      <th>0</th>\n",
              "      <td>250</td>\n",
              "      <td>Mulheres</td>\n",
              "      <td>1.0</td>\n",
              "    </tr>\n",
              "    <tr>\n",
              "      <th>1</th>\n",
              "      <td>400</td>\n",
              "      <td>Mulheres</td>\n",
              "      <td>2.5</td>\n",
              "    </tr>\n",
              "    <tr>\n",
              "      <th>2</th>\n",
              "      <td>400</td>\n",
              "      <td>Mulheres</td>\n",
              "      <td>2.5</td>\n",
              "    </tr>\n",
              "    <tr>\n",
              "      <th>3</th>\n",
              "      <td>700</td>\n",
              "      <td>Mulheres</td>\n",
              "      <td>4.0</td>\n",
              "    </tr>\n",
              "    <tr>\n",
              "      <th>4</th>\n",
              "      <td>788</td>\n",
              "      <td>Mulheres</td>\n",
              "      <td>5.5</td>\n",
              "    </tr>\n",
              "    <tr>\n",
              "      <th>5</th>\n",
              "      <td>788</td>\n",
              "      <td>Mulheres</td>\n",
              "      <td>5.5</td>\n",
              "    </tr>\n",
              "    <tr>\n",
              "      <th>6</th>\n",
              "      <td>800</td>\n",
              "      <td>Homens</td>\n",
              "      <td>7.0</td>\n",
              "    </tr>\n",
              "    <tr>\n",
              "      <th>7</th>\n",
              "      <td>850</td>\n",
              "      <td>Homens</td>\n",
              "      <td>8.0</td>\n",
              "    </tr>\n",
              "    <tr>\n",
              "      <th>8</th>\n",
              "      <td>1100</td>\n",
              "      <td>Mulheres</td>\n",
              "      <td>9.0</td>\n",
              "    </tr>\n",
              "    <tr>\n",
              "      <th>9</th>\n",
              "      <td>1200</td>\n",
              "      <td>Homens</td>\n",
              "      <td>10.5</td>\n",
              "    </tr>\n",
              "    <tr>\n",
              "      <th>10</th>\n",
              "      <td>1200</td>\n",
              "      <td>Homens</td>\n",
              "      <td>10.5</td>\n",
              "    </tr>\n",
              "    <tr>\n",
              "      <th>11</th>\n",
              "      <td>2000</td>\n",
              "      <td>Homens</td>\n",
              "      <td>12.5</td>\n",
              "    </tr>\n",
              "    <tr>\n",
              "      <th>12</th>\n",
              "      <td>2000</td>\n",
              "      <td>Homens</td>\n",
              "      <td>12.5</td>\n",
              "    </tr>\n",
              "    <tr>\n",
              "      <th>13</th>\n",
              "      <td>4300</td>\n",
              "      <td>Mulheres</td>\n",
              "      <td>14.0</td>\n",
              "    </tr>\n",
              "  </tbody>\n",
              "</table>\n",
              "</div>\n",
              "      <button class=\"colab-df-convert\" onclick=\"convertToInteractive('df-373f01e6-0d3d-48d0-a7ca-9a3be1b5a410')\"\n",
              "              title=\"Convert this dataframe to an interactive table.\"\n",
              "              style=\"display:none;\">\n",
              "        \n",
              "  <svg xmlns=\"http://www.w3.org/2000/svg\" height=\"24px\"viewBox=\"0 0 24 24\"\n",
              "       width=\"24px\">\n",
              "    <path d=\"M0 0h24v24H0V0z\" fill=\"none\"/>\n",
              "    <path d=\"M18.56 5.44l.94 2.06.94-2.06 2.06-.94-2.06-.94-.94-2.06-.94 2.06-2.06.94zm-11 1L8.5 8.5l.94-2.06 2.06-.94-2.06-.94L8.5 2.5l-.94 2.06-2.06.94zm10 10l.94 2.06.94-2.06 2.06-.94-2.06-.94-.94-2.06-.94 2.06-2.06.94z\"/><path d=\"M17.41 7.96l-1.37-1.37c-.4-.4-.92-.59-1.43-.59-.52 0-1.04.2-1.43.59L10.3 9.45l-7.72 7.72c-.78.78-.78 2.05 0 2.83L4 21.41c.39.39.9.59 1.41.59.51 0 1.02-.2 1.41-.59l7.78-7.78 2.81-2.81c.8-.78.8-2.07 0-2.86zM5.41 20L4 18.59l7.72-7.72 1.47 1.35L5.41 20z\"/>\n",
              "  </svg>\n",
              "      </button>\n",
              "      \n",
              "  <style>\n",
              "    .colab-df-container {\n",
              "      display:flex;\n",
              "      flex-wrap:wrap;\n",
              "      gap: 12px;\n",
              "    }\n",
              "\n",
              "    .colab-df-convert {\n",
              "      background-color: #E8F0FE;\n",
              "      border: none;\n",
              "      border-radius: 50%;\n",
              "      cursor: pointer;\n",
              "      display: none;\n",
              "      fill: #1967D2;\n",
              "      height: 32px;\n",
              "      padding: 0 0 0 0;\n",
              "      width: 32px;\n",
              "    }\n",
              "\n",
              "    .colab-df-convert:hover {\n",
              "      background-color: #E2EBFA;\n",
              "      box-shadow: 0px 1px 2px rgba(60, 64, 67, 0.3), 0px 1px 3px 1px rgba(60, 64, 67, 0.15);\n",
              "      fill: #174EA6;\n",
              "    }\n",
              "\n",
              "    [theme=dark] .colab-df-convert {\n",
              "      background-color: #3B4455;\n",
              "      fill: #D2E3FC;\n",
              "    }\n",
              "\n",
              "    [theme=dark] .colab-df-convert:hover {\n",
              "      background-color: #434B5C;\n",
              "      box-shadow: 0px 1px 3px 1px rgba(0, 0, 0, 0.15);\n",
              "      filter: drop-shadow(0px 1px 2px rgba(0, 0, 0, 0.3));\n",
              "      fill: #FFFFFF;\n",
              "    }\n",
              "  </style>\n",
              "\n",
              "      <script>\n",
              "        const buttonEl =\n",
              "          document.querySelector('#df-373f01e6-0d3d-48d0-a7ca-9a3be1b5a410 button.colab-df-convert');\n",
              "        buttonEl.style.display =\n",
              "          google.colab.kernel.accessAllowed ? 'block' : 'none';\n",
              "\n",
              "        async function convertToInteractive(key) {\n",
              "          const element = document.querySelector('#df-373f01e6-0d3d-48d0-a7ca-9a3be1b5a410');\n",
              "          const dataTable =\n",
              "            await google.colab.kernel.invokeFunction('convertToInteractive',\n",
              "                                                     [key], {});\n",
              "          if (!dataTable) return;\n",
              "\n",
              "          const docLinkHtml = 'Like what you see? Visit the ' +\n",
              "            '<a target=\"_blank\" href=https://colab.research.google.com/notebooks/data_table.ipynb>data table notebook</a>'\n",
              "            + ' to learn more about interactive tables.';\n",
              "          element.innerHTML = '';\n",
              "          dataTable['output_type'] = 'display_data';\n",
              "          await google.colab.output.renderOutput(dataTable, element);\n",
              "          const docLink = document.createElement('div');\n",
              "          docLink.innerHTML = docLinkHtml;\n",
              "          element.appendChild(docLink);\n",
              "        }\n",
              "      </script>\n",
              "    </div>\n",
              "  </div>\n",
              "  "
            ]
          },
          "metadata": {},
          "execution_count": 442
        }
      ],
      "source": [
        "sexo = sexo.merge(posto, left_on='Renda', right_on='Renda', how = 'left')\n",
        "sexo"
      ]
    },
    {
      "cell_type": "markdown",
      "metadata": {
        "id": "LFcpe4l_psm-"
      },
      "source": [
        "### Obtendo $R$\n",
        "\n",
        "### $R_1$ = soma dos postos do grupo $n_1$\n",
        "### $R_2$ = soma dos postos do grupo $n_2$"
      ]
    },
    {
      "cell_type": "code",
      "execution_count": 443,
      "metadata": {
        "id": "Y3OnPJ7_psm_",
        "colab": {
          "base_uri": "https://localhost:8080/",
          "height": 143
        },
        "outputId": "b2305ce5-e1c6-498b-807b-ccdac03d7faa"
      },
      "outputs": [
        {
          "output_type": "execute_result",
          "data": {
            "text/plain": [
              "          Posto\n",
              "Sexo           \n",
              "Homens     61.0\n",
              "Mulheres   44.0"
            ],
            "text/html": [
              "\n",
              "  <div id=\"df-e69f8230-3201-4076-8b23-c65c60270487\">\n",
              "    <div class=\"colab-df-container\">\n",
              "      <div>\n",
              "<style scoped>\n",
              "    .dataframe tbody tr th:only-of-type {\n",
              "        vertical-align: middle;\n",
              "    }\n",
              "\n",
              "    .dataframe tbody tr th {\n",
              "        vertical-align: top;\n",
              "    }\n",
              "\n",
              "    .dataframe thead th {\n",
              "        text-align: right;\n",
              "    }\n",
              "</style>\n",
              "<table border=\"1\" class=\"dataframe\">\n",
              "  <thead>\n",
              "    <tr style=\"text-align: right;\">\n",
              "      <th></th>\n",
              "      <th>Posto</th>\n",
              "    </tr>\n",
              "    <tr>\n",
              "      <th>Sexo</th>\n",
              "      <th></th>\n",
              "    </tr>\n",
              "  </thead>\n",
              "  <tbody>\n",
              "    <tr>\n",
              "      <th>Homens</th>\n",
              "      <td>61.0</td>\n",
              "    </tr>\n",
              "    <tr>\n",
              "      <th>Mulheres</th>\n",
              "      <td>44.0</td>\n",
              "    </tr>\n",
              "  </tbody>\n",
              "</table>\n",
              "</div>\n",
              "      <button class=\"colab-df-convert\" onclick=\"convertToInteractive('df-e69f8230-3201-4076-8b23-c65c60270487')\"\n",
              "              title=\"Convert this dataframe to an interactive table.\"\n",
              "              style=\"display:none;\">\n",
              "        \n",
              "  <svg xmlns=\"http://www.w3.org/2000/svg\" height=\"24px\"viewBox=\"0 0 24 24\"\n",
              "       width=\"24px\">\n",
              "    <path d=\"M0 0h24v24H0V0z\" fill=\"none\"/>\n",
              "    <path d=\"M18.56 5.44l.94 2.06.94-2.06 2.06-.94-2.06-.94-.94-2.06-.94 2.06-2.06.94zm-11 1L8.5 8.5l.94-2.06 2.06-.94-2.06-.94L8.5 2.5l-.94 2.06-2.06.94zm10 10l.94 2.06.94-2.06 2.06-.94-2.06-.94-.94-2.06-.94 2.06-2.06.94z\"/><path d=\"M17.41 7.96l-1.37-1.37c-.4-.4-.92-.59-1.43-.59-.52 0-1.04.2-1.43.59L10.3 9.45l-7.72 7.72c-.78.78-.78 2.05 0 2.83L4 21.41c.39.39.9.59 1.41.59.51 0 1.02-.2 1.41-.59l7.78-7.78 2.81-2.81c.8-.78.8-2.07 0-2.86zM5.41 20L4 18.59l7.72-7.72 1.47 1.35L5.41 20z\"/>\n",
              "  </svg>\n",
              "      </button>\n",
              "      \n",
              "  <style>\n",
              "    .colab-df-container {\n",
              "      display:flex;\n",
              "      flex-wrap:wrap;\n",
              "      gap: 12px;\n",
              "    }\n",
              "\n",
              "    .colab-df-convert {\n",
              "      background-color: #E8F0FE;\n",
              "      border: none;\n",
              "      border-radius: 50%;\n",
              "      cursor: pointer;\n",
              "      display: none;\n",
              "      fill: #1967D2;\n",
              "      height: 32px;\n",
              "      padding: 0 0 0 0;\n",
              "      width: 32px;\n",
              "    }\n",
              "\n",
              "    .colab-df-convert:hover {\n",
              "      background-color: #E2EBFA;\n",
              "      box-shadow: 0px 1px 2px rgba(60, 64, 67, 0.3), 0px 1px 3px 1px rgba(60, 64, 67, 0.15);\n",
              "      fill: #174EA6;\n",
              "    }\n",
              "\n",
              "    [theme=dark] .colab-df-convert {\n",
              "      background-color: #3B4455;\n",
              "      fill: #D2E3FC;\n",
              "    }\n",
              "\n",
              "    [theme=dark] .colab-df-convert:hover {\n",
              "      background-color: #434B5C;\n",
              "      box-shadow: 0px 1px 3px 1px rgba(0, 0, 0, 0.15);\n",
              "      filter: drop-shadow(0px 1px 2px rgba(0, 0, 0, 0.3));\n",
              "      fill: #FFFFFF;\n",
              "    }\n",
              "  </style>\n",
              "\n",
              "      <script>\n",
              "        const buttonEl =\n",
              "          document.querySelector('#df-e69f8230-3201-4076-8b23-c65c60270487 button.colab-df-convert');\n",
              "        buttonEl.style.display =\n",
              "          google.colab.kernel.accessAllowed ? 'block' : 'none';\n",
              "\n",
              "        async function convertToInteractive(key) {\n",
              "          const element = document.querySelector('#df-e69f8230-3201-4076-8b23-c65c60270487');\n",
              "          const dataTable =\n",
              "            await google.colab.kernel.invokeFunction('convertToInteractive',\n",
              "                                                     [key], {});\n",
              "          if (!dataTable) return;\n",
              "\n",
              "          const docLinkHtml = 'Like what you see? Visit the ' +\n",
              "            '<a target=\"_blank\" href=https://colab.research.google.com/notebooks/data_table.ipynb>data table notebook</a>'\n",
              "            + ' to learn more about interactive tables.';\n",
              "          element.innerHTML = '';\n",
              "          dataTable['output_type'] = 'display_data';\n",
              "          await google.colab.output.renderOutput(dataTable, element);\n",
              "          const docLink = document.createElement('div');\n",
              "          docLink.innerHTML = docLinkHtml;\n",
              "          element.appendChild(docLink);\n",
              "        }\n",
              "      </script>\n",
              "    </div>\n",
              "  </div>\n",
              "  "
            ]
          },
          "metadata": {},
          "execution_count": 443
        }
      ],
      "source": [
        "Temp = sexo[['Sexo', 'Posto']].groupby('Sexo').sum()\n",
        "Temp"
      ]
    },
    {
      "cell_type": "code",
      "execution_count": 444,
      "metadata": {
        "id": "mkbp_OgepsnA",
        "colab": {
          "base_uri": "https://localhost:8080/"
        },
        "outputId": "b7bfb8fd-4cae-49ad-bad0-6c2809f0118a"
      },
      "outputs": [
        {
          "output_type": "execute_result",
          "data": {
            "text/plain": [
              "61.0"
            ]
          },
          "metadata": {},
          "execution_count": 444
        }
      ],
      "source": [
        "R_1 = Temp.loc['Homens'][0]\n",
        "R_1"
      ]
    },
    {
      "cell_type": "code",
      "execution_count": 445,
      "metadata": {
        "id": "zZuZTlp0psnB",
        "colab": {
          "base_uri": "https://localhost:8080/"
        },
        "outputId": "ca68e5d5-9d61-4cc0-c8fd-2f45454672a0"
      },
      "outputs": [
        {
          "output_type": "execute_result",
          "data": {
            "text/plain": [
              "44.0"
            ]
          },
          "metadata": {},
          "execution_count": 445
        }
      ],
      "source": [
        "R_2 = Temp.loc['Mulheres'][0]\n",
        "R_2"
      ]
    },
    {
      "cell_type": "markdown",
      "metadata": {
        "id": "VheEyfc8psnC"
      },
      "source": [
        "### Obter $u$\n",
        "\n",
        "# $$u_1 = n_1 \\times n_2 + \\frac{n_1 \\times (n_1 + 1)}{2} - R_1$$\n",
        "# $$u_2 = n_1 \\times n_2 + \\frac{n_2 \\times (n_2 + 1)}{2} - R_2$$\n",
        "\n",
        "# $$u = min(u_1, u_2)$$\n"
      ]
    },
    {
      "cell_type": "code",
      "execution_count": 446,
      "metadata": {
        "id": "zUr2AlPcpsnC",
        "colab": {
          "base_uri": "https://localhost:8080/"
        },
        "outputId": "82866b28-ea09-4eb8-c082-a9fcd56b32d1"
      },
      "outputs": [
        {
          "output_type": "execute_result",
          "data": {
            "text/plain": [
              "8.0"
            ]
          },
          "metadata": {},
          "execution_count": 446
        }
      ],
      "source": [
        "u_1 = n_1 * n_2 + ((n_1 * (n_1 + 1)) / (2)) - R_1\n",
        "u_1"
      ]
    },
    {
      "cell_type": "code",
      "execution_count": 447,
      "metadata": {
        "id": "rFYBYtf9psnE",
        "colab": {
          "base_uri": "https://localhost:8080/"
        },
        "outputId": "a6dddbc2-df0a-43da-d4ff-c8ddf6fb7c8b"
      },
      "outputs": [
        {
          "output_type": "execute_result",
          "data": {
            "text/plain": [
              "40.0"
            ]
          },
          "metadata": {},
          "execution_count": 447
        }
      ],
      "source": [
        "u_2 = n_1 * n_2 + ((n_2 * (n_2 + 1)) / (2)) - R_2\n",
        "u_2"
      ]
    },
    {
      "cell_type": "code",
      "execution_count": 448,
      "metadata": {
        "id": "2TodtD_jpsnF",
        "colab": {
          "base_uri": "https://localhost:8080/"
        },
        "outputId": "8ffe3384-473f-4243-a80b-50fbea98cc36"
      },
      "outputs": [
        {
          "output_type": "execute_result",
          "data": {
            "text/plain": [
              "8.0"
            ]
          },
          "metadata": {},
          "execution_count": 448
        }
      ],
      "source": [
        "u = min(u_1, u_2)\n",
        "u"
      ]
    },
    {
      "cell_type": "markdown",
      "metadata": {
        "id": "v9JqAVXTpsnH"
      },
      "source": [
        "### Obter $\\mu{(u)}$\n",
        "\n",
        "# $$\\mu{(u)} = \\frac{n_1 \\times n_2}{2}$$"
      ]
    },
    {
      "cell_type": "code",
      "execution_count": 449,
      "metadata": {
        "id": "ANX33u8upsnH",
        "colab": {
          "base_uri": "https://localhost:8080/"
        },
        "outputId": "f9cf4fa3-3566-4938-de13-69f2cf83359c"
      },
      "outputs": [
        {
          "output_type": "execute_result",
          "data": {
            "text/plain": [
              "24.0"
            ]
          },
          "metadata": {},
          "execution_count": 449
        }
      ],
      "source": [
        "mu_u = (n_1 * n_2) / 2\n",
        "mu_u"
      ]
    },
    {
      "cell_type": "markdown",
      "metadata": {
        "id": "mAEF6gUVpsnI"
      },
      "source": [
        "### Obter $\\sigma{(u)}$\n",
        "\n",
        "# $$\\sigma{(u)} = \\sqrt{\\frac{n_1 \\times n_2 \\times (n_1 + n_2 + 1)}{12}}$$"
      ]
    },
    {
      "cell_type": "code",
      "execution_count": 450,
      "metadata": {
        "id": "fyoNElj2psnI",
        "colab": {
          "base_uri": "https://localhost:8080/"
        },
        "outputId": "76c4a28c-687d-4757-baea-1893808191ef"
      },
      "outputs": [
        {
          "output_type": "execute_result",
          "data": {
            "text/plain": [
              "7.745966692414834"
            ]
          },
          "metadata": {},
          "execution_count": 450
        }
      ],
      "source": [
        "sigma_u = np.sqrt(n_1 * n_2 * (n_1 + n_2 + 1) / 12)\n",
        "sigma_u"
      ]
    },
    {
      "cell_type": "markdown",
      "metadata": {
        "id": "T_s3WFVtpsnI"
      },
      "source": [
        "### Obter $Z$\n",
        "\n",
        "# $$Z = \\frac{u - \\mu{(u)}}{\\sigma{(u)}}$$"
      ]
    },
    {
      "cell_type": "code",
      "execution_count": 451,
      "metadata": {
        "id": "YwySSfs1psnJ",
        "colab": {
          "base_uri": "https://localhost:8080/"
        },
        "outputId": "9c040629-f000-4022-f5cf-129d6725085a"
      },
      "outputs": [
        {
          "output_type": "execute_result",
          "data": {
            "text/plain": [
              "-2.07"
            ]
          },
          "metadata": {},
          "execution_count": 451
        }
      ],
      "source": [
        "Z = (u - mu_u) / sigma_u\n",
        "Z.round(2)"
      ]
    },
    {
      "cell_type": "markdown",
      "metadata": {
        "id": "ET0XFyyTpsnJ"
      },
      "source": [
        "![Estatística-Teste](https://caelum-online-public.s3.amazonaws.com/1229-estatistica-parte3/01/img024.png)"
      ]
    },
    {
      "cell_type": "markdown",
      "metadata": {
        "id": "qSMrqg9lpsnJ"
      },
      "source": [
        "---"
      ]
    },
    {
      "cell_type": "markdown",
      "metadata": {
        "id": "04hb7sbUpsnK"
      },
      "source": [
        "### **Passo 5** - Aceitação ou rejeição da hipótese nula"
      ]
    },
    {
      "cell_type": "markdown",
      "metadata": {
        "id": "u_jtIZQYpsnK"
      },
      "source": [
        "<img src='https://caelum-online-public.s3.amazonaws.com/1229-estatistica-parte3/01/img025.png' width='80%'>"
      ]
    },
    {
      "cell_type": "markdown",
      "metadata": {
        "id": "tKXPtt7ypsnK"
      },
      "source": [
        "### <font color='red'>Critério do valor crítico</font>\n",
        "\n",
        "> ### Rejeitar $H_0$ se $Z \\leq -t_{\\alpha}$"
      ]
    },
    {
      "cell_type": "code",
      "execution_count": 452,
      "metadata": {
        "id": "YUnoj7r5psnK",
        "colab": {
          "base_uri": "https://localhost:8080/"
        },
        "outputId": "ed57bd72-4cdc-4306-8d08-f30477dae976"
      },
      "outputs": [
        {
          "output_type": "execute_result",
          "data": {
            "text/plain": [
              "True"
            ]
          },
          "metadata": {},
          "execution_count": 452
        }
      ],
      "source": [
        "Z <= t_alpha"
      ]
    },
    {
      "cell_type": "markdown",
      "metadata": {
        "id": "2vh3CcxgpsnM"
      },
      "source": [
        "### <font color='green'>Conclusão: Rejeitamos a hipótese de que não existe diferença entre os grupos, isto é, concluímos que a média das rendas dos chefes de domicílios do sexo feminino é menor que a média das rendas dos chefes de domicílios do sexo masculino. Confirmando a alegação de desigualdade de renda entre os sexos.</font>"
      ]
    },
    {
      "cell_type": "markdown",
      "metadata": {
        "id": "EJiw3TwCpsnM"
      },
      "source": [
        "### <font color='red'>Critério do valor $p$</font>\n",
        "\n",
        "> ### Rejeitar $H_0$ se o valor $p\\leq\\alpha$"
      ]
    },
    {
      "cell_type": "markdown",
      "metadata": {
        "id": "U__FbtXEpsnM"
      },
      "source": [
        "https://docs.scipy.org/doc/scipy/reference/generated/scipy.stats.mannwhitneyu.html"
      ]
    },
    {
      "cell_type": "code",
      "execution_count": null,
      "metadata": {
        "id": "b21fe4hQpsnM"
      },
      "outputs": [],
      "source": []
    },
    {
      "cell_type": "code",
      "execution_count": null,
      "metadata": {
        "id": "xBG8n1qPpsnN"
      },
      "outputs": [],
      "source": []
    },
    {
      "cell_type": "code",
      "execution_count": null,
      "metadata": {
        "id": "DIo9w6wNpsnO"
      },
      "outputs": [],
      "source": []
    },
    {
      "cell_type": "markdown",
      "metadata": {
        "id": "aydvymEdpsnO"
      },
      "source": [
        "---"
      ]
    }
  ],
  "metadata": {
    "colab": {
      "collapsed_sections": [
        "cVgsZ_E3jQKg",
        "nk65O0lepz57"
      ],
      "provenance": []
    },
    "kernelspec": {
      "display_name": "Python 3",
      "language": "python",
      "name": "python3"
    },
    "language_info": {
      "codemirror_mode": {
        "name": "ipython",
        "version": 3
      },
      "file_extension": ".py",
      "mimetype": "text/x-python",
      "name": "python",
      "nbconvert_exporter": "python",
      "pygments_lexer": "ipython3",
      "version": "3.6.5"
    }
  },
  "nbformat": 4,
  "nbformat_minor": 0
}