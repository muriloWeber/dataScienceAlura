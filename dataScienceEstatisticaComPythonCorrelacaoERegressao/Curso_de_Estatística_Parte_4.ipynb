{
  "cells": [
    {
      "cell_type": "markdown",
      "metadata": {
        "id": "WvMflodMjQKe"
      },
      "source": [
        "# <font color=green size=10>CURSO DE ESTATÍSTICA - PARTE 4</font>\n",
        "***"
      ]
    },
    {
      "cell_type": "markdown",
      "metadata": {
        "id": "cVgsZ_E3jQKg"
      },
      "source": [
        "# <font color=green>1 CONHECENDO OS DADOS</font>\n",
        "***"
      ]
    },
    {
      "cell_type": "markdown",
      "metadata": {
        "id": "TDjqYYNojQKh"
      },
      "source": [
        "## <font color=green>1.1 Dataset do projeto</font>\n",
        "***"
      ]
    },
    {
      "cell_type": "markdown",
      "metadata": {
        "id": "iN1gIbaKjQKh"
      },
      "source": [
        "### Pesquisa Nacional por Amostra de Domicílios - 2015\n",
        "\n",
        "A <b>Pesquisa Nacional por Amostra de Domicílios - PNAD</b> investiga anualmente, de forma permanente, características gerais da população, de educação, trabalho, rendimento e habitação e outras, com periodicidade variável, de acordo com as necessidades de informação para o país, como as características sobre migração, fecundidade, nupcialidade, saúde, segurança alimentar, entre outros temas. O levantamento dessas estatísticas constitui, ao longo dos 49 anos de realização da pesquisa, um importante instrumento para formulação, validação e avaliação de políticas orientadas para o desenvolvimento socioeconômico e a melhoria das condições de vida no Brasil."
      ]
    },
    {
      "cell_type": "markdown",
      "metadata": {
        "id": "U6V7br1RjQKi"
      },
      "source": [
        "### Fonte dos Dados\n",
        "\n",
        "https://ww2.ibge.gov.br/home/estatistica/populacao/trabalhoerendimento/pnad2015/microdados.shtm"
      ]
    },
    {
      "cell_type": "markdown",
      "metadata": {
        "id": "r0Fe_qnzjQKj"
      },
      "source": [
        "### Variáveis utilizadas\n",
        "\n",
        "> ### Renda\n",
        "> ***\n",
        "\n",
        "Rendimento mensal do trabalho principal para pessoas de 10 anos ou mais de idade.\n",
        "\n",
        "> ### Idade\n",
        "> ***\n",
        "\n",
        "Idade do morador na data de referência em anos.\n",
        "\n",
        "> ### Altura (elaboração própria)\n",
        "> ***\n",
        "\n",
        "Altura do morador em metros.\n",
        "\n",
        "> ### UF\n",
        "> ***\n",
        "\n",
        "|Código|Descrição|\n",
        "|---|---|\n",
        "|11|Rondônia|\n",
        "|12|Acre|\n",
        "|13|Amazonas|\n",
        "|14|Roraima|\n",
        "|15|Pará|\n",
        "|16|Amapá|\n",
        "|17|Tocantins|\n",
        "|21|Maranhão|\n",
        "|22|Piauí|\n",
        "|23|Ceará|\n",
        "|24|Rio Grande do Norte|\n",
        "|25|Paraíba|\n",
        "|26|Pernambuco|\n",
        "|27|Alagoas|\n",
        "|28|Sergipe|\n",
        "|29|Bahia|\n",
        "|31|Minas Gerais|\n",
        "|32|Espírito Santo|\n",
        "|33|Rio de Janeiro|\n",
        "|35|São Paulo|\n",
        "|41|Paraná|\n",
        "|42|Santa Catarina|\n",
        "|43|Rio Grande do Sul|\n",
        "|50|Mato Grosso do Sul|\n",
        "|51|Mato Grosso|\n",
        "|52|Goiás|\n",
        "|53|Distrito Federal|\n",
        "\n",
        "> ### Sexo\t\n",
        "> ***\n",
        "\n",
        "|Código|Descrição|\n",
        "|---|---|\n",
        "|0|Masculino|\n",
        "|1|Feminino|\n",
        "\n",
        "> ### Anos de Estudo\n",
        "> ***\n",
        "\n",
        "|Código|Descrição|\n",
        "|---|---|\n",
        "|1|Sem instrução e menos de 1 ano|\n",
        "|2|1 ano|\n",
        "|3|2 anos|\n",
        "|4|3 anos|\n",
        "|5|4 anos|\n",
        "|6|5 anos|\n",
        "|7|6 anos|\n",
        "|8|7 anos|\n",
        "|9|8 anos|\n",
        "|10|9 anos|\n",
        "|11|10 anos|\n",
        "|12|11 anos|\n",
        "|13|12 anos|\n",
        "|14|13 anos|\n",
        "|15|14 anos|\n",
        "|16|15 anos ou mais|\n",
        "|17|Não determinados| \n",
        "||Não aplicável|\n",
        "\n",
        "> ### Cor\n",
        "> ***\n",
        "\n",
        "|Código|Descrição|\n",
        "|---|---|\n",
        "|0|Indígena|\n",
        "|2|Branca|\n",
        "|4|Preta|\n",
        "|6|Amarela|\n",
        "|8|Parda|\n",
        "|9|Sem declaração|"
      ]
    },
    {
      "cell_type": "markdown",
      "metadata": {
        "id": "OK1IQH5cX7Gb"
      },
      "source": [
        "#### <font color='red'>Observação</font>\n",
        "***\n",
        "> Os seguintes tratamentos foram realizados nos dados originais:\n",
        "> 1. Foram eliminados os registros onde a <b>Renda</b> era inválida (999 999 999 999);\n",
        "> 2. Foram eliminados os registros onde a <b>Renda</b> era missing;\n",
        "> 3. Foram considerados somente os registros das <b>Pessoas de Referência</b> de cada domicílio (responsável pelo domicílio)."
      ]
    },
    {
      "cell_type": "markdown",
      "metadata": {
        "id": "_mFnZ15pcmu1"
      },
      "source": [
        "### Solução do problema com dependência do statsmodels"
      ]
    },
    {
      "cell_type": "code",
      "execution_count": 73,
      "metadata": {
        "id": "m5QYUoH4cnp1"
      },
      "outputs": [],
      "source": [
        "# Retire o comentário da linha de código abaixo caso precise fazer a correção\n",
        "\n",
        "# !pip install scipy==1.2 --upgrade"
      ]
    },
    {
      "cell_type": "markdown",
      "metadata": {
        "id": "MAO1aY6GcajB"
      },
      "source": [
        "### Importando bibliotecas\n",
        "\n",
        "https://pandas.pydata.org/\n",
        "\n",
        "https://www.numpy.org/\n",
        "\n",
        "https://seaborn.pydata.org/"
      ]
    },
    {
      "cell_type": "code",
      "execution_count": 74,
      "metadata": {
        "id": "8QgOpE-wjQKl"
      },
      "outputs": [],
      "source": [
        "import pandas as pd\n",
        "import numpy as np\n",
        "import seaborn as sns"
      ]
    },
    {
      "cell_type": "markdown",
      "metadata": {
        "id": "8Rw70V6ojQKk"
      },
      "source": [
        "### Lendo o dataset do projeto"
      ]
    },
    {
      "cell_type": "code",
      "execution_count": 75,
      "metadata": {
        "id": "ufRZ7TLwjQKo"
      },
      "outputs": [],
      "source": [
        "dados = pd.read_csv('dados.csv')"
      ]
    },
    {
      "cell_type": "code",
      "execution_count": 76,
      "metadata": {
        "colab": {
          "base_uri": "https://localhost:8080/",
          "height": 206
        },
        "id": "GsC_WhLFjQKq",
        "outputId": "8d4f326f-e3d7-4b56-9447-0a76884ec7d9",
        "scrolled": true
      },
      "outputs": [
        {
          "output_type": "execute_result",
          "data": {
            "text/plain": [
              "   UF  Sexo  Idade  Cor  Anos de Estudo  Renda    Altura\n",
              "0  11     0     23    8              12    800  1.603808\n",
              "1  11     1     23    2              12   1150  1.739790\n",
              "2  11     1     35    8              15    880  1.760444\n",
              "3  11     0     46    2               6   3500  1.783158\n",
              "4  11     1     47    8               9    150  1.690631"
            ],
            "text/html": [
              "\n",
              "  <div id=\"df-8fcd0c8c-9c4c-46d3-a2da-f3d30c73a4e7\">\n",
              "    <div class=\"colab-df-container\">\n",
              "      <div>\n",
              "<style scoped>\n",
              "    .dataframe tbody tr th:only-of-type {\n",
              "        vertical-align: middle;\n",
              "    }\n",
              "\n",
              "    .dataframe tbody tr th {\n",
              "        vertical-align: top;\n",
              "    }\n",
              "\n",
              "    .dataframe thead th {\n",
              "        text-align: right;\n",
              "    }\n",
              "</style>\n",
              "<table border=\"1\" class=\"dataframe\">\n",
              "  <thead>\n",
              "    <tr style=\"text-align: right;\">\n",
              "      <th></th>\n",
              "      <th>UF</th>\n",
              "      <th>Sexo</th>\n",
              "      <th>Idade</th>\n",
              "      <th>Cor</th>\n",
              "      <th>Anos de Estudo</th>\n",
              "      <th>Renda</th>\n",
              "      <th>Altura</th>\n",
              "    </tr>\n",
              "  </thead>\n",
              "  <tbody>\n",
              "    <tr>\n",
              "      <th>0</th>\n",
              "      <td>11</td>\n",
              "      <td>0</td>\n",
              "      <td>23</td>\n",
              "      <td>8</td>\n",
              "      <td>12</td>\n",
              "      <td>800</td>\n",
              "      <td>1.603808</td>\n",
              "    </tr>\n",
              "    <tr>\n",
              "      <th>1</th>\n",
              "      <td>11</td>\n",
              "      <td>1</td>\n",
              "      <td>23</td>\n",
              "      <td>2</td>\n",
              "      <td>12</td>\n",
              "      <td>1150</td>\n",
              "      <td>1.739790</td>\n",
              "    </tr>\n",
              "    <tr>\n",
              "      <th>2</th>\n",
              "      <td>11</td>\n",
              "      <td>1</td>\n",
              "      <td>35</td>\n",
              "      <td>8</td>\n",
              "      <td>15</td>\n",
              "      <td>880</td>\n",
              "      <td>1.760444</td>\n",
              "    </tr>\n",
              "    <tr>\n",
              "      <th>3</th>\n",
              "      <td>11</td>\n",
              "      <td>0</td>\n",
              "      <td>46</td>\n",
              "      <td>2</td>\n",
              "      <td>6</td>\n",
              "      <td>3500</td>\n",
              "      <td>1.783158</td>\n",
              "    </tr>\n",
              "    <tr>\n",
              "      <th>4</th>\n",
              "      <td>11</td>\n",
              "      <td>1</td>\n",
              "      <td>47</td>\n",
              "      <td>8</td>\n",
              "      <td>9</td>\n",
              "      <td>150</td>\n",
              "      <td>1.690631</td>\n",
              "    </tr>\n",
              "  </tbody>\n",
              "</table>\n",
              "</div>\n",
              "      <button class=\"colab-df-convert\" onclick=\"convertToInteractive('df-8fcd0c8c-9c4c-46d3-a2da-f3d30c73a4e7')\"\n",
              "              title=\"Convert this dataframe to an interactive table.\"\n",
              "              style=\"display:none;\">\n",
              "        \n",
              "  <svg xmlns=\"http://www.w3.org/2000/svg\" height=\"24px\"viewBox=\"0 0 24 24\"\n",
              "       width=\"24px\">\n",
              "    <path d=\"M0 0h24v24H0V0z\" fill=\"none\"/>\n",
              "    <path d=\"M18.56 5.44l.94 2.06.94-2.06 2.06-.94-2.06-.94-.94-2.06-.94 2.06-2.06.94zm-11 1L8.5 8.5l.94-2.06 2.06-.94-2.06-.94L8.5 2.5l-.94 2.06-2.06.94zm10 10l.94 2.06.94-2.06 2.06-.94-2.06-.94-.94-2.06-.94 2.06-2.06.94z\"/><path d=\"M17.41 7.96l-1.37-1.37c-.4-.4-.92-.59-1.43-.59-.52 0-1.04.2-1.43.59L10.3 9.45l-7.72 7.72c-.78.78-.78 2.05 0 2.83L4 21.41c.39.39.9.59 1.41.59.51 0 1.02-.2 1.41-.59l7.78-7.78 2.81-2.81c.8-.78.8-2.07 0-2.86zM5.41 20L4 18.59l7.72-7.72 1.47 1.35L5.41 20z\"/>\n",
              "  </svg>\n",
              "      </button>\n",
              "      \n",
              "  <style>\n",
              "    .colab-df-container {\n",
              "      display:flex;\n",
              "      flex-wrap:wrap;\n",
              "      gap: 12px;\n",
              "    }\n",
              "\n",
              "    .colab-df-convert {\n",
              "      background-color: #E8F0FE;\n",
              "      border: none;\n",
              "      border-radius: 50%;\n",
              "      cursor: pointer;\n",
              "      display: none;\n",
              "      fill: #1967D2;\n",
              "      height: 32px;\n",
              "      padding: 0 0 0 0;\n",
              "      width: 32px;\n",
              "    }\n",
              "\n",
              "    .colab-df-convert:hover {\n",
              "      background-color: #E2EBFA;\n",
              "      box-shadow: 0px 1px 2px rgba(60, 64, 67, 0.3), 0px 1px 3px 1px rgba(60, 64, 67, 0.15);\n",
              "      fill: #174EA6;\n",
              "    }\n",
              "\n",
              "    [theme=dark] .colab-df-convert {\n",
              "      background-color: #3B4455;\n",
              "      fill: #D2E3FC;\n",
              "    }\n",
              "\n",
              "    [theme=dark] .colab-df-convert:hover {\n",
              "      background-color: #434B5C;\n",
              "      box-shadow: 0px 1px 3px 1px rgba(0, 0, 0, 0.15);\n",
              "      filter: drop-shadow(0px 1px 2px rgba(0, 0, 0, 0.3));\n",
              "      fill: #FFFFFF;\n",
              "    }\n",
              "  </style>\n",
              "\n",
              "      <script>\n",
              "        const buttonEl =\n",
              "          document.querySelector('#df-8fcd0c8c-9c4c-46d3-a2da-f3d30c73a4e7 button.colab-df-convert');\n",
              "        buttonEl.style.display =\n",
              "          google.colab.kernel.accessAllowed ? 'block' : 'none';\n",
              "\n",
              "        async function convertToInteractive(key) {\n",
              "          const element = document.querySelector('#df-8fcd0c8c-9c4c-46d3-a2da-f3d30c73a4e7');\n",
              "          const dataTable =\n",
              "            await google.colab.kernel.invokeFunction('convertToInteractive',\n",
              "                                                     [key], {});\n",
              "          if (!dataTable) return;\n",
              "\n",
              "          const docLinkHtml = 'Like what you see? Visit the ' +\n",
              "            '<a target=\"_blank\" href=https://colab.research.google.com/notebooks/data_table.ipynb>data table notebook</a>'\n",
              "            + ' to learn more about interactive tables.';\n",
              "          element.innerHTML = '';\n",
              "          dataTable['output_type'] = 'display_data';\n",
              "          await google.colab.output.renderOutput(dataTable, element);\n",
              "          const docLink = document.createElement('div');\n",
              "          docLink.innerHTML = docLinkHtml;\n",
              "          element.appendChild(docLink);\n",
              "        }\n",
              "      </script>\n",
              "    </div>\n",
              "  </div>\n",
              "  "
            ]
          },
          "metadata": {},
          "execution_count": 76
        }
      ],
      "source": [
        "dados.head()"
      ]
    },
    {
      "cell_type": "markdown",
      "metadata": {
        "id": "I8SZvx_GcajO"
      },
      "source": [
        "---"
      ]
    },
    {
      "cell_type": "markdown",
      "metadata": {
        "id": "dPTT675fcajP"
      },
      "source": [
        "# <font color=green>2 RODANDO UMA REGRESSÃO LINEAR</font>\n",
        "***"
      ]
    },
    {
      "cell_type": "markdown",
      "metadata": {
        "id": "yRxm2BrFcajQ"
      },
      "source": [
        "## Dataset de exemplo\n",
        "> ### $Y$ = Gasto das famílias\n",
        "> ### $X$ = Renda das Famílias"
      ]
    },
    {
      "cell_type": "code",
      "execution_count": 77,
      "metadata": {
        "id": "TvENegfwcajQ"
      },
      "outputs": [],
      "source": [
        "dataset = {\n",
        "    'Y': [3011, 1305, 1879, 2654, 2849, 1068, 2892, 2543, 3074, 849, 2184, 2943, 1357, 2755, 2163, 3099, 1600, 353, 1778, 740, 2129, 3302, 2412, 2683, 2515, 2395, 2292, 1000, 600, 1864, 3027, 1978, 2791, 1982, 900, 1964, 1247, 3067, 700, 1500, 3110, 2644, 1378, 2601, 501, 1292, 2125, 1431, 2260, 1770],\n",
        "    'X': [9714, 3728, 6062, 8845, 8378, 3338, 8507, 7947, 9915, 1632, 6825, 8918, 4100, 9184, 6180, 9997, 4500, 1069, 5925, 2466, 6083, 9712, 7780, 8383, 7185, 7483, 7640, 2100, 2000, 6012, 8902, 5345, 8210, 5662, 2700, 6546, 2900, 9894, 1500, 5000, 8885, 8813, 3446, 7881, 1164, 3401, 6641, 3329, 6648, 4800]\n",
        "}"
      ]
    },
    {
      "cell_type": "code",
      "execution_count": 78,
      "metadata": {
        "colab": {
          "base_uri": "https://localhost:8080/",
          "height": 206
        },
        "id": "HfeWvtFWcajT",
        "outputId": "2a8db0dd-47ca-4618-8ced-3b2a3f82a4ad"
      },
      "outputs": [
        {
          "output_type": "execute_result",
          "data": {
            "text/plain": [
              "      Y     X\n",
              "0  3011  9714\n",
              "1  1305  3728\n",
              "2  1879  6062\n",
              "3  2654  8845\n",
              "4  2849  8378"
            ],
            "text/html": [
              "\n",
              "  <div id=\"df-f95e1da2-9fbc-4d09-95fe-d4db232981d3\">\n",
              "    <div class=\"colab-df-container\">\n",
              "      <div>\n",
              "<style scoped>\n",
              "    .dataframe tbody tr th:only-of-type {\n",
              "        vertical-align: middle;\n",
              "    }\n",
              "\n",
              "    .dataframe tbody tr th {\n",
              "        vertical-align: top;\n",
              "    }\n",
              "\n",
              "    .dataframe thead th {\n",
              "        text-align: right;\n",
              "    }\n",
              "</style>\n",
              "<table border=\"1\" class=\"dataframe\">\n",
              "  <thead>\n",
              "    <tr style=\"text-align: right;\">\n",
              "      <th></th>\n",
              "      <th>Y</th>\n",
              "      <th>X</th>\n",
              "    </tr>\n",
              "  </thead>\n",
              "  <tbody>\n",
              "    <tr>\n",
              "      <th>0</th>\n",
              "      <td>3011</td>\n",
              "      <td>9714</td>\n",
              "    </tr>\n",
              "    <tr>\n",
              "      <th>1</th>\n",
              "      <td>1305</td>\n",
              "      <td>3728</td>\n",
              "    </tr>\n",
              "    <tr>\n",
              "      <th>2</th>\n",
              "      <td>1879</td>\n",
              "      <td>6062</td>\n",
              "    </tr>\n",
              "    <tr>\n",
              "      <th>3</th>\n",
              "      <td>2654</td>\n",
              "      <td>8845</td>\n",
              "    </tr>\n",
              "    <tr>\n",
              "      <th>4</th>\n",
              "      <td>2849</td>\n",
              "      <td>8378</td>\n",
              "    </tr>\n",
              "  </tbody>\n",
              "</table>\n",
              "</div>\n",
              "      <button class=\"colab-df-convert\" onclick=\"convertToInteractive('df-f95e1da2-9fbc-4d09-95fe-d4db232981d3')\"\n",
              "              title=\"Convert this dataframe to an interactive table.\"\n",
              "              style=\"display:none;\">\n",
              "        \n",
              "  <svg xmlns=\"http://www.w3.org/2000/svg\" height=\"24px\"viewBox=\"0 0 24 24\"\n",
              "       width=\"24px\">\n",
              "    <path d=\"M0 0h24v24H0V0z\" fill=\"none\"/>\n",
              "    <path d=\"M18.56 5.44l.94 2.06.94-2.06 2.06-.94-2.06-.94-.94-2.06-.94 2.06-2.06.94zm-11 1L8.5 8.5l.94-2.06 2.06-.94-2.06-.94L8.5 2.5l-.94 2.06-2.06.94zm10 10l.94 2.06.94-2.06 2.06-.94-2.06-.94-.94-2.06-.94 2.06-2.06.94z\"/><path d=\"M17.41 7.96l-1.37-1.37c-.4-.4-.92-.59-1.43-.59-.52 0-1.04.2-1.43.59L10.3 9.45l-7.72 7.72c-.78.78-.78 2.05 0 2.83L4 21.41c.39.39.9.59 1.41.59.51 0 1.02-.2 1.41-.59l7.78-7.78 2.81-2.81c.8-.78.8-2.07 0-2.86zM5.41 20L4 18.59l7.72-7.72 1.47 1.35L5.41 20z\"/>\n",
              "  </svg>\n",
              "      </button>\n",
              "      \n",
              "  <style>\n",
              "    .colab-df-container {\n",
              "      display:flex;\n",
              "      flex-wrap:wrap;\n",
              "      gap: 12px;\n",
              "    }\n",
              "\n",
              "    .colab-df-convert {\n",
              "      background-color: #E8F0FE;\n",
              "      border: none;\n",
              "      border-radius: 50%;\n",
              "      cursor: pointer;\n",
              "      display: none;\n",
              "      fill: #1967D2;\n",
              "      height: 32px;\n",
              "      padding: 0 0 0 0;\n",
              "      width: 32px;\n",
              "    }\n",
              "\n",
              "    .colab-df-convert:hover {\n",
              "      background-color: #E2EBFA;\n",
              "      box-shadow: 0px 1px 2px rgba(60, 64, 67, 0.3), 0px 1px 3px 1px rgba(60, 64, 67, 0.15);\n",
              "      fill: #174EA6;\n",
              "    }\n",
              "\n",
              "    [theme=dark] .colab-df-convert {\n",
              "      background-color: #3B4455;\n",
              "      fill: #D2E3FC;\n",
              "    }\n",
              "\n",
              "    [theme=dark] .colab-df-convert:hover {\n",
              "      background-color: #434B5C;\n",
              "      box-shadow: 0px 1px 3px 1px rgba(0, 0, 0, 0.15);\n",
              "      filter: drop-shadow(0px 1px 2px rgba(0, 0, 0, 0.3));\n",
              "      fill: #FFFFFF;\n",
              "    }\n",
              "  </style>\n",
              "\n",
              "      <script>\n",
              "        const buttonEl =\n",
              "          document.querySelector('#df-f95e1da2-9fbc-4d09-95fe-d4db232981d3 button.colab-df-convert');\n",
              "        buttonEl.style.display =\n",
              "          google.colab.kernel.accessAllowed ? 'block' : 'none';\n",
              "\n",
              "        async function convertToInteractive(key) {\n",
              "          const element = document.querySelector('#df-f95e1da2-9fbc-4d09-95fe-d4db232981d3');\n",
              "          const dataTable =\n",
              "            await google.colab.kernel.invokeFunction('convertToInteractive',\n",
              "                                                     [key], {});\n",
              "          if (!dataTable) return;\n",
              "\n",
              "          const docLinkHtml = 'Like what you see? Visit the ' +\n",
              "            '<a target=\"_blank\" href=https://colab.research.google.com/notebooks/data_table.ipynb>data table notebook</a>'\n",
              "            + ' to learn more about interactive tables.';\n",
              "          element.innerHTML = '';\n",
              "          dataTable['output_type'] = 'display_data';\n",
              "          await google.colab.output.renderOutput(dataTable, element);\n",
              "          const docLink = document.createElement('div');\n",
              "          docLink.innerHTML = docLinkHtml;\n",
              "          element.appendChild(docLink);\n",
              "        }\n",
              "      </script>\n",
              "    </div>\n",
              "  </div>\n",
              "  "
            ]
          },
          "metadata": {},
          "execution_count": 78
        }
      ],
      "source": [
        "dataset = pd.DataFrame(dataset)\n",
        "dataset.head()"
      ]
    },
    {
      "cell_type": "code",
      "execution_count": 79,
      "metadata": {
        "colab": {
          "base_uri": "https://localhost:8080/"
        },
        "id": "NGPOPV1VcajX",
        "outputId": "ba56907d-b12a-4cfe-d7d8-c636a51a40fd"
      },
      "outputs": [
        {
          "output_type": "execute_result",
          "data": {
            "text/plain": [
              "(50, 2)"
            ]
          },
          "metadata": {},
          "execution_count": 79
        }
      ],
      "source": [
        "dataset.shape"
      ]
    },
    {
      "cell_type": "markdown",
      "metadata": {
        "id": "y0Lt1C-Ccaja"
      },
      "source": [
        "### Estatísticas descritivas"
      ]
    },
    {
      "cell_type": "code",
      "execution_count": 80,
      "metadata": {
        "colab": {
          "base_uri": "https://localhost:8080/",
          "height": 300
        },
        "id": "POZusgEccajb",
        "outputId": "acbbfb8d-3f71-44dd-ebe4-8b5e5b8ae1c6"
      },
      "outputs": [
        {
          "output_type": "execute_result",
          "data": {
            "text/plain": [
              "                 Y            X\n",
              "count    50.000000    50.000000\n",
              "mean   2011.120000  6065.500000\n",
              "std     817.214648  2707.187812\n",
              "min     353.000000  1069.000000\n",
              "25%    1362.250000  3516.500000\n",
              "50%    2127.000000  6363.000000\n",
              "75%    2675.750000  8381.750000\n",
              "max    3302.000000  9997.000000"
            ],
            "text/html": [
              "\n",
              "  <div id=\"df-9d2e9b7e-6a78-4b4c-a892-cfc0496978ce\">\n",
              "    <div class=\"colab-df-container\">\n",
              "      <div>\n",
              "<style scoped>\n",
              "    .dataframe tbody tr th:only-of-type {\n",
              "        vertical-align: middle;\n",
              "    }\n",
              "\n",
              "    .dataframe tbody tr th {\n",
              "        vertical-align: top;\n",
              "    }\n",
              "\n",
              "    .dataframe thead th {\n",
              "        text-align: right;\n",
              "    }\n",
              "</style>\n",
              "<table border=\"1\" class=\"dataframe\">\n",
              "  <thead>\n",
              "    <tr style=\"text-align: right;\">\n",
              "      <th></th>\n",
              "      <th>Y</th>\n",
              "      <th>X</th>\n",
              "    </tr>\n",
              "  </thead>\n",
              "  <tbody>\n",
              "    <tr>\n",
              "      <th>count</th>\n",
              "      <td>50.000000</td>\n",
              "      <td>50.000000</td>\n",
              "    </tr>\n",
              "    <tr>\n",
              "      <th>mean</th>\n",
              "      <td>2011.120000</td>\n",
              "      <td>6065.500000</td>\n",
              "    </tr>\n",
              "    <tr>\n",
              "      <th>std</th>\n",
              "      <td>817.214648</td>\n",
              "      <td>2707.187812</td>\n",
              "    </tr>\n",
              "    <tr>\n",
              "      <th>min</th>\n",
              "      <td>353.000000</td>\n",
              "      <td>1069.000000</td>\n",
              "    </tr>\n",
              "    <tr>\n",
              "      <th>25%</th>\n",
              "      <td>1362.250000</td>\n",
              "      <td>3516.500000</td>\n",
              "    </tr>\n",
              "    <tr>\n",
              "      <th>50%</th>\n",
              "      <td>2127.000000</td>\n",
              "      <td>6363.000000</td>\n",
              "    </tr>\n",
              "    <tr>\n",
              "      <th>75%</th>\n",
              "      <td>2675.750000</td>\n",
              "      <td>8381.750000</td>\n",
              "    </tr>\n",
              "    <tr>\n",
              "      <th>max</th>\n",
              "      <td>3302.000000</td>\n",
              "      <td>9997.000000</td>\n",
              "    </tr>\n",
              "  </tbody>\n",
              "</table>\n",
              "</div>\n",
              "      <button class=\"colab-df-convert\" onclick=\"convertToInteractive('df-9d2e9b7e-6a78-4b4c-a892-cfc0496978ce')\"\n",
              "              title=\"Convert this dataframe to an interactive table.\"\n",
              "              style=\"display:none;\">\n",
              "        \n",
              "  <svg xmlns=\"http://www.w3.org/2000/svg\" height=\"24px\"viewBox=\"0 0 24 24\"\n",
              "       width=\"24px\">\n",
              "    <path d=\"M0 0h24v24H0V0z\" fill=\"none\"/>\n",
              "    <path d=\"M18.56 5.44l.94 2.06.94-2.06 2.06-.94-2.06-.94-.94-2.06-.94 2.06-2.06.94zm-11 1L8.5 8.5l.94-2.06 2.06-.94-2.06-.94L8.5 2.5l-.94 2.06-2.06.94zm10 10l.94 2.06.94-2.06 2.06-.94-2.06-.94-.94-2.06-.94 2.06-2.06.94z\"/><path d=\"M17.41 7.96l-1.37-1.37c-.4-.4-.92-.59-1.43-.59-.52 0-1.04.2-1.43.59L10.3 9.45l-7.72 7.72c-.78.78-.78 2.05 0 2.83L4 21.41c.39.39.9.59 1.41.59.51 0 1.02-.2 1.41-.59l7.78-7.78 2.81-2.81c.8-.78.8-2.07 0-2.86zM5.41 20L4 18.59l7.72-7.72 1.47 1.35L5.41 20z\"/>\n",
              "  </svg>\n",
              "      </button>\n",
              "      \n",
              "  <style>\n",
              "    .colab-df-container {\n",
              "      display:flex;\n",
              "      flex-wrap:wrap;\n",
              "      gap: 12px;\n",
              "    }\n",
              "\n",
              "    .colab-df-convert {\n",
              "      background-color: #E8F0FE;\n",
              "      border: none;\n",
              "      border-radius: 50%;\n",
              "      cursor: pointer;\n",
              "      display: none;\n",
              "      fill: #1967D2;\n",
              "      height: 32px;\n",
              "      padding: 0 0 0 0;\n",
              "      width: 32px;\n",
              "    }\n",
              "\n",
              "    .colab-df-convert:hover {\n",
              "      background-color: #E2EBFA;\n",
              "      box-shadow: 0px 1px 2px rgba(60, 64, 67, 0.3), 0px 1px 3px 1px rgba(60, 64, 67, 0.15);\n",
              "      fill: #174EA6;\n",
              "    }\n",
              "\n",
              "    [theme=dark] .colab-df-convert {\n",
              "      background-color: #3B4455;\n",
              "      fill: #D2E3FC;\n",
              "    }\n",
              "\n",
              "    [theme=dark] .colab-df-convert:hover {\n",
              "      background-color: #434B5C;\n",
              "      box-shadow: 0px 1px 3px 1px rgba(0, 0, 0, 0.15);\n",
              "      filter: drop-shadow(0px 1px 2px rgba(0, 0, 0, 0.3));\n",
              "      fill: #FFFFFF;\n",
              "    }\n",
              "  </style>\n",
              "\n",
              "      <script>\n",
              "        const buttonEl =\n",
              "          document.querySelector('#df-9d2e9b7e-6a78-4b4c-a892-cfc0496978ce button.colab-df-convert');\n",
              "        buttonEl.style.display =\n",
              "          google.colab.kernel.accessAllowed ? 'block' : 'none';\n",
              "\n",
              "        async function convertToInteractive(key) {\n",
              "          const element = document.querySelector('#df-9d2e9b7e-6a78-4b4c-a892-cfc0496978ce');\n",
              "          const dataTable =\n",
              "            await google.colab.kernel.invokeFunction('convertToInteractive',\n",
              "                                                     [key], {});\n",
              "          if (!dataTable) return;\n",
              "\n",
              "          const docLinkHtml = 'Like what you see? Visit the ' +\n",
              "            '<a target=\"_blank\" href=https://colab.research.google.com/notebooks/data_table.ipynb>data table notebook</a>'\n",
              "            + ' to learn more about interactive tables.';\n",
              "          element.innerHTML = '';\n",
              "          dataTable['output_type'] = 'display_data';\n",
              "          await google.colab.output.renderOutput(dataTable, element);\n",
              "          const docLink = document.createElement('div');\n",
              "          docLink.innerHTML = docLinkHtml;\n",
              "          element.appendChild(docLink);\n",
              "        }\n",
              "      </script>\n",
              "    </div>\n",
              "  </div>\n",
              "  "
            ]
          },
          "metadata": {},
          "execution_count": 80
        }
      ],
      "source": [
        "dataset.describe()"
      ]
    },
    {
      "cell_type": "markdown",
      "metadata": {
        "id": "tVozByhrcajd"
      },
      "source": [
        "### Análise gráfica\n",
        "\n",
        "https://seaborn.pydata.org/generated/seaborn.boxplot.html"
      ]
    },
    {
      "cell_type": "code",
      "execution_count": 81,
      "metadata": {
        "colab": {
          "base_uri": "https://localhost:8080/",
          "height": 432
        },
        "id": "xPtAowUacajf",
        "outputId": "112f50f4-f8b0-40fa-ecc7-077da62793a0"
      },
      "outputs": [
        {
          "output_type": "execute_result",
          "data": {
            "text/plain": [
              "<matplotlib.axes._subplots.AxesSubplot at 0x7fbca39ea1c0>"
            ]
          },
          "metadata": {},
          "execution_count": 81
        },
        {
          "output_type": "display_data",
          "data": {
            "text/plain": [
              "<Figure size 864x432 with 1 Axes>"
            ],
            "image/png": "[encoded data removed]"
          },
          "metadata": {
            "needs_background": "light"
          }
        }
      ],
      "source": [
        "ax = sns.boxplot(data=dataset, orient='h', width=0.5)\n",
        "ax.figure.set_size_inches(12, 6)\n",
        "ax.set_title('Box plot', fontsize=20)\n",
        "ax.set_xlabel('Reais (R$)', fontsize=16)\n",
        "ax"
      ]
    },
    {
      "cell_type": "markdown",
      "metadata": {
        "id": "Fg0MIFfgcaji"
      },
      "source": [
        "https://seaborn.pydata.org/generated/seaborn.lmplot.html"
      ]
    },
    {
      "cell_type": "code",
      "execution_count": 82,
      "metadata": {
        "colab": {
          "base_uri": "https://localhost:8080/",
          "height": 474
        },
        "id": "s2ZFx_INcajj",
        "outputId": "a902f417-052d-4fcb-81b4-6bda1bec1c21"
      },
      "outputs": [
        {
          "output_type": "execute_result",
          "data": {
            "text/plain": [
              "<seaborn.axisgrid.FacetGrid at 0x7fbca3953f70>"
            ]
          },
          "metadata": {},
          "execution_count": 82
        },
        {
          "output_type": "display_data",
          "data": {
            "text/plain": [
              "<Figure size 864x432 with 1 Axes>"
            ],
            "image/png": "[encoded data removed]"
          },
          "metadata": {
            "needs_background": "light"
          }
        }
      ],
      "source": [
        "ax = sns.lmplot(x=\"X\", y=\"Y\", data=dataset)\n",
        "ax.fig.set_size_inches(12, 6)\n",
        "ax.fig.suptitle('Reta de Regressão - Gasto X Renda', fontsize=16, y=1.02)\n",
        "ax.set_xlabels(\"Renda das Famílias\", fontsize=14)\n",
        "ax.set_ylabels(\"Gasto das Famílias\", fontsize=14)\n",
        "ax"
      ]
    },
    {
      "cell_type": "markdown",
      "metadata": {
        "id": "c2OpdF85cajl"
      },
      "source": [
        "### Análise da correlação\n",
        "\n",
        "https://pandas.pydata.org/pandas-docs/stable/reference/api/pandas.DataFrame.corr.html"
      ]
    },
    {
      "cell_type": "code",
      "execution_count": 83,
      "metadata": {
        "colab": {
          "base_uri": "https://localhost:8080/",
          "height": 112
        },
        "id": "eQEiUOdccajm",
        "outputId": "a7ce6358-eb5c-49c6-c854-5d12d3308c66",
        "scrolled": true
      },
      "outputs": [
        {
          "output_type": "execute_result",
          "data": {
            "text/plain": [
              "          Y         X\n",
              "Y  1.000000  0.984835\n",
              "X  0.984835  1.000000"
            ],
            "text/html": [
              "\n",
              "  <div id=\"df-29c381be-0b85-4255-b36e-1a0a90f42363\">\n",
              "    <div class=\"colab-df-container\">\n",
              "      <div>\n",
              "<style scoped>\n",
              "    .dataframe tbody tr th:only-of-type {\n",
              "        vertical-align: middle;\n",
              "    }\n",
              "\n",
              "    .dataframe tbody tr th {\n",
              "        vertical-align: top;\n",
              "    }\n",
              "\n",
              "    .dataframe thead th {\n",
              "        text-align: right;\n",
              "    }\n",
              "</style>\n",
              "<table border=\"1\" class=\"dataframe\">\n",
              "  <thead>\n",
              "    <tr style=\"text-align: right;\">\n",
              "      <th></th>\n",
              "      <th>Y</th>\n",
              "      <th>X</th>\n",
              "    </tr>\n",
              "  </thead>\n",
              "  <tbody>\n",
              "    <tr>\n",
              "      <th>Y</th>\n",
              "      <td>1.000000</td>\n",
              "      <td>0.984835</td>\n",
              "    </tr>\n",
              "    <tr>\n",
              "      <th>X</th>\n",
              "      <td>0.984835</td>\n",
              "      <td>1.000000</td>\n",
              "    </tr>\n",
              "  </tbody>\n",
              "</table>\n",
              "</div>\n",
              "      <button class=\"colab-df-convert\" onclick=\"convertToInteractive('df-29c381be-0b85-4255-b36e-1a0a90f42363')\"\n",
              "              title=\"Convert this dataframe to an interactive table.\"\n",
              "              style=\"display:none;\">\n",
              "        \n",
              "  <svg xmlns=\"http://www.w3.org/2000/svg\" height=\"24px\"viewBox=\"0 0 24 24\"\n",
              "       width=\"24px\">\n",
              "    <path d=\"M0 0h24v24H0V0z\" fill=\"none\"/>\n",
              "    <path d=\"M18.56 5.44l.94 2.06.94-2.06 2.06-.94-2.06-.94-.94-2.06-.94 2.06-2.06.94zm-11 1L8.5 8.5l.94-2.06 2.06-.94-2.06-.94L8.5 2.5l-.94 2.06-2.06.94zm10 10l.94 2.06.94-2.06 2.06-.94-2.06-.94-.94-2.06-.94 2.06-2.06.94z\"/><path d=\"M17.41 7.96l-1.37-1.37c-.4-.4-.92-.59-1.43-.59-.52 0-1.04.2-1.43.59L10.3 9.45l-7.72 7.72c-.78.78-.78 2.05 0 2.83L4 21.41c.39.39.9.59 1.41.59.51 0 1.02-.2 1.41-.59l7.78-7.78 2.81-2.81c.8-.78.8-2.07 0-2.86zM5.41 20L4 18.59l7.72-7.72 1.47 1.35L5.41 20z\"/>\n",
              "  </svg>\n",
              "      </button>\n",
              "      \n",
              "  <style>\n",
              "    .colab-df-container {\n",
              "      display:flex;\n",
              "      flex-wrap:wrap;\n",
              "      gap: 12px;\n",
              "    }\n",
              "\n",
              "    .colab-df-convert {\n",
              "      background-color: #E8F0FE;\n",
              "      border: none;\n",
              "      border-radius: 50%;\n",
              "      cursor: pointer;\n",
              "      display: none;\n",
              "      fill: #1967D2;\n",
              "      height: 32px;\n",
              "      padding: 0 0 0 0;\n",
              "      width: 32px;\n",
              "    }\n",
              "\n",
              "    .colab-df-convert:hover {\n",
              "      background-color: #E2EBFA;\n",
              "      box-shadow: 0px 1px 2px rgba(60, 64, 67, 0.3), 0px 1px 3px 1px rgba(60, 64, 67, 0.15);\n",
              "      fill: #174EA6;\n",
              "    }\n",
              "\n",
              "    [theme=dark] .colab-df-convert {\n",
              "      background-color: #3B4455;\n",
              "      fill: #D2E3FC;\n",
              "    }\n",
              "\n",
              "    [theme=dark] .colab-df-convert:hover {\n",
              "      background-color: #434B5C;\n",
              "      box-shadow: 0px 1px 3px 1px rgba(0, 0, 0, 0.15);\n",
              "      filter: drop-shadow(0px 1px 2px rgba(0, 0, 0, 0.3));\n",
              "      fill: #FFFFFF;\n",
              "    }\n",
              "  </style>\n",
              "\n",
              "      <script>\n",
              "        const buttonEl =\n",
              "          document.querySelector('#df-29c381be-0b85-4255-b36e-1a0a90f42363 button.colab-df-convert');\n",
              "        buttonEl.style.display =\n",
              "          google.colab.kernel.accessAllowed ? 'block' : 'none';\n",
              "\n",
              "        async function convertToInteractive(key) {\n",
              "          const element = document.querySelector('#df-29c381be-0b85-4255-b36e-1a0a90f42363');\n",
              "          const dataTable =\n",
              "            await google.colab.kernel.invokeFunction('convertToInteractive',\n",
              "                                                     [key], {});\n",
              "          if (!dataTable) return;\n",
              "\n",
              "          const docLinkHtml = 'Like what you see? Visit the ' +\n",
              "            '<a target=\"_blank\" href=https://colab.research.google.com/notebooks/data_table.ipynb>data table notebook</a>'\n",
              "            + ' to learn more about interactive tables.';\n",
              "          element.innerHTML = '';\n",
              "          dataTable['output_type'] = 'display_data';\n",
              "          await google.colab.output.renderOutput(dataTable, element);\n",
              "          const docLink = document.createElement('div');\n",
              "          docLink.innerHTML = docLinkHtml;\n",
              "          element.appendChild(docLink);\n",
              "        }\n",
              "      </script>\n",
              "    </div>\n",
              "  </div>\n",
              "  "
            ]
          },
          "metadata": {},
          "execution_count": 83
        }
      ],
      "source": [
        "dataset.corr()"
      ]
    },
    {
      "cell_type": "markdown",
      "metadata": {
        "id": "cPOlHTg2cajo"
      },
      "source": [
        "### Modelo de regressão linear simples\n",
        "\n",
        "https://www.statsmodels.org/stable/regression.html"
      ]
    },
    {
      "cell_type": "code",
      "execution_count": 84,
      "metadata": {
        "id": "SidSGHeQcajo"
      },
      "outputs": [],
      "source": [
        "import statsmodels.api as sm"
      ]
    },
    {
      "cell_type": "code",
      "execution_count": 85,
      "metadata": {
        "colab": {
          "base_uri": "https://localhost:8080/"
        },
        "id": "iBQFGkf_cajr",
        "outputId": "bb9fb180-60b5-416b-f549-aa031a3b00fc"
      },
      "outputs": [
        {
          "output_type": "stream",
          "name": "stderr",
          "text": [
            "/usr/local/lib/python3.8/dist-packages/statsmodels/tsa/tsatools.py:142: FutureWarning: In a future version of pandas all arguments of concat except for the argument 'objs' will be keyword-only\n",
            "  x = pd.concat(x[::order], 1)\n"
          ]
        }
      ],
      "source": [
        "Y = dataset.Y\n",
        "X = sm.add_constant(dataset.X)"
      ]
    },
    {
      "cell_type": "code",
      "execution_count": 86,
      "metadata": {
        "colab": {
          "base_uri": "https://localhost:8080/"
        },
        "id": "PdS9cDXqcajt",
        "outputId": "c219ef09-1b95-4887-ab2f-d6ac9b1b66c5",
        "scrolled": true
      },
      "outputs": [
        {
          "output_type": "execute_result",
          "data": {
            "text/plain": [
              "0    3011\n",
              "1    1305\n",
              "2    1879\n",
              "3    2654\n",
              "4    2849\n",
              "Name: Y, dtype: int64"
            ]
          },
          "metadata": {},
          "execution_count": 86
        }
      ],
      "source": [
        "Y.head()"
      ]
    },
    {
      "cell_type": "code",
      "execution_count": 87,
      "metadata": {
        "colab": {
          "base_uri": "https://localhost:8080/",
          "height": 206
        },
        "id": "lBrVRfVfcajv",
        "outputId": "11c82c0e-bd11-4f1e-fa67-b4508ef83901",
        "scrolled": true
      },
      "outputs": [
        {
          "output_type": "execute_result",
          "data": {
            "text/plain": [
              "   const     X\n",
              "0    1.0  9714\n",
              "1    1.0  3728\n",
              "2    1.0  6062\n",
              "3    1.0  8845\n",
              "4    1.0  8378"
            ],
            "text/html": [
              "\n",
              "  <div id=\"df-2e3b4417-3469-42bf-90a2-d684285f3aea\">\n",
              "    <div class=\"colab-df-container\">\n",
              "      <div>\n",
              "<style scoped>\n",
              "    .dataframe tbody tr th:only-of-type {\n",
              "        vertical-align: middle;\n",
              "    }\n",
              "\n",
              "    .dataframe tbody tr th {\n",
              "        vertical-align: top;\n",
              "    }\n",
              "\n",
              "    .dataframe thead th {\n",
              "        text-align: right;\n",
              "    }\n",
              "</style>\n",
              "<table border=\"1\" class=\"dataframe\">\n",
              "  <thead>\n",
              "    <tr style=\"text-align: right;\">\n",
              "      <th></th>\n",
              "      <th>const</th>\n",
              "      <th>X</th>\n",
              "    </tr>\n",
              "  </thead>\n",
              "  <tbody>\n",
              "    <tr>\n",
              "      <th>0</th>\n",
              "      <td>1.0</td>\n",
              "      <td>9714</td>\n",
              "    </tr>\n",
              "    <tr>\n",
              "      <th>1</th>\n",
              "      <td>1.0</td>\n",
              "      <td>3728</td>\n",
              "    </tr>\n",
              "    <tr>\n",
              "      <th>2</th>\n",
              "      <td>1.0</td>\n",
              "      <td>6062</td>\n",
              "    </tr>\n",
              "    <tr>\n",
              "      <th>3</th>\n",
              "      <td>1.0</td>\n",
              "      <td>8845</td>\n",
              "    </tr>\n",
              "    <tr>\n",
              "      <th>4</th>\n",
              "      <td>1.0</td>\n",
              "      <td>8378</td>\n",
              "    </tr>\n",
              "  </tbody>\n",
              "</table>\n",
              "</div>\n",
              "      <button class=\"colab-df-convert\" onclick=\"convertToInteractive('df-2e3b4417-3469-42bf-90a2-d684285f3aea')\"\n",
              "              title=\"Convert this dataframe to an interactive table.\"\n",
              "              style=\"display:none;\">\n",
              "        \n",
              "  <svg xmlns=\"http://www.w3.org/2000/svg\" height=\"24px\"viewBox=\"0 0 24 24\"\n",
              "       width=\"24px\">\n",
              "    <path d=\"M0 0h24v24H0V0z\" fill=\"none\"/>\n",
              "    <path d=\"M18.56 5.44l.94 2.06.94-2.06 2.06-.94-2.06-.94-.94-2.06-.94 2.06-2.06.94zm-11 1L8.5 8.5l.94-2.06 2.06-.94-2.06-.94L8.5 2.5l-.94 2.06-2.06.94zm10 10l.94 2.06.94-2.06 2.06-.94-2.06-.94-.94-2.06-.94 2.06-2.06.94z\"/><path d=\"M17.41 7.96l-1.37-1.37c-.4-.4-.92-.59-1.43-.59-.52 0-1.04.2-1.43.59L10.3 9.45l-7.72 7.72c-.78.78-.78 2.05 0 2.83L4 21.41c.39.39.9.59 1.41.59.51 0 1.02-.2 1.41-.59l7.78-7.78 2.81-2.81c.8-.78.8-2.07 0-2.86zM5.41 20L4 18.59l7.72-7.72 1.47 1.35L5.41 20z\"/>\n",
              "  </svg>\n",
              "      </button>\n",
              "      \n",
              "  <style>\n",
              "    .colab-df-container {\n",
              "      display:flex;\n",
              "      flex-wrap:wrap;\n",
              "      gap: 12px;\n",
              "    }\n",
              "\n",
              "    .colab-df-convert {\n",
              "      background-color: #E8F0FE;\n",
              "      border: none;\n",
              "      border-radius: 50%;\n",
              "      cursor: pointer;\n",
              "      display: none;\n",
              "      fill: #1967D2;\n",
              "      height: 32px;\n",
              "      padding: 0 0 0 0;\n",
              "      width: 32px;\n",
              "    }\n",
              "\n",
              "    .colab-df-convert:hover {\n",
              "      background-color: #E2EBFA;\n",
              "      box-shadow: 0px 1px 2px rgba(60, 64, 67, 0.3), 0px 1px 3px 1px rgba(60, 64, 67, 0.15);\n",
              "      fill: #174EA6;\n",
              "    }\n",
              "\n",
              "    [theme=dark] .colab-df-convert {\n",
              "      background-color: #3B4455;\n",
              "      fill: #D2E3FC;\n",
              "    }\n",
              "\n",
              "    [theme=dark] .colab-df-convert:hover {\n",
              "      background-color: #434B5C;\n",
              "      box-shadow: 0px 1px 3px 1px rgba(0, 0, 0, 0.15);\n",
              "      filter: drop-shadow(0px 1px 2px rgba(0, 0, 0, 0.3));\n",
              "      fill: #FFFFFF;\n",
              "    }\n",
              "  </style>\n",
              "\n",
              "      <script>\n",
              "        const buttonEl =\n",
              "          document.querySelector('#df-2e3b4417-3469-42bf-90a2-d684285f3aea button.colab-df-convert');\n",
              "        buttonEl.style.display =\n",
              "          google.colab.kernel.accessAllowed ? 'block' : 'none';\n",
              "\n",
              "        async function convertToInteractive(key) {\n",
              "          const element = document.querySelector('#df-2e3b4417-3469-42bf-90a2-d684285f3aea');\n",
              "          const dataTable =\n",
              "            await google.colab.kernel.invokeFunction('convertToInteractive',\n",
              "                                                     [key], {});\n",
              "          if (!dataTable) return;\n",
              "\n",
              "          const docLinkHtml = 'Like what you see? Visit the ' +\n",
              "            '<a target=\"_blank\" href=https://colab.research.google.com/notebooks/data_table.ipynb>data table notebook</a>'\n",
              "            + ' to learn more about interactive tables.';\n",
              "          element.innerHTML = '';\n",
              "          dataTable['output_type'] = 'display_data';\n",
              "          await google.colab.output.renderOutput(dataTable, element);\n",
              "          const docLink = document.createElement('div');\n",
              "          docLink.innerHTML = docLinkHtml;\n",
              "          element.appendChild(docLink);\n",
              "        }\n",
              "      </script>\n",
              "    </div>\n",
              "  </div>\n",
              "  "
            ]
          },
          "metadata": {},
          "execution_count": 87
        }
      ],
      "source": [
        "X.head()"
      ]
    },
    {
      "cell_type": "markdown",
      "metadata": {
        "id": "Dkg9S5tWcajy"
      },
      "source": [
        "### Estimando o modelo"
      ]
    },
    {
      "cell_type": "code",
      "execution_count": 88,
      "metadata": {
        "id": "9O0dhVTfcajz"
      },
      "outputs": [],
      "source": [
        "resultado_regressao = sm.OLS(Y, X).fit()"
      ]
    },
    {
      "cell_type": "code",
      "execution_count": 89,
      "metadata": {
        "colab": {
          "base_uri": "https://localhost:8080/"
        },
        "id": "8W1oGgNecaj0",
        "outputId": "60e32897-e5e1-4b1d-f937-c49343911b2f"
      },
      "outputs": [
        {
          "output_type": "stream",
          "name": "stdout",
          "text": [
            "                            OLS Regression Results                            \n",
            "==============================================================================\n",
            "Dep. Variable:                      Y   R-squared:                       0.970\n",
            "Model:                            OLS   Adj. R-squared:                  0.969\n",
            "Method:                 Least Squares   F-statistic:                     1547.\n",
            "Date:                Wed, 25 Jan 2023   Prob (F-statistic):           3.56e-38\n",
            "Time:                        18:55:40   Log-Likelihood:                -318.16\n",
            "No. Observations:                  50   AIC:                             640.3\n",
            "Df Residuals:                      48   BIC:                             644.1\n",
            "Df Model:                           1                                         \n",
            "Covariance Type:            nonrobust                                         \n",
            "==============================================================================\n",
            "                 coef    std err          t      P>|t|      [0.025      0.975]\n",
            "------------------------------------------------------------------------------\n",
            "const        207.9033     50.127      4.148      0.000     107.117     308.690\n",
            "X              0.2973      0.008     39.328      0.000       0.282       0.312\n",
            "==============================================================================\n",
            "Omnibus:                       22.833   Durbin-Watson:                   2.408\n",
            "Prob(Omnibus):                  0.000   Jarque-Bera (JB):                3.915\n",
            "Skew:                           0.073   Prob(JB):                        0.141\n",
            "Kurtosis:                       1.637   Cond. No.                     1.64e+04\n",
            "==============================================================================\n",
            "\n",
            "Notes:\n",
            "[1] Standard Errors assume that the covariance matrix of the errors is correctly specified.\n",
            "[2] The condition number is large, 1.64e+04. This might indicate that there are\n",
            "strong multicollinearity or other numerical problems.\n"
          ]
        }
      ],
      "source": [
        "print(resultado_regressao.summary())"
      ]
    },
    {
      "cell_type": "markdown",
      "metadata": {
        "id": "eP2wm9fBcaj2"
      },
      "source": [
        "### Obtendo as previsões dentro da amostra"
      ]
    },
    {
      "cell_type": "code",
      "execution_count": 90,
      "metadata": {
        "colab": {
          "base_uri": "https://localhost:8080/",
          "height": 1000
        },
        "id": "cbuzGLB-caj2",
        "outputId": "f98ff7b9-0943-4cef-d740-467d97afe660",
        "scrolled": true
      },
      "outputs": [
        {
          "output_type": "execute_result",
          "data": {
            "text/plain": [
              "       Y     X   Y_previsto\n",
              "0   3011  9714  3095.785086\n",
              "1   1305  3728  1316.203010\n",
              "2   1879  6062  2010.079483\n",
              "3   2654  8845  2837.439476\n",
              "4   2849  8378  2698.604723\n",
              "5   1068  3338  1200.259640\n",
              "6   2892  8507  2736.955222\n",
              "7   2543  7947  2570.472435\n",
              "8   3074  9915  3155.540515\n",
              "9    849  1632   693.081721\n",
              "10  2184  6825  2236.912280\n",
              "11  2943  8918  2859.141696\n",
              "12  1357  4100  1426.795147\n",
              "13  2755  9184  2938.221020\n",
              "14  2163  6180  2045.159784\n",
              "15  3099  9997  3179.918352\n",
              "16  1600  4500  1545.711423\n",
              "17   353  1069   525.707062\n",
              "18  1778  5925  1969.350658\n",
              "19   740  2466   941.022158\n",
              "20  2129  6083  2016.322587\n",
              "21  3302  9712  3095.190505\n",
              "22  2412  7780  2520.824890\n",
              "23  2683  8383  2700.091176\n",
              "24  2515  7185  2343.936929\n",
              "25  2395  7483  2432.529554\n",
              "26  2292  7640  2479.204193\n",
              "27  1000  2100   832.213765\n",
              "28   600  2000   802.484696\n",
              "29  1864  6012  1995.214948\n",
              "30  3027  8902  2854.385045\n",
              "31  1978  5345  1796.922057\n",
              "32  2791  8210  2648.659887\n",
              "33  1982  5662  1891.163206\n",
              "34   900  2700  1010.588179\n",
              "35  1964  6546  2153.968177\n",
              "36  1247  2900  1070.046318\n",
              "37  3067  9894  3149.297410\n",
              "38   700  1500   653.839350\n",
              "39  1500  5000  1694.356769\n",
              "40  3110  8885  2849.331103\n",
              "41  2644  8813  2827.926174\n",
              "42  1378  3446  1232.367035\n",
              "43  2601  7881  2550.851249\n",
              "44   501  1164   553.949678\n",
              "45  1292  3401  1218.988954\n",
              "46  2125  6641  2182.210793\n",
              "47  1431  3329  1197.584024\n",
              "48  2260  6648  2184.291828\n",
              "49  1770  4800  1634.898631"
            ],
            "text/html": [
              "\n",
              "  <div id=\"df-ac77d45d-ed55-4a6a-b5c1-4589b7cc3866\">\n",
              "    <div class=\"colab-df-container\">\n",
              "      <div>\n",
              "<style scoped>\n",
              "    .dataframe tbody tr th:only-of-type {\n",
              "        vertical-align: middle;\n",
              "    }\n",
              "\n",
              "    .dataframe tbody tr th {\n",
              "        vertical-align: top;\n",
              "    }\n",
              "\n",
              "    .dataframe thead th {\n",
              "        text-align: right;\n",
              "    }\n",
              "</style>\n",
              "<table border=\"1\" class=\"dataframe\">\n",
              "  <thead>\n",
              "    <tr style=\"text-align: right;\">\n",
              "      <th></th>\n",
              "      <th>Y</th>\n",
              "      <th>X</th>\n",
              "      <th>Y_previsto</th>\n",
              "    </tr>\n",
              "  </thead>\n",
              "  <tbody>\n",
              "    <tr>\n",
              "      <th>0</th>\n",
              "      <td>3011</td>\n",
              "      <td>9714</td>\n",
              "      <td>3095.785086</td>\n",
              "    </tr>\n",
              "    <tr>\n",
              "      <th>1</th>\n",
              "      <td>1305</td>\n",
              "      <td>3728</td>\n",
              "      <td>1316.203010</td>\n",
              "    </tr>\n",
              "    <tr>\n",
              "      <th>2</th>\n",
              "      <td>1879</td>\n",
              "      <td>6062</td>\n",
              "      <td>2010.079483</td>\n",
              "    </tr>\n",
              "    <tr>\n",
              "      <th>3</th>\n",
              "      <td>2654</td>\n",
              "      <td>8845</td>\n",
              "      <td>2837.439476</td>\n",
              "    </tr>\n",
              "    <tr>\n",
              "      <th>4</th>\n",
              "      <td>2849</td>\n",
              "      <td>8378</td>\n",
              "      <td>2698.604723</td>\n",
              "    </tr>\n",
              "    <tr>\n",
              "      <th>5</th>\n",
              "      <td>1068</td>\n",
              "      <td>3338</td>\n",
              "      <td>1200.259640</td>\n",
              "    </tr>\n",
              "    <tr>\n",
              "      <th>6</th>\n",
              "      <td>2892</td>\n",
              "      <td>8507</td>\n",
              "      <td>2736.955222</td>\n",
              "    </tr>\n",
              "    <tr>\n",
              "      <th>7</th>\n",
              "      <td>2543</td>\n",
              "      <td>7947</td>\n",
              "      <td>2570.472435</td>\n",
              "    </tr>\n",
              "    <tr>\n",
              "      <th>8</th>\n",
              "      <td>3074</td>\n",
              "      <td>9915</td>\n",
              "      <td>3155.540515</td>\n",
              "    </tr>\n",
              "    <tr>\n",
              "      <th>9</th>\n",
              "      <td>849</td>\n",
              "      <td>1632</td>\n",
              "      <td>693.081721</td>\n",
              "    </tr>\n",
              "    <tr>\n",
              "      <th>10</th>\n",
              "      <td>2184</td>\n",
              "      <td>6825</td>\n",
              "      <td>2236.912280</td>\n",
              "    </tr>\n",
              "    <tr>\n",
              "      <th>11</th>\n",
              "      <td>2943</td>\n",
              "      <td>8918</td>\n",
              "      <td>2859.141696</td>\n",
              "    </tr>\n",
              "    <tr>\n",
              "      <th>12</th>\n",
              "      <td>1357</td>\n",
              "      <td>4100</td>\n",
              "      <td>1426.795147</td>\n",
              "    </tr>\n",
              "    <tr>\n",
              "      <th>13</th>\n",
              "      <td>2755</td>\n",
              "      <td>9184</td>\n",
              "      <td>2938.221020</td>\n",
              "    </tr>\n",
              "    <tr>\n",
              "      <th>14</th>\n",
              "      <td>2163</td>\n",
              "      <td>6180</td>\n",
              "      <td>2045.159784</td>\n",
              "    </tr>\n",
              "    <tr>\n",
              "      <th>15</th>\n",
              "      <td>3099</td>\n",
              "      <td>9997</td>\n",
              "      <td>3179.918352</td>\n",
              "    </tr>\n",
              "    <tr>\n",
              "      <th>16</th>\n",
              "      <td>1600</td>\n",
              "      <td>4500</td>\n",
              "      <td>1545.711423</td>\n",
              "    </tr>\n",
              "    <tr>\n",
              "      <th>17</th>\n",
              "      <td>353</td>\n",
              "      <td>1069</td>\n",
              "      <td>525.707062</td>\n",
              "    </tr>\n",
              "    <tr>\n",
              "      <th>18</th>\n",
              "      <td>1778</td>\n",
              "      <td>5925</td>\n",
              "      <td>1969.350658</td>\n",
              "    </tr>\n",
              "    <tr>\n",
              "      <th>19</th>\n",
              "      <td>740</td>\n",
              "      <td>2466</td>\n",
              "      <td>941.022158</td>\n",
              "    </tr>\n",
              "    <tr>\n",
              "      <th>20</th>\n",
              "      <td>2129</td>\n",
              "      <td>6083</td>\n",
              "      <td>2016.322587</td>\n",
              "    </tr>\n",
              "    <tr>\n",
              "      <th>21</th>\n",
              "      <td>3302</td>\n",
              "      <td>9712</td>\n",
              "      <td>3095.190505</td>\n",
              "    </tr>\n",
              "    <tr>\n",
              "      <th>22</th>\n",
              "      <td>2412</td>\n",
              "      <td>7780</td>\n",
              "      <td>2520.824890</td>\n",
              "    </tr>\n",
              "    <tr>\n",
              "      <th>23</th>\n",
              "      <td>2683</td>\n",
              "      <td>8383</td>\n",
              "      <td>2700.091176</td>\n",
              "    </tr>\n",
              "    <tr>\n",
              "      <th>24</th>\n",
              "      <td>2515</td>\n",
              "      <td>7185</td>\n",
              "      <td>2343.936929</td>\n",
              "    </tr>\n",
              "    <tr>\n",
              "      <th>25</th>\n",
              "      <td>2395</td>\n",
              "      <td>7483</td>\n",
              "      <td>2432.529554</td>\n",
              "    </tr>\n",
              "    <tr>\n",
              "      <th>26</th>\n",
              "      <td>2292</td>\n",
              "      <td>7640</td>\n",
              "      <td>2479.204193</td>\n",
              "    </tr>\n",
              "    <tr>\n",
              "      <th>27</th>\n",
              "      <td>1000</td>\n",
              "      <td>2100</td>\n",
              "      <td>832.213765</td>\n",
              "    </tr>\n",
              "    <tr>\n",
              "      <th>28</th>\n",
              "      <td>600</td>\n",
              "      <td>2000</td>\n",
              "      <td>802.484696</td>\n",
              "    </tr>\n",
              "    <tr>\n",
              "      <th>29</th>\n",
              "      <td>1864</td>\n",
              "      <td>6012</td>\n",
              "      <td>1995.214948</td>\n",
              "    </tr>\n",
              "    <tr>\n",
              "      <th>30</th>\n",
              "      <td>3027</td>\n",
              "      <td>8902</td>\n",
              "      <td>2854.385045</td>\n",
              "    </tr>\n",
              "    <tr>\n",
              "      <th>31</th>\n",
              "      <td>1978</td>\n",
              "      <td>5345</td>\n",
              "      <td>1796.922057</td>\n",
              "    </tr>\n",
              "    <tr>\n",
              "      <th>32</th>\n",
              "      <td>2791</td>\n",
              "      <td>8210</td>\n",
              "      <td>2648.659887</td>\n",
              "    </tr>\n",
              "    <tr>\n",
              "      <th>33</th>\n",
              "      <td>1982</td>\n",
              "      <td>5662</td>\n",
              "      <td>1891.163206</td>\n",
              "    </tr>\n",
              "    <tr>\n",
              "      <th>34</th>\n",
              "      <td>900</td>\n",
              "      <td>2700</td>\n",
              "      <td>1010.588179</td>\n",
              "    </tr>\n",
              "    <tr>\n",
              "      <th>35</th>\n",
              "      <td>1964</td>\n",
              "      <td>6546</td>\n",
              "      <td>2153.968177</td>\n",
              "    </tr>\n",
              "    <tr>\n",
              "      <th>36</th>\n",
              "      <td>1247</td>\n",
              "      <td>2900</td>\n",
              "      <td>1070.046318</td>\n",
              "    </tr>\n",
              "    <tr>\n",
              "      <th>37</th>\n",
              "      <td>3067</td>\n",
              "      <td>9894</td>\n",
              "      <td>3149.297410</td>\n",
              "    </tr>\n",
              "    <tr>\n",
              "      <th>38</th>\n",
              "      <td>700</td>\n",
              "      <td>1500</td>\n",
              "      <td>653.839350</td>\n",
              "    </tr>\n",
              "    <tr>\n",
              "      <th>39</th>\n",
              "      <td>1500</td>\n",
              "      <td>5000</td>\n",
              "      <td>1694.356769</td>\n",
              "    </tr>\n",
              "    <tr>\n",
              "      <th>40</th>\n",
              "      <td>3110</td>\n",
              "      <td>8885</td>\n",
              "      <td>2849.331103</td>\n",
              "    </tr>\n",
              "    <tr>\n",
              "      <th>41</th>\n",
              "      <td>2644</td>\n",
              "      <td>8813</td>\n",
              "      <td>2827.926174</td>\n",
              "    </tr>\n",
              "    <tr>\n",
              "      <th>42</th>\n",
              "      <td>1378</td>\n",
              "      <td>3446</td>\n",
              "      <td>1232.367035</td>\n",
              "    </tr>\n",
              "    <tr>\n",
              "      <th>43</th>\n",
              "      <td>2601</td>\n",
              "      <td>7881</td>\n",
              "      <td>2550.851249</td>\n",
              "    </tr>\n",
              "    <tr>\n",
              "      <th>44</th>\n",
              "      <td>501</td>\n",
              "      <td>1164</td>\n",
              "      <td>553.949678</td>\n",
              "    </tr>\n",
              "    <tr>\n",
              "      <th>45</th>\n",
              "      <td>1292</td>\n",
              "      <td>3401</td>\n",
              "      <td>1218.988954</td>\n",
              "    </tr>\n",
              "    <tr>\n",
              "      <th>46</th>\n",
              "      <td>2125</td>\n",
              "      <td>6641</td>\n",
              "      <td>2182.210793</td>\n",
              "    </tr>\n",
              "    <tr>\n",
              "      <th>47</th>\n",
              "      <td>1431</td>\n",
              "      <td>3329</td>\n",
              "      <td>1197.584024</td>\n",
              "    </tr>\n",
              "    <tr>\n",
              "      <th>48</th>\n",
              "      <td>2260</td>\n",
              "      <td>6648</td>\n",
              "      <td>2184.291828</td>\n",
              "    </tr>\n",
              "    <tr>\n",
              "      <th>49</th>\n",
              "      <td>1770</td>\n",
              "      <td>4800</td>\n",
              "      <td>1634.898631</td>\n",
              "    </tr>\n",
              "  </tbody>\n",
              "</table>\n",
              "</div>\n",
              "      <button class=\"colab-df-convert\" onclick=\"convertToInteractive('df-ac77d45d-ed55-4a6a-b5c1-4589b7cc3866')\"\n",
              "              title=\"Convert this dataframe to an interactive table.\"\n",
              "              style=\"display:none;\">\n",
              "        \n",
              "  <svg xmlns=\"http://www.w3.org/2000/svg\" height=\"24px\"viewBox=\"0 0 24 24\"\n",
              "       width=\"24px\">\n",
              "    <path d=\"M0 0h24v24H0V0z\" fill=\"none\"/>\n",
              "    <path d=\"M18.56 5.44l.94 2.06.94-2.06 2.06-.94-2.06-.94-.94-2.06-.94 2.06-2.06.94zm-11 1L8.5 8.5l.94-2.06 2.06-.94-2.06-.94L8.5 2.5l-.94 2.06-2.06.94zm10 10l.94 2.06.94-2.06 2.06-.94-2.06-.94-.94-2.06-.94 2.06-2.06.94z\"/><path d=\"M17.41 7.96l-1.37-1.37c-.4-.4-.92-.59-1.43-.59-.52 0-1.04.2-1.43.59L10.3 9.45l-7.72 7.72c-.78.78-.78 2.05 0 2.83L4 21.41c.39.39.9.59 1.41.59.51 0 1.02-.2 1.41-.59l7.78-7.78 2.81-2.81c.8-.78.8-2.07 0-2.86zM5.41 20L4 18.59l7.72-7.72 1.47 1.35L5.41 20z\"/>\n",
              "  </svg>\n",
              "      </button>\n",
              "      \n",
              "  <style>\n",
              "    .colab-df-container {\n",
              "      display:flex;\n",
              "      flex-wrap:wrap;\n",
              "      gap: 12px;\n",
              "    }\n",
              "\n",
              "    .colab-df-convert {\n",
              "      background-color: #E8F0FE;\n",
              "      border: none;\n",
              "      border-radius: 50%;\n",
              "      cursor: pointer;\n",
              "      display: none;\n",
              "      fill: #1967D2;\n",
              "      height: 32px;\n",
              "      padding: 0 0 0 0;\n",
              "      width: 32px;\n",
              "    }\n",
              "\n",
              "    .colab-df-convert:hover {\n",
              "      background-color: #E2EBFA;\n",
              "      box-shadow: 0px 1px 2px rgba(60, 64, 67, 0.3), 0px 1px 3px 1px rgba(60, 64, 67, 0.15);\n",
              "      fill: #174EA6;\n",
              "    }\n",
              "\n",
              "    [theme=dark] .colab-df-convert {\n",
              "      background-color: #3B4455;\n",
              "      fill: #D2E3FC;\n",
              "    }\n",
              "\n",
              "    [theme=dark] .colab-df-convert:hover {\n",
              "      background-color: #434B5C;\n",
              "      box-shadow: 0px 1px 3px 1px rgba(0, 0, 0, 0.15);\n",
              "      filter: drop-shadow(0px 1px 2px rgba(0, 0, 0, 0.3));\n",
              "      fill: #FFFFFF;\n",
              "    }\n",
              "  </style>\n",
              "\n",
              "      <script>\n",
              "        const buttonEl =\n",
              "          document.querySelector('#df-ac77d45d-ed55-4a6a-b5c1-4589b7cc3866 button.colab-df-convert');\n",
              "        buttonEl.style.display =\n",
              "          google.colab.kernel.accessAllowed ? 'block' : 'none';\n",
              "\n",
              "        async function convertToInteractive(key) {\n",
              "          const element = document.querySelector('#df-ac77d45d-ed55-4a6a-b5c1-4589b7cc3866');\n",
              "          const dataTable =\n",
              "            await google.colab.kernel.invokeFunction('convertToInteractive',\n",
              "                                                     [key], {});\n",
              "          if (!dataTable) return;\n",
              "\n",
              "          const docLinkHtml = 'Like what you see? Visit the ' +\n",
              "            '<a target=\"_blank\" href=https://colab.research.google.com/notebooks/data_table.ipynb>data table notebook</a>'\n",
              "            + ' to learn more about interactive tables.';\n",
              "          element.innerHTML = '';\n",
              "          dataTable['output_type'] = 'display_data';\n",
              "          await google.colab.output.renderOutput(dataTable, element);\n",
              "          const docLink = document.createElement('div');\n",
              "          docLink.innerHTML = docLinkHtml;\n",
              "          element.appendChild(docLink);\n",
              "        }\n",
              "      </script>\n",
              "    </div>\n",
              "  </div>\n",
              "  "
            ]
          },
          "metadata": {},
          "execution_count": 90
        }
      ],
      "source": [
        "dataset['Y_previsto'] = resultado_regressao.predict()\n",
        "dataset"
      ]
    },
    {
      "cell_type": "markdown",
      "metadata": {
        "id": "QTCRxEClcaj-"
      },
      "source": [
        "---"
      ]
    },
    {
      "cell_type": "markdown",
      "metadata": {
        "id": "DU3ADw3fdeS1"
      },
      "source": [
        "# <font color=green>3 CORRELAÇÃO</font>\n",
        "***"
      ]
    },
    {
      "cell_type": "markdown",
      "metadata": {
        "id": "_8zdNQvrcakA"
      },
      "source": [
        "## <font color=green>3.1 Covariância</font>\n",
        "***"
      ]
    },
    {
      "cell_type": "markdown",
      "metadata": {
        "id": "E5xyRLiYcakB"
      },
      "source": [
        "A covariância, ou variância conjunta, é a medida do grau de interdependência (ou inter-relação) numérica entre duas variáveis. É definida da seguinte maneira:"
      ]
    },
    {
      "cell_type": "markdown",
      "metadata": {
        "id": "z66qdhEPcakB"
      },
      "source": [
        "### Covariância populacional\n",
        "\n",
        "# $$\\sigma_{xy} = \\frac 1n\\sum_{i=1}^{n}(X_i-\\mu_x)(Y_i-\\mu_y)$$"
      ]
    },
    {
      "cell_type": "markdown",
      "metadata": {
        "id": "Q5Z7pL4ncakB"
      },
      "source": [
        "### Covariância amostral\n",
        "\n",
        "# $$S_{xy} = \\frac 1{n-1}\\sum_{i=1}^{n}(X_i-\\bar{X})(Y_i-\\bar{Y})$$"
      ]
    },
    {
      "cell_type": "markdown",
      "metadata": {
        "id": "jL1SrReTcakC"
      },
      "source": [
        "### Gerando uma amostra aleatória para facilitar o entendimento"
      ]
    },
    {
      "cell_type": "code",
      "execution_count": 91,
      "metadata": {
        "id": "ulha75EgcakC"
      },
      "outputs": [],
      "source": [
        "amostra = dados.query('Renda < 5000').sample(n=20, random_state=101)"
      ]
    },
    {
      "cell_type": "markdown",
      "metadata": {
        "id": "ZssTPkXGcakD"
      },
      "source": [
        "### Obtendo a matriz de covariância"
      ]
    },
    {
      "cell_type": "code",
      "execution_count": 92,
      "metadata": {
        "id": "hU6Ca7k3cakE",
        "colab": {
          "base_uri": "https://localhost:8080/",
          "height": 174
        },
        "outputId": "420a79d0-2e28-4820-d9d9-698bee78108b"
      },
      "outputs": [
        {
          "output_type": "execute_result",
          "data": {
            "text/plain": [
              "                      Idade          Renda  Anos de Estudo    Altura\n",
              "Idade            134.410526   -4947.968421      -16.410526  0.016506\n",
              "Renda          -4947.968421  764668.326316     2209.021053 -7.138236\n",
              "Anos de Estudo   -16.410526    2209.021053       16.936842  0.111281\n",
              "Altura             0.016506      -7.138236        0.111281  0.003354"
            ],
            "text/html": [
              "\n",
              "  <div id=\"df-f15b1004-8ad5-4b14-8fb7-41e876429910\">\n",
              "    <div class=\"colab-df-container\">\n",
              "      <div>\n",
              "<style scoped>\n",
              "    .dataframe tbody tr th:only-of-type {\n",
              "        vertical-align: middle;\n",
              "    }\n",
              "\n",
              "    .dataframe tbody tr th {\n",
              "        vertical-align: top;\n",
              "    }\n",
              "\n",
              "    .dataframe thead th {\n",
              "        text-align: right;\n",
              "    }\n",
              "</style>\n",
              "<table border=\"1\" class=\"dataframe\">\n",
              "  <thead>\n",
              "    <tr style=\"text-align: right;\">\n",
              "      <th></th>\n",
              "      <th>Idade</th>\n",
              "      <th>Renda</th>\n",
              "      <th>Anos de Estudo</th>\n",
              "      <th>Altura</th>\n",
              "    </tr>\n",
              "  </thead>\n",
              "  <tbody>\n",
              "    <tr>\n",
              "      <th>Idade</th>\n",
              "      <td>134.410526</td>\n",
              "      <td>-4947.968421</td>\n",
              "      <td>-16.410526</td>\n",
              "      <td>0.016506</td>\n",
              "    </tr>\n",
              "    <tr>\n",
              "      <th>Renda</th>\n",
              "      <td>-4947.968421</td>\n",
              "      <td>764668.326316</td>\n",
              "      <td>2209.021053</td>\n",
              "      <td>-7.138236</td>\n",
              "    </tr>\n",
              "    <tr>\n",
              "      <th>Anos de Estudo</th>\n",
              "      <td>-16.410526</td>\n",
              "      <td>2209.021053</td>\n",
              "      <td>16.936842</td>\n",
              "      <td>0.111281</td>\n",
              "    </tr>\n",
              "    <tr>\n",
              "      <th>Altura</th>\n",
              "      <td>0.016506</td>\n",
              "      <td>-7.138236</td>\n",
              "      <td>0.111281</td>\n",
              "      <td>0.003354</td>\n",
              "    </tr>\n",
              "  </tbody>\n",
              "</table>\n",
              "</div>\n",
              "      <button class=\"colab-df-convert\" onclick=\"convertToInteractive('df-f15b1004-8ad5-4b14-8fb7-41e876429910')\"\n",
              "              title=\"Convert this dataframe to an interactive table.\"\n",
              "              style=\"display:none;\">\n",
              "        \n",
              "  <svg xmlns=\"http://www.w3.org/2000/svg\" height=\"24px\"viewBox=\"0 0 24 24\"\n",
              "       width=\"24px\">\n",
              "    <path d=\"M0 0h24v24H0V0z\" fill=\"none\"/>\n",
              "    <path d=\"M18.56 5.44l.94 2.06.94-2.06 2.06-.94-2.06-.94-.94-2.06-.94 2.06-2.06.94zm-11 1L8.5 8.5l.94-2.06 2.06-.94-2.06-.94L8.5 2.5l-.94 2.06-2.06.94zm10 10l.94 2.06.94-2.06 2.06-.94-2.06-.94-.94-2.06-.94 2.06-2.06.94z\"/><path d=\"M17.41 7.96l-1.37-1.37c-.4-.4-.92-.59-1.43-.59-.52 0-1.04.2-1.43.59L10.3 9.45l-7.72 7.72c-.78.78-.78 2.05 0 2.83L4 21.41c.39.39.9.59 1.41.59.51 0 1.02-.2 1.41-.59l7.78-7.78 2.81-2.81c.8-.78.8-2.07 0-2.86zM5.41 20L4 18.59l7.72-7.72 1.47 1.35L5.41 20z\"/>\n",
              "  </svg>\n",
              "      </button>\n",
              "      \n",
              "  <style>\n",
              "    .colab-df-container {\n",
              "      display:flex;\n",
              "      flex-wrap:wrap;\n",
              "      gap: 12px;\n",
              "    }\n",
              "\n",
              "    .colab-df-convert {\n",
              "      background-color: #E8F0FE;\n",
              "      border: none;\n",
              "      border-radius: 50%;\n",
              "      cursor: pointer;\n",
              "      display: none;\n",
              "      fill: #1967D2;\n",
              "      height: 32px;\n",
              "      padding: 0 0 0 0;\n",
              "      width: 32px;\n",
              "    }\n",
              "\n",
              "    .colab-df-convert:hover {\n",
              "      background-color: #E2EBFA;\n",
              "      box-shadow: 0px 1px 2px rgba(60, 64, 67, 0.3), 0px 1px 3px 1px rgba(60, 64, 67, 0.15);\n",
              "      fill: #174EA6;\n",
              "    }\n",
              "\n",
              "    [theme=dark] .colab-df-convert {\n",
              "      background-color: #3B4455;\n",
              "      fill: #D2E3FC;\n",
              "    }\n",
              "\n",
              "    [theme=dark] .colab-df-convert:hover {\n",
              "      background-color: #434B5C;\n",
              "      box-shadow: 0px 1px 3px 1px rgba(0, 0, 0, 0.15);\n",
              "      filter: drop-shadow(0px 1px 2px rgba(0, 0, 0, 0.3));\n",
              "      fill: #FFFFFF;\n",
              "    }\n",
              "  </style>\n",
              "\n",
              "      <script>\n",
              "        const buttonEl =\n",
              "          document.querySelector('#df-f15b1004-8ad5-4b14-8fb7-41e876429910 button.colab-df-convert');\n",
              "        buttonEl.style.display =\n",
              "          google.colab.kernel.accessAllowed ? 'block' : 'none';\n",
              "\n",
              "        async function convertToInteractive(key) {\n",
              "          const element = document.querySelector('#df-f15b1004-8ad5-4b14-8fb7-41e876429910');\n",
              "          const dataTable =\n",
              "            await google.colab.kernel.invokeFunction('convertToInteractive',\n",
              "                                                     [key], {});\n",
              "          if (!dataTable) return;\n",
              "\n",
              "          const docLinkHtml = 'Like what you see? Visit the ' +\n",
              "            '<a target=\"_blank\" href=https://colab.research.google.com/notebooks/data_table.ipynb>data table notebook</a>'\n",
              "            + ' to learn more about interactive tables.';\n",
              "          element.innerHTML = '';\n",
              "          dataTable['output_type'] = 'display_data';\n",
              "          await google.colab.output.renderOutput(dataTable, element);\n",
              "          const docLink = document.createElement('div');\n",
              "          docLink.innerHTML = docLinkHtml;\n",
              "          element.appendChild(docLink);\n",
              "        }\n",
              "      </script>\n",
              "    </div>\n",
              "  </div>\n",
              "  "
            ]
          },
          "metadata": {},
          "execution_count": 92
        }
      ],
      "source": [
        "# na diagonal da matriz teremos as variancias das variáveis\n",
        "\n",
        "amostra[['Idade', 'Renda', 'Anos de Estudo', 'Altura']].cov()"
      ]
    },
    {
      "cell_type": "markdown",
      "metadata": {
        "id": "dodkzGyBcakG"
      },
      "source": [
        "### Identificando as variâncias na diagonal principal da matriz"
      ]
    },
    {
      "cell_type": "code",
      "execution_count": 93,
      "metadata": {
        "id": "iG3mpmBfcakH",
        "colab": {
          "base_uri": "https://localhost:8080/"
        },
        "outputId": "21533c2e-ea1f-4752-e658-ba1ff8d0d0cf"
      },
      "outputs": [
        {
          "output_type": "execute_result",
          "data": {
            "text/plain": [
              "134.4105263157895"
            ]
          },
          "metadata": {},
          "execution_count": 93
        }
      ],
      "source": [
        "amostra.Idade.var()"
      ]
    },
    {
      "cell_type": "markdown",
      "metadata": {
        "id": "9I8MVJAscakK"
      },
      "source": [
        "## <font color=green>3.2 Interpretação da Covariância</font>\n",
        "***"
      ]
    },
    {
      "cell_type": "markdown",
      "metadata": {
        "id": "_H2Y3PVZcakK"
      },
      "source": [
        "Valor de $S_{xy}$ positivo indica uma associação linear positiva entre x e y, ou seja, à medida que o valor de x aumenta, o valor de y também aumenta. Neste caso, podemos ver na figura abaixo que os pontos que têm a maior influência sobre $S_{xy}$ devem estar nos quadrantes I e III.\n",
        "\n",
        "Se o valor de $S_{xy}$ for negativo temos um indicativo de associação linear negativa entre x e y, ou seja, à medida que x aumenta, o valor de y diminui. Neste caso, podemos ver na figura abaixo que os pontos que têm a maior influência sobre $S_{xy}$ devem estar nos quadrantes II e IV.\n",
        "\n",
        "Finalmente, se os pontos estiverem uniformemente distribuídos pelos quadrantes, o valor de $S_{xy}$ se aproximará de zero, indicando que não existe nenhuma associação linear entre x e y.\n",
        "\n",
        "<img src=\"https://caelum-online-public.s3.amazonaws.com/1273-estatistica-parte4/01/img026.png\" width=50%>"
      ]
    },
    {
      "cell_type": "markdown",
      "metadata": {
        "id": "frhw7Uc8cakL"
      },
      "source": [
        "### Verificando a existência de uma associação linear negativa"
      ]
    },
    {
      "cell_type": "code",
      "execution_count": 94,
      "metadata": {
        "id": "Xb__N-ZlcakL",
        "colab": {
          "base_uri": "https://localhost:8080/",
          "height": 462
        },
        "outputId": "d7e140f1-91c9-4f77-e5c6-f5aef6e4b3ec"
      },
      "outputs": [
        {
          "output_type": "stream",
          "name": "stderr",
          "text": [
            "/usr/local/lib/python3.8/dist-packages/seaborn/_decorators.py:36: FutureWarning: Pass the following variables as keyword args: x, y. From version 0.12, the only valid positional argument will be `data`, and passing other arguments without an explicit keyword will result in an error or misinterpretation.\n",
            "  warnings.warn(\n"
          ]
        },
        {
          "output_type": "execute_result",
          "data": {
            "text/plain": [
              "<matplotlib.collections.LineCollection at 0x7fbca38973d0>"
            ]
          },
          "metadata": {},
          "execution_count": 94
        },
        {
          "output_type": "display_data",
          "data": {
            "text/plain": [
              "<Figure size 720x432 with 1 Axes>"
            ],
            "image/png": "[encoded data removed]"
          },
          "metadata": {
            "needs_background": "light"
          }
        }
      ],
      "source": [
        "x = amostra.Renda\n",
        "y = amostra.Idade\n",
        "\n",
        "ax = sns.scatterplot(x, y)\n",
        "ax.figure.set_size_inches(10, 6)\n",
        "ax.hlines(y = y.mean(), xmin = x.min(), xmax = x.max(), colors='black', linestyles='dashed')\n",
        "ax.vlines(x = x.mean(), ymin = y.min(), ymax = y.max(), colors='black', linestyles='dashed')"
      ]
    },
    {
      "cell_type": "markdown",
      "metadata": {
        "id": "es2CobcCcakQ"
      },
      "source": [
        "### Verificando a existência de uma associação linear positiva"
      ]
    },
    {
      "cell_type": "code",
      "execution_count": 95,
      "metadata": {
        "id": "eLc5JmYCcakQ",
        "colab": {
          "base_uri": "https://localhost:8080/",
          "height": 462
        },
        "outputId": "a096178f-4478-4d50-b914-4f7e0902a40c"
      },
      "outputs": [
        {
          "output_type": "stream",
          "name": "stderr",
          "text": [
            "/usr/local/lib/python3.8/dist-packages/seaborn/_decorators.py:36: FutureWarning: Pass the following variables as keyword args: x, y. From version 0.12, the only valid positional argument will be `data`, and passing other arguments without an explicit keyword will result in an error or misinterpretation.\n",
            "  warnings.warn(\n"
          ]
        },
        {
          "output_type": "execute_result",
          "data": {
            "text/plain": [
              "<matplotlib.collections.LineCollection at 0x7fbca3867af0>"
            ]
          },
          "metadata": {},
          "execution_count": 95
        },
        {
          "output_type": "display_data",
          "data": {
            "text/plain": [
              "<Figure size 720x432 with 1 Axes>"
            ],
            "image/png": "[encoded data removed]"
          },
          "metadata": {
            "needs_background": "light"
          }
        }
      ],
      "source": [
        "x = amostra.Renda\n",
        "y = amostra['Anos de Estudo']\n",
        "\n",
        "ax = sns.scatterplot(x, y)\n",
        "ax.figure.set_size_inches(10, 6)\n",
        "ax.hlines(y = y.mean(), xmin = x.min(), xmax = x.max(), colors='black', linestyles='dashed')\n",
        "ax.vlines(x = x.mean(), ymin = y.min(), ymax = y.max(), colors='black', linestyles='dashed')"
      ]
    },
    {
      "cell_type": "markdown",
      "metadata": {
        "id": "mYYlKQeHcakS"
      },
      "source": [
        "### Verificando a inexistência de uma associação linear entre as variáveis"
      ]
    },
    {
      "cell_type": "code",
      "execution_count": 96,
      "metadata": {
        "id": "R0S1AiBlcakS",
        "colab": {
          "base_uri": "https://localhost:8080/",
          "height": 462
        },
        "outputId": "8a89f6e3-ac03-4b6d-c243-06e99b686d73"
      },
      "outputs": [
        {
          "output_type": "stream",
          "name": "stderr",
          "text": [
            "/usr/local/lib/python3.8/dist-packages/seaborn/_decorators.py:36: FutureWarning: Pass the following variables as keyword args: x, y. From version 0.12, the only valid positional argument will be `data`, and passing other arguments without an explicit keyword will result in an error or misinterpretation.\n",
            "  warnings.warn(\n"
          ]
        },
        {
          "output_type": "execute_result",
          "data": {
            "text/plain": [
              "<matplotlib.collections.LineCollection at 0x7fbca3775910>"
            ]
          },
          "metadata": {},
          "execution_count": 96
        },
        {
          "output_type": "display_data",
          "data": {
            "text/plain": [
              "<Figure size 720x432 with 1 Axes>"
            ],
            "image/png": "[encoded data removed]"
          },
          "metadata": {
            "needs_background": "light"
          }
        }
      ],
      "source": [
        "x = amostra.Idade\n",
        "y = amostra.Altura\n",
        "\n",
        "ax = sns.scatterplot(x, y)\n",
        "ax.figure.set_size_inches(10, 6)\n",
        "ax.hlines(y = y.mean(), xmin = x.min(), xmax = x.max(), colors='black', linestyles='dashed')\n",
        "ax.vlines(x = x.mean(), ymin = y.min(), ymax = y.max(), colors='black', linestyles='dashed')"
      ]
    },
    {
      "cell_type": "markdown",
      "metadata": {
        "id": "zgSmQYrHcakb"
      },
      "source": [
        "### <font color='red'>Observação Importante:</font>\n",
        "> Pelo que foi apresentado pode parecer que valores elevados, tanto positivos quanto negativos, para a covariância indicam relações lineares fortes entre as variáveis envolvidas. No entanto, um problema quando se usa a covariância como uma medida da intensidade da relação linear é que o valor da covariância depende das unidades de medida para x e y.\n",
        "> \n",
        "> Uma medida da relação entre duas variáveis que não é afetada pelas unidades de medida para x e y é o coeficiente de correlação que veremos no próximo tópico."
      ]
    },
    {
      "cell_type": "markdown",
      "metadata": {
        "id": "oPAxUkyQcakb"
      },
      "source": [
        "## <font color=green>3.3 Coeficiente de correlação de Pearson</font>\n",
        "***"
      ]
    },
    {
      "cell_type": "markdown",
      "metadata": {
        "id": "6TYCLh0Hcakf"
      },
      "source": [
        "É obtido dividindo-se a covariância da população ou amostra pelo produto do desvio padrão populacional ou amostral de x pelo desvio padrão populacional ou amostral de y.\n",
        "\n",
        "O coeficiente de correlação varia de -1 a +1. Valores que se aproximam de -1 ou +1 indicam uma relação linear forte. Quanto mais próxima a correlação estiver de zero, mais fraca será a relação.\n",
        "\n",
        "Um ponto importante é que o coeficiente de correlação é uma medida de associação linear e não necessariamente de causação. Uma correlação alta entre duas variáveis não significa, necessariamente, que variações em uma delas provocará alterações na outra."
      ]
    },
    {
      "cell_type": "markdown",
      "metadata": {
        "id": "OgecrWGdcakf"
      },
      "source": [
        "### Coeficiente de correlação de Pearson - dados populacionais\n",
        "\n",
        "# $$\\rho_{xy} = \\frac{\\sigma_{xy}}{\\sigma_{x}\\sigma_{y}}$$\n",
        "\n",
        "### Coeficiente de correlação de Pearson - dados amostrais\n",
        "\n",
        "# $$r_{xy} = \\frac{s_{xy}}{s_{x}s_{y}}$$\n",
        "\n",
        "Onde\n",
        "\n",
        "$\\sigma_{xy}$ = covariância populacional entre x e y\n",
        "\n",
        "$s_{xy}$ = covariância amostral entre x e y\n",
        "\n",
        "$\\sigma_{x}$ e $\\sigma_{y}$ = desvios padrão populacionais de x e y, respectivamente\n",
        "\n",
        "$s_{x}$ e $s_{y}$ = desvios padrão amostrais de x e y, respectivamente"
      ]
    },
    {
      "cell_type": "markdown",
      "metadata": {
        "id": "jPk2i26acakg"
      },
      "source": [
        "### Obtendo $s_{xy}$"
      ]
    },
    {
      "cell_type": "code",
      "execution_count": 97,
      "metadata": {
        "id": "lc6MNkgQcakg"
      },
      "outputs": [],
      "source": [
        "s_xy = dados[['Altura', 'Renda']].cov()"
      ]
    },
    {
      "cell_type": "code",
      "execution_count": 98,
      "metadata": {
        "id": "_8KNoxdhcakj",
        "colab": {
          "base_uri": "https://localhost:8080/"
        },
        "outputId": "c46235d3-f1eb-4da1-a784-74578d7cf8e0"
      },
      "outputs": [
        {
          "output_type": "execute_result",
          "data": {
            "text/plain": [
              "-1.0789639314252715"
            ]
          },
          "metadata": {},
          "execution_count": 98
        }
      ],
      "source": [
        "s_xy= s_xy.Altura.loc['Renda']\n",
        "s_xy"
      ]
    },
    {
      "cell_type": "markdown",
      "metadata": {
        "id": "sDybJtCMcakl"
      },
      "source": [
        "### Obtendo $s_x$ e $s_y$"
      ]
    },
    {
      "cell_type": "code",
      "execution_count": 99,
      "metadata": {
        "id": "LTEEbMIzcakl"
      },
      "outputs": [],
      "source": [
        "s_x = dados.Altura.std()\n",
        "s_y = dados.Renda.std()"
      ]
    },
    {
      "cell_type": "markdown",
      "metadata": {
        "id": "VVpQ5QcCcakm"
      },
      "source": [
        "### Obtendo o coeficiente de correlação $r_{xy}$"
      ]
    },
    {
      "cell_type": "code",
      "execution_count": 100,
      "metadata": {
        "id": "TuPWxVgccakq",
        "colab": {
          "base_uri": "https://localhost:8080/"
        },
        "outputId": "1675d1d9-34c2-4199-c172-ce5a919a7ff2"
      },
      "outputs": [
        {
          "output_type": "execute_result",
          "data": {
            "text/plain": [
              "-0.0040726081434002874"
            ]
          },
          "metadata": {},
          "execution_count": 100
        }
      ],
      "source": [
        "r_xy = s_xy / (s_x * s_y)\n",
        "r_xy"
      ]
    },
    {
      "cell_type": "markdown",
      "metadata": {
        "id": "miyTUNqpcakr"
      },
      "source": [
        "### Obtendo uma matriz de correlação com o Pandas"
      ]
    },
    {
      "cell_type": "code",
      "execution_count": 101,
      "metadata": {
        "id": "SjQUE6wVcakt",
        "colab": {
          "base_uri": "https://localhost:8080/",
          "height": 112
        },
        "outputId": "068a68da-5bc9-44be-ad59-cd64531ad183"
      },
      "outputs": [
        {
          "output_type": "execute_result",
          "data": {
            "text/plain": [
              "          Altura     Renda\n",
              "Altura  1.000000 -0.004073\n",
              "Renda  -0.004073  1.000000"
            ],
            "text/html": [
              "\n",
              "  <div id=\"df-35a8cfa1-f16a-4942-9a89-1be6838a1400\">\n",
              "    <div class=\"colab-df-container\">\n",
              "      <div>\n",
              "<style scoped>\n",
              "    .dataframe tbody tr th:only-of-type {\n",
              "        vertical-align: middle;\n",
              "    }\n",
              "\n",
              "    .dataframe tbody tr th {\n",
              "        vertical-align: top;\n",
              "    }\n",
              "\n",
              "    .dataframe thead th {\n",
              "        text-align: right;\n",
              "    }\n",
              "</style>\n",
              "<table border=\"1\" class=\"dataframe\">\n",
              "  <thead>\n",
              "    <tr style=\"text-align: right;\">\n",
              "      <th></th>\n",
              "      <th>Altura</th>\n",
              "      <th>Renda</th>\n",
              "    </tr>\n",
              "  </thead>\n",
              "  <tbody>\n",
              "    <tr>\n",
              "      <th>Altura</th>\n",
              "      <td>1.000000</td>\n",
              "      <td>-0.004073</td>\n",
              "    </tr>\n",
              "    <tr>\n",
              "      <th>Renda</th>\n",
              "      <td>-0.004073</td>\n",
              "      <td>1.000000</td>\n",
              "    </tr>\n",
              "  </tbody>\n",
              "</table>\n",
              "</div>\n",
              "      <button class=\"colab-df-convert\" onclick=\"convertToInteractive('df-35a8cfa1-f16a-4942-9a89-1be6838a1400')\"\n",
              "              title=\"Convert this dataframe to an interactive table.\"\n",
              "              style=\"display:none;\">\n",
              "        \n",
              "  <svg xmlns=\"http://www.w3.org/2000/svg\" height=\"24px\"viewBox=\"0 0 24 24\"\n",
              "       width=\"24px\">\n",
              "    <path d=\"M0 0h24v24H0V0z\" fill=\"none\"/>\n",
              "    <path d=\"M18.56 5.44l.94 2.06.94-2.06 2.06-.94-2.06-.94-.94-2.06-.94 2.06-2.06.94zm-11 1L8.5 8.5l.94-2.06 2.06-.94-2.06-.94L8.5 2.5l-.94 2.06-2.06.94zm10 10l.94 2.06.94-2.06 2.06-.94-2.06-.94-.94-2.06-.94 2.06-2.06.94z\"/><path d=\"M17.41 7.96l-1.37-1.37c-.4-.4-.92-.59-1.43-.59-.52 0-1.04.2-1.43.59L10.3 9.45l-7.72 7.72c-.78.78-.78 2.05 0 2.83L4 21.41c.39.39.9.59 1.41.59.51 0 1.02-.2 1.41-.59l7.78-7.78 2.81-2.81c.8-.78.8-2.07 0-2.86zM5.41 20L4 18.59l7.72-7.72 1.47 1.35L5.41 20z\"/>\n",
              "  </svg>\n",
              "      </button>\n",
              "      \n",
              "  <style>\n",
              "    .colab-df-container {\n",
              "      display:flex;\n",
              "      flex-wrap:wrap;\n",
              "      gap: 12px;\n",
              "    }\n",
              "\n",
              "    .colab-df-convert {\n",
              "      background-color: #E8F0FE;\n",
              "      border: none;\n",
              "      border-radius: 50%;\n",
              "      cursor: pointer;\n",
              "      display: none;\n",
              "      fill: #1967D2;\n",
              "      height: 32px;\n",
              "      padding: 0 0 0 0;\n",
              "      width: 32px;\n",
              "    }\n",
              "\n",
              "    .colab-df-convert:hover {\n",
              "      background-color: #E2EBFA;\n",
              "      box-shadow: 0px 1px 2px rgba(60, 64, 67, 0.3), 0px 1px 3px 1px rgba(60, 64, 67, 0.15);\n",
              "      fill: #174EA6;\n",
              "    }\n",
              "\n",
              "    [theme=dark] .colab-df-convert {\n",
              "      background-color: #3B4455;\n",
              "      fill: #D2E3FC;\n",
              "    }\n",
              "\n",
              "    [theme=dark] .colab-df-convert:hover {\n",
              "      background-color: #434B5C;\n",
              "      box-shadow: 0px 1px 3px 1px rgba(0, 0, 0, 0.15);\n",
              "      filter: drop-shadow(0px 1px 2px rgba(0, 0, 0, 0.3));\n",
              "      fill: #FFFFFF;\n",
              "    }\n",
              "  </style>\n",
              "\n",
              "      <script>\n",
              "        const buttonEl =\n",
              "          document.querySelector('#df-35a8cfa1-f16a-4942-9a89-1be6838a1400 button.colab-df-convert');\n",
              "        buttonEl.style.display =\n",
              "          google.colab.kernel.accessAllowed ? 'block' : 'none';\n",
              "\n",
              "        async function convertToInteractive(key) {\n",
              "          const element = document.querySelector('#df-35a8cfa1-f16a-4942-9a89-1be6838a1400');\n",
              "          const dataTable =\n",
              "            await google.colab.kernel.invokeFunction('convertToInteractive',\n",
              "                                                     [key], {});\n",
              "          if (!dataTable) return;\n",
              "\n",
              "          const docLinkHtml = 'Like what you see? Visit the ' +\n",
              "            '<a target=\"_blank\" href=https://colab.research.google.com/notebooks/data_table.ipynb>data table notebook</a>'\n",
              "            + ' to learn more about interactive tables.';\n",
              "          element.innerHTML = '';\n",
              "          dataTable['output_type'] = 'display_data';\n",
              "          await google.colab.output.renderOutput(dataTable, element);\n",
              "          const docLink = document.createElement('div');\n",
              "          docLink.innerHTML = docLinkHtml;\n",
              "          element.appendChild(docLink);\n",
              "        }\n",
              "      </script>\n",
              "    </div>\n",
              "  </div>\n",
              "  "
            ]
          },
          "metadata": {},
          "execution_count": 101
        }
      ],
      "source": [
        "dados[['Altura', 'Renda']].corr()"
      ]
    },
    {
      "cell_type": "code",
      "execution_count": 102,
      "metadata": {
        "id": "r-Iasce4cakv",
        "colab": {
          "base_uri": "https://localhost:8080/",
          "height": 112
        },
        "outputId": "30cd2e2e-ce48-4eb6-e2cd-b61363083a50"
      },
      "outputs": [
        {
          "output_type": "execute_result",
          "data": {
            "text/plain": [
              "          Y         X\n",
              "Y  1.000000  0.984835\n",
              "X  0.984835  1.000000"
            ],
            "text/html": [
              "\n",
              "  <div id=\"df-d728ac0b-a8ae-4ade-8870-b36d358c6c9d\">\n",
              "    <div class=\"colab-df-container\">\n",
              "      <div>\n",
              "<style scoped>\n",
              "    .dataframe tbody tr th:only-of-type {\n",
              "        vertical-align: middle;\n",
              "    }\n",
              "\n",
              "    .dataframe tbody tr th {\n",
              "        vertical-align: top;\n",
              "    }\n",
              "\n",
              "    .dataframe thead th {\n",
              "        text-align: right;\n",
              "    }\n",
              "</style>\n",
              "<table border=\"1\" class=\"dataframe\">\n",
              "  <thead>\n",
              "    <tr style=\"text-align: right;\">\n",
              "      <th></th>\n",
              "      <th>Y</th>\n",
              "      <th>X</th>\n",
              "    </tr>\n",
              "  </thead>\n",
              "  <tbody>\n",
              "    <tr>\n",
              "      <th>Y</th>\n",
              "      <td>1.000000</td>\n",
              "      <td>0.984835</td>\n",
              "    </tr>\n",
              "    <tr>\n",
              "      <th>X</th>\n",
              "      <td>0.984835</td>\n",
              "      <td>1.000000</td>\n",
              "    </tr>\n",
              "  </tbody>\n",
              "</table>\n",
              "</div>\n",
              "      <button class=\"colab-df-convert\" onclick=\"convertToInteractive('df-d728ac0b-a8ae-4ade-8870-b36d358c6c9d')\"\n",
              "              title=\"Convert this dataframe to an interactive table.\"\n",
              "              style=\"display:none;\">\n",
              "        \n",
              "  <svg xmlns=\"http://www.w3.org/2000/svg\" height=\"24px\"viewBox=\"0 0 24 24\"\n",
              "       width=\"24px\">\n",
              "    <path d=\"M0 0h24v24H0V0z\" fill=\"none\"/>\n",
              "    <path d=\"M18.56 5.44l.94 2.06.94-2.06 2.06-.94-2.06-.94-.94-2.06-.94 2.06-2.06.94zm-11 1L8.5 8.5l.94-2.06 2.06-.94-2.06-.94L8.5 2.5l-.94 2.06-2.06.94zm10 10l.94 2.06.94-2.06 2.06-.94-2.06-.94-.94-2.06-.94 2.06-2.06.94z\"/><path d=\"M17.41 7.96l-1.37-1.37c-.4-.4-.92-.59-1.43-.59-.52 0-1.04.2-1.43.59L10.3 9.45l-7.72 7.72c-.78.78-.78 2.05 0 2.83L4 21.41c.39.39.9.59 1.41.59.51 0 1.02-.2 1.41-.59l7.78-7.78 2.81-2.81c.8-.78.8-2.07 0-2.86zM5.41 20L4 18.59l7.72-7.72 1.47 1.35L5.41 20z\"/>\n",
              "  </svg>\n",
              "      </button>\n",
              "      \n",
              "  <style>\n",
              "    .colab-df-container {\n",
              "      display:flex;\n",
              "      flex-wrap:wrap;\n",
              "      gap: 12px;\n",
              "    }\n",
              "\n",
              "    .colab-df-convert {\n",
              "      background-color: #E8F0FE;\n",
              "      border: none;\n",
              "      border-radius: 50%;\n",
              "      cursor: pointer;\n",
              "      display: none;\n",
              "      fill: #1967D2;\n",
              "      height: 32px;\n",
              "      padding: 0 0 0 0;\n",
              "      width: 32px;\n",
              "    }\n",
              "\n",
              "    .colab-df-convert:hover {\n",
              "      background-color: #E2EBFA;\n",
              "      box-shadow: 0px 1px 2px rgba(60, 64, 67, 0.3), 0px 1px 3px 1px rgba(60, 64, 67, 0.15);\n",
              "      fill: #174EA6;\n",
              "    }\n",
              "\n",
              "    [theme=dark] .colab-df-convert {\n",
              "      background-color: #3B4455;\n",
              "      fill: #D2E3FC;\n",
              "    }\n",
              "\n",
              "    [theme=dark] .colab-df-convert:hover {\n",
              "      background-color: #434B5C;\n",
              "      box-shadow: 0px 1px 3px 1px rgba(0, 0, 0, 0.15);\n",
              "      filter: drop-shadow(0px 1px 2px rgba(0, 0, 0, 0.3));\n",
              "      fill: #FFFFFF;\n",
              "    }\n",
              "  </style>\n",
              "\n",
              "      <script>\n",
              "        const buttonEl =\n",
              "          document.querySelector('#df-d728ac0b-a8ae-4ade-8870-b36d358c6c9d button.colab-df-convert');\n",
              "        buttonEl.style.display =\n",
              "          google.colab.kernel.accessAllowed ? 'block' : 'none';\n",
              "\n",
              "        async function convertToInteractive(key) {\n",
              "          const element = document.querySelector('#df-d728ac0b-a8ae-4ade-8870-b36d358c6c9d');\n",
              "          const dataTable =\n",
              "            await google.colab.kernel.invokeFunction('convertToInteractive',\n",
              "                                                     [key], {});\n",
              "          if (!dataTable) return;\n",
              "\n",
              "          const docLinkHtml = 'Like what you see? Visit the ' +\n",
              "            '<a target=\"_blank\" href=https://colab.research.google.com/notebooks/data_table.ipynb>data table notebook</a>'\n",
              "            + ' to learn more about interactive tables.';\n",
              "          element.innerHTML = '';\n",
              "          dataTable['output_type'] = 'display_data';\n",
              "          await google.colab.output.renderOutput(dataTable, element);\n",
              "          const docLink = document.createElement('div');\n",
              "          docLink.innerHTML = docLinkHtml;\n",
              "          element.appendChild(docLink);\n",
              "        }\n",
              "      </script>\n",
              "    </div>\n",
              "  </div>\n",
              "  "
            ]
          },
          "metadata": {},
          "execution_count": 102
        }
      ],
      "source": [
        "dataset[['Y', 'X']].corr()"
      ]
    },
    {
      "cell_type": "code",
      "execution_count": 103,
      "metadata": {
        "id": "0Zddu4ajcakx",
        "colab": {
          "base_uri": "https://localhost:8080/",
          "height": 462
        },
        "outputId": "92af3449-a194-41d1-e9eb-2dcd9fb563ef"
      },
      "outputs": [
        {
          "output_type": "stream",
          "name": "stderr",
          "text": [
            "/usr/local/lib/python3.8/dist-packages/seaborn/_decorators.py:36: FutureWarning: Pass the following variables as keyword args: x, y. From version 0.12, the only valid positional argument will be `data`, and passing other arguments without an explicit keyword will result in an error or misinterpretation.\n",
            "  warnings.warn(\n"
          ]
        },
        {
          "output_type": "execute_result",
          "data": {
            "text/plain": [
              "<matplotlib.collections.LineCollection at 0x7fbca3a1b790>"
            ]
          },
          "metadata": {},
          "execution_count": 103
        },
        {
          "output_type": "display_data",
          "data": {
            "text/plain": [
              "<Figure size 720x432 with 1 Axes>"
            ],
            "image/png": "[encoded data removed]"
          },
          "metadata": {
            "needs_background": "light"
          }
        }
      ],
      "source": [
        "x = amostra.Renda\n",
        "y = amostra.Altura\n",
        "\n",
        "ax = sns.scatterplot(x, y)\n",
        "ax.figure.set_size_inches(10, 6)\n",
        "ax.hlines(y = y.mean(), xmin = x.min(), xmax = x.max(), colors='black', linestyles='dashed')\n",
        "ax.vlines(x = x.mean(), ymin = y.min(), ymax = y.max(), colors='black', linestyles='dashed')"
      ]
    },
    {
      "cell_type": "code",
      "execution_count": 104,
      "metadata": {
        "id": "iMNkYpnhcak0",
        "colab": {
          "base_uri": "https://localhost:8080/",
          "height": 462
        },
        "outputId": "d5bf2b6e-cf90-40d7-b641-6dadfd50b728"
      },
      "outputs": [
        {
          "output_type": "stream",
          "name": "stderr",
          "text": [
            "/usr/local/lib/python3.8/dist-packages/seaborn/_decorators.py:36: FutureWarning: Pass the following variables as keyword args: x, y. From version 0.12, the only valid positional argument will be `data`, and passing other arguments without an explicit keyword will result in an error or misinterpretation.\n",
            "  warnings.warn(\n"
          ]
        },
        {
          "output_type": "execute_result",
          "data": {
            "text/plain": [
              "<matplotlib.collections.LineCollection at 0x7fbca433d6d0>"
            ]
          },
          "metadata": {},
          "execution_count": 104
        },
        {
          "output_type": "display_data",
          "data": {
            "text/plain": [
              "<Figure size 720x432 with 1 Axes>"
            ],
            "image/png": "[encoded data removed]"
          },
          "metadata": {
            "needs_background": "light"
          }
        }
      ],
      "source": [
        "x = dataset.Y\n",
        "y = dataset.X\n",
        "\n",
        "ax = sns.scatterplot(x, y)\n",
        "ax.figure.set_size_inches(10, 6)\n",
        "ax.hlines(y = y.mean(), xmin = x.min(), xmax = x.max(), colors='black', linestyles='dashed')\n",
        "ax.vlines(x = x.mean(), ymin = y.min(), ymax = y.max(), colors='black', linestyles='dashed')"
      ]
    },
    {
      "cell_type": "markdown",
      "source": [
        "Exercício\n",
        "\n",
        "Temos o seguinte conjunto de informações sobre as variáveis X e Y:\n",
        "\n",
        "\n",
        "![image.png](data:image/png;base64,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)\n",
        "\n",
        "\n",
        "Assinale a alternativa abaixo que apresenta o valor do coeficiente de correlação de Pearson para as variáveis X e Y."
      ],
      "metadata": {
        "id": "DVafs6xJD4oR"
      }
    },
    {
      "cell_type": "code",
      "source": [
        "sigma_xy = 2178803.59\n",
        "sigma_x = np.sqrt(7328865.85)\n",
        "sigma_y = np.sqrt(667839.78)"
      ],
      "metadata": {
        "id": "UIKkv5MEEGTZ"
      },
      "execution_count": 105,
      "outputs": []
    },
    {
      "cell_type": "code",
      "source": [
        "corr_xy = sigma_xy / (sigma_x * sigma_y)\n",
        "corr_xy"
      ],
      "metadata": {
        "colab": {
          "base_uri": "https://localhost:8080/"
        },
        "id": "au0U3JxwEbt9",
        "outputId": "5c019329-c8c9-46ec-b602-cd8fedcb0ae3"
      },
      "execution_count": 106,
      "outputs": [
        {
          "output_type": "execute_result",
          "data": {
            "text/plain": [
              "0.984835179852382"
            ]
          },
          "metadata": {},
          "execution_count": 106
        }
      ]
    },
    {
      "cell_type": "markdown",
      "metadata": {
        "id": "HSF3lXxzcak3"
      },
      "source": [
        "---"
      ]
    },
    {
      "cell_type": "markdown",
      "metadata": {
        "id": "glWc43l2hLnL"
      },
      "source": [
        "# <font color=green>4 REGRESSÃO LINEAR</font>\n",
        "***"
      ]
    },
    {
      "cell_type": "markdown",
      "metadata": {
        "id": "T0nLJKtLcak8"
      },
      "source": [
        "A análise de regressão diz respeito ao estudo da dependência de uma variável (a variável dependente) em relação a uma ou mais variáveis, as variáveis explicativas ou independentes, visando estimar e/ou prever o valor médio da primeira em termos dos valores conhecidos ou fixados das segundas.\n",
        "\n",
        "#### Terminologia\n",
        "\n",
        "> A variável que é prevista é conhecida como variável dependente (*Y*).\n",
        "\n",
        "> A variável utilizada para prever o valor da variável dependente é conhecida como variável independente (*X*).\n",
        "\n",
        "Em nosso treinamento vamos abordar o tipo mais simples de análise de regressão que considera uma variável dependente e apenas uma variável independente onde a relação entre as variáveis se aproxima de uma linha reta."
      ]
    },
    {
      "cell_type": "markdown",
      "metadata": {
        "id": "jIXc6LA7cak9"
      },
      "source": [
        "## <font color=green>4.1 Regressão linear simples</font>\n",
        "***"
      ]
    },
    {
      "cell_type": "markdown",
      "metadata": {
        "id": "bIhWKDuK75k2"
      },
      "source": [
        "### Função consumo\n",
        "\n",
        "Um economista famoso do passado concluiu em um de seus estudos que os indivíduos tendem a aumentar o seu consumo conforme sua renda aumenta. Logicamente esta teoria ganhou um pouco mais de complexidade, mas vamos utilizar sua forma mais simples para entender o procedimento de análise de regressão com a seguninte formulação:\n",
        "\n",
        "# $$Y_i = \\beta_1 + \\beta_2X_i$$\n",
        "\n",
        "Onde\n",
        "\n",
        "- $Y_i$ é o gasto das famílias ou consumo das famílias\n",
        "\n",
        "- $X_i$ é a renda disponível\n",
        "\n",
        "- $\\beta_1$ é conhecido como intercepto (no modelo teórico acima é conhecido como consumo autônomo, ou seja, o consumo quando o rendimento é zero)\n",
        "\n",
        "- $\\beta_2$ é o coefiente angular (no modelo teórico é a propensão marginal a consumir)\n",
        "\n",
        "Em uma análise de regressão linear simples, o interesse está em estimar a função de regressão populacional como a apresentada acima, ou seja, estimar os valores dos parâmetros $\\beta_1$ e $\\beta_2$ com base nas observações de $Y$ e $X$."
      ]
    },
    {
      "cell_type": "markdown",
      "metadata": {
        "id": "1kkZ2NxPcak-"
      },
      "source": [
        "### Carregando o dataset"
      ]
    },
    {
      "cell_type": "code",
      "execution_count": 107,
      "metadata": {
        "id": "-um71iXqcak-"
      },
      "outputs": [],
      "source": [
        "dataset = {\n",
        "    'Y': [3011, 1305, 1879, 2654, 2849, 1068, 2892, 2543, 3074, 849, 2184, 2943, 1357, 2755, 2163, 3099, 1600, 353, 1778, 740, 2129, 3302, 2412, 2683, 2515, 2395, 2292, 1000, 600, 1864, 3027, 1978, 2791, 1982, 900, 1964, 1247, 3067, 700, 1500, 3110, 2644, 1378, 2601, 501, 1292, 2125, 1431, 2260, 1770],\n",
        "    'X': [9714, 3728, 6062, 8845, 8378, 3338, 8507, 7947, 9915, 1632, 6825, 8918, 4100, 9184, 6180, 9997, 4500, 1069, 5925, 2466, 6083, 9712, 7780, 8383, 7185, 7483, 7640, 2100, 2000, 6012, 8902, 5345, 8210, 5662, 2700, 6546, 2900, 9894, 1500, 5000, 8885, 8813, 3446, 7881, 1164, 3401, 6641, 3329, 6648, 4800]\n",
        "}"
      ]
    },
    {
      "cell_type": "code",
      "execution_count": 108,
      "metadata": {
        "id": "eVisdrGdcak_",
        "scrolled": true,
        "colab": {
          "base_uri": "https://localhost:8080/",
          "height": 206
        },
        "outputId": "94f22277-82d8-4dd0-c395-132329b1b2c5"
      },
      "outputs": [
        {
          "output_type": "execute_result",
          "data": {
            "text/plain": [
              "      Y     X\n",
              "0  3011  9714\n",
              "1  1305  3728\n",
              "2  1879  6062\n",
              "3  2654  8845\n",
              "4  2849  8378"
            ],
            "text/html": [
              "\n",
              "  <div id=\"df-c89c0920-da6b-48e0-b093-d635978e4a5f\">\n",
              "    <div class=\"colab-df-container\">\n",
              "      <div>\n",
              "<style scoped>\n",
              "    .dataframe tbody tr th:only-of-type {\n",
              "        vertical-align: middle;\n",
              "    }\n",
              "\n",
              "    .dataframe tbody tr th {\n",
              "        vertical-align: top;\n",
              "    }\n",
              "\n",
              "    .dataframe thead th {\n",
              "        text-align: right;\n",
              "    }\n",
              "</style>\n",
              "<table border=\"1\" class=\"dataframe\">\n",
              "  <thead>\n",
              "    <tr style=\"text-align: right;\">\n",
              "      <th></th>\n",
              "      <th>Y</th>\n",
              "      <th>X</th>\n",
              "    </tr>\n",
              "  </thead>\n",
              "  <tbody>\n",
              "    <tr>\n",
              "      <th>0</th>\n",
              "      <td>3011</td>\n",
              "      <td>9714</td>\n",
              "    </tr>\n",
              "    <tr>\n",
              "      <th>1</th>\n",
              "      <td>1305</td>\n",
              "      <td>3728</td>\n",
              "    </tr>\n",
              "    <tr>\n",
              "      <th>2</th>\n",
              "      <td>1879</td>\n",
              "      <td>6062</td>\n",
              "    </tr>\n",
              "    <tr>\n",
              "      <th>3</th>\n",
              "      <td>2654</td>\n",
              "      <td>8845</td>\n",
              "    </tr>\n",
              "    <tr>\n",
              "      <th>4</th>\n",
              "      <td>2849</td>\n",
              "      <td>8378</td>\n",
              "    </tr>\n",
              "  </tbody>\n",
              "</table>\n",
              "</div>\n",
              "      <button class=\"colab-df-convert\" onclick=\"convertToInteractive('df-c89c0920-da6b-48e0-b093-d635978e4a5f')\"\n",
              "              title=\"Convert this dataframe to an interactive table.\"\n",
              "              style=\"display:none;\">\n",
              "        \n",
              "  <svg xmlns=\"http://www.w3.org/2000/svg\" height=\"24px\"viewBox=\"0 0 24 24\"\n",
              "       width=\"24px\">\n",
              "    <path d=\"M0 0h24v24H0V0z\" fill=\"none\"/>\n",
              "    <path d=\"M18.56 5.44l.94 2.06.94-2.06 2.06-.94-2.06-.94-.94-2.06-.94 2.06-2.06.94zm-11 1L8.5 8.5l.94-2.06 2.06-.94-2.06-.94L8.5 2.5l-.94 2.06-2.06.94zm10 10l.94 2.06.94-2.06 2.06-.94-2.06-.94-.94-2.06-.94 2.06-2.06.94z\"/><path d=\"M17.41 7.96l-1.37-1.37c-.4-.4-.92-.59-1.43-.59-.52 0-1.04.2-1.43.59L10.3 9.45l-7.72 7.72c-.78.78-.78 2.05 0 2.83L4 21.41c.39.39.9.59 1.41.59.51 0 1.02-.2 1.41-.59l7.78-7.78 2.81-2.81c.8-.78.8-2.07 0-2.86zM5.41 20L4 18.59l7.72-7.72 1.47 1.35L5.41 20z\"/>\n",
              "  </svg>\n",
              "      </button>\n",
              "      \n",
              "  <style>\n",
              "    .colab-df-container {\n",
              "      display:flex;\n",
              "      flex-wrap:wrap;\n",
              "      gap: 12px;\n",
              "    }\n",
              "\n",
              "    .colab-df-convert {\n",
              "      background-color: #E8F0FE;\n",
              "      border: none;\n",
              "      border-radius: 50%;\n",
              "      cursor: pointer;\n",
              "      display: none;\n",
              "      fill: #1967D2;\n",
              "      height: 32px;\n",
              "      padding: 0 0 0 0;\n",
              "      width: 32px;\n",
              "    }\n",
              "\n",
              "    .colab-df-convert:hover {\n",
              "      background-color: #E2EBFA;\n",
              "      box-shadow: 0px 1px 2px rgba(60, 64, 67, 0.3), 0px 1px 3px 1px rgba(60, 64, 67, 0.15);\n",
              "      fill: #174EA6;\n",
              "    }\n",
              "\n",
              "    [theme=dark] .colab-df-convert {\n",
              "      background-color: #3B4455;\n",
              "      fill: #D2E3FC;\n",
              "    }\n",
              "\n",
              "    [theme=dark] .colab-df-convert:hover {\n",
              "      background-color: #434B5C;\n",
              "      box-shadow: 0px 1px 3px 1px rgba(0, 0, 0, 0.15);\n",
              "      filter: drop-shadow(0px 1px 2px rgba(0, 0, 0, 0.3));\n",
              "      fill: #FFFFFF;\n",
              "    }\n",
              "  </style>\n",
              "\n",
              "      <script>\n",
              "        const buttonEl =\n",
              "          document.querySelector('#df-c89c0920-da6b-48e0-b093-d635978e4a5f button.colab-df-convert');\n",
              "        buttonEl.style.display =\n",
              "          google.colab.kernel.accessAllowed ? 'block' : 'none';\n",
              "\n",
              "        async function convertToInteractive(key) {\n",
              "          const element = document.querySelector('#df-c89c0920-da6b-48e0-b093-d635978e4a5f');\n",
              "          const dataTable =\n",
              "            await google.colab.kernel.invokeFunction('convertToInteractive',\n",
              "                                                     [key], {});\n",
              "          if (!dataTable) return;\n",
              "\n",
              "          const docLinkHtml = 'Like what you see? Visit the ' +\n",
              "            '<a target=\"_blank\" href=https://colab.research.google.com/notebooks/data_table.ipynb>data table notebook</a>'\n",
              "            + ' to learn more about interactive tables.';\n",
              "          element.innerHTML = '';\n",
              "          dataTable['output_type'] = 'display_data';\n",
              "          await google.colab.output.renderOutput(dataTable, element);\n",
              "          const docLink = document.createElement('div');\n",
              "          docLink.innerHTML = docLinkHtml;\n",
              "          element.appendChild(docLink);\n",
              "        }\n",
              "      </script>\n",
              "    </div>\n",
              "  </div>\n",
              "  "
            ]
          },
          "metadata": {},
          "execution_count": 108
        }
      ],
      "source": [
        "dataset = pd.DataFrame(dataset)\n",
        "dataset.head()"
      ]
    },
    {
      "cell_type": "markdown",
      "metadata": {
        "id": "FnwGB3f1calB"
      },
      "source": [
        "### Identificando a relação entre as variáveis\n",
        "\n",
        "https://seaborn.pydata.org/generated/seaborn.lmplot.html\n",
        "\n",
        "Plota a reta de regressão entre duas variáveis juntamente com a dispersão entre elas."
      ]
    },
    {
      "cell_type": "code",
      "execution_count": 109,
      "metadata": {
        "id": "DI16LyC7calB",
        "colab": {
          "base_uri": "https://localhost:8080/",
          "height": 474
        },
        "outputId": "0428e261-80d4-4f23-ddfb-0f4f8feaf29c"
      },
      "outputs": [
        {
          "output_type": "execute_result",
          "data": {
            "text/plain": [
              "<seaborn.axisgrid.FacetGrid at 0x7fbca4399be0>"
            ]
          },
          "metadata": {},
          "execution_count": 109
        },
        {
          "output_type": "display_data",
          "data": {
            "text/plain": [
              "<Figure size 864x432 with 1 Axes>"
            ],
            "image/png": "[encoded data removed]"
          },
          "metadata": {
            "needs_background": "light"
          }
        }
      ],
      "source": [
        "ax = sns.lmplot(x=\"X\", y=\"Y\", data=dataset)\n",
        "ax.fig.set_size_inches(12, 6)\n",
        "ax.fig.suptitle('Reta de Regressão - Gasto X Renda', fontsize=16, y=1.02)\n",
        "ax.set_xlabels(\"Renda das Famílias\", fontsize=14)\n",
        "ax.set_ylabels(\"Gasto das Famílias\", fontsize=14)\n",
        "ax"
      ]
    },
    {
      "cell_type": "markdown",
      "metadata": {
        "id": "5_PIOCAv75k9"
      },
      "source": [
        "### Matriz de correlação"
      ]
    },
    {
      "cell_type": "code",
      "execution_count": 110,
      "metadata": {
        "id": "R7Zr6nuy75k-",
        "colab": {
          "base_uri": "https://localhost:8080/",
          "height": 112
        },
        "outputId": "e773527c-19ce-46cf-f1cd-106669f24b67"
      },
      "outputs": [
        {
          "output_type": "execute_result",
          "data": {
            "text/plain": [
              "          Y         X\n",
              "Y  1.000000  0.984835\n",
              "X  0.984835  1.000000"
            ],
            "text/html": [
              "\n",
              "  <div id=\"df-87880a67-4681-4beb-b9b3-735fb40221ad\">\n",
              "    <div class=\"colab-df-container\">\n",
              "      <div>\n",
              "<style scoped>\n",
              "    .dataframe tbody tr th:only-of-type {\n",
              "        vertical-align: middle;\n",
              "    }\n",
              "\n",
              "    .dataframe tbody tr th {\n",
              "        vertical-align: top;\n",
              "    }\n",
              "\n",
              "    .dataframe thead th {\n",
              "        text-align: right;\n",
              "    }\n",
              "</style>\n",
              "<table border=\"1\" class=\"dataframe\">\n",
              "  <thead>\n",
              "    <tr style=\"text-align: right;\">\n",
              "      <th></th>\n",
              "      <th>Y</th>\n",
              "      <th>X</th>\n",
              "    </tr>\n",
              "  </thead>\n",
              "  <tbody>\n",
              "    <tr>\n",
              "      <th>Y</th>\n",
              "      <td>1.000000</td>\n",
              "      <td>0.984835</td>\n",
              "    </tr>\n",
              "    <tr>\n",
              "      <th>X</th>\n",
              "      <td>0.984835</td>\n",
              "      <td>1.000000</td>\n",
              "    </tr>\n",
              "  </tbody>\n",
              "</table>\n",
              "</div>\n",
              "      <button class=\"colab-df-convert\" onclick=\"convertToInteractive('df-87880a67-4681-4beb-b9b3-735fb40221ad')\"\n",
              "              title=\"Convert this dataframe to an interactive table.\"\n",
              "              style=\"display:none;\">\n",
              "        \n",
              "  <svg xmlns=\"http://www.w3.org/2000/svg\" height=\"24px\"viewBox=\"0 0 24 24\"\n",
              "       width=\"24px\">\n",
              "    <path d=\"M0 0h24v24H0V0z\" fill=\"none\"/>\n",
              "    <path d=\"M18.56 5.44l.94 2.06.94-2.06 2.06-.94-2.06-.94-.94-2.06-.94 2.06-2.06.94zm-11 1L8.5 8.5l.94-2.06 2.06-.94-2.06-.94L8.5 2.5l-.94 2.06-2.06.94zm10 10l.94 2.06.94-2.06 2.06-.94-2.06-.94-.94-2.06-.94 2.06-2.06.94z\"/><path d=\"M17.41 7.96l-1.37-1.37c-.4-.4-.92-.59-1.43-.59-.52 0-1.04.2-1.43.59L10.3 9.45l-7.72 7.72c-.78.78-.78 2.05 0 2.83L4 21.41c.39.39.9.59 1.41.59.51 0 1.02-.2 1.41-.59l7.78-7.78 2.81-2.81c.8-.78.8-2.07 0-2.86zM5.41 20L4 18.59l7.72-7.72 1.47 1.35L5.41 20z\"/>\n",
              "  </svg>\n",
              "      </button>\n",
              "      \n",
              "  <style>\n",
              "    .colab-df-container {\n",
              "      display:flex;\n",
              "      flex-wrap:wrap;\n",
              "      gap: 12px;\n",
              "    }\n",
              "\n",
              "    .colab-df-convert {\n",
              "      background-color: #E8F0FE;\n",
              "      border: none;\n",
              "      border-radius: 50%;\n",
              "      cursor: pointer;\n",
              "      display: none;\n",
              "      fill: #1967D2;\n",
              "      height: 32px;\n",
              "      padding: 0 0 0 0;\n",
              "      width: 32px;\n",
              "    }\n",
              "\n",
              "    .colab-df-convert:hover {\n",
              "      background-color: #E2EBFA;\n",
              "      box-shadow: 0px 1px 2px rgba(60, 64, 67, 0.3), 0px 1px 3px 1px rgba(60, 64, 67, 0.15);\n",
              "      fill: #174EA6;\n",
              "    }\n",
              "\n",
              "    [theme=dark] .colab-df-convert {\n",
              "      background-color: #3B4455;\n",
              "      fill: #D2E3FC;\n",
              "    }\n",
              "\n",
              "    [theme=dark] .colab-df-convert:hover {\n",
              "      background-color: #434B5C;\n",
              "      box-shadow: 0px 1px 3px 1px rgba(0, 0, 0, 0.15);\n",
              "      filter: drop-shadow(0px 1px 2px rgba(0, 0, 0, 0.3));\n",
              "      fill: #FFFFFF;\n",
              "    }\n",
              "  </style>\n",
              "\n",
              "      <script>\n",
              "        const buttonEl =\n",
              "          document.querySelector('#df-87880a67-4681-4beb-b9b3-735fb40221ad button.colab-df-convert');\n",
              "        buttonEl.style.display =\n",
              "          google.colab.kernel.accessAllowed ? 'block' : 'none';\n",
              "\n",
              "        async function convertToInteractive(key) {\n",
              "          const element = document.querySelector('#df-87880a67-4681-4beb-b9b3-735fb40221ad');\n",
              "          const dataTable =\n",
              "            await google.colab.kernel.invokeFunction('convertToInteractive',\n",
              "                                                     [key], {});\n",
              "          if (!dataTable) return;\n",
              "\n",
              "          const docLinkHtml = 'Like what you see? Visit the ' +\n",
              "            '<a target=\"_blank\" href=https://colab.research.google.com/notebooks/data_table.ipynb>data table notebook</a>'\n",
              "            + ' to learn more about interactive tables.';\n",
              "          element.innerHTML = '';\n",
              "          dataTable['output_type'] = 'display_data';\n",
              "          await google.colab.output.renderOutput(dataTable, element);\n",
              "          const docLink = document.createElement('div');\n",
              "          docLink.innerHTML = docLinkHtml;\n",
              "          element.appendChild(docLink);\n",
              "        }\n",
              "      </script>\n",
              "    </div>\n",
              "  </div>\n",
              "  "
            ]
          },
          "metadata": {},
          "execution_count": 110
        }
      ],
      "source": [
        "dataset.corr()"
      ]
    },
    {
      "cell_type": "markdown",
      "metadata": {
        "id": "lzD2VpXccak9"
      },
      "source": [
        "### Função de regressão populacional\n",
        "\n",
        "A equação formulada acima é conhecida como **função de regressão populacional (FRP)** e em alguns livros é também representada da seguinte forma:\n",
        "\n",
        "# $$E(Y|X_i) = \\beta_1 + \\beta_2X_i$$\n",
        "\n",
        "Ela afirma que o valor esperado da distribuição de $Y$, dado $X_i$, tem uma relação funcional com $X_i$, isto é, a resposta média de $Y$ varia com $X$. O coeficientes $\\beta_1$ e $\\beta_2$ são conhecidos como coeficientes de regressão e também são conhecidos como intercepto e coeficiente angular, respectivamente.\n",
        "\n",
        "<img src=\"https://caelum-online-public.s3.amazonaws.com/1273-estatistica-parte4/01/img027.png\" width=50%>\n",
        "\n",
        "O gráfico de dispersão acima deixa claro que com o aumento da renda familiar, em média, as despesas de consumo das famílias aumentam, mas não no mesmo nível. O que podemos dizer é que para um nível de renda $X_i$ as despesas médias de consumo de uma\n",
        "família agrupam-se em torno do consumo médio de todas as famílias deste nível $X_i$, isto é, em torno de sua esperança condicional $E(Y|X_i)$. Portanto, podemos expressar o desvio individual de $Y_i$ em torno de seu valor esperado da seguinte forma:\n",
        "\n",
        "# $$u_i = Y_i - E(Y|X_i)$$\n",
        "\n",
        "ou\n",
        "\n",
        "# $$Y_i = E(Y|X_i) + u_i$$\n",
        "\n",
        "onde o desvio $u_i$ é uma variável aleatória não-observável que assume valores positivos ou negativos. Esta variável é também cohecida como termo de erro estocástico.\n",
        "\n",
        "Observe que a podemos representar a FRP em sua forma estocástica da seguinte maneira:\n",
        "\n",
        "# $$Y_i = \\beta_1 + \\beta_2X_i + u_i$$"
      ]
    },
    {
      "cell_type": "markdown",
      "metadata": {
        "id": "yOR8pKHkcak9"
      },
      "source": [
        "## <font color=green>4.2 O método de mínimos quadrados</font>\n",
        "***"
      ]
    },
    {
      "cell_type": "markdown",
      "metadata": {
        "id": "M-iKUvPlcak-"
      },
      "source": [
        "Considere a seguinte **função de regressão da população (FRP)** para duas variáveis:\n",
        "\n",
        "# $$Y_i = \\beta_1 + \\beta_2X_i + u_i$$\n",
        "\n",
        "Como a **FRP** não pode ser obtida de forma direta, precisamos estimá-la através da **função de regressão amostral (FRA)**.\n",
        "\n",
        "# $$Y_i = \\hat{\\beta}_1 + \\hat{\\beta}_2X_i + \\hat{u}_i$$\n",
        "# $$Y_i = \\hat{Y}_i + \\hat{u}_i$$\n",
        "\n",
        "onde $\\hat{Y}_i$ é o valor estimado de $Y_i$.\n",
        "\n",
        "A partir da equação acima podemos expressar o erro da seguinte maneira:\n",
        "\n",
        "# $$\\hat{u}_i = Y_i - \\hat{Y}_i$$\n",
        "# $$\\hat{u}_i = Y_i - \\hat{\\beta}_1 - \\hat{\\beta}_2X_i$$\n",
        "\n",
        "A ideia é determinar **FRA** de forma que fique o mais próximo possível do valor observado de $Y$. Intuitivamente uma forma interessante de fazer isso seria determinar **FRA** de maneira que a soma dos resíduos seja a menor possível.\n",
        "\n",
        "# $$\\sum\\hat{u}_i = \\sum{(Y_i - \\hat{Y}_i)}$$\n",
        "\n",
        "Avaliando a figura abaixo se pode verificar que talvez o critério de minimizar a soma dos resíduos não seja a melhor abordagem para solucionar o problema.\n",
        "\n",
        "<img src=\"https://caelum-online-public.s3.amazonaws.com/1273-estatistica-parte4/01/img015.png\" width=50%>\n",
        "\n",
        "O critério de minimização da soma dos resíduos assume que todos os resíduos tem o mesmo peso no somatório, o que nem sempre se comprova. Em nosso exemplo os resíduos $\\hat{u}_1$ e $\\hat{u}_4$ encontram-se bem mais afastados da **FRA** que $\\hat{u}_2$ e $\\hat{u}_3$. Isso acarreta na possibilidade de que a soma dos $\\hat{u}_i$'s seja bastante pequena e até mesmo nula, mesmo que os resíduos estejam muito dispersos em relação a reta de regressão.\n",
        "\n",
        "Para evitar tal problema adotou-se o critério de minimização da soma dos quadrados dos resíduos que é conhecido como **Método de Mínimos Quadrados**.\n",
        "\n",
        "# $$\\sum\\hat{u}_i^2 = \\sum{(Y_i - \\hat{Y}_i)^2}$$\n",
        "# $$\\sum\\hat{u}_i^2 = \\sum{(Y_i - \\hat{\\beta}_1 - \\hat{\\beta}_2X_i)^2}$$\n",
        "\n",
        "Após um procedimento de diferenciação, algumas simplificações e manipulações algébricas obtemos os **estimadores de mínimos quadrados**.\n",
        "\n",
        "# $$\n",
        "\\begin{equation}\n",
        "\\boxed{\\hat{\\beta}_2 = \\frac{n\\sum{X_iY_i} - \\sum{X_i}\\sum{Y_i}}{n\\sum{X_i^2} - (\\sum{X_i})^2}}\n",
        "\\end{equation}\n",
        "$$\n",
        "\n",
        "# $$\n",
        "\\begin{equation}\n",
        "\\boxed{\n",
        "\\begin{eqnarray}\n",
        "\\hat{\\beta}_1 &=& \\frac{\\sum{X_i^2}\\sum{Y_i} - \\sum{X_i}\\sum{X_iY_i}}{n\\sum{X_i^2} - (\\sum{X_i})^2}\\\\\n",
        "&=& \\bar{Y} - \\hat{\\beta}_2\\bar{X}\n",
        "\\end{eqnarray}\n",
        "}\n",
        "\\end{equation}\n",
        "$$"
      ]
    },
    {
      "cell_type": "markdown",
      "metadata": {
        "id": "bIsppET0cak-"
      },
      "source": [
        "## <font color=green>4.3 Estimadores de mínimos quadrados ordinários</font>\n",
        "***"
      ]
    },
    {
      "cell_type": "markdown",
      "metadata": {
        "id": "HTFJyCNCcalE"
      },
      "source": [
        "### Obter $n$"
      ]
    },
    {
      "cell_type": "code",
      "execution_count": 111,
      "metadata": {
        "id": "ZcHOhSNRcalE",
        "colab": {
          "base_uri": "https://localhost:8080/"
        },
        "outputId": "91e6885f-5c8e-4fdf-ca2c-0ff09c9d8b21"
      },
      "outputs": [
        {
          "output_type": "execute_result",
          "data": {
            "text/plain": [
              "50"
            ]
          },
          "metadata": {},
          "execution_count": 111
        }
      ],
      "source": [
        "n = len(dataset)\n",
        "n"
      ]
    },
    {
      "cell_type": "markdown",
      "metadata": {
        "id": "2R8QzULvcalF"
      },
      "source": [
        "### Obter $\\sum{Y}$"
      ]
    },
    {
      "cell_type": "code",
      "execution_count": 112,
      "metadata": {
        "id": "wfY4FHLgcalG",
        "colab": {
          "base_uri": "https://localhost:8080/"
        },
        "outputId": "b1bbc714-28d6-4db9-ea7a-a1b93747000a"
      },
      "outputs": [
        {
          "output_type": "execute_result",
          "data": {
            "text/plain": [
              "100556"
            ]
          },
          "metadata": {},
          "execution_count": 112
        }
      ],
      "source": [
        "SOMA_Y = dataset.Y.sum()\n",
        "SOMA_Y"
      ]
    },
    {
      "cell_type": "markdown",
      "metadata": {
        "id": "dpWo8F-fcalI"
      },
      "source": [
        "### Obter $\\sum{X}$"
      ]
    },
    {
      "cell_type": "code",
      "execution_count": 113,
      "metadata": {
        "id": "vgRIhNl9calI",
        "colab": {
          "base_uri": "https://localhost:8080/"
        },
        "outputId": "7879e284-b745-4035-85b8-c93118b6d99a"
      },
      "outputs": [
        {
          "output_type": "execute_result",
          "data": {
            "text/plain": [
              "303275"
            ]
          },
          "metadata": {},
          "execution_count": 113
        }
      ],
      "source": [
        "SOMA_X = dataset.X.sum()\n",
        "SOMA_X"
      ]
    },
    {
      "cell_type": "markdown",
      "metadata": {
        "id": "ZOrXXyygcalJ"
      },
      "source": [
        "### Obter $\\sum{X^2}$"
      ]
    },
    {
      "cell_type": "code",
      "execution_count": 114,
      "metadata": {
        "id": "boXBQUIJcalK",
        "scrolled": true,
        "colab": {
          "base_uri": "https://localhost:8080/",
          "height": 206
        },
        "outputId": "d9a195ef-8af4-4ce3-c99e-1712d6f1cc3b"
      },
      "outputs": [
        {
          "output_type": "execute_result",
          "data": {
            "text/plain": [
              "      Y     X        X2\n",
              "0  3011  9714  94361796\n",
              "1  1305  3728  13897984\n",
              "2  1879  6062  36747844\n",
              "3  2654  8845  78234025\n",
              "4  2849  8378  70190884"
            ],
            "text/html": [
              "\n",
              "  <div id=\"df-e86b848b-7d7f-4624-b273-e0eb71d39861\">\n",
              "    <div class=\"colab-df-container\">\n",
              "      <div>\n",
              "<style scoped>\n",
              "    .dataframe tbody tr th:only-of-type {\n",
              "        vertical-align: middle;\n",
              "    }\n",
              "\n",
              "    .dataframe tbody tr th {\n",
              "        vertical-align: top;\n",
              "    }\n",
              "\n",
              "    .dataframe thead th {\n",
              "        text-align: right;\n",
              "    }\n",
              "</style>\n",
              "<table border=\"1\" class=\"dataframe\">\n",
              "  <thead>\n",
              "    <tr style=\"text-align: right;\">\n",
              "      <th></th>\n",
              "      <th>Y</th>\n",
              "      <th>X</th>\n",
              "      <th>X2</th>\n",
              "    </tr>\n",
              "  </thead>\n",
              "  <tbody>\n",
              "    <tr>\n",
              "      <th>0</th>\n",
              "      <td>3011</td>\n",
              "      <td>9714</td>\n",
              "      <td>94361796</td>\n",
              "    </tr>\n",
              "    <tr>\n",
              "      <th>1</th>\n",
              "      <td>1305</td>\n",
              "      <td>3728</td>\n",
              "      <td>13897984</td>\n",
              "    </tr>\n",
              "    <tr>\n",
              "      <th>2</th>\n",
              "      <td>1879</td>\n",
              "      <td>6062</td>\n",
              "      <td>36747844</td>\n",
              "    </tr>\n",
              "    <tr>\n",
              "      <th>3</th>\n",
              "      <td>2654</td>\n",
              "      <td>8845</td>\n",
              "      <td>78234025</td>\n",
              "    </tr>\n",
              "    <tr>\n",
              "      <th>4</th>\n",
              "      <td>2849</td>\n",
              "      <td>8378</td>\n",
              "      <td>70190884</td>\n",
              "    </tr>\n",
              "  </tbody>\n",
              "</table>\n",
              "</div>\n",
              "      <button class=\"colab-df-convert\" onclick=\"convertToInteractive('df-e86b848b-7d7f-4624-b273-e0eb71d39861')\"\n",
              "              title=\"Convert this dataframe to an interactive table.\"\n",
              "              style=\"display:none;\">\n",
              "        \n",
              "  <svg xmlns=\"http://www.w3.org/2000/svg\" height=\"24px\"viewBox=\"0 0 24 24\"\n",
              "       width=\"24px\">\n",
              "    <path d=\"M0 0h24v24H0V0z\" fill=\"none\"/>\n",
              "    <path d=\"M18.56 5.44l.94 2.06.94-2.06 2.06-.94-2.06-.94-.94-2.06-.94 2.06-2.06.94zm-11 1L8.5 8.5l.94-2.06 2.06-.94-2.06-.94L8.5 2.5l-.94 2.06-2.06.94zm10 10l.94 2.06.94-2.06 2.06-.94-2.06-.94-.94-2.06-.94 2.06-2.06.94z\"/><path d=\"M17.41 7.96l-1.37-1.37c-.4-.4-.92-.59-1.43-.59-.52 0-1.04.2-1.43.59L10.3 9.45l-7.72 7.72c-.78.78-.78 2.05 0 2.83L4 21.41c.39.39.9.59 1.41.59.51 0 1.02-.2 1.41-.59l7.78-7.78 2.81-2.81c.8-.78.8-2.07 0-2.86zM5.41 20L4 18.59l7.72-7.72 1.47 1.35L5.41 20z\"/>\n",
              "  </svg>\n",
              "      </button>\n",
              "      \n",
              "  <style>\n",
              "    .colab-df-container {\n",
              "      display:flex;\n",
              "      flex-wrap:wrap;\n",
              "      gap: 12px;\n",
              "    }\n",
              "\n",
              "    .colab-df-convert {\n",
              "      background-color: #E8F0FE;\n",
              "      border: none;\n",
              "      border-radius: 50%;\n",
              "      cursor: pointer;\n",
              "      display: none;\n",
              "      fill: #1967D2;\n",
              "      height: 32px;\n",
              "      padding: 0 0 0 0;\n",
              "      width: 32px;\n",
              "    }\n",
              "\n",
              "    .colab-df-convert:hover {\n",
              "      background-color: #E2EBFA;\n",
              "      box-shadow: 0px 1px 2px rgba(60, 64, 67, 0.3), 0px 1px 3px 1px rgba(60, 64, 67, 0.15);\n",
              "      fill: #174EA6;\n",
              "    }\n",
              "\n",
              "    [theme=dark] .colab-df-convert {\n",
              "      background-color: #3B4455;\n",
              "      fill: #D2E3FC;\n",
              "    }\n",
              "\n",
              "    [theme=dark] .colab-df-convert:hover {\n",
              "      background-color: #434B5C;\n",
              "      box-shadow: 0px 1px 3px 1px rgba(0, 0, 0, 0.15);\n",
              "      filter: drop-shadow(0px 1px 2px rgba(0, 0, 0, 0.3));\n",
              "      fill: #FFFFFF;\n",
              "    }\n",
              "  </style>\n",
              "\n",
              "      <script>\n",
              "        const buttonEl =\n",
              "          document.querySelector('#df-e86b848b-7d7f-4624-b273-e0eb71d39861 button.colab-df-convert');\n",
              "        buttonEl.style.display =\n",
              "          google.colab.kernel.accessAllowed ? 'block' : 'none';\n",
              "\n",
              "        async function convertToInteractive(key) {\n",
              "          const element = document.querySelector('#df-e86b848b-7d7f-4624-b273-e0eb71d39861');\n",
              "          const dataTable =\n",
              "            await google.colab.kernel.invokeFunction('convertToInteractive',\n",
              "                                                     [key], {});\n",
              "          if (!dataTable) return;\n",
              "\n",
              "          const docLinkHtml = 'Like what you see? Visit the ' +\n",
              "            '<a target=\"_blank\" href=https://colab.research.google.com/notebooks/data_table.ipynb>data table notebook</a>'\n",
              "            + ' to learn more about interactive tables.';\n",
              "          element.innerHTML = '';\n",
              "          dataTable['output_type'] = 'display_data';\n",
              "          await google.colab.output.renderOutput(dataTable, element);\n",
              "          const docLink = document.createElement('div');\n",
              "          docLink.innerHTML = docLinkHtml;\n",
              "          element.appendChild(docLink);\n",
              "        }\n",
              "      </script>\n",
              "    </div>\n",
              "  </div>\n",
              "  "
            ]
          },
          "metadata": {},
          "execution_count": 114
        }
      ],
      "source": [
        "dataset['X2'] = dataset.X ** 2\n",
        "dataset.head()"
      ]
    },
    {
      "cell_type": "code",
      "execution_count": 115,
      "metadata": {
        "id": "ce-I43picalL",
        "colab": {
          "base_uri": "https://localhost:8080/"
        },
        "outputId": "1adb098c-f851-4a92-c9aa-18bd3a8ea69f"
      },
      "outputs": [
        {
          "output_type": "execute_result",
          "data": {
            "text/plain": [
              "2198628939"
            ]
          },
          "metadata": {},
          "execution_count": 115
        }
      ],
      "source": [
        "SOMA_X2 = dataset.X2.sum()\n",
        "SOMA_X2"
      ]
    },
    {
      "cell_type": "code",
      "execution_count": 116,
      "metadata": {
        "id": "TAiTZKfOcalM",
        "colab": {
          "base_uri": "https://localhost:8080/"
        },
        "outputId": "4944d028-04ca-4fec-99fa-bd51ff03bfa7"
      },
      "outputs": [
        {
          "output_type": "execute_result",
          "data": {
            "text/plain": [
              "2198628939"
            ]
          },
          "metadata": {},
          "execution_count": 116
        }
      ],
      "source": [
        "# outra forma de obter a soma dos x ao quadrado\n",
        "SOMA_X2 = dataset.X.apply(lambda x: x**2).sum()\n",
        "SOMA_X2"
      ]
    },
    {
      "cell_type": "markdown",
      "metadata": {
        "id": "ls1COzpxcalN"
      },
      "source": [
        "### Obter $\\sum{Y^2}$"
      ]
    },
    {
      "cell_type": "code",
      "execution_count": 117,
      "metadata": {
        "id": "gYc_poUmcalN",
        "colab": {
          "base_uri": "https://localhost:8080/"
        },
        "outputId": "dd77cb18-37f0-4112-bdf2-e662801ec970"
      },
      "outputs": [
        {
          "output_type": "execute_result",
          "data": {
            "text/plain": [
              "234954332"
            ]
          },
          "metadata": {},
          "execution_count": 117
        }
      ],
      "source": [
        "SOMA_Y2 = dataset.Y.apply(lambda y: y**2).sum()\n",
        "SOMA_Y2"
      ]
    },
    {
      "cell_type": "markdown",
      "metadata": {
        "id": "UsCtTk3pcalP"
      },
      "source": [
        "### Obter $\\sum{XY}$"
      ]
    },
    {
      "cell_type": "code",
      "execution_count": 118,
      "metadata": {
        "id": "Mw4pfCAEcalP",
        "scrolled": true,
        "colab": {
          "base_uri": "https://localhost:8080/",
          "height": 206
        },
        "outputId": "c10b2771-ee2d-4866-93ec-1898786f86e4"
      },
      "outputs": [
        {
          "output_type": "execute_result",
          "data": {
            "text/plain": [
              "      Y     X        X2        XY\n",
              "0  3011  9714  94361796  29248854\n",
              "1  1305  3728  13897984   4865040\n",
              "2  1879  6062  36747844  11390498\n",
              "3  2654  8845  78234025  23474630\n",
              "4  2849  8378  70190884  23868922"
            ],
            "text/html": [
              "\n",
              "  <div id=\"df-67c07bc2-a8b1-41bf-87f7-c400a90fbcbb\">\n",
              "    <div class=\"colab-df-container\">\n",
              "      <div>\n",
              "<style scoped>\n",
              "    .dataframe tbody tr th:only-of-type {\n",
              "        vertical-align: middle;\n",
              "    }\n",
              "\n",
              "    .dataframe tbody tr th {\n",
              "        vertical-align: top;\n",
              "    }\n",
              "\n",
              "    .dataframe thead th {\n",
              "        text-align: right;\n",
              "    }\n",
              "</style>\n",
              "<table border=\"1\" class=\"dataframe\">\n",
              "  <thead>\n",
              "    <tr style=\"text-align: right;\">\n",
              "      <th></th>\n",
              "      <th>Y</th>\n",
              "      <th>X</th>\n",
              "      <th>X2</th>\n",
              "      <th>XY</th>\n",
              "    </tr>\n",
              "  </thead>\n",
              "  <tbody>\n",
              "    <tr>\n",
              "      <th>0</th>\n",
              "      <td>3011</td>\n",
              "      <td>9714</td>\n",
              "      <td>94361796</td>\n",
              "      <td>29248854</td>\n",
              "    </tr>\n",
              "    <tr>\n",
              "      <th>1</th>\n",
              "      <td>1305</td>\n",
              "      <td>3728</td>\n",
              "      <td>13897984</td>\n",
              "      <td>4865040</td>\n",
              "    </tr>\n",
              "    <tr>\n",
              "      <th>2</th>\n",
              "      <td>1879</td>\n",
              "      <td>6062</td>\n",
              "      <td>36747844</td>\n",
              "      <td>11390498</td>\n",
              "    </tr>\n",
              "    <tr>\n",
              "      <th>3</th>\n",
              "      <td>2654</td>\n",
              "      <td>8845</td>\n",
              "      <td>78234025</td>\n",
              "      <td>23474630</td>\n",
              "    </tr>\n",
              "    <tr>\n",
              "      <th>4</th>\n",
              "      <td>2849</td>\n",
              "      <td>8378</td>\n",
              "      <td>70190884</td>\n",
              "      <td>23868922</td>\n",
              "    </tr>\n",
              "  </tbody>\n",
              "</table>\n",
              "</div>\n",
              "      <button class=\"colab-df-convert\" onclick=\"convertToInteractive('df-67c07bc2-a8b1-41bf-87f7-c400a90fbcbb')\"\n",
              "              title=\"Convert this dataframe to an interactive table.\"\n",
              "              style=\"display:none;\">\n",
              "        \n",
              "  <svg xmlns=\"http://www.w3.org/2000/svg\" height=\"24px\"viewBox=\"0 0 24 24\"\n",
              "       width=\"24px\">\n",
              "    <path d=\"M0 0h24v24H0V0z\" fill=\"none\"/>\n",
              "    <path d=\"M18.56 5.44l.94 2.06.94-2.06 2.06-.94-2.06-.94-.94-2.06-.94 2.06-2.06.94zm-11 1L8.5 8.5l.94-2.06 2.06-.94-2.06-.94L8.5 2.5l-.94 2.06-2.06.94zm10 10l.94 2.06.94-2.06 2.06-.94-2.06-.94-.94-2.06-.94 2.06-2.06.94z\"/><path d=\"M17.41 7.96l-1.37-1.37c-.4-.4-.92-.59-1.43-.59-.52 0-1.04.2-1.43.59L10.3 9.45l-7.72 7.72c-.78.78-.78 2.05 0 2.83L4 21.41c.39.39.9.59 1.41.59.51 0 1.02-.2 1.41-.59l7.78-7.78 2.81-2.81c.8-.78.8-2.07 0-2.86zM5.41 20L4 18.59l7.72-7.72 1.47 1.35L5.41 20z\"/>\n",
              "  </svg>\n",
              "      </button>\n",
              "      \n",
              "  <style>\n",
              "    .colab-df-container {\n",
              "      display:flex;\n",
              "      flex-wrap:wrap;\n",
              "      gap: 12px;\n",
              "    }\n",
              "\n",
              "    .colab-df-convert {\n",
              "      background-color: #E8F0FE;\n",
              "      border: none;\n",
              "      border-radius: 50%;\n",
              "      cursor: pointer;\n",
              "      display: none;\n",
              "      fill: #1967D2;\n",
              "      height: 32px;\n",
              "      padding: 0 0 0 0;\n",
              "      width: 32px;\n",
              "    }\n",
              "\n",
              "    .colab-df-convert:hover {\n",
              "      background-color: #E2EBFA;\n",
              "      box-shadow: 0px 1px 2px rgba(60, 64, 67, 0.3), 0px 1px 3px 1px rgba(60, 64, 67, 0.15);\n",
              "      fill: #174EA6;\n",
              "    }\n",
              "\n",
              "    [theme=dark] .colab-df-convert {\n",
              "      background-color: #3B4455;\n",
              "      fill: #D2E3FC;\n",
              "    }\n",
              "\n",
              "    [theme=dark] .colab-df-convert:hover {\n",
              "      background-color: #434B5C;\n",
              "      box-shadow: 0px 1px 3px 1px rgba(0, 0, 0, 0.15);\n",
              "      filter: drop-shadow(0px 1px 2px rgba(0, 0, 0, 0.3));\n",
              "      fill: #FFFFFF;\n",
              "    }\n",
              "  </style>\n",
              "\n",
              "      <script>\n",
              "        const buttonEl =\n",
              "          document.querySelector('#df-67c07bc2-a8b1-41bf-87f7-c400a90fbcbb button.colab-df-convert');\n",
              "        buttonEl.style.display =\n",
              "          google.colab.kernel.accessAllowed ? 'block' : 'none';\n",
              "\n",
              "        async function convertToInteractive(key) {\n",
              "          const element = document.querySelector('#df-67c07bc2-a8b1-41bf-87f7-c400a90fbcbb');\n",
              "          const dataTable =\n",
              "            await google.colab.kernel.invokeFunction('convertToInteractive',\n",
              "                                                     [key], {});\n",
              "          if (!dataTable) return;\n",
              "\n",
              "          const docLinkHtml = 'Like what you see? Visit the ' +\n",
              "            '<a target=\"_blank\" href=https://colab.research.google.com/notebooks/data_table.ipynb>data table notebook</a>'\n",
              "            + ' to learn more about interactive tables.';\n",
              "          element.innerHTML = '';\n",
              "          dataTable['output_type'] = 'display_data';\n",
              "          await google.colab.output.renderOutput(dataTable, element);\n",
              "          const docLink = document.createElement('div');\n",
              "          docLink.innerHTML = docLinkHtml;\n",
              "          element.appendChild(docLink);\n",
              "        }\n",
              "      </script>\n",
              "    </div>\n",
              "  </div>\n",
              "  "
            ]
          },
          "metadata": {},
          "execution_count": 118
        }
      ],
      "source": [
        "dataset['XY'] = dataset.X * dataset.Y\n",
        "dataset.head()"
      ]
    },
    {
      "cell_type": "code",
      "execution_count": 119,
      "metadata": {
        "id": "s1NNuoM4calQ",
        "colab": {
          "base_uri": "https://localhost:8080/"
        },
        "outputId": "d4f8f1be-1cc9-4f00-ee53-36ac3e395478"
      },
      "outputs": [
        {
          "output_type": "execute_result",
          "data": {
            "text/plain": [
              "716683794"
            ]
          },
          "metadata": {},
          "execution_count": 119
        }
      ],
      "source": [
        "SOMA_XY = dataset.XY.sum()\n",
        "SOMA_XY"
      ]
    },
    {
      "cell_type": "code",
      "execution_count": 120,
      "metadata": {
        "id": "fwAWf3SScalR",
        "colab": {
          "base_uri": "https://localhost:8080/"
        },
        "outputId": "9ce390e8-3755-4df8-de9a-d23ce90ec9bf"
      },
      "outputs": [
        {
          "output_type": "execute_result",
          "data": {
            "text/plain": [
              "716683794"
            ]
          },
          "metadata": {},
          "execution_count": 120
        }
      ],
      "source": [
        "SOMA_XY = dataset.apply(lambda data: data.X * data.Y, axis = 'columns').sum()\n",
        "SOMA_XY"
      ]
    },
    {
      "cell_type": "code",
      "execution_count": 121,
      "metadata": {
        "id": "_6-qQG_ucalS",
        "colab": {
          "base_uri": "https://localhost:8080/",
          "height": 206
        },
        "outputId": "6bb0f174-75d7-4666-d481-b017b8478d53"
      },
      "outputs": [
        {
          "output_type": "execute_result",
          "data": {
            "text/plain": [
              "      Y     X\n",
              "0  3011  9714\n",
              "1  1305  3728\n",
              "2  1879  6062\n",
              "3  2654  8845\n",
              "4  2849  8378"
            ],
            "text/html": [
              "\n",
              "  <div id=\"df-04ddac54-0e69-4c3b-99d3-a5fd001dcc9d\">\n",
              "    <div class=\"colab-df-container\">\n",
              "      <div>\n",
              "<style scoped>\n",
              "    .dataframe tbody tr th:only-of-type {\n",
              "        vertical-align: middle;\n",
              "    }\n",
              "\n",
              "    .dataframe tbody tr th {\n",
              "        vertical-align: top;\n",
              "    }\n",
              "\n",
              "    .dataframe thead th {\n",
              "        text-align: right;\n",
              "    }\n",
              "</style>\n",
              "<table border=\"1\" class=\"dataframe\">\n",
              "  <thead>\n",
              "    <tr style=\"text-align: right;\">\n",
              "      <th></th>\n",
              "      <th>Y</th>\n",
              "      <th>X</th>\n",
              "    </tr>\n",
              "  </thead>\n",
              "  <tbody>\n",
              "    <tr>\n",
              "      <th>0</th>\n",
              "      <td>3011</td>\n",
              "      <td>9714</td>\n",
              "    </tr>\n",
              "    <tr>\n",
              "      <th>1</th>\n",
              "      <td>1305</td>\n",
              "      <td>3728</td>\n",
              "    </tr>\n",
              "    <tr>\n",
              "      <th>2</th>\n",
              "      <td>1879</td>\n",
              "      <td>6062</td>\n",
              "    </tr>\n",
              "    <tr>\n",
              "      <th>3</th>\n",
              "      <td>2654</td>\n",
              "      <td>8845</td>\n",
              "    </tr>\n",
              "    <tr>\n",
              "      <th>4</th>\n",
              "      <td>2849</td>\n",
              "      <td>8378</td>\n",
              "    </tr>\n",
              "  </tbody>\n",
              "</table>\n",
              "</div>\n",
              "      <button class=\"colab-df-convert\" onclick=\"convertToInteractive('df-04ddac54-0e69-4c3b-99d3-a5fd001dcc9d')\"\n",
              "              title=\"Convert this dataframe to an interactive table.\"\n",
              "              style=\"display:none;\">\n",
              "        \n",
              "  <svg xmlns=\"http://www.w3.org/2000/svg\" height=\"24px\"viewBox=\"0 0 24 24\"\n",
              "       width=\"24px\">\n",
              "    <path d=\"M0 0h24v24H0V0z\" fill=\"none\"/>\n",
              "    <path d=\"M18.56 5.44l.94 2.06.94-2.06 2.06-.94-2.06-.94-.94-2.06-.94 2.06-2.06.94zm-11 1L8.5 8.5l.94-2.06 2.06-.94-2.06-.94L8.5 2.5l-.94 2.06-2.06.94zm10 10l.94 2.06.94-2.06 2.06-.94-2.06-.94-.94-2.06-.94 2.06-2.06.94z\"/><path d=\"M17.41 7.96l-1.37-1.37c-.4-.4-.92-.59-1.43-.59-.52 0-1.04.2-1.43.59L10.3 9.45l-7.72 7.72c-.78.78-.78 2.05 0 2.83L4 21.41c.39.39.9.59 1.41.59.51 0 1.02-.2 1.41-.59l7.78-7.78 2.81-2.81c.8-.78.8-2.07 0-2.86zM5.41 20L4 18.59l7.72-7.72 1.47 1.35L5.41 20z\"/>\n",
              "  </svg>\n",
              "      </button>\n",
              "      \n",
              "  <style>\n",
              "    .colab-df-container {\n",
              "      display:flex;\n",
              "      flex-wrap:wrap;\n",
              "      gap: 12px;\n",
              "    }\n",
              "\n",
              "    .colab-df-convert {\n",
              "      background-color: #E8F0FE;\n",
              "      border: none;\n",
              "      border-radius: 50%;\n",
              "      cursor: pointer;\n",
              "      display: none;\n",
              "      fill: #1967D2;\n",
              "      height: 32px;\n",
              "      padding: 0 0 0 0;\n",
              "      width: 32px;\n",
              "    }\n",
              "\n",
              "    .colab-df-convert:hover {\n",
              "      background-color: #E2EBFA;\n",
              "      box-shadow: 0px 1px 2px rgba(60, 64, 67, 0.3), 0px 1px 3px 1px rgba(60, 64, 67, 0.15);\n",
              "      fill: #174EA6;\n",
              "    }\n",
              "\n",
              "    [theme=dark] .colab-df-convert {\n",
              "      background-color: #3B4455;\n",
              "      fill: #D2E3FC;\n",
              "    }\n",
              "\n",
              "    [theme=dark] .colab-df-convert:hover {\n",
              "      background-color: #434B5C;\n",
              "      box-shadow: 0px 1px 3px 1px rgba(0, 0, 0, 0.15);\n",
              "      filter: drop-shadow(0px 1px 2px rgba(0, 0, 0, 0.3));\n",
              "      fill: #FFFFFF;\n",
              "    }\n",
              "  </style>\n",
              "\n",
              "      <script>\n",
              "        const buttonEl =\n",
              "          document.querySelector('#df-04ddac54-0e69-4c3b-99d3-a5fd001dcc9d button.colab-df-convert');\n",
              "        buttonEl.style.display =\n",
              "          google.colab.kernel.accessAllowed ? 'block' : 'none';\n",
              "\n",
              "        async function convertToInteractive(key) {\n",
              "          const element = document.querySelector('#df-04ddac54-0e69-4c3b-99d3-a5fd001dcc9d');\n",
              "          const dataTable =\n",
              "            await google.colab.kernel.invokeFunction('convertToInteractive',\n",
              "                                                     [key], {});\n",
              "          if (!dataTable) return;\n",
              "\n",
              "          const docLinkHtml = 'Like what you see? Visit the ' +\n",
              "            '<a target=\"_blank\" href=https://colab.research.google.com/notebooks/data_table.ipynb>data table notebook</a>'\n",
              "            + ' to learn more about interactive tables.';\n",
              "          element.innerHTML = '';\n",
              "          dataTable['output_type'] = 'display_data';\n",
              "          await google.colab.output.renderOutput(dataTable, element);\n",
              "          const docLink = document.createElement('div');\n",
              "          docLink.innerHTML = docLinkHtml;\n",
              "          element.appendChild(docLink);\n",
              "        }\n",
              "      </script>\n",
              "    </div>\n",
              "  </div>\n",
              "  "
            ]
          },
          "metadata": {},
          "execution_count": 121
        }
      ],
      "source": [
        "dataset.drop(['X2', 'XY'], axis = 1, inplace=True)\n",
        "dataset.head()"
      ]
    },
    {
      "cell_type": "markdown",
      "metadata": {
        "id": "EX-oAn2rcalU"
      },
      "source": [
        "### Obter $\\hat{\\beta}_2$\n",
        "\n",
        "# $$\\hat{\\beta}_2 = \\frac{n\\sum{X_iY_i} - \\sum{X_i}\\sum{Y_i}}{n\\sum{X_i^2} - (\\sum{X_i})^2}$$"
      ]
    },
    {
      "cell_type": "code",
      "execution_count": 122,
      "metadata": {
        "id": "UY-nWn7LcalU",
        "colab": {
          "base_uri": "https://localhost:8080/"
        },
        "outputId": "5da4c2e0-9652-469e-b5df-4baba5bb99e3"
      },
      "outputs": [
        {
          "output_type": "execute_result",
          "data": {
            "text/plain": [
              "0.29729069099372424"
            ]
          },
          "metadata": {},
          "execution_count": 122
        }
      ],
      "source": [
        "numerador = n * SOMA_XY - SOMA_X * SOMA_Y\n",
        "denominador = n * SOMA_X2 - (SOMA_X) ** 2\n",
        "beta_2 = numerador / denominador\n",
        "beta_2"
      ]
    },
    {
      "cell_type": "markdown",
      "metadata": {
        "id": "v4QCFagscalW"
      },
      "source": [
        "### Obter $\\hat{\\beta}_1$\n",
        "\n",
        "# $$\n",
        "\\begin{eqnarray}\n",
        "\\hat{\\beta}_1 &=& \\frac{\\sum{X_i^2}\\sum{Y_i} - \\sum{X_i}\\sum{X_iY_i}}{n\\sum{X_i^2} - (\\sum{X_i})^2}\\\\\n",
        "&=& \\bar{Y} - \\hat{\\beta}_2\\bar{X}\n",
        "\\end{eqnarray}\n",
        "$$ "
      ]
    },
    {
      "cell_type": "code",
      "execution_count": 123,
      "metadata": {
        "id": "-Gjc1ra5calW",
        "colab": {
          "base_uri": "https://localhost:8080/"
        },
        "outputId": "64c27ba7-0e0f-40c5-88cd-f65e920ff2be"
      },
      "outputs": [
        {
          "output_type": "execute_result",
          "data": {
            "text/plain": [
              "207.90331377756547"
            ]
          },
          "metadata": {},
          "execution_count": 123
        }
      ],
      "source": [
        "beta_1 = dataset.Y.mean() - beta_2 * dataset.X.mean()\n",
        "beta_1"
      ]
    },
    {
      "cell_type": "markdown",
      "metadata": {
        "id": "SjcncMd1calY"
      },
      "source": [
        "### Obtendo a estimativa dos parâmetros com o StatsModels"
      ]
    },
    {
      "cell_type": "markdown",
      "metadata": {
        "id": "Ud6O4f-qcalY"
      },
      "source": [
        "### Importando a biblioteca\n",
        "https://www.statsmodels.org/stable/index.html"
      ]
    },
    {
      "cell_type": "code",
      "execution_count": 124,
      "metadata": {
        "id": "QnYZ2T-7calZ"
      },
      "outputs": [],
      "source": [
        "import statsmodels.api as sm"
      ]
    },
    {
      "cell_type": "code",
      "execution_count": 125,
      "metadata": {
        "id": "sUlIFQh-calb",
        "colab": {
          "base_uri": "https://localhost:8080/"
        },
        "outputId": "7f568c32-0a54-4578-e324-6da6631a8f23"
      },
      "outputs": [
        {
          "output_type": "stream",
          "name": "stderr",
          "text": [
            "/usr/local/lib/python3.8/dist-packages/statsmodels/tsa/tsatools.py:142: FutureWarning: In a future version of pandas all arguments of concat except for the argument 'objs' will be keyword-only\n",
            "  x = pd.concat(x[::order], 1)\n"
          ]
        }
      ],
      "source": [
        "Y = dataset.Y\n",
        "X = sm.add_constant(dataset.X)"
      ]
    },
    {
      "cell_type": "code",
      "execution_count": 126,
      "metadata": {
        "id": "6Npgg9NNcald",
        "scrolled": true,
        "colab": {
          "base_uri": "https://localhost:8080/"
        },
        "outputId": "2fd4e2b3-f7bc-4558-b8c0-5008b809f0f9"
      },
      "outputs": [
        {
          "output_type": "execute_result",
          "data": {
            "text/plain": [
              "0    3011\n",
              "1    1305\n",
              "2    1879\n",
              "3    2654\n",
              "4    2849\n",
              "Name: Y, dtype: int64"
            ]
          },
          "metadata": {},
          "execution_count": 126
        }
      ],
      "source": [
        "Y.head()"
      ]
    },
    {
      "cell_type": "code",
      "execution_count": 127,
      "metadata": {
        "id": "eDgJXjCAcale",
        "scrolled": true,
        "colab": {
          "base_uri": "https://localhost:8080/",
          "height": 206
        },
        "outputId": "0c37d978-48c5-4d57-9923-ce4720cf84c9"
      },
      "outputs": [
        {
          "output_type": "execute_result",
          "data": {
            "text/plain": [
              "   const     X\n",
              "0    1.0  9714\n",
              "1    1.0  3728\n",
              "2    1.0  6062\n",
              "3    1.0  8845\n",
              "4    1.0  8378"
            ],
            "text/html": [
              "\n",
              "  <div id=\"df-4dea56c0-4abe-47f5-af40-66cbfca5615f\">\n",
              "    <div class=\"colab-df-container\">\n",
              "      <div>\n",
              "<style scoped>\n",
              "    .dataframe tbody tr th:only-of-type {\n",
              "        vertical-align: middle;\n",
              "    }\n",
              "\n",
              "    .dataframe tbody tr th {\n",
              "        vertical-align: top;\n",
              "    }\n",
              "\n",
              "    .dataframe thead th {\n",
              "        text-align: right;\n",
              "    }\n",
              "</style>\n",
              "<table border=\"1\" class=\"dataframe\">\n",
              "  <thead>\n",
              "    <tr style=\"text-align: right;\">\n",
              "      <th></th>\n",
              "      <th>const</th>\n",
              "      <th>X</th>\n",
              "    </tr>\n",
              "  </thead>\n",
              "  <tbody>\n",
              "    <tr>\n",
              "      <th>0</th>\n",
              "      <td>1.0</td>\n",
              "      <td>9714</td>\n",
              "    </tr>\n",
              "    <tr>\n",
              "      <th>1</th>\n",
              "      <td>1.0</td>\n",
              "      <td>3728</td>\n",
              "    </tr>\n",
              "    <tr>\n",
              "      <th>2</th>\n",
              "      <td>1.0</td>\n",
              "      <td>6062</td>\n",
              "    </tr>\n",
              "    <tr>\n",
              "      <th>3</th>\n",
              "      <td>1.0</td>\n",
              "      <td>8845</td>\n",
              "    </tr>\n",
              "    <tr>\n",
              "      <th>4</th>\n",
              "      <td>1.0</td>\n",
              "      <td>8378</td>\n",
              "    </tr>\n",
              "  </tbody>\n",
              "</table>\n",
              "</div>\n",
              "      <button class=\"colab-df-convert\" onclick=\"convertToInteractive('df-4dea56c0-4abe-47f5-af40-66cbfca5615f')\"\n",
              "              title=\"Convert this dataframe to an interactive table.\"\n",
              "              style=\"display:none;\">\n",
              "        \n",
              "  <svg xmlns=\"http://www.w3.org/2000/svg\" height=\"24px\"viewBox=\"0 0 24 24\"\n",
              "       width=\"24px\">\n",
              "    <path d=\"M0 0h24v24H0V0z\" fill=\"none\"/>\n",
              "    <path d=\"M18.56 5.44l.94 2.06.94-2.06 2.06-.94-2.06-.94-.94-2.06-.94 2.06-2.06.94zm-11 1L8.5 8.5l.94-2.06 2.06-.94-2.06-.94L8.5 2.5l-.94 2.06-2.06.94zm10 10l.94 2.06.94-2.06 2.06-.94-2.06-.94-.94-2.06-.94 2.06-2.06.94z\"/><path d=\"M17.41 7.96l-1.37-1.37c-.4-.4-.92-.59-1.43-.59-.52 0-1.04.2-1.43.59L10.3 9.45l-7.72 7.72c-.78.78-.78 2.05 0 2.83L4 21.41c.39.39.9.59 1.41.59.51 0 1.02-.2 1.41-.59l7.78-7.78 2.81-2.81c.8-.78.8-2.07 0-2.86zM5.41 20L4 18.59l7.72-7.72 1.47 1.35L5.41 20z\"/>\n",
              "  </svg>\n",
              "      </button>\n",
              "      \n",
              "  <style>\n",
              "    .colab-df-container {\n",
              "      display:flex;\n",
              "      flex-wrap:wrap;\n",
              "      gap: 12px;\n",
              "    }\n",
              "\n",
              "    .colab-df-convert {\n",
              "      background-color: #E8F0FE;\n",
              "      border: none;\n",
              "      border-radius: 50%;\n",
              "      cursor: pointer;\n",
              "      display: none;\n",
              "      fill: #1967D2;\n",
              "      height: 32px;\n",
              "      padding: 0 0 0 0;\n",
              "      width: 32px;\n",
              "    }\n",
              "\n",
              "    .colab-df-convert:hover {\n",
              "      background-color: #E2EBFA;\n",
              "      box-shadow: 0px 1px 2px rgba(60, 64, 67, 0.3), 0px 1px 3px 1px rgba(60, 64, 67, 0.15);\n",
              "      fill: #174EA6;\n",
              "    }\n",
              "\n",
              "    [theme=dark] .colab-df-convert {\n",
              "      background-color: #3B4455;\n",
              "      fill: #D2E3FC;\n",
              "    }\n",
              "\n",
              "    [theme=dark] .colab-df-convert:hover {\n",
              "      background-color: #434B5C;\n",
              "      box-shadow: 0px 1px 3px 1px rgba(0, 0, 0, 0.15);\n",
              "      filter: drop-shadow(0px 1px 2px rgba(0, 0, 0, 0.3));\n",
              "      fill: #FFFFFF;\n",
              "    }\n",
              "  </style>\n",
              "\n",
              "      <script>\n",
              "        const buttonEl =\n",
              "          document.querySelector('#df-4dea56c0-4abe-47f5-af40-66cbfca5615f button.colab-df-convert');\n",
              "        buttonEl.style.display =\n",
              "          google.colab.kernel.accessAllowed ? 'block' : 'none';\n",
              "\n",
              "        async function convertToInteractive(key) {\n",
              "          const element = document.querySelector('#df-4dea56c0-4abe-47f5-af40-66cbfca5615f');\n",
              "          const dataTable =\n",
              "            await google.colab.kernel.invokeFunction('convertToInteractive',\n",
              "                                                     [key], {});\n",
              "          if (!dataTable) return;\n",
              "\n",
              "          const docLinkHtml = 'Like what you see? Visit the ' +\n",
              "            '<a target=\"_blank\" href=https://colab.research.google.com/notebooks/data_table.ipynb>data table notebook</a>'\n",
              "            + ' to learn more about interactive tables.';\n",
              "          element.innerHTML = '';\n",
              "          dataTable['output_type'] = 'display_data';\n",
              "          await google.colab.output.renderOutput(dataTable, element);\n",
              "          const docLink = document.createElement('div');\n",
              "          docLink.innerHTML = docLinkHtml;\n",
              "          element.appendChild(docLink);\n",
              "        }\n",
              "      </script>\n",
              "    </div>\n",
              "  </div>\n",
              "  "
            ]
          },
          "metadata": {},
          "execution_count": 127
        }
      ],
      "source": [
        "X.head()"
      ]
    },
    {
      "cell_type": "markdown",
      "metadata": {
        "id": "OZs1ykL_calh"
      },
      "source": [
        "### Estimando o modelo"
      ]
    },
    {
      "cell_type": "code",
      "execution_count": 128,
      "metadata": {
        "id": "CGGritStcalh"
      },
      "outputs": [],
      "source": [
        "resultado_regressao = sm.OLS(Y, X, missing='drop').fit()"
      ]
    },
    {
      "cell_type": "markdown",
      "metadata": {
        "id": "pyVnbv7vcali"
      },
      "source": [
        "### Visualizando os parâmetros estimados"
      ]
    },
    {
      "cell_type": "code",
      "execution_count": 129,
      "metadata": {
        "id": "Ye2sF_ygcalj",
        "colab": {
          "base_uri": "https://localhost:8080/"
        },
        "outputId": "c5ef253e-ec25-47f3-eb58-d4f04c6f273b"
      },
      "outputs": [
        {
          "output_type": "execute_result",
          "data": {
            "text/plain": [
              "207.90331377756547"
            ]
          },
          "metadata": {},
          "execution_count": 129
        }
      ],
      "source": [
        "beta_1"
      ]
    },
    {
      "cell_type": "code",
      "execution_count": 130,
      "metadata": {
        "id": "5RGcqao9call",
        "colab": {
          "base_uri": "https://localhost:8080/"
        },
        "outputId": "1361769b-d69e-419a-e53e-10483a2f7649"
      },
      "outputs": [
        {
          "output_type": "execute_result",
          "data": {
            "text/plain": [
              "0.29729069099372424"
            ]
          },
          "metadata": {},
          "execution_count": 130
        }
      ],
      "source": [
        "beta_2"
      ]
    },
    {
      "cell_type": "code",
      "execution_count": 131,
      "metadata": {
        "id": "RUScqQ1dcalm",
        "colab": {
          "base_uri": "https://localhost:8080/"
        },
        "outputId": "11b86e21-66ac-4300-d7ac-bd40559e25d6"
      },
      "outputs": [
        {
          "output_type": "execute_result",
          "data": {
            "text/plain": [
              "const    207.903314\n",
              "X          0.297291\n",
              "dtype: float64"
            ]
          },
          "metadata": {},
          "execution_count": 131
        }
      ],
      "source": [
        "resultado_regressao.params"
      ]
    },
    {
      "cell_type": "code",
      "execution_count": 132,
      "metadata": {
        "id": "9geqX6FScaln",
        "colab": {
          "base_uri": "https://localhost:8080/"
        },
        "outputId": "696af6e3-ab76-4dcb-c307-f352036f8c1e"
      },
      "outputs": [
        {
          "output_type": "execute_result",
          "data": {
            "text/plain": [
              "207.90331377756553"
            ]
          },
          "metadata": {},
          "execution_count": 132
        }
      ],
      "source": [
        "beta_1 = resultado_regressao.params[0]\n",
        "beta_1"
      ]
    },
    {
      "cell_type": "code",
      "execution_count": 133,
      "metadata": {
        "id": "U238WwEVcalo",
        "colab": {
          "base_uri": "https://localhost:8080/"
        },
        "outputId": "da2dbab0-4c12-4c6c-ecb1-2422e1c912e0"
      },
      "outputs": [
        {
          "output_type": "execute_result",
          "data": {
            "text/plain": [
              "0.29729069099372435"
            ]
          },
          "metadata": {},
          "execution_count": 133
        }
      ],
      "source": [
        "beta_2 = resultado_regressao.params[1]\n",
        "beta_2"
      ]
    },
    {
      "cell_type": "markdown",
      "metadata": {
        "id": "POcFkp72calp"
      },
      "source": [
        "### Intervalo de confiança para os parâmetros estimados"
      ]
    },
    {
      "cell_type": "code",
      "execution_count": 134,
      "metadata": {
        "id": "-VrPhUV8calp",
        "colab": {
          "base_uri": "https://localhost:8080/",
          "height": 112
        },
        "outputId": "b275b060-b81f-402d-aefd-e7bbbdb67937"
      },
      "outputs": [
        {
          "output_type": "execute_result",
          "data": {
            "text/plain": [
              "                0           1\n",
              "const  107.116864  308.689763\n",
              "X        0.282092    0.312490"
            ],
            "text/html": [
              "\n",
              "  <div id=\"df-d878dc81-b4af-4d64-acb4-b3d389810131\">\n",
              "    <div class=\"colab-df-container\">\n",
              "      <div>\n",
              "<style scoped>\n",
              "    .dataframe tbody tr th:only-of-type {\n",
              "        vertical-align: middle;\n",
              "    }\n",
              "\n",
              "    .dataframe tbody tr th {\n",
              "        vertical-align: top;\n",
              "    }\n",
              "\n",
              "    .dataframe thead th {\n",
              "        text-align: right;\n",
              "    }\n",
              "</style>\n",
              "<table border=\"1\" class=\"dataframe\">\n",
              "  <thead>\n",
              "    <tr style=\"text-align: right;\">\n",
              "      <th></th>\n",
              "      <th>0</th>\n",
              "      <th>1</th>\n",
              "    </tr>\n",
              "  </thead>\n",
              "  <tbody>\n",
              "    <tr>\n",
              "      <th>const</th>\n",
              "      <td>107.116864</td>\n",
              "      <td>308.689763</td>\n",
              "    </tr>\n",
              "    <tr>\n",
              "      <th>X</th>\n",
              "      <td>0.282092</td>\n",
              "      <td>0.312490</td>\n",
              "    </tr>\n",
              "  </tbody>\n",
              "</table>\n",
              "</div>\n",
              "      <button class=\"colab-df-convert\" onclick=\"convertToInteractive('df-d878dc81-b4af-4d64-acb4-b3d389810131')\"\n",
              "              title=\"Convert this dataframe to an interactive table.\"\n",
              "              style=\"display:none;\">\n",
              "        \n",
              "  <svg xmlns=\"http://www.w3.org/2000/svg\" height=\"24px\"viewBox=\"0 0 24 24\"\n",
              "       width=\"24px\">\n",
              "    <path d=\"M0 0h24v24H0V0z\" fill=\"none\"/>\n",
              "    <path d=\"M18.56 5.44l.94 2.06.94-2.06 2.06-.94-2.06-.94-.94-2.06-.94 2.06-2.06.94zm-11 1L8.5 8.5l.94-2.06 2.06-.94-2.06-.94L8.5 2.5l-.94 2.06-2.06.94zm10 10l.94 2.06.94-2.06 2.06-.94-2.06-.94-.94-2.06-.94 2.06-2.06.94z\"/><path d=\"M17.41 7.96l-1.37-1.37c-.4-.4-.92-.59-1.43-.59-.52 0-1.04.2-1.43.59L10.3 9.45l-7.72 7.72c-.78.78-.78 2.05 0 2.83L4 21.41c.39.39.9.59 1.41.59.51 0 1.02-.2 1.41-.59l7.78-7.78 2.81-2.81c.8-.78.8-2.07 0-2.86zM5.41 20L4 18.59l7.72-7.72 1.47 1.35L5.41 20z\"/>\n",
              "  </svg>\n",
              "      </button>\n",
              "      \n",
              "  <style>\n",
              "    .colab-df-container {\n",
              "      display:flex;\n",
              "      flex-wrap:wrap;\n",
              "      gap: 12px;\n",
              "    }\n",
              "\n",
              "    .colab-df-convert {\n",
              "      background-color: #E8F0FE;\n",
              "      border: none;\n",
              "      border-radius: 50%;\n",
              "      cursor: pointer;\n",
              "      display: none;\n",
              "      fill: #1967D2;\n",
              "      height: 32px;\n",
              "      padding: 0 0 0 0;\n",
              "      width: 32px;\n",
              "    }\n",
              "\n",
              "    .colab-df-convert:hover {\n",
              "      background-color: #E2EBFA;\n",
              "      box-shadow: 0px 1px 2px rgba(60, 64, 67, 0.3), 0px 1px 3px 1px rgba(60, 64, 67, 0.15);\n",
              "      fill: #174EA6;\n",
              "    }\n",
              "\n",
              "    [theme=dark] .colab-df-convert {\n",
              "      background-color: #3B4455;\n",
              "      fill: #D2E3FC;\n",
              "    }\n",
              "\n",
              "    [theme=dark] .colab-df-convert:hover {\n",
              "      background-color: #434B5C;\n",
              "      box-shadow: 0px 1px 3px 1px rgba(0, 0, 0, 0.15);\n",
              "      filter: drop-shadow(0px 1px 2px rgba(0, 0, 0, 0.3));\n",
              "      fill: #FFFFFF;\n",
              "    }\n",
              "  </style>\n",
              "\n",
              "      <script>\n",
              "        const buttonEl =\n",
              "          document.querySelector('#df-d878dc81-b4af-4d64-acb4-b3d389810131 button.colab-df-convert');\n",
              "        buttonEl.style.display =\n",
              "          google.colab.kernel.accessAllowed ? 'block' : 'none';\n",
              "\n",
              "        async function convertToInteractive(key) {\n",
              "          const element = document.querySelector('#df-d878dc81-b4af-4d64-acb4-b3d389810131');\n",
              "          const dataTable =\n",
              "            await google.colab.kernel.invokeFunction('convertToInteractive',\n",
              "                                                     [key], {});\n",
              "          if (!dataTable) return;\n",
              "\n",
              "          const docLinkHtml = 'Like what you see? Visit the ' +\n",
              "            '<a target=\"_blank\" href=https://colab.research.google.com/notebooks/data_table.ipynb>data table notebook</a>'\n",
              "            + ' to learn more about interactive tables.';\n",
              "          element.innerHTML = '';\n",
              "          dataTable['output_type'] = 'display_data';\n",
              "          await google.colab.output.renderOutput(dataTable, element);\n",
              "          const docLink = document.createElement('div');\n",
              "          docLink.innerHTML = docLinkHtml;\n",
              "          element.appendChild(docLink);\n",
              "        }\n",
              "      </script>\n",
              "    </div>\n",
              "  </div>\n",
              "  "
            ]
          },
          "metadata": {},
          "execution_count": 134
        }
      ],
      "source": [
        "resultado_regressao.conf_int(alpha = 0.05)"
      ]
    },
    {
      "cell_type": "markdown",
      "source": [
        "Exercício\n",
        "\n",
        "Acredita-se que a posse de computadores tenha uma relação linear com a renda das famílias e para comprovar isso, podemos estimar uma regressão linear com os dados acima e avaliar os resultados obtidos.\n",
        "\n",
        "Neste problema, precisamos, inicialmente, obter as estimativas dos parâmetros de regressão.\n",
        "\n",
        "Informações extras:\n",
        "\n",
        "O valor da renda está dividido por 1.000.000, isto é, se um estado tem uma renda total de R$ 4,2, significa que ele tem uma renda total de R$ 4.200.000.\n",
        "\n",
        "Utilize o ferramental do statsmodels para obter os parâmetros.\n"
      ],
      "metadata": {
        "id": "qTRbZ0EqQf1v"
      }
    },
    {
      "cell_type": "code",
      "source": [
        "dataset_exer = {\n",
        "    'Y': [670, 220, 1202, 188, 1869, 248, 477, 1294, 816, 2671, 1403, 1586, 3468, 973, 701, 5310, 10950, 2008, 9574, 28863, 6466, 4274, 6432, 1326, 1423, 3211, 2140], \n",
        "    'X': [1.59, 0.56, 2.68, 0.47, 5.2, 0.58, 1.32, 3.88, 2.11, 5.53, 2.6, 2.94, 6.62, 1.91, 1.48, 10.64, 22.39, 4.2, 21.9, 59.66, 14.22, 9.57, 14.67, 3.28, 3.49, 6.94, 6.25]\n",
        "}"
      ],
      "metadata": {
        "id": "qUbxb94sQpXl"
      },
      "execution_count": 135,
      "outputs": []
    },
    {
      "cell_type": "code",
      "source": [
        "dataset_exer = pd.DataFrame(dataset_exer)\n",
        "Y_exer = dataset_exer.Y\n",
        "X_exer = sm.add_constant(dataset_exer.X)\n",
        "resultado_regressao_exer = sm.OLS(Y_exer, X_exer).fit()\n",
        "beta_1_exer = resultado_regressao_exer.params[0]\n",
        "beta_2_exer = resultado_regressao_exer.params[1]\n",
        "print(f'β1 = {beta_1_exer}\\nβ2 = {beta_2_exer}')"
      ],
      "metadata": {
        "colab": {
          "base_uri": "https://localhost:8080/"
        },
        "id": "M5zydF68QsGR",
        "outputId": "b2797032-e30c-4ab6-b1a7-44c6b7e7c32a"
      },
      "execution_count": 136,
      "outputs": [
        {
          "output_type": "stream",
          "name": "stdout",
          "text": [
            "β1 = -168.32115590461154\n",
            "β2 = 481.39039694214773\n"
          ]
        },
        {
          "output_type": "stream",
          "name": "stderr",
          "text": [
            "/usr/local/lib/python3.8/dist-packages/statsmodels/tsa/tsatools.py:142: FutureWarning: In a future version of pandas all arguments of concat except for the argument 'objs' will be keyword-only\n",
            "  x = pd.concat(x[::order], 1)\n"
          ]
        }
      ]
    },
    {
      "cell_type": "markdown",
      "metadata": {
        "id": "Je8U449lcalq"
      },
      "source": [
        "## <font color=green>4.4 Obtendo previsões</font>\n",
        "***"
      ]
    },
    {
      "cell_type": "markdown",
      "metadata": {
        "id": "PNPQFFsrcalq"
      },
      "source": [
        "# $$\\hat{Y}_i = 207,9033 + 0,2973X_i$$"
      ]
    },
    {
      "cell_type": "markdown",
      "metadata": {
        "id": "qNpJclcrcalr"
      },
      "source": [
        "### Previsões dentro da amostra"
      ]
    },
    {
      "cell_type": "code",
      "execution_count": 137,
      "metadata": {
        "id": "fqOX7ssAcalr",
        "scrolled": true,
        "colab": {
          "base_uri": "https://localhost:8080/",
          "height": 206
        },
        "outputId": "8b72b525-3201-464d-bb0b-2ca5746535ed"
      },
      "outputs": [
        {
          "output_type": "execute_result",
          "data": {
            "text/plain": [
              "      Y     X   Y_previsto\n",
              "0  3011  9714  3095.785086\n",
              "1  1305  3728  1316.203010\n",
              "2  1879  6062  2010.079483\n",
              "3  2654  8845  2837.439476\n",
              "4  2849  8378  2698.604723"
            ],
            "text/html": [
              "\n",
              "  <div id=\"df-229f4e57-e8ff-404d-bc5b-e7c262e257b9\">\n",
              "    <div class=\"colab-df-container\">\n",
              "      <div>\n",
              "<style scoped>\n",
              "    .dataframe tbody tr th:only-of-type {\n",
              "        vertical-align: middle;\n",
              "    }\n",
              "\n",
              "    .dataframe tbody tr th {\n",
              "        vertical-align: top;\n",
              "    }\n",
              "\n",
              "    .dataframe thead th {\n",
              "        text-align: right;\n",
              "    }\n",
              "</style>\n",
              "<table border=\"1\" class=\"dataframe\">\n",
              "  <thead>\n",
              "    <tr style=\"text-align: right;\">\n",
              "      <th></th>\n",
              "      <th>Y</th>\n",
              "      <th>X</th>\n",
              "      <th>Y_previsto</th>\n",
              "    </tr>\n",
              "  </thead>\n",
              "  <tbody>\n",
              "    <tr>\n",
              "      <th>0</th>\n",
              "      <td>3011</td>\n",
              "      <td>9714</td>\n",
              "      <td>3095.785086</td>\n",
              "    </tr>\n",
              "    <tr>\n",
              "      <th>1</th>\n",
              "      <td>1305</td>\n",
              "      <td>3728</td>\n",
              "      <td>1316.203010</td>\n",
              "    </tr>\n",
              "    <tr>\n",
              "      <th>2</th>\n",
              "      <td>1879</td>\n",
              "      <td>6062</td>\n",
              "      <td>2010.079483</td>\n",
              "    </tr>\n",
              "    <tr>\n",
              "      <th>3</th>\n",
              "      <td>2654</td>\n",
              "      <td>8845</td>\n",
              "      <td>2837.439476</td>\n",
              "    </tr>\n",
              "    <tr>\n",
              "      <th>4</th>\n",
              "      <td>2849</td>\n",
              "      <td>8378</td>\n",
              "      <td>2698.604723</td>\n",
              "    </tr>\n",
              "  </tbody>\n",
              "</table>\n",
              "</div>\n",
              "      <button class=\"colab-df-convert\" onclick=\"convertToInteractive('df-229f4e57-e8ff-404d-bc5b-e7c262e257b9')\"\n",
              "              title=\"Convert this dataframe to an interactive table.\"\n",
              "              style=\"display:none;\">\n",
              "        \n",
              "  <svg xmlns=\"http://www.w3.org/2000/svg\" height=\"24px\"viewBox=\"0 0 24 24\"\n",
              "       width=\"24px\">\n",
              "    <path d=\"M0 0h24v24H0V0z\" fill=\"none\"/>\n",
              "    <path d=\"M18.56 5.44l.94 2.06.94-2.06 2.06-.94-2.06-.94-.94-2.06-.94 2.06-2.06.94zm-11 1L8.5 8.5l.94-2.06 2.06-.94-2.06-.94L8.5 2.5l-.94 2.06-2.06.94zm10 10l.94 2.06.94-2.06 2.06-.94-2.06-.94-.94-2.06-.94 2.06-2.06.94z\"/><path d=\"M17.41 7.96l-1.37-1.37c-.4-.4-.92-.59-1.43-.59-.52 0-1.04.2-1.43.59L10.3 9.45l-7.72 7.72c-.78.78-.78 2.05 0 2.83L4 21.41c.39.39.9.59 1.41.59.51 0 1.02-.2 1.41-.59l7.78-7.78 2.81-2.81c.8-.78.8-2.07 0-2.86zM5.41 20L4 18.59l7.72-7.72 1.47 1.35L5.41 20z\"/>\n",
              "  </svg>\n",
              "      </button>\n",
              "      \n",
              "  <style>\n",
              "    .colab-df-container {\n",
              "      display:flex;\n",
              "      flex-wrap:wrap;\n",
              "      gap: 12px;\n",
              "    }\n",
              "\n",
              "    .colab-df-convert {\n",
              "      background-color: #E8F0FE;\n",
              "      border: none;\n",
              "      border-radius: 50%;\n",
              "      cursor: pointer;\n",
              "      display: none;\n",
              "      fill: #1967D2;\n",
              "      height: 32px;\n",
              "      padding: 0 0 0 0;\n",
              "      width: 32px;\n",
              "    }\n",
              "\n",
              "    .colab-df-convert:hover {\n",
              "      background-color: #E2EBFA;\n",
              "      box-shadow: 0px 1px 2px rgba(60, 64, 67, 0.3), 0px 1px 3px 1px rgba(60, 64, 67, 0.15);\n",
              "      fill: #174EA6;\n",
              "    }\n",
              "\n",
              "    [theme=dark] .colab-df-convert {\n",
              "      background-color: #3B4455;\n",
              "      fill: #D2E3FC;\n",
              "    }\n",
              "\n",
              "    [theme=dark] .colab-df-convert:hover {\n",
              "      background-color: #434B5C;\n",
              "      box-shadow: 0px 1px 3px 1px rgba(0, 0, 0, 0.15);\n",
              "      filter: drop-shadow(0px 1px 2px rgba(0, 0, 0, 0.3));\n",
              "      fill: #FFFFFF;\n",
              "    }\n",
              "  </style>\n",
              "\n",
              "      <script>\n",
              "        const buttonEl =\n",
              "          document.querySelector('#df-229f4e57-e8ff-404d-bc5b-e7c262e257b9 button.colab-df-convert');\n",
              "        buttonEl.style.display =\n",
              "          google.colab.kernel.accessAllowed ? 'block' : 'none';\n",
              "\n",
              "        async function convertToInteractive(key) {\n",
              "          const element = document.querySelector('#df-229f4e57-e8ff-404d-bc5b-e7c262e257b9');\n",
              "          const dataTable =\n",
              "            await google.colab.kernel.invokeFunction('convertToInteractive',\n",
              "                                                     [key], {});\n",
              "          if (!dataTable) return;\n",
              "\n",
              "          const docLinkHtml = 'Like what you see? Visit the ' +\n",
              "            '<a target=\"_blank\" href=https://colab.research.google.com/notebooks/data_table.ipynb>data table notebook</a>'\n",
              "            + ' to learn more about interactive tables.';\n",
              "          element.innerHTML = '';\n",
              "          dataTable['output_type'] = 'display_data';\n",
              "          await google.colab.output.renderOutput(dataTable, element);\n",
              "          const docLink = document.createElement('div');\n",
              "          docLink.innerHTML = docLinkHtml;\n",
              "          element.appendChild(docLink);\n",
              "        }\n",
              "      </script>\n",
              "    </div>\n",
              "  </div>\n",
              "  "
            ]
          },
          "metadata": {},
          "execution_count": 137
        }
      ],
      "source": [
        "dataset['Y_previsto'] = beta_1 + beta_2 * dataset.X\n",
        "dataset.head()"
      ]
    },
    {
      "cell_type": "markdown",
      "metadata": {
        "id": "hRRoxxAwcals"
      },
      "source": [
        "### Utilizando o statsmodels"
      ]
    },
    {
      "cell_type": "code",
      "execution_count": 138,
      "metadata": {
        "id": "qLhv0yTgcals",
        "scrolled": true,
        "colab": {
          "base_uri": "https://localhost:8080/",
          "height": 206
        },
        "outputId": "af439365-d520-4192-9792-a0d4edeb165a"
      },
      "outputs": [
        {
          "output_type": "execute_result",
          "data": {
            "text/plain": [
              "      Y     X   Y_previsto  Y_previsto_statsmodels\n",
              "0  3011  9714  3095.785086             3095.785086\n",
              "1  1305  3728  1316.203010             1316.203010\n",
              "2  1879  6062  2010.079483             2010.079483\n",
              "3  2654  8845  2837.439476             2837.439476\n",
              "4  2849  8378  2698.604723             2698.604723"
            ],
            "text/html": [
              "\n",
              "  <div id=\"df-ac9033dc-0c8d-4ccd-afaa-5db78d269ca3\">\n",
              "    <div class=\"colab-df-container\">\n",
              "      <div>\n",
              "<style scoped>\n",
              "    .dataframe tbody tr th:only-of-type {\n",
              "        vertical-align: middle;\n",
              "    }\n",
              "\n",
              "    .dataframe tbody tr th {\n",
              "        vertical-align: top;\n",
              "    }\n",
              "\n",
              "    .dataframe thead th {\n",
              "        text-align: right;\n",
              "    }\n",
              "</style>\n",
              "<table border=\"1\" class=\"dataframe\">\n",
              "  <thead>\n",
              "    <tr style=\"text-align: right;\">\n",
              "      <th></th>\n",
              "      <th>Y</th>\n",
              "      <th>X</th>\n",
              "      <th>Y_previsto</th>\n",
              "      <th>Y_previsto_statsmodels</th>\n",
              "    </tr>\n",
              "  </thead>\n",
              "  <tbody>\n",
              "    <tr>\n",
              "      <th>0</th>\n",
              "      <td>3011</td>\n",
              "      <td>9714</td>\n",
              "      <td>3095.785086</td>\n",
              "      <td>3095.785086</td>\n",
              "    </tr>\n",
              "    <tr>\n",
              "      <th>1</th>\n",
              "      <td>1305</td>\n",
              "      <td>3728</td>\n",
              "      <td>1316.203010</td>\n",
              "      <td>1316.203010</td>\n",
              "    </tr>\n",
              "    <tr>\n",
              "      <th>2</th>\n",
              "      <td>1879</td>\n",
              "      <td>6062</td>\n",
              "      <td>2010.079483</td>\n",
              "      <td>2010.079483</td>\n",
              "    </tr>\n",
              "    <tr>\n",
              "      <th>3</th>\n",
              "      <td>2654</td>\n",
              "      <td>8845</td>\n",
              "      <td>2837.439476</td>\n",
              "      <td>2837.439476</td>\n",
              "    </tr>\n",
              "    <tr>\n",
              "      <th>4</th>\n",
              "      <td>2849</td>\n",
              "      <td>8378</td>\n",
              "      <td>2698.604723</td>\n",
              "      <td>2698.604723</td>\n",
              "    </tr>\n",
              "  </tbody>\n",
              "</table>\n",
              "</div>\n",
              "      <button class=\"colab-df-convert\" onclick=\"convertToInteractive('df-ac9033dc-0c8d-4ccd-afaa-5db78d269ca3')\"\n",
              "              title=\"Convert this dataframe to an interactive table.\"\n",
              "              style=\"display:none;\">\n",
              "        \n",
              "  <svg xmlns=\"http://www.w3.org/2000/svg\" height=\"24px\"viewBox=\"0 0 24 24\"\n",
              "       width=\"24px\">\n",
              "    <path d=\"M0 0h24v24H0V0z\" fill=\"none\"/>\n",
              "    <path d=\"M18.56 5.44l.94 2.06.94-2.06 2.06-.94-2.06-.94-.94-2.06-.94 2.06-2.06.94zm-11 1L8.5 8.5l.94-2.06 2.06-.94-2.06-.94L8.5 2.5l-.94 2.06-2.06.94zm10 10l.94 2.06.94-2.06 2.06-.94-2.06-.94-.94-2.06-.94 2.06-2.06.94z\"/><path d=\"M17.41 7.96l-1.37-1.37c-.4-.4-.92-.59-1.43-.59-.52 0-1.04.2-1.43.59L10.3 9.45l-7.72 7.72c-.78.78-.78 2.05 0 2.83L4 21.41c.39.39.9.59 1.41.59.51 0 1.02-.2 1.41-.59l7.78-7.78 2.81-2.81c.8-.78.8-2.07 0-2.86zM5.41 20L4 18.59l7.72-7.72 1.47 1.35L5.41 20z\"/>\n",
              "  </svg>\n",
              "      </button>\n",
              "      \n",
              "  <style>\n",
              "    .colab-df-container {\n",
              "      display:flex;\n",
              "      flex-wrap:wrap;\n",
              "      gap: 12px;\n",
              "    }\n",
              "\n",
              "    .colab-df-convert {\n",
              "      background-color: #E8F0FE;\n",
              "      border: none;\n",
              "      border-radius: 50%;\n",
              "      cursor: pointer;\n",
              "      display: none;\n",
              "      fill: #1967D2;\n",
              "      height: 32px;\n",
              "      padding: 0 0 0 0;\n",
              "      width: 32px;\n",
              "    }\n",
              "\n",
              "    .colab-df-convert:hover {\n",
              "      background-color: #E2EBFA;\n",
              "      box-shadow: 0px 1px 2px rgba(60, 64, 67, 0.3), 0px 1px 3px 1px rgba(60, 64, 67, 0.15);\n",
              "      fill: #174EA6;\n",
              "    }\n",
              "\n",
              "    [theme=dark] .colab-df-convert {\n",
              "      background-color: #3B4455;\n",
              "      fill: #D2E3FC;\n",
              "    }\n",
              "\n",
              "    [theme=dark] .colab-df-convert:hover {\n",
              "      background-color: #434B5C;\n",
              "      box-shadow: 0px 1px 3px 1px rgba(0, 0, 0, 0.15);\n",
              "      filter: drop-shadow(0px 1px 2px rgba(0, 0, 0, 0.3));\n",
              "      fill: #FFFFFF;\n",
              "    }\n",
              "  </style>\n",
              "\n",
              "      <script>\n",
              "        const buttonEl =\n",
              "          document.querySelector('#df-ac9033dc-0c8d-4ccd-afaa-5db78d269ca3 button.colab-df-convert');\n",
              "        buttonEl.style.display =\n",
              "          google.colab.kernel.accessAllowed ? 'block' : 'none';\n",
              "\n",
              "        async function convertToInteractive(key) {\n",
              "          const element = document.querySelector('#df-ac9033dc-0c8d-4ccd-afaa-5db78d269ca3');\n",
              "          const dataTable =\n",
              "            await google.colab.kernel.invokeFunction('convertToInteractive',\n",
              "                                                     [key], {});\n",
              "          if (!dataTable) return;\n",
              "\n",
              "          const docLinkHtml = 'Like what you see? Visit the ' +\n",
              "            '<a target=\"_blank\" href=https://colab.research.google.com/notebooks/data_table.ipynb>data table notebook</a>'\n",
              "            + ' to learn more about interactive tables.';\n",
              "          element.innerHTML = '';\n",
              "          dataTable['output_type'] = 'display_data';\n",
              "          await google.colab.output.renderOutput(dataTable, element);\n",
              "          const docLink = document.createElement('div');\n",
              "          docLink.innerHTML = docLinkHtml;\n",
              "          element.appendChild(docLink);\n",
              "        }\n",
              "      </script>\n",
              "    </div>\n",
              "  </div>\n",
              "  "
            ]
          },
          "metadata": {},
          "execution_count": 138
        }
      ],
      "source": [
        "dataset['Y_previsto_statsmodels'] = resultado_regressao.predict()\n",
        "dataset.head()"
      ]
    },
    {
      "cell_type": "code",
      "execution_count": 139,
      "metadata": {
        "id": "FctIV05Kcalu",
        "scrolled": true,
        "colab": {
          "base_uri": "https://localhost:8080/",
          "height": 206
        },
        "outputId": "f3c30d76-62ca-4304-9d3b-5bb0e8bf0161"
      },
      "outputs": [
        {
          "output_type": "execute_result",
          "data": {
            "text/plain": [
              "      Y     X   Y_previsto\n",
              "0  3011  9714  3095.785086\n",
              "1  1305  3728  1316.203010\n",
              "2  1879  6062  2010.079483\n",
              "3  2654  8845  2837.439476\n",
              "4  2849  8378  2698.604723"
            ],
            "text/html": [
              "\n",
              "  <div id=\"df-de082510-a2de-4c8e-97b4-8acdd4da2ad5\">\n",
              "    <div class=\"colab-df-container\">\n",
              "      <div>\n",
              "<style scoped>\n",
              "    .dataframe tbody tr th:only-of-type {\n",
              "        vertical-align: middle;\n",
              "    }\n",
              "\n",
              "    .dataframe tbody tr th {\n",
              "        vertical-align: top;\n",
              "    }\n",
              "\n",
              "    .dataframe thead th {\n",
              "        text-align: right;\n",
              "    }\n",
              "</style>\n",
              "<table border=\"1\" class=\"dataframe\">\n",
              "  <thead>\n",
              "    <tr style=\"text-align: right;\">\n",
              "      <th></th>\n",
              "      <th>Y</th>\n",
              "      <th>X</th>\n",
              "      <th>Y_previsto</th>\n",
              "    </tr>\n",
              "  </thead>\n",
              "  <tbody>\n",
              "    <tr>\n",
              "      <th>0</th>\n",
              "      <td>3011</td>\n",
              "      <td>9714</td>\n",
              "      <td>3095.785086</td>\n",
              "    </tr>\n",
              "    <tr>\n",
              "      <th>1</th>\n",
              "      <td>1305</td>\n",
              "      <td>3728</td>\n",
              "      <td>1316.203010</td>\n",
              "    </tr>\n",
              "    <tr>\n",
              "      <th>2</th>\n",
              "      <td>1879</td>\n",
              "      <td>6062</td>\n",
              "      <td>2010.079483</td>\n",
              "    </tr>\n",
              "    <tr>\n",
              "      <th>3</th>\n",
              "      <td>2654</td>\n",
              "      <td>8845</td>\n",
              "      <td>2837.439476</td>\n",
              "    </tr>\n",
              "    <tr>\n",
              "      <th>4</th>\n",
              "      <td>2849</td>\n",
              "      <td>8378</td>\n",
              "      <td>2698.604723</td>\n",
              "    </tr>\n",
              "  </tbody>\n",
              "</table>\n",
              "</div>\n",
              "      <button class=\"colab-df-convert\" onclick=\"convertToInteractive('df-de082510-a2de-4c8e-97b4-8acdd4da2ad5')\"\n",
              "              title=\"Convert this dataframe to an interactive table.\"\n",
              "              style=\"display:none;\">\n",
              "        \n",
              "  <svg xmlns=\"http://www.w3.org/2000/svg\" height=\"24px\"viewBox=\"0 0 24 24\"\n",
              "       width=\"24px\">\n",
              "    <path d=\"M0 0h24v24H0V0z\" fill=\"none\"/>\n",
              "    <path d=\"M18.56 5.44l.94 2.06.94-2.06 2.06-.94-2.06-.94-.94-2.06-.94 2.06-2.06.94zm-11 1L8.5 8.5l.94-2.06 2.06-.94-2.06-.94L8.5 2.5l-.94 2.06-2.06.94zm10 10l.94 2.06.94-2.06 2.06-.94-2.06-.94-.94-2.06-.94 2.06-2.06.94z\"/><path d=\"M17.41 7.96l-1.37-1.37c-.4-.4-.92-.59-1.43-.59-.52 0-1.04.2-1.43.59L10.3 9.45l-7.72 7.72c-.78.78-.78 2.05 0 2.83L4 21.41c.39.39.9.59 1.41.59.51 0 1.02-.2 1.41-.59l7.78-7.78 2.81-2.81c.8-.78.8-2.07 0-2.86zM5.41 20L4 18.59l7.72-7.72 1.47 1.35L5.41 20z\"/>\n",
              "  </svg>\n",
              "      </button>\n",
              "      \n",
              "  <style>\n",
              "    .colab-df-container {\n",
              "      display:flex;\n",
              "      flex-wrap:wrap;\n",
              "      gap: 12px;\n",
              "    }\n",
              "\n",
              "    .colab-df-convert {\n",
              "      background-color: #E8F0FE;\n",
              "      border: none;\n",
              "      border-radius: 50%;\n",
              "      cursor: pointer;\n",
              "      display: none;\n",
              "      fill: #1967D2;\n",
              "      height: 32px;\n",
              "      padding: 0 0 0 0;\n",
              "      width: 32px;\n",
              "    }\n",
              "\n",
              "    .colab-df-convert:hover {\n",
              "      background-color: #E2EBFA;\n",
              "      box-shadow: 0px 1px 2px rgba(60, 64, 67, 0.3), 0px 1px 3px 1px rgba(60, 64, 67, 0.15);\n",
              "      fill: #174EA6;\n",
              "    }\n",
              "\n",
              "    [theme=dark] .colab-df-convert {\n",
              "      background-color: #3B4455;\n",
              "      fill: #D2E3FC;\n",
              "    }\n",
              "\n",
              "    [theme=dark] .colab-df-convert:hover {\n",
              "      background-color: #434B5C;\n",
              "      box-shadow: 0px 1px 3px 1px rgba(0, 0, 0, 0.15);\n",
              "      filter: drop-shadow(0px 1px 2px rgba(0, 0, 0, 0.3));\n",
              "      fill: #FFFFFF;\n",
              "    }\n",
              "  </style>\n",
              "\n",
              "      <script>\n",
              "        const buttonEl =\n",
              "          document.querySelector('#df-de082510-a2de-4c8e-97b4-8acdd4da2ad5 button.colab-df-convert');\n",
              "        buttonEl.style.display =\n",
              "          google.colab.kernel.accessAllowed ? 'block' : 'none';\n",
              "\n",
              "        async function convertToInteractive(key) {\n",
              "          const element = document.querySelector('#df-de082510-a2de-4c8e-97b4-8acdd4da2ad5');\n",
              "          const dataTable =\n",
              "            await google.colab.kernel.invokeFunction('convertToInteractive',\n",
              "                                                     [key], {});\n",
              "          if (!dataTable) return;\n",
              "\n",
              "          const docLinkHtml = 'Like what you see? Visit the ' +\n",
              "            '<a target=\"_blank\" href=https://colab.research.google.com/notebooks/data_table.ipynb>data table notebook</a>'\n",
              "            + ' to learn more about interactive tables.';\n",
              "          element.innerHTML = '';\n",
              "          dataTable['output_type'] = 'display_data';\n",
              "          await google.colab.output.renderOutput(dataTable, element);\n",
              "          const docLink = document.createElement('div');\n",
              "          docLink.innerHTML = docLinkHtml;\n",
              "          element.appendChild(docLink);\n",
              "        }\n",
              "      </script>\n",
              "    </div>\n",
              "  </div>\n",
              "  "
            ]
          },
          "metadata": {},
          "execution_count": 139
        }
      ],
      "source": [
        "dataset.drop(['Y_previsto_statsmodels'], axis = 1, inplace = True)\n",
        "dataset.head()"
      ]
    },
    {
      "cell_type": "markdown",
      "metadata": {
        "id": "OZBs0luwcalv"
      },
      "source": [
        "### Estimando o 'Gasto das Famílias' fora da amostra"
      ]
    },
    {
      "cell_type": "code",
      "execution_count": 140,
      "metadata": {
        "id": "4gXSqx41calv"
      },
      "outputs": [],
      "source": [
        "def prever(x):\n",
        "  return beta_1 + beta_2 * x"
      ]
    },
    {
      "cell_type": "code",
      "execution_count": 141,
      "metadata": {
        "id": "RyBwrPlQcalx",
        "colab": {
          "base_uri": "https://localhost:8080/"
        },
        "outputId": "452a09a3-d198-440b-811c-94a178cc119b"
      },
      "outputs": [
        {
          "output_type": "execute_result",
          "data": {
            "text/plain": [
              "2440.556403140435"
            ]
          },
          "metadata": {},
          "execution_count": 141
        }
      ],
      "source": [
        "prever(7510)"
      ]
    },
    {
      "cell_type": "markdown",
      "metadata": {
        "id": "3P0ZtB-Qcalz"
      },
      "source": [
        "### Estimando o 'Gasto das Famílias' fora da amostra via StatsModels"
      ]
    },
    {
      "cell_type": "code",
      "execution_count": 144,
      "metadata": {
        "id": "DpDu_yiecal0",
        "colab": {
          "base_uri": "https://localhost:8080/"
        },
        "outputId": "9af25739-5059-4af7-bcc8-9d921e31e22b"
      },
      "outputs": [
        {
          "output_type": "execute_result",
          "data": {
            "text/plain": [
              "2440.556403140435"
            ]
          },
          "metadata": {},
          "execution_count": 144
        }
      ],
      "source": [
        "# o 1 no primeiro parametro é a constante\n",
        "resultado_regressao.predict([1, 7510])[0]"
      ]
    },
    {
      "cell_type": "markdown",
      "source": [
        "Exercício\n",
        "\n",
        "Considerando os dados do problema anterior, onde se acredita que a posse de computadores tenha uma relação linear com a renda das famílias, após estimarmos o modelo (problema anterior), suponha que seja criado um estado e que este apresente uma renda total de R$ 2.345.678.\n",
        "\n",
        "\n",
        "Assinale a alternativa que apresenta a previsão (valor arredondado) para o número de domicílios que possuem computador neste novo estado da federação."
      ],
      "metadata": {
        "id": "kIfs4rW3W8wM"
      }
    },
    {
      "cell_type": "code",
      "source": [
        "resultado_regressao_exer.predict([1, 2.345678])[0]"
      ],
      "metadata": {
        "colab": {
          "base_uri": "https://localhost:8080/"
        },
        "id": "GW2k4qBFXERw",
        "outputId": "43db410f-25f2-4b91-eecd-9e916069050c"
      },
      "execution_count": 146,
      "outputs": [
        {
          "output_type": "execute_result",
          "data": {
            "text/plain": [
              "960.8657076138518"
            ]
          },
          "metadata": {},
          "execution_count": 146
        }
      ]
    },
    {
      "cell_type": "markdown",
      "metadata": {
        "id": "NfEjm65Gcal2"
      },
      "source": [
        "## <font color=green>4.5 Resíduos</font>\n",
        "***"
      ]
    },
    {
      "cell_type": "markdown",
      "metadata": {
        "id": "RVAQCkvH75mH"
      },
      "source": [
        "Como vimos anteriormente, o resíduo da i-ésima observação é a diferença entre o valor observado de nossa variável dependente ($Y_i$) e o valor estimado da variável dependente ($\\hat{Y}_i$)."
      ]
    },
    {
      "cell_type": "markdown",
      "metadata": {
        "id": "EAGrrY7xcal3"
      },
      "source": [
        "# $$\\hat{u}_i = Y_i - \\hat{Y}_i$$"
      ]
    },
    {
      "cell_type": "markdown",
      "metadata": {
        "id": "QVekZtNU75mH"
      },
      "source": [
        "Em outras palavras, $\\hat{u}_i$ é o erro obtido ao se utilizar a equação de regressão estimada para prever o valor da variável dependente."
      ]
    },
    {
      "cell_type": "code",
      "execution_count": 147,
      "metadata": {
        "id": "oiB2JiOLcal3",
        "scrolled": true,
        "colab": {
          "base_uri": "https://localhost:8080/",
          "height": 206
        },
        "outputId": "e3c42a9c-c40f-4c81-f4f2-024a2adcaeb3"
      },
      "outputs": [
        {
          "output_type": "execute_result",
          "data": {
            "text/plain": [
              "      Y     X   Y_previsto           u\n",
              "0  3011  9714  3095.785086  -84.785086\n",
              "1  1305  3728  1316.203010  -11.203010\n",
              "2  1879  6062  2010.079483 -131.079483\n",
              "3  2654  8845  2837.439476 -183.439476\n",
              "4  2849  8378  2698.604723  150.395277"
            ],
            "text/html": [
              "\n",
              "  <div id=\"df-4b80abf2-3ff7-426b-8540-6d8eff8416f2\">\n",
              "    <div class=\"colab-df-container\">\n",
              "      <div>\n",
              "<style scoped>\n",
              "    .dataframe tbody tr th:only-of-type {\n",
              "        vertical-align: middle;\n",
              "    }\n",
              "\n",
              "    .dataframe tbody tr th {\n",
              "        vertical-align: top;\n",
              "    }\n",
              "\n",
              "    .dataframe thead th {\n",
              "        text-align: right;\n",
              "    }\n",
              "</style>\n",
              "<table border=\"1\" class=\"dataframe\">\n",
              "  <thead>\n",
              "    <tr style=\"text-align: right;\">\n",
              "      <th></th>\n",
              "      <th>Y</th>\n",
              "      <th>X</th>\n",
              "      <th>Y_previsto</th>\n",
              "      <th>u</th>\n",
              "    </tr>\n",
              "  </thead>\n",
              "  <tbody>\n",
              "    <tr>\n",
              "      <th>0</th>\n",
              "      <td>3011</td>\n",
              "      <td>9714</td>\n",
              "      <td>3095.785086</td>\n",
              "      <td>-84.785086</td>\n",
              "    </tr>\n",
              "    <tr>\n",
              "      <th>1</th>\n",
              "      <td>1305</td>\n",
              "      <td>3728</td>\n",
              "      <td>1316.203010</td>\n",
              "      <td>-11.203010</td>\n",
              "    </tr>\n",
              "    <tr>\n",
              "      <th>2</th>\n",
              "      <td>1879</td>\n",
              "      <td>6062</td>\n",
              "      <td>2010.079483</td>\n",
              "      <td>-131.079483</td>\n",
              "    </tr>\n",
              "    <tr>\n",
              "      <th>3</th>\n",
              "      <td>2654</td>\n",
              "      <td>8845</td>\n",
              "      <td>2837.439476</td>\n",
              "      <td>-183.439476</td>\n",
              "    </tr>\n",
              "    <tr>\n",
              "      <th>4</th>\n",
              "      <td>2849</td>\n",
              "      <td>8378</td>\n",
              "      <td>2698.604723</td>\n",
              "      <td>150.395277</td>\n",
              "    </tr>\n",
              "  </tbody>\n",
              "</table>\n",
              "</div>\n",
              "      <button class=\"colab-df-convert\" onclick=\"convertToInteractive('df-4b80abf2-3ff7-426b-8540-6d8eff8416f2')\"\n",
              "              title=\"Convert this dataframe to an interactive table.\"\n",
              "              style=\"display:none;\">\n",
              "        \n",
              "  <svg xmlns=\"http://www.w3.org/2000/svg\" height=\"24px\"viewBox=\"0 0 24 24\"\n",
              "       width=\"24px\">\n",
              "    <path d=\"M0 0h24v24H0V0z\" fill=\"none\"/>\n",
              "    <path d=\"M18.56 5.44l.94 2.06.94-2.06 2.06-.94-2.06-.94-.94-2.06-.94 2.06-2.06.94zm-11 1L8.5 8.5l.94-2.06 2.06-.94-2.06-.94L8.5 2.5l-.94 2.06-2.06.94zm10 10l.94 2.06.94-2.06 2.06-.94-2.06-.94-.94-2.06-.94 2.06-2.06.94z\"/><path d=\"M17.41 7.96l-1.37-1.37c-.4-.4-.92-.59-1.43-.59-.52 0-1.04.2-1.43.59L10.3 9.45l-7.72 7.72c-.78.78-.78 2.05 0 2.83L4 21.41c.39.39.9.59 1.41.59.51 0 1.02-.2 1.41-.59l7.78-7.78 2.81-2.81c.8-.78.8-2.07 0-2.86zM5.41 20L4 18.59l7.72-7.72 1.47 1.35L5.41 20z\"/>\n",
              "  </svg>\n",
              "      </button>\n",
              "      \n",
              "  <style>\n",
              "    .colab-df-container {\n",
              "      display:flex;\n",
              "      flex-wrap:wrap;\n",
              "      gap: 12px;\n",
              "    }\n",
              "\n",
              "    .colab-df-convert {\n",
              "      background-color: #E8F0FE;\n",
              "      border: none;\n",
              "      border-radius: 50%;\n",
              "      cursor: pointer;\n",
              "      display: none;\n",
              "      fill: #1967D2;\n",
              "      height: 32px;\n",
              "      padding: 0 0 0 0;\n",
              "      width: 32px;\n",
              "    }\n",
              "\n",
              "    .colab-df-convert:hover {\n",
              "      background-color: #E2EBFA;\n",
              "      box-shadow: 0px 1px 2px rgba(60, 64, 67, 0.3), 0px 1px 3px 1px rgba(60, 64, 67, 0.15);\n",
              "      fill: #174EA6;\n",
              "    }\n",
              "\n",
              "    [theme=dark] .colab-df-convert {\n",
              "      background-color: #3B4455;\n",
              "      fill: #D2E3FC;\n",
              "    }\n",
              "\n",
              "    [theme=dark] .colab-df-convert:hover {\n",
              "      background-color: #434B5C;\n",
              "      box-shadow: 0px 1px 3px 1px rgba(0, 0, 0, 0.15);\n",
              "      filter: drop-shadow(0px 1px 2px rgba(0, 0, 0, 0.3));\n",
              "      fill: #FFFFFF;\n",
              "    }\n",
              "  </style>\n",
              "\n",
              "      <script>\n",
              "        const buttonEl =\n",
              "          document.querySelector('#df-4b80abf2-3ff7-426b-8540-6d8eff8416f2 button.colab-df-convert');\n",
              "        buttonEl.style.display =\n",
              "          google.colab.kernel.accessAllowed ? 'block' : 'none';\n",
              "\n",
              "        async function convertToInteractive(key) {\n",
              "          const element = document.querySelector('#df-4b80abf2-3ff7-426b-8540-6d8eff8416f2');\n",
              "          const dataTable =\n",
              "            await google.colab.kernel.invokeFunction('convertToInteractive',\n",
              "                                                     [key], {});\n",
              "          if (!dataTable) return;\n",
              "\n",
              "          const docLinkHtml = 'Like what you see? Visit the ' +\n",
              "            '<a target=\"_blank\" href=https://colab.research.google.com/notebooks/data_table.ipynb>data table notebook</a>'\n",
              "            + ' to learn more about interactive tables.';\n",
              "          element.innerHTML = '';\n",
              "          dataTable['output_type'] = 'display_data';\n",
              "          await google.colab.output.renderOutput(dataTable, element);\n",
              "          const docLink = document.createElement('div');\n",
              "          docLink.innerHTML = docLinkHtml;\n",
              "          element.appendChild(docLink);\n",
              "        }\n",
              "      </script>\n",
              "    </div>\n",
              "  </div>\n",
              "  "
            ]
          },
          "metadata": {},
          "execution_count": 147
        }
      ],
      "source": [
        "dataset['u'] = dataset.Y - dataset.Y_previsto\n",
        "dataset.head()"
      ]
    },
    {
      "cell_type": "code",
      "execution_count": 148,
      "metadata": {
        "id": "_rtZhoU8cal5",
        "colab": {
          "base_uri": "https://localhost:8080/",
          "height": 206
        },
        "outputId": "5c8b69e8-601f-44c2-edc3-77d55ee4d350"
      },
      "outputs": [
        {
          "output_type": "execute_result",
          "data": {
            "text/plain": [
              "      Y     X   Y_previsto           u    Residuos\n",
              "0  3011  9714  3095.785086  -84.785086  -84.785086\n",
              "1  1305  3728  1316.203010  -11.203010  -11.203010\n",
              "2  1879  6062  2010.079483 -131.079483 -131.079483\n",
              "3  2654  8845  2837.439476 -183.439476 -183.439476\n",
              "4  2849  8378  2698.604723  150.395277  150.395277"
            ],
            "text/html": [
              "\n",
              "  <div id=\"df-220c0cce-1234-4d09-a454-cfa5d3f062f4\">\n",
              "    <div class=\"colab-df-container\">\n",
              "      <div>\n",
              "<style scoped>\n",
              "    .dataframe tbody tr th:only-of-type {\n",
              "        vertical-align: middle;\n",
              "    }\n",
              "\n",
              "    .dataframe tbody tr th {\n",
              "        vertical-align: top;\n",
              "    }\n",
              "\n",
              "    .dataframe thead th {\n",
              "        text-align: right;\n",
              "    }\n",
              "</style>\n",
              "<table border=\"1\" class=\"dataframe\">\n",
              "  <thead>\n",
              "    <tr style=\"text-align: right;\">\n",
              "      <th></th>\n",
              "      <th>Y</th>\n",
              "      <th>X</th>\n",
              "      <th>Y_previsto</th>\n",
              "      <th>u</th>\n",
              "      <th>Residuos</th>\n",
              "    </tr>\n",
              "  </thead>\n",
              "  <tbody>\n",
              "    <tr>\n",
              "      <th>0</th>\n",
              "      <td>3011</td>\n",
              "      <td>9714</td>\n",
              "      <td>3095.785086</td>\n",
              "      <td>-84.785086</td>\n",
              "      <td>-84.785086</td>\n",
              "    </tr>\n",
              "    <tr>\n",
              "      <th>1</th>\n",
              "      <td>1305</td>\n",
              "      <td>3728</td>\n",
              "      <td>1316.203010</td>\n",
              "      <td>-11.203010</td>\n",
              "      <td>-11.203010</td>\n",
              "    </tr>\n",
              "    <tr>\n",
              "      <th>2</th>\n",
              "      <td>1879</td>\n",
              "      <td>6062</td>\n",
              "      <td>2010.079483</td>\n",
              "      <td>-131.079483</td>\n",
              "      <td>-131.079483</td>\n",
              "    </tr>\n",
              "    <tr>\n",
              "      <th>3</th>\n",
              "      <td>2654</td>\n",
              "      <td>8845</td>\n",
              "      <td>2837.439476</td>\n",
              "      <td>-183.439476</td>\n",
              "      <td>-183.439476</td>\n",
              "    </tr>\n",
              "    <tr>\n",
              "      <th>4</th>\n",
              "      <td>2849</td>\n",
              "      <td>8378</td>\n",
              "      <td>2698.604723</td>\n",
              "      <td>150.395277</td>\n",
              "      <td>150.395277</td>\n",
              "    </tr>\n",
              "  </tbody>\n",
              "</table>\n",
              "</div>\n",
              "      <button class=\"colab-df-convert\" onclick=\"convertToInteractive('df-220c0cce-1234-4d09-a454-cfa5d3f062f4')\"\n",
              "              title=\"Convert this dataframe to an interactive table.\"\n",
              "              style=\"display:none;\">\n",
              "        \n",
              "  <svg xmlns=\"http://www.w3.org/2000/svg\" height=\"24px\"viewBox=\"0 0 24 24\"\n",
              "       width=\"24px\">\n",
              "    <path d=\"M0 0h24v24H0V0z\" fill=\"none\"/>\n",
              "    <path d=\"M18.56 5.44l.94 2.06.94-2.06 2.06-.94-2.06-.94-.94-2.06-.94 2.06-2.06.94zm-11 1L8.5 8.5l.94-2.06 2.06-.94-2.06-.94L8.5 2.5l-.94 2.06-2.06.94zm10 10l.94 2.06.94-2.06 2.06-.94-2.06-.94-.94-2.06-.94 2.06-2.06.94z\"/><path d=\"M17.41 7.96l-1.37-1.37c-.4-.4-.92-.59-1.43-.59-.52 0-1.04.2-1.43.59L10.3 9.45l-7.72 7.72c-.78.78-.78 2.05 0 2.83L4 21.41c.39.39.9.59 1.41.59.51 0 1.02-.2 1.41-.59l7.78-7.78 2.81-2.81c.8-.78.8-2.07 0-2.86zM5.41 20L4 18.59l7.72-7.72 1.47 1.35L5.41 20z\"/>\n",
              "  </svg>\n",
              "      </button>\n",
              "      \n",
              "  <style>\n",
              "    .colab-df-container {\n",
              "      display:flex;\n",
              "      flex-wrap:wrap;\n",
              "      gap: 12px;\n",
              "    }\n",
              "\n",
              "    .colab-df-convert {\n",
              "      background-color: #E8F0FE;\n",
              "      border: none;\n",
              "      border-radius: 50%;\n",
              "      cursor: pointer;\n",
              "      display: none;\n",
              "      fill: #1967D2;\n",
              "      height: 32px;\n",
              "      padding: 0 0 0 0;\n",
              "      width: 32px;\n",
              "    }\n",
              "\n",
              "    .colab-df-convert:hover {\n",
              "      background-color: #E2EBFA;\n",
              "      box-shadow: 0px 1px 2px rgba(60, 64, 67, 0.3), 0px 1px 3px 1px rgba(60, 64, 67, 0.15);\n",
              "      fill: #174EA6;\n",
              "    }\n",
              "\n",
              "    [theme=dark] .colab-df-convert {\n",
              "      background-color: #3B4455;\n",
              "      fill: #D2E3FC;\n",
              "    }\n",
              "\n",
              "    [theme=dark] .colab-df-convert:hover {\n",
              "      background-color: #434B5C;\n",
              "      box-shadow: 0px 1px 3px 1px rgba(0, 0, 0, 0.15);\n",
              "      filter: drop-shadow(0px 1px 2px rgba(0, 0, 0, 0.3));\n",
              "      fill: #FFFFFF;\n",
              "    }\n",
              "  </style>\n",
              "\n",
              "      <script>\n",
              "        const buttonEl =\n",
              "          document.querySelector('#df-220c0cce-1234-4d09-a454-cfa5d3f062f4 button.colab-df-convert');\n",
              "        buttonEl.style.display =\n",
              "          google.colab.kernel.accessAllowed ? 'block' : 'none';\n",
              "\n",
              "        async function convertToInteractive(key) {\n",
              "          const element = document.querySelector('#df-220c0cce-1234-4d09-a454-cfa5d3f062f4');\n",
              "          const dataTable =\n",
              "            await google.colab.kernel.invokeFunction('convertToInteractive',\n",
              "                                                     [key], {});\n",
              "          if (!dataTable) return;\n",
              "\n",
              "          const docLinkHtml = 'Like what you see? Visit the ' +\n",
              "            '<a target=\"_blank\" href=https://colab.research.google.com/notebooks/data_table.ipynb>data table notebook</a>'\n",
              "            + ' to learn more about interactive tables.';\n",
              "          element.innerHTML = '';\n",
              "          dataTable['output_type'] = 'display_data';\n",
              "          await google.colab.output.renderOutput(dataTable, element);\n",
              "          const docLink = document.createElement('div');\n",
              "          docLink.innerHTML = docLinkHtml;\n",
              "          element.appendChild(docLink);\n",
              "        }\n",
              "      </script>\n",
              "    </div>\n",
              "  </div>\n",
              "  "
            ]
          },
          "metadata": {},
          "execution_count": 148
        }
      ],
      "source": [
        "dataset['Residuos'] = resultado_regressao.resid\n",
        "dataset.head()"
      ]
    },
    {
      "cell_type": "code",
      "execution_count": 149,
      "metadata": {
        "id": "GbnSv-B-cal6",
        "scrolled": true,
        "colab": {
          "base_uri": "https://localhost:8080/",
          "height": 206
        },
        "outputId": "0ceca977-da3e-414b-d3c1-7a13e79c33f2"
      },
      "outputs": [
        {
          "output_type": "execute_result",
          "data": {
            "text/plain": [
              "      Y     X   Y_previsto    Residuos\n",
              "0  3011  9714  3095.785086  -84.785086\n",
              "1  1305  3728  1316.203010  -11.203010\n",
              "2  1879  6062  2010.079483 -131.079483\n",
              "3  2654  8845  2837.439476 -183.439476\n",
              "4  2849  8378  2698.604723  150.395277"
            ],
            "text/html": [
              "\n",
              "  <div id=\"df-fd7cdb67-94af-418e-a721-1ccff3d2430a\">\n",
              "    <div class=\"colab-df-container\">\n",
              "      <div>\n",
              "<style scoped>\n",
              "    .dataframe tbody tr th:only-of-type {\n",
              "        vertical-align: middle;\n",
              "    }\n",
              "\n",
              "    .dataframe tbody tr th {\n",
              "        vertical-align: top;\n",
              "    }\n",
              "\n",
              "    .dataframe thead th {\n",
              "        text-align: right;\n",
              "    }\n",
              "</style>\n",
              "<table border=\"1\" class=\"dataframe\">\n",
              "  <thead>\n",
              "    <tr style=\"text-align: right;\">\n",
              "      <th></th>\n",
              "      <th>Y</th>\n",
              "      <th>X</th>\n",
              "      <th>Y_previsto</th>\n",
              "      <th>Residuos</th>\n",
              "    </tr>\n",
              "  </thead>\n",
              "  <tbody>\n",
              "    <tr>\n",
              "      <th>0</th>\n",
              "      <td>3011</td>\n",
              "      <td>9714</td>\n",
              "      <td>3095.785086</td>\n",
              "      <td>-84.785086</td>\n",
              "    </tr>\n",
              "    <tr>\n",
              "      <th>1</th>\n",
              "      <td>1305</td>\n",
              "      <td>3728</td>\n",
              "      <td>1316.203010</td>\n",
              "      <td>-11.203010</td>\n",
              "    </tr>\n",
              "    <tr>\n",
              "      <th>2</th>\n",
              "      <td>1879</td>\n",
              "      <td>6062</td>\n",
              "      <td>2010.079483</td>\n",
              "      <td>-131.079483</td>\n",
              "    </tr>\n",
              "    <tr>\n",
              "      <th>3</th>\n",
              "      <td>2654</td>\n",
              "      <td>8845</td>\n",
              "      <td>2837.439476</td>\n",
              "      <td>-183.439476</td>\n",
              "    </tr>\n",
              "    <tr>\n",
              "      <th>4</th>\n",
              "      <td>2849</td>\n",
              "      <td>8378</td>\n",
              "      <td>2698.604723</td>\n",
              "      <td>150.395277</td>\n",
              "    </tr>\n",
              "  </tbody>\n",
              "</table>\n",
              "</div>\n",
              "      <button class=\"colab-df-convert\" onclick=\"convertToInteractive('df-fd7cdb67-94af-418e-a721-1ccff3d2430a')\"\n",
              "              title=\"Convert this dataframe to an interactive table.\"\n",
              "              style=\"display:none;\">\n",
              "        \n",
              "  <svg xmlns=\"http://www.w3.org/2000/svg\" height=\"24px\"viewBox=\"0 0 24 24\"\n",
              "       width=\"24px\">\n",
              "    <path d=\"M0 0h24v24H0V0z\" fill=\"none\"/>\n",
              "    <path d=\"M18.56 5.44l.94 2.06.94-2.06 2.06-.94-2.06-.94-.94-2.06-.94 2.06-2.06.94zm-11 1L8.5 8.5l.94-2.06 2.06-.94-2.06-.94L8.5 2.5l-.94 2.06-2.06.94zm10 10l.94 2.06.94-2.06 2.06-.94-2.06-.94-.94-2.06-.94 2.06-2.06.94z\"/><path d=\"M17.41 7.96l-1.37-1.37c-.4-.4-.92-.59-1.43-.59-.52 0-1.04.2-1.43.59L10.3 9.45l-7.72 7.72c-.78.78-.78 2.05 0 2.83L4 21.41c.39.39.9.59 1.41.59.51 0 1.02-.2 1.41-.59l7.78-7.78 2.81-2.81c.8-.78.8-2.07 0-2.86zM5.41 20L4 18.59l7.72-7.72 1.47 1.35L5.41 20z\"/>\n",
              "  </svg>\n",
              "      </button>\n",
              "      \n",
              "  <style>\n",
              "    .colab-df-container {\n",
              "      display:flex;\n",
              "      flex-wrap:wrap;\n",
              "      gap: 12px;\n",
              "    }\n",
              "\n",
              "    .colab-df-convert {\n",
              "      background-color: #E8F0FE;\n",
              "      border: none;\n",
              "      border-radius: 50%;\n",
              "      cursor: pointer;\n",
              "      display: none;\n",
              "      fill: #1967D2;\n",
              "      height: 32px;\n",
              "      padding: 0 0 0 0;\n",
              "      width: 32px;\n",
              "    }\n",
              "\n",
              "    .colab-df-convert:hover {\n",
              "      background-color: #E2EBFA;\n",
              "      box-shadow: 0px 1px 2px rgba(60, 64, 67, 0.3), 0px 1px 3px 1px rgba(60, 64, 67, 0.15);\n",
              "      fill: #174EA6;\n",
              "    }\n",
              "\n",
              "    [theme=dark] .colab-df-convert {\n",
              "      background-color: #3B4455;\n",
              "      fill: #D2E3FC;\n",
              "    }\n",
              "\n",
              "    [theme=dark] .colab-df-convert:hover {\n",
              "      background-color: #434B5C;\n",
              "      box-shadow: 0px 1px 3px 1px rgba(0, 0, 0, 0.15);\n",
              "      filter: drop-shadow(0px 1px 2px rgba(0, 0, 0, 0.3));\n",
              "      fill: #FFFFFF;\n",
              "    }\n",
              "  </style>\n",
              "\n",
              "      <script>\n",
              "        const buttonEl =\n",
              "          document.querySelector('#df-fd7cdb67-94af-418e-a721-1ccff3d2430a button.colab-df-convert');\n",
              "        buttonEl.style.display =\n",
              "          google.colab.kernel.accessAllowed ? 'block' : 'none';\n",
              "\n",
              "        async function convertToInteractive(key) {\n",
              "          const element = document.querySelector('#df-fd7cdb67-94af-418e-a721-1ccff3d2430a');\n",
              "          const dataTable =\n",
              "            await google.colab.kernel.invokeFunction('convertToInteractive',\n",
              "                                                     [key], {});\n",
              "          if (!dataTable) return;\n",
              "\n",
              "          const docLinkHtml = 'Like what you see? Visit the ' +\n",
              "            '<a target=\"_blank\" href=https://colab.research.google.com/notebooks/data_table.ipynb>data table notebook</a>'\n",
              "            + ' to learn more about interactive tables.';\n",
              "          element.innerHTML = '';\n",
              "          dataTable['output_type'] = 'display_data';\n",
              "          await google.colab.output.renderOutput(dataTable, element);\n",
              "          const docLink = document.createElement('div');\n",
              "          docLink.innerHTML = docLinkHtml;\n",
              "          element.appendChild(docLink);\n",
              "        }\n",
              "      </script>\n",
              "    </div>\n",
              "  </div>\n",
              "  "
            ]
          },
          "metadata": {},
          "execution_count": 149
        }
      ],
      "source": [
        "dataset.drop(['u'], axis = 1, inplace = True)\n",
        "dataset.head()"
      ]
    },
    {
      "cell_type": "code",
      "execution_count": 150,
      "metadata": {
        "id": "HQZQyrCzmHha",
        "colab": {
          "base_uri": "https://localhost:8080/"
        },
        "outputId": "b1663a9c-6334-4205-c293-567e2df54934"
      },
      "outputs": [
        {
          "output_type": "execute_result",
          "data": {
            "text/plain": [
              "-5.525180313270539e-13"
            ]
          },
          "metadata": {},
          "execution_count": 150
        }
      ],
      "source": [
        "dataset.Residuos.mean()"
      ]
    },
    {
      "cell_type": "markdown",
      "metadata": {
        "id": "2FUvXCAW75mL"
      },
      "source": [
        "## <font color=green>4.6 Suposições sobre o termo de erro $u$</font>\n",
        "***\n",
        "\n",
        "### 1. O termo de erro $u$ é uma variável aleatória com média igual a zero: $E(u) = 0$\n",
        "### 2. A variância de $u$ é a mesma para todos os valores de $X$\n",
        "### 3. O valores de $u$ são independentes\n",
        "### 4. O termo de erro $u$ é uma variável aleatória normalmente distribuída."
      ]
    },
    {
      "cell_type": "markdown",
      "metadata": {
        "id": "7mFDWvhFcal7"
      },
      "source": [
        "### Plotando os resíduos do modelo\n",
        "\n",
        "https://seaborn.pydata.org/generated/seaborn.scatterplot.html"
      ]
    },
    {
      "cell_type": "code",
      "execution_count": 151,
      "metadata": {
        "id": "r3RhXDBccal8",
        "colab": {
          "base_uri": "https://localhost:8080/",
          "height": 431
        },
        "outputId": "d2e3e25c-c23f-4513-8808-90fdc9510dc6"
      },
      "outputs": [
        {
          "output_type": "execute_result",
          "data": {
            "text/plain": [
              "<matplotlib.axes._subplots.AxesSubplot at 0x7fbca35374c0>"
            ]
          },
          "metadata": {},
          "execution_count": 151
        },
        {
          "output_type": "display_data",
          "data": {
            "text/plain": [
              "<Figure size 864x432 with 1 Axes>"
            ],
            "image/png": "[encoded data removed]"
          },
          "metadata": {
            "needs_background": "light"
          }
        }
      ],
      "source": [
        "ax = sns.scatterplot(x=dataset.X, y=dataset.Residuos)\n",
        "ax.figure.set_size_inches(12, 6)\n",
        "ax.set_title('Resíduos vs Variável Independente', fontsize=18)\n",
        "ax.set_xlabel('X', fontsize=14)\n",
        "ax.set_ylabel('Resíduos', fontsize=14)\n",
        "ax"
      ]
    },
    {
      "cell_type": "markdown",
      "source": [
        "Quando a gente estiver trabalhando com modelo de regressão linear múltipla, quando você estiver fazendo isso, você vai ter que dar preferência a este gráfico que a gente vai fazer agora, onde a gente vai plotar o Y previsto, está ele aqui já no eixo X, contra o resíduo no eixo Y. Isso porque no modelo de regressão linear múltipla, a gente tem vários X, pode ter 2, pode ter 3, várias variáveis independentes. Você teria que plotar um gráfico para cada variável e isso deturparia.\n",
        "\n",
        "O que você tem que fazer é pegar o Y que foi previsto, que leva em consideração todas essas variáveis, e plotar ele contra o resíduo. Aqui, no nosso caso, como a gente só tem uma variável, ele vai ficar, se você reparar, idêntico ao de cima."
      ],
      "metadata": {
        "id": "39Wc_Zx0mq2D"
      }
    },
    {
      "cell_type": "code",
      "execution_count": 152,
      "metadata": {
        "id": "6An7Ir6275mN",
        "colab": {
          "base_uri": "https://localhost:8080/",
          "height": 431
        },
        "outputId": "fc71439e-23b2-47fd-9039-c0156a2fb810"
      },
      "outputs": [
        {
          "output_type": "execute_result",
          "data": {
            "text/plain": [
              "<matplotlib.axes._subplots.AxesSubplot at 0x7fbca3560550>"
            ]
          },
          "metadata": {},
          "execution_count": 152
        },
        {
          "output_type": "display_data",
          "data": {
            "text/plain": [
              "<Figure size 864x432 with 1 Axes>"
            ],
            "image/png": "[encoded data removed]"
          },
          "metadata": {
            "needs_background": "light"
          }
        }
      ],
      "source": [
        "ax = sns.scatterplot(x=dataset.Y_previsto, y=dataset.Residuos)\n",
        "ax.figure.set_size_inches(12, 6)\n",
        "ax.set_title('Resíduos vs Y_Previsto', fontsize=18)\n",
        "ax.set_xlabel('Y_Previsto', fontsize=14)\n",
        "ax.set_ylabel('Resíduos', fontsize=14)\n",
        "ax"
      ]
    },
    {
      "cell_type": "markdown",
      "source": [
        "Mas, eu queria mostrar isso aqui porque estamos no simples, depois você pode pegar uma regressão múltipla, que é o mais comum, isso aqui é para entendermos. É mais comum uma regressão linear múltipla, onde tem mais variáveis, você vai se deparar com ter que tratar esse gráfico, então você pode ficar perdido."
      ],
      "metadata": {
        "id": "AltvFPBlm0JO"
      }
    },
    {
      "cell_type": "markdown",
      "metadata": {
        "id": "72hPAKNKcamD"
      },
      "source": [
        "### Hipótese de variância constante"
      ]
    },
    {
      "cell_type": "markdown",
      "metadata": {
        "id": "dm_pfD0jcamE"
      },
      "source": [
        "<img src=\"https://caelum-online-public.s3.amazonaws.com/1273-estatistica-parte4/01/img028.jpg\" width=80%>\n",
        "Fonte: Econometria Básica - 5ª edição - Gujarati e Porter"
      ]
    },
    {
      "cell_type": "code",
      "execution_count": 153,
      "metadata": {
        "id": "lCys_bu_camE",
        "colab": {
          "base_uri": "https://localhost:8080/",
          "height": 431
        },
        "outputId": "e04f60e4-f92e-4a80-9746-b1b0ddb3385e"
      },
      "outputs": [
        {
          "output_type": "execute_result",
          "data": {
            "text/plain": [
              "<matplotlib.axes._subplots.AxesSubplot at 0x7fbca36b7970>"
            ]
          },
          "metadata": {},
          "execution_count": 153
        },
        {
          "output_type": "display_data",
          "data": {
            "text/plain": [
              "<Figure size 864x432 with 1 Axes>"
            ],
            "image/png": "[encoded data removed]"
          },
          "metadata": {
            "needs_background": "light"
          }
        }
      ],
      "source": [
        "ax = sns.scatterplot(x=dataset.Y_previsto, y=dataset.Residuos**2)\n",
        "ax.figure.set_size_inches(12, 6)\n",
        "ax.set_title('Resíduos² vs Y_Previsto', fontsize=18)\n",
        "ax.set_xlabel('Y_Previsto', fontsize=14)\n",
        "ax.set_ylabel('Resíduos', fontsize=14)\n",
        "ax"
      ]
    },
    {
      "cell_type": "markdown",
      "metadata": {
        "id": "d3X2NkIicamv"
      },
      "source": [
        "## <font color=green>4.7 O coeficiente de determinação $R^2$</font>\n",
        "***"
      ]
    },
    {
      "cell_type": "markdown",
      "metadata": {
        "id": "02AXBeBrcamw"
      },
      "source": [
        "O **coeficiente de determinação R²** é uma medida resumida que diz quanto a linha de regressão amostral se ajusta aos dados. Pode ser obtido a partir da seguinte fórmula:\n",
        "\n",
        "# $$R^2 = \\frac{\\big[\\sum{(Y_i - \\bar{Y})(\\hat{Y}_i - \\bar{Y})}\\big]^2}{\\sum{(Y_i - \\bar{Y}})^2 \\sum{(\\hat{Y}_i - \\bar{Y}})^2}$$\n",
        "\n",
        "Sabemos que o i-ésimo resíduo representa o erro de usarmos $\\hat{Y}_i$ para estimar $Y_i$. A soma dos quadrados desses resíduos é o valor que é minimizado pelo método dos mínimos quadrados. Esse valor pode ser representado da seguinte forma:\n",
        "\n",
        "# $$SQE = \\sum{(Y_i - \\hat{Y}_i)^2}$$\n",
        "\n",
        "O valor da SQE é uma medida do erro de se usar a equação de regressão estimada para estimar os valores da variável dependente na amostra.\n",
        "\n",
        "Outro componente que podemos medir é a soma dos quadrados total (SQT) que representa a medida do erro envolvido no uso da média ($\\bar{Y}$) para fazer as estimativas. A SQT pode ser representada da forma abaixo:\n",
        "\n",
        "# $$SQT = \\sum{(Y_i - \\bar{Y})^2}$$\n",
        "\n",
        "Para quantificar o quanto os valores estimados ($\\hat{Y}_i$) se afastam da média ($\\bar{Y}$) podemos obter mais uma soma de quadrados. Essa soma é chamada de soma dos quadrados da regressão (SQR) e é representada pela seguinte fórmula:\n",
        "\n",
        "# $$SQR = \\sum{(\\hat{Y}_i - \\bar{Y})^2}$$\n"
      ]
    },
    {
      "cell_type": "markdown",
      "metadata": {
        "id": "R5QuIfRCoT_W"
      },
      "source": [
        "### Soma do quadrados do erros (SQE)"
      ]
    },
    {
      "cell_type": "code",
      "execution_count": 136,
      "metadata": {
        "id": "mjDVczwGcamw"
      },
      "outputs": [],
      "source": []
    },
    {
      "cell_type": "code",
      "execution_count": 136,
      "metadata": {
        "id": "fJ9ANPnIcamx"
      },
      "outputs": [],
      "source": []
    },
    {
      "cell_type": "code",
      "execution_count": 136,
      "metadata": {
        "id": "EzaZHZas75mT"
      },
      "outputs": [],
      "source": []
    },
    {
      "cell_type": "markdown",
      "metadata": {
        "id": "ciYucebH75mU"
      },
      "source": [
        "### Soma do quadrados total (SQT)"
      ]
    },
    {
      "cell_type": "code",
      "execution_count": 136,
      "metadata": {
        "id": "8nBBr4HE75mV"
      },
      "outputs": [],
      "source": []
    },
    {
      "cell_type": "markdown",
      "metadata": {
        "id": "2faHnARf75mW"
      },
      "source": [
        "### Soma do quadrados da regressão (SQR)"
      ]
    },
    {
      "cell_type": "code",
      "execution_count": 136,
      "metadata": {
        "id": "sOIQrg2q75mW"
      },
      "outputs": [],
      "source": []
    },
    {
      "cell_type": "code",
      "execution_count": 136,
      "metadata": {
        "id": "6Z_ZWswM75mX"
      },
      "outputs": [],
      "source": []
    },
    {
      "cell_type": "markdown",
      "metadata": {
        "id": "qzIqboEg75mY"
      },
      "source": [
        "### Relação entre as somas de quadrados\n",
        "\n",
        "# $$SQT = SQR + SQE$$\n",
        "\n",
        "Onde,\n",
        "\n",
        "\n",
        "### $SQE = \\sum{(Y_i - \\hat{Y}_i)^2}$\n",
        "\n",
        "### $SQT = \\sum{(Y_i - \\bar{Y})^2}$\n",
        "\n",
        "### $SQR = \\sum{(\\hat{Y}_i - \\bar{Y})^2}$\n",
        "\n",
        "\n",
        "<img src=\"https://caelum-online-public.s3.amazonaws.com/1273-estatistica-parte4/01/img029.png\" width=50%>"
      ]
    },
    {
      "cell_type": "code",
      "execution_count": 136,
      "metadata": {
        "id": "GOcnkBJY75mZ"
      },
      "outputs": [],
      "source": []
    },
    {
      "cell_type": "markdown",
      "metadata": {
        "id": "OMz_pGr375ma"
      },
      "source": [
        "### Coeficiente de determinação (R²)\n",
        "\n",
        "A regressão estimada teria um ajuste perfeito se todos os valores da variável dependente ($Y_i$) estiverem sobre a reta de regressão estimada. Quando isso ocorre temos $Y_i - \\hat{Y}_i = 0$ para todas as observações, o que resulta em uma $SQE = 0$. Como $SQT=SQR+SQE$, é possível deduzir que para termos um ajuste perfeito $SQT$ deve ser igual a $SQR$ e a razão entre estas medidas ($\\frac{SQR}{SQT}$) deve ser igual a 1.\n",
        "\n",
        "Quando o ajuste não é tão perfeito nota-se que a $SQE$ apresenta valores maiores o que faz a razão $\\frac{SQR}{SQT}$ diminuir, e em uma situação de total imperfeição do ajuste teríamos uma $SQR=0$ e $SQE=SQT$ levando a $\\frac{SQR}{SQT}=0$.\n",
        "\n",
        "A razão $\\frac{SQR}{SQT}$, que assume valores entre 0 e 1, é utilizada como medida de eficiência do ajuste da equação de regressão estimada. Essa medida é conhecida como coeficiente de determinação (R²).\n",
        "\n",
        "# $$R^2 = \\frac{SQR}{SQT}$$\n",
        "\n",
        "## <font color='red'>Observação</font>\n",
        "> Somente com a utilização do R² não é possível tirar conclusões sobre a relação entre $Y$ e $X$ ser ou não ser estatisticamente\n",
        "significativa. Este tipo de afirmação deve basear-se em considerações que envolvem o tamanho da amostra e as propriedades da distribuição amostral dos estimadores mínimos quadrados."
      ]
    },
    {
      "cell_type": "code",
      "execution_count": 136,
      "metadata": {
        "id": "dKUngOqP75ma"
      },
      "outputs": [],
      "source": []
    },
    {
      "cell_type": "code",
      "execution_count": 136,
      "metadata": {
        "id": "oFowDxPB75mb"
      },
      "outputs": [],
      "source": []
    },
    {
      "cell_type": "markdown",
      "metadata": {
        "id": "BwQR3YxTcam0"
      },
      "source": [
        "## <font color=green>4.8 Testes aplicados a modelos de regressão</font>\n",
        "***"
      ]
    },
    {
      "cell_type": "markdown",
      "metadata": {
        "id": "eGZZaMp4td9Y"
      },
      "source": [
        "Como vimos, em uma regressão linear simples, a média da variável dependente ($Y$) é uma função linear da variável independente ($X$):\n",
        "\n",
        "# $$Y_i = \\beta_1 + \\beta_2X_i$$\n",
        "\n",
        "Se o valor de $\\beta_2$ for zero podemos verificar que o valor médio de $Y$ não depende do valor de $X$ e, portanto, concluímos que $X$ e $Y$ não estão linearmente relacionados. De forma alternativa, se o valor de $\\beta_2$ não for igual a zero, concluímos que as duas variáveis estão relacionadas.\n",
        "\n",
        "Para testar se a relação de regressão é significativa, é preciso realizar um **teste de hipóteses** para determinar se o valor de $\\beta_2$ é zero. Antes de realizar este tipo de teste precisamos obter uma estimativa para $\\sigma^2$ (variância do erro)."
      ]
    },
    {
      "cell_type": "markdown",
      "metadata": {
        "id": "ePVflM9mtd9Z"
      },
      "source": [
        "### Output do modelo de regressão estimado"
      ]
    },
    {
      "cell_type": "code",
      "execution_count": 136,
      "metadata": {
        "id": "xZu92Yaztd9Z"
      },
      "outputs": [],
      "source": []
    },
    {
      "cell_type": "markdown",
      "metadata": {
        "id": "imBNBULStd9a"
      },
      "source": [
        "### Erro quadrático médio - estimativa de $\\sigma^2$\n",
        "\n",
        "Lembre-se que a **soma dos quadrados do erros (SQE)** é uma medida numérica da variabilidade dos dados observados em torno da reta de regressão estimada. Todas as somas de quadrados, estudadas anteriormente, estão associadas a um determinado número de graus de liberdade. No caso da SQE, como devem ser estimados dois parâmetros, temos $n-2$ graus de liberdade.\n",
        "\n",
        "O **erro quadrático médio**, representado pela equação abaixo, pode ser obtido dividindo-se a SQE por $n-2$ graus de liberdade.\n",
        "\n",
        "# $$EQM = \\frac{SQE}{n-2}$$"
      ]
    },
    {
      "cell_type": "code",
      "execution_count": 136,
      "metadata": {
        "id": "aDxRwFWJtd9a"
      },
      "outputs": [],
      "source": []
    },
    {
      "cell_type": "code",
      "execution_count": 136,
      "metadata": {
        "id": "qg5nZub3CEFx"
      },
      "outputs": [],
      "source": []
    },
    {
      "cell_type": "code",
      "execution_count": 136,
      "metadata": {
        "id": "TXfeyZwvtd9b"
      },
      "outputs": [],
      "source": []
    },
    {
      "cell_type": "code",
      "execution_count": 136,
      "metadata": {
        "id": "CF28rNuKtd9d"
      },
      "outputs": [],
      "source": []
    },
    {
      "cell_type": "markdown",
      "metadata": {
        "id": "3xHqA9Gicam0"
      },
      "source": [
        "### Teste de hipótese para nulidade do coeficiente angular"
      ]
    },
    {
      "cell_type": "markdown",
      "metadata": {
        "id": "QpUUlnKw9Ac_"
      },
      "source": [
        "Considere o seguinte modelo de regressão linear simples:\n",
        "\n",
        "# $$Y_i = \\beta_1 + \\beta_2X_i + u_i$$\n",
        "\n",
        "Se as variáveis $Y$ e $X$ são linearmente relacionadas, espera-se que $\\beta_2$ seja diferente de zero. Para testar esta hipótese formulamos um teste de hipótese com a seguinte especificação de hipóteses nula e alternativa:\n",
        "\n",
        "## $H_0: \\beta_2 = 0$\n",
        "## $H_1: \\beta_2 \\neq 0$\n",
        "\n",
        "Caso $H_0$ seja rejeitada, concluiremos que existe uma relação linear estatisticamente significativa entre as duas variáveis.\n",
        "\n",
        "Considere agora que $b_1$ e $b_2$ são nossos estimadores de mínimos quadrados. Considere que a distribuição amostral de $b_2$ segue uma normal e também as seguintes propriedades:\n",
        "\n",
        "# $$E(b_2) = \\beta_2$$\n",
        "# $$\\sigma_{b_2} = \\frac{\\sigma}{\\sqrt{\\sum{(X_i - \\bar{X})^2}}}$$\n",
        "\n",
        "Como não conhecemos o valor de $\\sigma$, utilizamos $s$ como estimativa:\n",
        "\n",
        "# $$s_{b_2} = \\frac{s}{\\sqrt{\\sum{(X_i - \\bar{X})^2}}}$$\n",
        "\n",
        "Note que o valor esperado de $b_2$ é $\\beta_2$, logo, $b_2$ é um estimador não viesado de $\\beta_2$. Abaixo temos a estatística de teste (t) que segue uma distribuição t de Student com $n-2$ graus de liberdade.\n",
        "\n",
        "# $$t = \\frac{b_2 - \\beta_2}{s_{b_2}}$$"
      ]
    },
    {
      "cell_type": "markdown",
      "metadata": {
        "id": "hupnxGgFtd9g"
      },
      "source": [
        "### Calculando $s$"
      ]
    },
    {
      "cell_type": "code",
      "execution_count": 136,
      "metadata": {
        "id": "9r87ZchPcam2"
      },
      "outputs": [],
      "source": []
    },
    {
      "cell_type": "markdown",
      "metadata": {
        "id": "mr85iUdatd9q"
      },
      "source": [
        "### Calculando $\\sum{(X_i - \\bar{X})^2}$"
      ]
    },
    {
      "cell_type": "code",
      "execution_count": 136,
      "metadata": {
        "id": "exNBEriWtd9q"
      },
      "outputs": [],
      "source": []
    },
    {
      "cell_type": "markdown",
      "metadata": {
        "id": "mEuMAudxtd9u"
      },
      "source": [
        "### Calculando $s_{b_2}$"
      ]
    },
    {
      "cell_type": "code",
      "execution_count": 136,
      "metadata": {
        "id": "uwr9JWN_td9u"
      },
      "outputs": [],
      "source": []
    },
    {
      "cell_type": "markdown",
      "metadata": {
        "id": "ZXe59tB-td9w"
      },
      "source": [
        "### Determinando as áreas de aceitação e rejeição de $H_0$"
      ]
    },
    {
      "cell_type": "code",
      "execution_count": 136,
      "metadata": {
        "id": "sYjgmVgUtd9w"
      },
      "outputs": [],
      "source": []
    },
    {
      "cell_type": "markdown",
      "metadata": {
        "id": "cuvV9yC-td9x"
      },
      "source": [
        "![Região de Aceitação](https://caelum-online-public.s3.amazonaws.com/1273-estatistica-parte4/01/img031.png)"
      ]
    },
    {
      "cell_type": "markdown",
      "metadata": {
        "id": "z9tmldlUtd9y"
      },
      "source": [
        "### Níveis de confiança e significância"
      ]
    },
    {
      "cell_type": "code",
      "execution_count": 136,
      "metadata": {
        "id": "x6imEPp0td9y"
      },
      "outputs": [],
      "source": []
    },
    {
      "cell_type": "code",
      "execution_count": 136,
      "metadata": {
        "id": "VFJGcIRGD-ai"
      },
      "outputs": [],
      "source": []
    },
    {
      "cell_type": "markdown",
      "metadata": {
        "id": "Xb6DWLiTtd9z"
      },
      "source": [
        "### Obtendo $t_{\\alpha/2}$"
      ]
    },
    {
      "cell_type": "code",
      "execution_count": 136,
      "metadata": {
        "id": "yVEsPYPitd9z"
      },
      "outputs": [],
      "source": []
    },
    {
      "cell_type": "code",
      "execution_count": 136,
      "metadata": {
        "id": "_Cfvwj7Ktd91"
      },
      "outputs": [],
      "source": []
    },
    {
      "cell_type": "markdown",
      "metadata": {
        "id": "oW11PFl4td94"
      },
      "source": [
        "![Região de Aceitação](https://caelum-online-public.s3.amazonaws.com/1273-estatistica-parte4/01/img032.png)"
      ]
    },
    {
      "cell_type": "markdown",
      "metadata": {
        "id": "Sjj0cgC7td94"
      },
      "source": [
        "### Obtendo $t = \\frac{b_2 - \\beta_2}{s_{b_2}}$"
      ]
    },
    {
      "cell_type": "code",
      "execution_count": 136,
      "metadata": {
        "id": "Db8oVrEWtd94"
      },
      "outputs": [],
      "source": []
    },
    {
      "cell_type": "code",
      "execution_count": 136,
      "metadata": {
        "id": "h-Tm7-Qstd95"
      },
      "outputs": [],
      "source": []
    },
    {
      "cell_type": "markdown",
      "metadata": {
        "id": "jOvLKfvitd97"
      },
      "source": [
        "![Região de Aceitação](https://caelum-online-public.s3.amazonaws.com/1273-estatistica-parte4/01/img033.png)"
      ]
    },
    {
      "cell_type": "markdown",
      "metadata": {
        "id": "lU747h33td97"
      },
      "source": [
        "### Etapas e regras de decisão do teste t de significância dos parâmetros"
      ]
    },
    {
      "cell_type": "markdown",
      "metadata": {
        "id": "kDHBbSAitd97"
      },
      "source": [
        "<img src=\"https://caelum-online-public.s3.amazonaws.com/1273-estatistica-parte4/01/img030.png\" width=90%>"
      ]
    },
    {
      "cell_type": "markdown",
      "metadata": {
        "id": "-Il6O2H6td98"
      },
      "source": [
        "### <font color='red'>Critério do valor crítico</font>\n",
        "\n",
        "> ### Teste Bicaudal\n",
        "> ### Rejeitar $H_0$ se $t \\leq -t_{\\alpha / 2}$ ou se $t \\geq t_{\\alpha / 2}$"
      ]
    },
    {
      "cell_type": "code",
      "execution_count": 136,
      "metadata": {
        "id": "24_4-073td99"
      },
      "outputs": [],
      "source": []
    },
    {
      "cell_type": "code",
      "execution_count": 136,
      "metadata": {
        "id": "jya2Bqvktd9-"
      },
      "outputs": [],
      "source": []
    },
    {
      "cell_type": "markdown",
      "metadata": {
        "id": "dW7cJcnQtd9_"
      },
      "source": [
        "### <font color='red'>Critério do $p-valor$</font>\n",
        "\n",
        "> ### Teste Bicaudal\n",
        "> ### Rejeitar $H_0$ se o valor $p\\leq\\alpha$"
      ]
    },
    {
      "cell_type": "code",
      "execution_count": 136,
      "metadata": {
        "id": "LJQ3BBpBtd9_"
      },
      "outputs": [],
      "source": []
    },
    {
      "cell_type": "code",
      "execution_count": 136,
      "metadata": {
        "id": "gpVuM3Gvtd-B"
      },
      "outputs": [],
      "source": []
    },
    {
      "cell_type": "code",
      "execution_count": 136,
      "metadata": {
        "id": "Qtmjl1oBtd-C"
      },
      "outputs": [],
      "source": []
    },
    {
      "cell_type": "markdown",
      "metadata": {
        "id": "EP5tgnmttd-D"
      },
      "source": [
        "### <font color='green'>Conclusão: Rejeitamos $H_0$ e concluímos que existe uma relação significativa entre as duas variáveis.</font>"
      ]
    },
    {
      "cell_type": "code",
      "execution_count": 136,
      "metadata": {
        "id": "HMaewwFXtd-D"
      },
      "outputs": [],
      "source": []
    },
    {
      "cell_type": "markdown",
      "metadata": {
        "id": "HTW4vH03td-E"
      },
      "source": [
        "---"
      ]
    },
    {
      "cell_type": "markdown",
      "metadata": {
        "id": "fEAeu55gtd-E"
      },
      "source": [
        "### Teste F"
      ]
    },
    {
      "cell_type": "markdown",
      "metadata": {
        "id": "boZIhWUmtd-E"
      },
      "source": [
        "O teste F também é uma ferramenta para testar a significância na regressão. Baseado na distribuição F de probabilidade, o teste F é utilizado para verificar a significância global na regressão, isto é, em uma regressão múltipla, onde existe mais de uma variável independente, o teste F verifica a nulidade de todos os parâmetros do modelo conjuntamente.\n",
        "\n",
        "Em nosso caso (regressão linear simples) ele fornece a mesma conclusão obtida com o teste t.\n",
        "\n",
        "**Hipóteses:**\n",
        "\n",
        "## $H_0: \\beta_2 = 0$\n",
        "## $H_0: \\beta_2 \\neq 0$\n",
        "\n",
        "**Estatística de teste:**\n",
        "\n",
        "# $$F = \\frac{\\frac{SQR}{k}}{\\frac{SQE}{n-k-1}}$$\n",
        "\n",
        "Onde,\n",
        "\n",
        "$SQR$ - soma dos quadrados da regressão\n",
        "\n",
        "$SQE$ - soma dos quadrados dos erros\n",
        "\n",
        "$k$ - total de variáveis independentes ($X$)\n",
        "\n",
        "**Regras de rejeição de $H_0$:**\n",
        "\n",
        "**Critério do valor crítico** $\\rightarrow$ Rejeitar se $F \\geq F_{\\alpha}$\n",
        "\n",
        "Onde,\n",
        "\n",
        "$F_{\\alpha}$ - baseia-se na distribuição F com $k$ graus de liberdade no numerador e $n-k-1$ no denominador.\n",
        "\n",
        "**Critério do p-valor** $\\rightarrow$ Rejeitar se $p-valor \\leq \\alpha$"
      ]
    },
    {
      "cell_type": "markdown",
      "metadata": {
        "id": "gT3WGPkNtd-E"
      },
      "source": [
        "### Calculando a estatística de teste ($F$)"
      ]
    },
    {
      "cell_type": "code",
      "execution_count": 136,
      "metadata": {
        "id": "kGfJb7gVtd-E"
      },
      "outputs": [],
      "source": []
    },
    {
      "cell_type": "code",
      "execution_count": 136,
      "metadata": {
        "id": "v-ano9jmtd-H"
      },
      "outputs": [],
      "source": []
    },
    {
      "cell_type": "code",
      "execution_count": 136,
      "metadata": {
        "id": "9vtS-VQ2td-I"
      },
      "outputs": [],
      "source": []
    },
    {
      "cell_type": "code",
      "execution_count": 136,
      "metadata": {
        "id": "w8yfK5k1td-K"
      },
      "outputs": [],
      "source": []
    },
    {
      "cell_type": "markdown",
      "metadata": {
        "id": "OEzKwQYztd-K"
      },
      "source": [
        "### Obtendo o p-valor"
      ]
    },
    {
      "cell_type": "code",
      "execution_count": 136,
      "metadata": {
        "id": "XTl2Y4u5td-K"
      },
      "outputs": [],
      "source": []
    },
    {
      "cell_type": "code",
      "execution_count": 136,
      "metadata": {
        "id": "OWswoJrHtd-M"
      },
      "outputs": [],
      "source": []
    },
    {
      "cell_type": "code",
      "execution_count": 136,
      "metadata": {
        "id": "GH127n5atd-O"
      },
      "outputs": [],
      "source": []
    },
    {
      "cell_type": "code",
      "execution_count": 136,
      "metadata": {
        "id": "TmkXMaKktd-P"
      },
      "outputs": [],
      "source": []
    },
    {
      "cell_type": "markdown",
      "metadata": {
        "id": "jy32sWqYtd-S"
      },
      "source": [
        "# <font color=green>5 EXTRAS</font>\n",
        "***"
      ]
    },
    {
      "cell_type": "markdown",
      "metadata": {
        "id": "MpTZNPXgtd-S"
      },
      "source": [
        "## <font color=green>5.1 Outros testes</font>\n",
        "***"
      ]
    },
    {
      "cell_type": "code",
      "execution_count": 136,
      "metadata": {
        "id": "dP3-Wwp9td-S"
      },
      "outputs": [],
      "source": []
    },
    {
      "cell_type": "markdown",
      "metadata": {
        "id": "c60PkV_Std-U"
      },
      "source": [
        "### Normalidade dos resíduos - Omnibus\n",
        "\n",
        "> ### $H_0:$ Os dados se distribuem como uma normal\n",
        "\n",
        "https://docs.scipy.org/doc/scipy/reference/generated/scipy.stats.normaltest.html"
      ]
    },
    {
      "cell_type": "code",
      "execution_count": 136,
      "metadata": {
        "id": "-Q6xvpfstd-U"
      },
      "outputs": [],
      "source": []
    },
    {
      "cell_type": "code",
      "execution_count": 136,
      "metadata": {
        "id": "zrxNEHpstd-W"
      },
      "outputs": [],
      "source": []
    },
    {
      "cell_type": "markdown",
      "metadata": {
        "id": "trrfvTbQtd-X"
      },
      "source": [
        "https://docs.scipy.org/doc/scipy/reference/generated/scipy.stats.probplot.html"
      ]
    },
    {
      "cell_type": "code",
      "execution_count": 136,
      "metadata": {
        "id": "Rv_9YHwutd-Z"
      },
      "outputs": [],
      "source": []
    },
    {
      "cell_type": "code",
      "execution_count": 136,
      "metadata": {
        "id": "dYwjwYdMtd-b"
      },
      "outputs": [],
      "source": []
    },
    {
      "cell_type": "code",
      "execution_count": 136,
      "metadata": {
        "id": "I5AOPc2vtd-c"
      },
      "outputs": [],
      "source": []
    },
    {
      "cell_type": "markdown",
      "metadata": {
        "id": "5ilwY6HQtd-d"
      },
      "source": [
        "### Verificando a simetria\n",
        "\n",
        "https://docs.scipy.org/doc/scipy/reference/generated/scipy.stats.skew.html"
      ]
    },
    {
      "cell_type": "code",
      "execution_count": 136,
      "metadata": {
        "id": "6EuSXLHZtd-d"
      },
      "outputs": [],
      "source": []
    },
    {
      "cell_type": "code",
      "execution_count": 136,
      "metadata": {
        "id": "dWLfxBy3td-g"
      },
      "outputs": [],
      "source": []
    },
    {
      "cell_type": "markdown",
      "metadata": {
        "id": "D52bUcYStd-g"
      },
      "source": [
        "### Verificando a curtose\n",
        "\n",
        "https://docs.scipy.org/doc/scipy/reference/generated/scipy.stats.kurtosis.html"
      ]
    },
    {
      "cell_type": "code",
      "execution_count": 136,
      "metadata": {
        "id": "B_Zcx_cNtd-h"
      },
      "outputs": [],
      "source": []
    },
    {
      "cell_type": "markdown",
      "metadata": {
        "id": "19Z7h_Jhtd-h"
      },
      "source": [
        "### Normalidade dos resíduos - Jarque-Bera (statsmodels)\n",
        "\n",
        "> ### $H_0:$ Os dados se distribuem como uma normal\n",
        "\n",
        "> ### Estatística de teste\n",
        "> ### $$JB = \\frac{n}{6}(S^2 + \\frac{1}{4}(C - 3)^2)$$\n",
        "> #### Onde,\n",
        "> #### $n$ - número de observações\n",
        "> #### $S$ - Coeficiente de assimetria\n",
        "> #### $C$ - Coeficiente de curtose"
      ]
    },
    {
      "cell_type": "code",
      "execution_count": 136,
      "metadata": {
        "id": "r356qjpOtd-h"
      },
      "outputs": [],
      "source": []
    },
    {
      "cell_type": "code",
      "execution_count": 136,
      "metadata": {
        "id": "aK8Lvwvbtd-i"
      },
      "outputs": [],
      "source": []
    },
    {
      "cell_type": "code",
      "execution_count": 136,
      "metadata": {
        "id": "4vvZL2V5td-j"
      },
      "outputs": [],
      "source": []
    },
    {
      "cell_type": "markdown",
      "metadata": {
        "id": "C7GvNaJztd-j"
      },
      "source": [
        "### Normalidade dos resíduos - Jarque-Bera (Correção)\n",
        "\n",
        "> ### $H_0:$ Os dados se distribuem como uma normal\n",
        "\n",
        "> ### Estatística de teste\n",
        "> ### $$JB = \\frac{n-k}{6}(S^2 + \\frac{1}{4}(C - 3)^2)$$\n",
        "> #### Onde,\n",
        "> #### $n$ - número de observações\n",
        "> #### $k$ - número de parâmetros do modelo\n",
        "> #### $S$ - Coeficiente de assimetria\n",
        "> #### $C$ - Coeficiente de curtose"
      ]
    },
    {
      "cell_type": "code",
      "execution_count": 136,
      "metadata": {
        "id": "Xy-1QQn-td-j"
      },
      "outputs": [],
      "source": []
    },
    {
      "cell_type": "code",
      "execution_count": 136,
      "metadata": {
        "id": "ynNMLEO3td-k"
      },
      "outputs": [],
      "source": []
    },
    {
      "cell_type": "code",
      "execution_count": 136,
      "metadata": {
        "id": "9gRlfnxLtd-l"
      },
      "outputs": [],
      "source": []
    },
    {
      "cell_type": "code",
      "execution_count": 136,
      "metadata": {
        "id": "Bspj3u5vtd-n"
      },
      "outputs": [],
      "source": []
    }
  ],
  "metadata": {
    "colab": {
      "provenance": []
    },
    "kernelspec": {
      "display_name": "Python 3",
      "language": "python",
      "name": "python3"
    },
    "language_info": {
      "codemirror_mode": {
        "name": "ipython",
        "version": 3
      },
      "file_extension": ".py",
      "mimetype": "text/x-python",
      "name": "python",
      "nbconvert_exporter": "python",
      "pygments_lexer": "ipython3",
      "version": "3.6.5"
    }
  },
  "nbformat": 4,
  "nbformat_minor": 0
}